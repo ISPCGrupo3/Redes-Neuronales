{
  "cells": [
    {
      "cell_type": "markdown",
      "metadata": {
        "id": "view-in-github",
        "colab_type": "text"
      },
      "source": [
        "<a href=\"https://colab.research.google.com/github/ISPCGrupo3/Redes-Neuronales/blob/main/Copy_of_NNetF_B_Propag80x10x10_95x100SinEstandarizarOOKKK_Laura.ipynb\" target=\"_parent\"><img src=\"https://colab.research.google.com/assets/colab-badge.svg\" alt=\"Open In Colab\"/></a>"
      ]
    },
    {
      "cell_type": "markdown",
      "metadata": {
        "id": "VfheL5fybKD2"
      },
      "source": [
        "<h1 style=\"font-family: Georgia; font-size:3em;color:#2462C0; font-style:bold\">\n",
        "Coding Neural Network - Forward Propagation and Backpropagation\n",
        "</h1><br>"
      ]
    },
    {
      "cell_type": "markdown",
      "metadata": {
        "id": "F89z1kDlbKEV"
      },
      "source": [
        "https://machinelearningmastery.com/learning-rate-for-deep-learning-neural-networks/\n",
        "https://machinelearningmastery.com/how-to-configure-the-number-of-layers-and-nodes-in-a-neural-network/\n",
        "\n",
        "https://stats.stackexchange.com/questions/352036/what-should-i-do-when-my-neural-network-doesnt-learn\n",
        "\n",
        "https://datascience-enthusiast.com/DL/Improving_DeepNeural_Networks_Regularization.html\n",
        "\n",
        "http://neuralnetworksanddeeplearning.com/chap5.html\n",
        "\n",
        "https://wiki.pathmind.com/neural-network\n",
        "\n",
        "https://towardsdatascience.com/neural-network-architectures-156e5bad51ba"
      ]
    },
    {
      "cell_type": "code",
      "execution_count": null,
      "metadata": {
        "code_folding": [
          0
        ],
        "id": "DxjoRZQMbKEb"
      },
      "outputs": [],
      "source": [
        "# Import packages\n",
        "import os as os\n",
        "\n",
        "import h5py\n",
        "import matplotlib.pyplot as plt\n",
        "import numpy as np\n",
        "import seaborn as sns\n",
        "\n",
        "%matplotlib inline\n",
        "sns.set_context(\"notebook\")\n",
        "plt.style.use(\"fivethirtyeight\")"
      ]
    },
    {
      "cell_type": "markdown",
      "metadata": {
        "id": "LmBK6yOkbKEh"
      },
      "source": [
        "<h3 style=\"font-family: Georgia; font-size:1.3em;color:purple; font-style:bold\">\n",
        "Parameters Initialization\n",
        "</h3><br>\n"
      ]
    },
    {
      "cell_type": "code",
      "execution_count": null,
      "metadata": {
        "code_folding": [
          0
        ],
        "id": "isO-7cQbbKEl"
      },
      "outputs": [],
      "source": [
        "# Initialize parameters\n",
        "def initialize_parameters(layers_dims):\n",
        "    \"\"\"\n",
        "    Initialize parameters dictionary.\n",
        "    \n",
        "    Weight matrices will be initialized to random values from uniform normal\n",
        "    distribution.\n",
        "    bias vectors will be initialized to zeros.\n",
        "\n",
        "    Arguments\n",
        "    ---------\n",
        "    layers_dims : list or array-like\n",
        "        dimensions of each layer in the network.\n",
        "\n",
        "    Returns\n",
        "    -------\n",
        "    parameters : dict\n",
        "        weight matrix and the bias vector for each layer.\n",
        "    \"\"\"\n",
        "    np.random.seed(1)               \n",
        "    parameters = {}\n",
        "    L = len(layers_dims)            \n",
        "\n",
        "    for l in range(1, L):           \n",
        "        parameters[\"W\" + str(l)] = np.random.randn(\n",
        "            layers_dims[l], layers_dims[l - 1]) * 0.01\n",
        "        parameters[\"b\" + str(l)] = np.zeros((layers_dims[l], 1))\n",
        "\n",
        "        assert parameters[\"W\" + str(l)].shape == (\n",
        "            layers_dims[l], layers_dims[l - 1])\n",
        "        assert parameters[\"b\" + str(l)].shape == (layers_dims[l], 1)\n",
        "\n",
        "    return parameters"
      ]
    },
    {
      "cell_type": "markdown",
      "metadata": {
        "id": "gK-eMyyNbKEr"
      },
      "source": [
        "<h3 style=\"font-family: Georgia; font-size:1.3em;color:purple; font-style:bold\">\n",
        "Activation Functions\n",
        "</h3><br>"
      ]
    },
    {
      "cell_type": "code",
      "execution_count": null,
      "metadata": {
        "code_folding": [
          0
        ],
        "id": "73MV_sFcbKEt"
      },
      "outputs": [],
      "source": [
        "# Define activation functions that will be used in forward propagation\n",
        "def sigmoid(Z):\n",
        "    \"\"\"\n",
        "    Computes the sigmoid of Z element-wise.\n",
        "\n",
        "    Arguments\n",
        "    ---------\n",
        "    Z : array\n",
        "        output of affine transformation.\n",
        "\n",
        "    Returns\n",
        "    -------\n",
        "    A : array\n",
        "        post activation output.\n",
        "    Z : array\n",
        "        output of affine transformation.\n",
        "    \"\"\"\n",
        "    A = 1 / (1 + np.exp(-Z))\n",
        "\n",
        "    return A, Z\n",
        "\n",
        "\n",
        "def tanh(Z):\n",
        "    \"\"\"\n",
        "    Computes the Hyperbolic Tagent of Z elemnet-wise.\n",
        "\n",
        "    Arguments\n",
        "    ---------\n",
        "    Z : array\n",
        "        output of affine transformation.\n",
        "\n",
        "    Returns\n",
        "    -------\n",
        "    A : array\n",
        "        post activation output.\n",
        "    Z : array\n",
        "        output of affine transformation.\n",
        "    \"\"\"\n",
        "    A = np.tanh(Z)\n",
        "\n",
        "    return A, Z\n",
        "\n",
        "\n",
        "def relu(Z):\n",
        "    \"\"\"\n",
        "    Computes the Rectified Linear Unit (ReLU) element-wise.\n",
        "\n",
        "    Arguments\n",
        "    ---------\n",
        "    Z : array\n",
        "        output of affine transformation.\n",
        "\n",
        "    Returns\n",
        "    -------\n",
        "    A : array\n",
        "        post activation output.\n",
        "    Z : array\n",
        "        output of affine transformation.\n",
        "    \"\"\"\n",
        "    A = np.maximum(0, Z)\n",
        "\n",
        "    return A, Z\n",
        "\n",
        "\n",
        "def leaky_relu(Z):\n",
        "    \"\"\"\n",
        "    Computes Leaky Rectified Linear Unit element-wise.\n",
        "\n",
        "    Arguments\n",
        "    ---------\n",
        "    Z : array\n",
        "        output of affine transformation.\n",
        "\n",
        "    Returns\n",
        "    -------\n",
        "    A : array\n",
        "        post activation output.\n",
        "    Z : array\n",
        "        output of affine transformation.\n",
        "    \"\"\"\n",
        "    A = np.maximum(0.1 * Z, Z)\n",
        "\n",
        "    return A, Z"
      ]
    },
    {
      "cell_type": "markdown",
      "metadata": {
        "id": "8gtg9vgNbKEy"
      },
      "source": [
        ""
      ]
    },
    {
      "cell_type": "code",
      "execution_count": null,
      "metadata": {
        "code_folding": [
          0
        ],
        "colab": {
          "base_uri": "https://localhost:8080/",
          "height": 545
        },
        "id": "pUAgYbj5bKE2",
        "outputId": "aca3924b-8bb9-474e-fb0d-4e80b92e500c"
      },
      "outputs": [
        {
          "output_type": "display_data",
          "data": {
            "text/plain": [
              "<Figure size 864x576 with 4 Axes>"
            ],
            "image/png": "[encoded data removed]"
          },
          "metadata": {
            "needs_background": "light"
          }
        }
      ],
      "source": [
        "# Plot the 4 activation functions\n",
        "z = np.linspace(-10, 10, 100)\n",
        "\n",
        "# Computes post-activation outputs\n",
        "A_sigmoid, z = sigmoid(z)\n",
        "A_tanh, z = tanh(z)\n",
        "A_relu, z = relu(z)\n",
        "A_leaky_relu, z = leaky_relu(z)\n",
        "\n",
        "# Plot sigmoid\n",
        "plt.figure(figsize=(12, 8))\n",
        "plt.subplot(2, 2, 1)\n",
        "plt.plot(z, A_sigmoid, label = \"Function\")\n",
        "plt.plot(z, A_sigmoid * (1 - A_sigmoid), label = \"Derivative\")\n",
        "plt.legend(loc = \"upper left\")\n",
        "plt.xlabel(\"z\")\n",
        "plt.ylabel(r\"$\\frac{1}{1 + e^{-z}}$\")\n",
        "plt.title(\"Sigmoid Function\", fontsize = 16)\n",
        "# Plot tanh\n",
        "plt.subplot(2, 2, 2)\n",
        "plt.plot(z, A_tanh, 'b', label = \"Function\")\n",
        "plt.plot(z, 1 - np.square(A_tanh), 'r',label = \"Derivative\")\n",
        "plt.legend(loc = \"upper left\")\n",
        "plt.xlabel(\"z\")\n",
        "plt.ylabel(r\"$\\frac{e^z - e^{-z}}{e^z + e^{-z}}$\")\n",
        "plt.title(\"Hyperbolic Tangent Function\", fontsize = 16)\n",
        "# plot relu\n",
        "plt.subplot(2, 2, 3)\n",
        "plt.plot(z, A_relu, 'g')\n",
        "plt.xlabel(\"z\")\n",
        "plt.ylabel(r\"$max\\{0, z\\}$\")\n",
        "plt.title(\"ReLU Function\", fontsize = 16)\n",
        "# plot leaky relu\n",
        "plt.subplot(2, 2, 4)\n",
        "plt.plot(z, A_leaky_relu, 'y')\n",
        "plt.xlabel(\"z\")\n",
        "plt.ylabel(r\"$max\\{0.1z, z\\}$\")\n",
        "plt.title(\"Leaky ReLU Function\", fontsize = 16)\n",
        "plt.tight_layout();"
      ]
    },
    {
      "cell_type": "markdown",
      "metadata": {
        "id": "XNc1pDWtbKE-"
      },
      "source": [
        "<h3 style=\"font-family: Georgia; font-size:1.3em;color:purple; font-style:bold\">\n",
        "Feed Forward\n",
        "</h3><br>\n"
      ]
    },
    {
      "cell_type": "code",
      "execution_count": null,
      "metadata": {
        "code_folding": [
          0
        ],
        "id": "U7MeMbKIbKFA"
      },
      "outputs": [],
      "source": [
        "# Define helper functions that will be used in L-model forward prop\n",
        "def linear_forward(A_prev, W, b):\n",
        "    \"\"\"\n",
        "    Computes affine transformation of the input.\n",
        "\n",
        "    Arguments\n",
        "    ---------\n",
        "    A_prev : 2d-array\n",
        "        activations output from previous layer.\n",
        "    W : 2d-array\n",
        "        weight matrix, shape: size of current layer x size of previuos layer.\n",
        "    b : 2d-array\n",
        "        bias vector, shape: size of current layer x 1.\n",
        "\n",
        "    Returns\n",
        "    -------\n",
        "    Z : 2d-array\n",
        "        affine transformation output.\n",
        "    cache : tuple\n",
        "        stores A_prev, W, b to be used in backpropagation.\n",
        "    \"\"\"\n",
        "    Z = np.dot(W, A_prev) + b\n",
        "    cache = (A_prev, W, b)\n",
        "\n",
        "    return Z, cache\n",
        "\n",
        "\n",
        "def linear_activation_forward(A_prev, W, b, activation_fn):\n",
        "    \"\"\"\n",
        "    Computes post-activation output using non-linear activation function.\n",
        "\n",
        "    Arguments\n",
        "    ---------\n",
        "    A_prev : 2d-array\n",
        "        activations output from previous layer.\n",
        "    W : 2d-array\n",
        "        weight matrix, shape: size of current layer x size of previuos layer.\n",
        "    b : 2d-array\n",
        "        bias vector, shape: size of current layer x 1.\n",
        "    activation_fn : str\n",
        "        non-linear activation function to be used: \"sigmoid\", \"tanh\", \"relu\".\n",
        "\n",
        "    Returns\n",
        "    -------\n",
        "    A : 2d-array\n",
        "        output of the activation function.\n",
        "    cache : tuple\n",
        "        stores linear_cache and activation_cache. ((A_prev, W, b), Z) to be used in backpropagation.\n",
        "    \"\"\"\n",
        "    assert activation_fn == \"sigmoid\" or activation_fn == \"tanh\" or \\\n",
        "        activation_fn == \"relu\"\n",
        "\n",
        "    if activation_fn == \"sigmoid\":\n",
        "        Z, linear_cache = linear_forward(A_prev, W, b)\n",
        "        A, activation_cache = sigmoid(Z)\n",
        "\n",
        "    elif activation_fn == \"tanh\":\n",
        "        Z, linear_cache = linear_forward(A_prev, W, b)\n",
        "        A, activation_cache = tanh(Z)\n",
        "\n",
        "    elif activation_fn == \"relu\":\n",
        "        Z, linear_cache = linear_forward(A_prev, W, b)\n",
        "        A, activation_cache = relu(Z)\n",
        "\n",
        "    assert A.shape == (W.shape[0], A_prev.shape[1])\n",
        "\n",
        "    cache = (linear_cache, activation_cache)\n",
        "\n",
        "    return A, cache\n",
        "\n",
        "\n",
        "def L_model_forward(X, parameters, hidden_layers_activation_fn=\"relu\"):\n",
        "    \"\"\"\n",
        "    Computes the output layer through looping over all units in topological\n",
        "    order.\n",
        "\n",
        "    Arguments\n",
        "    ---------\n",
        "    X : 2d-array\n",
        "        input matrix of shape input_size x training_examples.\n",
        "    parameters : dict\n",
        "        contains all the weight matrices and bias vectors for all layers.\n",
        "    hidden_layers_activation_fn : str\n",
        "        activation function to be used on hidden layers: \"tanh\", \"relu\".\n",
        "\n",
        "    Returns\n",
        "    -------\n",
        "    AL : 2d-array\n",
        "        probability vector of shape 1 x training_examples.\n",
        "    caches : list\n",
        "        that contains L tuples where each layer has: A_prev, W, b, Z.\n",
        "    \"\"\"\n",
        "    A = X                           \n",
        "    caches = []                     \n",
        "    L = len(parameters) // 2        \n",
        "\n",
        "    for l in range(1, L):\n",
        "        A_prev = A\n",
        "        A, cache = linear_activation_forward(\n",
        "            A_prev, parameters[\"W\" + str(l)], parameters[\"b\" + str(l)],\n",
        "            activation_fn=hidden_layers_activation_fn)\n",
        "        caches.append(cache)\n",
        "\n",
        "    AL, cache = linear_activation_forward(\n",
        "        A, parameters[\"W\" + str(L)], parameters[\"b\" + str(L)],\n",
        "        activation_fn=\"sigmoid\")\n",
        "    caches.append(cache)\n",
        "\n",
        "    assert AL.shape == (1, X.shape[1])\n",
        "\n",
        "    return AL, caches"
      ]
    },
    {
      "cell_type": "markdown",
      "metadata": {
        "id": "CQ8gD7f1bKFR"
      },
      "source": [
        "<h3 style=\"font-family: Georgia; font-size:1.3em;color:purple; font-style:bold\">\n",
        "Cost\n",
        "</h3><br>\n",
        "\n",
        "https://math.stackexchange.com/questions/886555/deriving-cost-function-using-mle-why-use-log-function\n"
      ]
    },
    {
      "cell_type": "code",
      "execution_count": null,
      "metadata": {
        "code_folding": [
          0
        ],
        "id": "EdN0IimDbKFk"
      },
      "outputs": [],
      "source": [
        "# Compute cross-entropy cost\n",
        "def compute_cost(AL, y):\n",
        "    \"\"\"\n",
        "    Computes the binary Cross-Entropy cost.\n",
        "\n",
        "    Arguments\n",
        "    ---------\n",
        "    AL : 2d-array\n",
        "        probability vector of shape 1 x training_examples.\n",
        "    y : 2d-array\n",
        "        true \"label\" vector.\n",
        "\n",
        "    Returns\n",
        "    -------\n",
        "    cost : float\n",
        "        binary cross-entropy cost.\n",
        "    \"\"\"\n",
        "    m = y.shape[1]              \n",
        "    cost = - (1 / m) * np.sum(\n",
        "        np.multiply(y, np.log(AL)) + np.multiply(1 - y, np.log(1 - AL)))\n",
        "\n",
        "    return cost"
      ]
    },
    {
      "cell_type": "markdown",
      "metadata": {
        "id": "xTNTm_5kbKFr"
      },
      "source": [
        "<h2 style=\"font-family: Georgia; font-size:1.5em;color:purple; font-style:bold\">\n",
        "Back-Propagation\n",
        "</h2>"
      ]
    },
    {
      "cell_type": "code",
      "execution_count": null,
      "metadata": {
        "code_folding": [
          0
        ],
        "id": "2W_3L_SXbKFt"
      },
      "outputs": [],
      "source": [
        "# Define derivative of activation functions w.r.t z that will be used in back-propagation\n",
        "def sigmoid_gradient(dA, Z):\n",
        "    \"\"\"\n",
        "    Computes the gradient of sigmoid output w.r.t input Z.\n",
        "\n",
        "    Arguments\n",
        "    ---------\n",
        "    dA : 2d-array\n",
        "        post-activation gradient, of any shape.\n",
        "    Z : 2d-array\n",
        "        input used for the activation fn on this layer.\n",
        "\n",
        "    Returns\n",
        "    -------\n",
        "    dZ : 2d-array\n",
        "        gradient of the cost with respect to Z.\n",
        "    \"\"\"\n",
        "    A, Z = sigmoid(Z)\n",
        "    dZ = dA * A * (1 - A)\n",
        "\n",
        "    return dZ\n",
        "\n",
        "\n",
        "def tanh_gradient(dA, Z):\n",
        "    \"\"\"\n",
        "    Computes the gradient of hyperbolic tangent output w.r.t input Z.\n",
        "\n",
        "    Arguments\n",
        "    ---------\n",
        "    dA : 2d-array\n",
        "        post-activation gradient, of any shape.\n",
        "    Z : 2d-array\n",
        "        input used for the activation fn on this layer.\n",
        "\n",
        "    Returns\n",
        "    -------\n",
        "    dZ : 2d-array\n",
        "        gradient of the cost with respect to Z.\n",
        "    \"\"\"\n",
        "    A, Z = tanh(Z)\n",
        "    dZ = dA * (1 - np.square(A))\n",
        "\n",
        "    return dZ\n",
        "\n",
        "\n",
        "def relu_gradient(dA, Z):\n",
        "    \"\"\"\n",
        "    Computes the gradient of ReLU output w.r.t input Z.\n",
        "\n",
        "    Arguments\n",
        "    ---------\n",
        "    dA : 2d-array\n",
        "        post-activation gradient, of any shape.\n",
        "    Z : 2d-array\n",
        "        input used for the activation fn on this layer.\n",
        "\n",
        "    Returns\n",
        "    -------\n",
        "    dZ : 2d-array\n",
        "        gradient of the cost with respect to Z.\n",
        "    \"\"\"\n",
        "    A, Z = relu(Z)\n",
        "    dZ = np.multiply(dA, np.int64(A > 0))\n",
        "\n",
        "    return dZ\n",
        "\n",
        "\n",
        "# define helper functions that will be used in L-model back-prop\n",
        "def linear_backword(dZ, cache):\n",
        "    \"\"\"\n",
        "    Computes the gradient of the output w.r.t weight, bias, and post-activation\n",
        "    output of (l - 1) layers at layer l.\n",
        "\n",
        "    Arguments\n",
        "    ---------\n",
        "    dZ : 2d-array\n",
        "        gradient of the cost w.r.t. the linear output (of current layer l).\n",
        "    cache : tuple\n",
        "        values of (A_prev, W, b) coming from the forward propagation in the current layer.\n",
        "\n",
        "    Returns\n",
        "    -------\n",
        "    dA_prev : 2d-array\n",
        "        gradient of the cost w.r.t. the activation (of the previous layer l-1).\n",
        "    dW : 2d-array\n",
        "        gradient of the cost w.r.t. W (current layer l).\n",
        "    db : 2d-array\n",
        "        gradient of the cost w.r.t. b (current layer l).\n",
        "    \"\"\"\n",
        "    A_prev, W, b = cache\n",
        "    m = A_prev.shape[1]\n",
        "\n",
        "    dW = (1 / m) * np.dot(dZ, A_prev.T)\n",
        "    db = (1 / m) * np.sum(dZ, axis=1, keepdims=True)\n",
        "    dA_prev = np.dot(W.T, dZ)\n",
        "\n",
        "    assert dA_prev.shape == A_prev.shape\n",
        "    assert dW.shape == W.shape\n",
        "    assert db.shape == b.shape\n",
        "\n",
        "    return dA_prev, dW, db\n",
        "\n",
        "\n",
        "def linear_activation_backward(dA, cache, activation_fn):\n",
        "    \"\"\"\n",
        "    Arguments\n",
        "    ---------\n",
        "    dA : 2d-array\n",
        "        post-activation gradient for current layer l.\n",
        "    cache : tuple\n",
        "        values of (linear_cache, activation_cache).\n",
        "    activation : str\n",
        "        activation used in this layer: \"sigmoid\", \"tanh\", or \"relu\".\n",
        "\n",
        "    Returns\n",
        "    -------\n",
        "    dA_prev : 2d-array\n",
        "        gradient of the cost w.r.t. the activation (of the previous layer l-1), same shape as A_prev.\n",
        "    dW : 2d-array\n",
        "        gradient of the cost w.r.t. W (current layer l), same shape as W.\n",
        "    db : 2d-array\n",
        "        gradient of the cost w.r.t. b (current layer l), same shape as b.\n",
        "    \"\"\"\n",
        "    linear_cache, activation_cache = cache\n",
        "\n",
        "    if activation_fn == \"sigmoid\":\n",
        "        dZ = sigmoid_gradient(dA, activation_cache)\n",
        "        dA_prev, dW, db = linear_backword(dZ, linear_cache)\n",
        "\n",
        "    elif activation_fn == \"tanh\":\n",
        "        dZ = tanh_gradient(dA, activation_cache)\n",
        "        dA_prev, dW, db = linear_backword(dZ, linear_cache)\n",
        "\n",
        "    elif activation_fn == \"relu\":\n",
        "        dZ = relu_gradient(dA, activation_cache)\n",
        "        dA_prev, dW, db = linear_backword(dZ, linear_cache)\n",
        "\n",
        "    return dA_prev, dW, db\n",
        "\n",
        "\n",
        "def L_model_backward(AL, y, caches, hidden_layers_activation_fn=\"relu\"):\n",
        "    \"\"\"\n",
        "    Computes the gradient of output layer w.r.t weights, biases, etc. starting\n",
        "    on the output layer in reverse topological order.\n",
        "\n",
        "    Arguments\n",
        "    ---------\n",
        "    AL : 2d-array\n",
        "        probability vector, output of the forward propagation (L_model_forward()).\n",
        "    y : 2d-array\n",
        "        true \"label\" vector (containing 0 if non-cat, 1 if cat).\n",
        "    caches : list\n",
        "        list of caches for all layers.\n",
        "    hidden_layers_activation_fn :\n",
        "        activation function used on hidden layers: \"tanh\", \"relu\".\n",
        "\n",
        "    Returns\n",
        "    -------\n",
        "    grads : dict\n",
        "        with the gradients.\n",
        "    \"\"\"\n",
        "    y = y.reshape(AL.shape)\n",
        "    L = len(caches)\n",
        "    grads = {}\n",
        "\n",
        "    dAL = np.divide(AL - y, np.multiply(AL, 1 - AL))\n",
        "\n",
        "    grads[\"dA\" + str(L - 1)], grads[\"dW\" + str(L)], grads[\n",
        "        \"db\" + str(L)] = linear_activation_backward(\n",
        "            dAL, caches[L - 1], \"sigmoid\")\n",
        "\n",
        "    for l in range(L - 1, 0, -1):\n",
        "        current_cache = caches[l - 1]\n",
        "        grads[\"dA\" + str(l - 1)], grads[\"dW\" + str(l)], grads[\n",
        "            \"db\" + str(l)] = linear_activation_backward(\n",
        "                grads[\"dA\" + str(l)], current_cache,\n",
        "                hidden_layers_activation_fn)\n",
        "\n",
        "    return grads\n",
        "\n",
        "\n",
        "# define the function to update both weight matrices and bias vectors\n",
        "def update_parameters(parameters, grads, learning_rate):\n",
        "    \"\"\"\n",
        "    Update the parameters' values using gradient descent rule.\n",
        "\n",
        "    Arguments\n",
        "    ---------\n",
        "    parameters : dict\n",
        "        contains all the weight matrices and bias vectors for all layers.\n",
        "    grads : dict\n",
        "        stores all gradients (output of L_model_backward).\n",
        "\n",
        "    Returns\n",
        "    -------\n",
        "    parameters : dict\n",
        "        updated parameters.\n",
        "    \"\"\"\n",
        "    L = len(parameters) // 2\n",
        "\n",
        "    for l in range(1, L + 1):\n",
        "        parameters[\"W\" + str(l)] = parameters[\"W\" + str(l)] - learning_rate * grads[\"dW\" + str(l)]\n",
        "        parameters[\"b\" + str(l)] = parameters[\"b\" + str(l)] - learning_rate * grads[\"db\" + str(l)]\n",
        "\n",
        "    return parameters"
      ]
    },
    {
      "cell_type": "markdown",
      "metadata": {
        "id": "uOACYtMJbKF2"
      },
      "source": [
        "<a id=\"Application\"></a>"
      ]
    },
    {
      "cell_type": "markdown",
      "metadata": {
        "id": "nhvgxAeUbKF-"
      },
      "source": [
        "<h2 style=\"font-family: Georgia; font-size:2em;color:purple; font-style:bold\">\n",
        "II. Application\n",
        "</h2>"
      ]
    },
    {
      "cell_type": "markdown",
      "metadata": {
        "id": "kYk3I0aVbKGA"
      },
      "source": [
        "The dataset that we'll be working on has 209 images. Each image is 64 x 64 pixels on RGB scale. We'll build a neural network to classify if the image has a cat or not. Therefore, $y^i \\in \\{0, 1\\}.$\n",
        "- We'll first load the images.\n",
        "- Show sample image for a cat.\n",
        "- Reshape input matrix so that each column would be one example. Also, since each image is 64 x 64 x 3, we'll end up having 12,288 features for each image. Therefore, the input matrix would be 12,288 x 209.\n",
        "- Standardize the data so that the gradients don't go out of control. Also, it will help hidden units have similar range of values. For now, we'll divide every pixel by 255 which shouldn't be an issue. However, it's better to standardize the data to have a mean of 0 and a standard deviation of 1."
      ]
    },
    {
      "cell_type": "code",
      "execution_count": null,
      "metadata": {
        "id": "YPcXaa3ObKGC"
      },
      "outputs": [],
      "source": [
        ""
      ]
    },
    {
      "cell_type": "code",
      "execution_count": null,
      "metadata": {
        "scrolled": false,
        "id": "dSVFvuXxbKGD"
      },
      "outputs": [],
      "source": [
        "X_train=np.random.randn(10,10)*1 + 1\n",
        "l = [X_train]\n",
        "for i in range(0,9):\n",
        "    #print(i)\n",
        "    X = np.random.randn(10,10)*1 + 1\n",
        "    l.append(X)"
      ]
    },
    {
      "cell_type": "code",
      "execution_count": null,
      "metadata": {
        "id": "ng6V4K-abKGG"
      },
      "outputs": [],
      "source": [
        "X_train=np.random.randn(10,10)*1 + 1\n",
        "l.append(X_train)\n",
        "for i in range(0,9):\n",
        "    #print(i)\n",
        "    X = np.random.randn(10,10)*1 + 1\n",
        "    l.append(X)"
      ]
    },
    {
      "cell_type": "code",
      "execution_count": null,
      "metadata": {
        "id": "RKwPr-xvbKGP"
      },
      "outputs": [],
      "source": [
        "X_train=np.random.randn(10,10)*1 + 1\n",
        "l.append(X_train)\n",
        "for i in range(0,9):\n",
        "    #print(i)\n",
        "    X = np.random.randn(10,10)*1 + 1\n",
        "    l.append(X)"
      ]
    },
    {
      "cell_type": "code",
      "execution_count": null,
      "metadata": {
        "id": "U4DYgzYybKGR"
      },
      "outputs": [],
      "source": [
        "X_train=np.random.randn(10,10)*1 + 1\n",
        "l.append(X_train)\n",
        "for i in range(0,9):\n",
        "    #print(i)\n",
        "    X = np.random.randn(10,10)*1 + 1\n",
        "    l.append(X)"
      ]
    },
    {
      "cell_type": "code",
      "execution_count": null,
      "metadata": {
        "id": "bfroh01ybKGT"
      },
      "outputs": [],
      "source": [
        ""
      ]
    },
    {
      "cell_type": "code",
      "execution_count": null,
      "metadata": {
        "id": "8AcTnQ7vbKGU"
      },
      "outputs": [],
      "source": [
        "X_train=np.random.randn(10,10)*1 + 20\n",
        "l.append(X_train)\n",
        "for i in range(0,9):\n",
        "    #print(i)\n",
        "    X = np.random.randn(10,10)*1 + 20\n",
        "    l.append(X)"
      ]
    },
    {
      "cell_type": "code",
      "execution_count": null,
      "metadata": {
        "id": "XB72aTeTbKGU"
      },
      "outputs": [],
      "source": [
        "X_train=np.random.randn(10,10)*1 + 20\n",
        "l.append(X_train)\n",
        "for i in range(0,9):\n",
        "    #print(i)\n",
        "    X = np.random.randn(10,10)*1 + 20\n",
        "    l.append(X)"
      ]
    },
    {
      "cell_type": "code",
      "execution_count": null,
      "metadata": {
        "id": "fmGZQjgkbKGV"
      },
      "outputs": [],
      "source": [
        "X_train=np.random.randn(10,10)*1 + 20\n",
        "l.append(X_train)\n",
        "for i in range(0,9):\n",
        "    #print(i)\n",
        "    X = np.random.randn(10,10)*1 + 20\n",
        "    l.append(X)"
      ]
    },
    {
      "cell_type": "code",
      "execution_count": null,
      "metadata": {
        "id": "wVOsieYwbKGW"
      },
      "outputs": [],
      "source": [
        "X_train=np.random.randn(10,10)*1 + 20\n",
        "l.append(X_train)\n",
        "for i in range(0,9):\n",
        "    #print(i)\n",
        "    X = np.random.randn(10,10)*1 + 20\n",
        "    l.append(X)"
      ]
    },
    {
      "cell_type": "code",
      "execution_count": null,
      "metadata": {
        "colab": {
          "base_uri": "https://localhost:8080/"
        },
        "id": "dpKGC3yhbKGa",
        "outputId": "314397ad-5703-4e2a-a73e-6215fdc6c9f5"
      },
      "outputs": [
        {
          "output_type": "execute_result",
          "data": {
            "text/plain": [
              "(80, 10, 10)"
            ]
          },
          "metadata": {},
          "execution_count": 16
        }
      ],
      "source": [
        "l = np.array(l)\n",
        "l.shape"
      ]
    },
    {
      "cell_type": "code",
      "execution_count": null,
      "metadata": {
        "scrolled": true,
        "id": "wYsqchwybKGc"
      },
      "outputs": [],
      "source": [
        "X_train= l\n",
        "#X_train"
      ]
    },
    {
      "cell_type": "code",
      "execution_count": null,
      "metadata": {
        "colab": {
          "base_uri": "https://localhost:8080/"
        },
        "id": "4u1sPgO0bKGc",
        "outputId": "cdd3bd3a-3461-4649-a607-81c4b79079bc"
      },
      "outputs": [
        {
          "output_type": "execute_result",
          "data": {
            "text/plain": [
              "array([[[20.14657748, 20.86276507, 21.24065633, 18.75374842,\n",
              "         20.27565073, 20.46715891, 20.58586747, 21.27796588,\n",
              "         19.17425131, 21.0331659 ],\n",
              "        [18.00202893, 20.61024468, 22.09633678, 19.70655466,\n",
              "         20.64116214, 18.93711787, 19.12596221, 20.40714912,\n",
              "         20.4869774 , 19.64921283],\n",
              "        [19.32497083, 19.63162035, 20.11693929, 19.82944959,\n",
              "         21.62286124, 19.61760353, 18.95360687, 21.34201887,\n",
              "         21.74601826, 20.65494547],\n",
              "        [20.60727798, 19.43425636, 20.00950868, 20.1001093 ,\n",
              "         19.83529543, 18.21064059, 21.12640756, 21.05016278,\n",
              "         19.49154985, 21.9470738 ],\n",
              "        [20.41119561, 20.74390834, 18.83712465, 19.66365193,\n",
              "         21.03528162, 19.208969  , 18.92452691, 18.95577171,\n",
              "         19.67085731, 20.45371606],\n",
              "        [17.60610711, 20.41837858, 20.0417553 , 20.68481873,\n",
              "         19.58525043, 18.59534581, 19.00074477, 19.63806906,\n",
              "         21.84364985, 19.75448048],\n",
              "        [20.00554033, 20.60380142, 19.62180974, 20.62361462,\n",
              "         20.45198822, 21.23237637, 19.88813526, 18.88835867,\n",
              "         19.10084502, 19.56539574],\n",
              "        [20.34943063, 20.25662096, 21.4343225 , 20.4556268 ,\n",
              "         20.13689617, 19.81670754, 20.62570131, 18.84663746,\n",
              "         22.61282586, 19.98634448],\n",
              "        [18.89184054, 18.78628401, 20.99378507, 20.47871969,\n",
              "         20.26584041, 19.6279967 , 17.84594919, 21.02440004,\n",
              "         21.1766346 , 21.3455981 ],\n",
              "        [21.66960976, 20.63573713, 21.28995958, 18.63418627,\n",
              "         20.46688536, 21.65128025, 20.49222254, 20.82105597,\n",
              "         21.59830827, 20.0526081 ]]])"
            ]
          },
          "metadata": {},
          "execution_count": 18
        }
      ],
      "source": [
        "X_train[44:45]"
      ]
    },
    {
      "cell_type": "code",
      "execution_count": null,
      "metadata": {
        "id": "nOkL0ZMXbKGd"
      },
      "outputs": [],
      "source": [
        ""
      ]
    },
    {
      "cell_type": "code",
      "execution_count": null,
      "metadata": {
        "id": "PogTBn7fbKGe"
      },
      "outputs": [],
      "source": [
        "X_test=np.random.randn(10,10)*1 + 1\n",
        "l = [X_test]\n",
        "for i in range(0,9):\n",
        "    #print(i)\n",
        "    X = np.random.randn(10,10)*1 + 1\n",
        "    l.append(X)"
      ]
    },
    {
      "cell_type": "code",
      "execution_count": null,
      "metadata": {
        "id": "nwpWnL4mbKGf"
      },
      "outputs": [],
      "source": [
        "X_test=np.random.randn(10,10)*1 + 1\n",
        "l.append(X_test)\n",
        "for i in range(0,9):\n",
        "    #print(i)\n",
        "    X = np.random.randn(10,10)*1 + 1\n",
        "    l.append(X)"
      ]
    },
    {
      "cell_type": "code",
      "execution_count": null,
      "metadata": {
        "id": "EZLjLvmnbKGg"
      },
      "outputs": [],
      "source": [
        ""
      ]
    },
    {
      "cell_type": "code",
      "execution_count": null,
      "metadata": {
        "id": "pE0mok6mbKGh"
      },
      "outputs": [],
      "source": [
        "X_test=np.random.randn(10,10)*1 + 20\n",
        "l.append(X_test)\n",
        "for i in range(0,9):\n",
        "    #print(i)\n",
        "    X = np.random.randn(10,10)*1 + 20\n",
        "    l.append(X)"
      ]
    },
    {
      "cell_type": "code",
      "execution_count": null,
      "metadata": {
        "id": "qlo7pgU4bKGj"
      },
      "outputs": [],
      "source": [
        "X_test=np.random.randn(10,10)*1 + 20\n",
        "l.append(X_test)\n",
        "for i in range(0,10-1):\n",
        "    #print(i)\n",
        "    X = np.random.randn(10,10)*1 + 20\n",
        "    l.append(X)"
      ]
    },
    {
      "cell_type": "code",
      "execution_count": null,
      "metadata": {
        "id": "JXn4dXvIbKGk"
      },
      "outputs": [],
      "source": [
        ""
      ]
    },
    {
      "cell_type": "code",
      "execution_count": null,
      "metadata": {
        "colab": {
          "base_uri": "https://localhost:8080/"
        },
        "id": "Ff98Bf7obKGk",
        "outputId": "1f08b7d9-11db-41d1-df56-dcc75cf4f0dc"
      },
      "outputs": [
        {
          "output_type": "execute_result",
          "data": {
            "text/plain": [
              "(40, 10, 10)"
            ]
          },
          "metadata": {},
          "execution_count": 23
        }
      ],
      "source": [
        "l = np.array(l)\n",
        "l.shape"
      ]
    },
    {
      "cell_type": "code",
      "execution_count": null,
      "metadata": {
        "colab": {
          "base_uri": "https://localhost:8080/"
        },
        "id": "fRZ-eswwbKGl",
        "outputId": "779d87a1-672c-4948-fff3-d2cd05ca57d6"
      },
      "outputs": [
        {
          "output_type": "execute_result",
          "data": {
            "text/plain": [
              "(40, 10, 10)"
            ]
          },
          "metadata": {},
          "execution_count": 24
        }
      ],
      "source": [
        "X_test=l\n",
        "X_test.shape\n"
      ]
    },
    {
      "cell_type": "code",
      "execution_count": null,
      "metadata": {
        "id": "FVEVtqNSbKGn"
      },
      "outputs": [],
      "source": [
        ""
      ]
    },
    {
      "cell_type": "code",
      "execution_count": null,
      "metadata": {
        "colab": {
          "base_uri": "https://localhost:8080/"
        },
        "id": "zSr38EIkbKGo",
        "outputId": "7e7a79fe-8da6-4216-ddbd-a33eec7d9b64"
      },
      "outputs": [
        {
          "output_type": "execute_result",
          "data": {
            "text/plain": [
              "(80, 1)"
            ]
          },
          "metadata": {},
          "execution_count": 25
        }
      ],
      "source": [
        "y_train = np.array([[1],[1],[1],[1],[1],[1],[1],[1],[1],[1],                    \n",
        "                    [1],[1],[1],[1],[1],[1],[1],[1],[1],[1],                    \n",
        "                    [1],[1],[1],[1],[1],[1],[1],[1],[1],[1],                    \n",
        "                    [1],[1],[1],[1],[1],[1],[1],[1],[1],[1],                    \n",
        "                    [0],[0],[0],[0],[0],[0],[0],[0],[0],[0],\n",
        "                    [0],[0],[0],[0],[0],[0],[0],[0],[0],[0],\n",
        "                    [0],[0],[0],[0],[0],[0],[0],[0],[0],[0],\n",
        "                    [0],[0],[0],[0],[0],[0],[0],[0],[0],[0]])\n",
        "\n",
        "y_train.shape         "
      ]
    },
    {
      "cell_type": "code",
      "execution_count": null,
      "metadata": {
        "colab": {
          "base_uri": "https://localhost:8080/"
        },
        "id": "6SNDjun8bKGv",
        "outputId": "88be1103-b2fa-42dd-92e5-26fc655a98b6"
      },
      "outputs": [
        {
          "output_type": "execute_result",
          "data": {
            "text/plain": [
              "(40, 1)"
            ]
          },
          "metadata": {},
          "execution_count": 26
        }
      ],
      "source": [
        "y_test = np.array([[1],[1],[1],[1],[1],[1],[1],[1],[1],[1],\n",
        "                   [1],[1],[1],[1],[1],[1],[1],[1],[1],[1],\n",
        "                   [0],[0],[0],[0],[0],[0],[0],[0],[0],[0],\n",
        "                   [0],[0],[0],[0],[0],[0],[0],[0],[0],[0]])                   \n",
        "\n",
        "y_test.shape     "
      ]
    },
    {
      "cell_type": "code",
      "execution_count": null,
      "metadata": {
        "code_folding": [
          0
        ],
        "colab": {
          "base_uri": "https://localhost:8080/"
        },
        "id": "WasUVTWYbKGw",
        "outputId": "6f5a781f-ceee-4993-a148-0f9a3ff33ff3"
      },
      "outputs": [
        {
          "output_type": "stream",
          "name": "stdout",
          "text": [
            "Original dimensions:\n",
            "--------------------\n",
            "Training: (80, 10, 10), (80, 1)\n",
            "Test: (40, 10, 10), (40, 1)\n",
            "\n",
            "New dimensions:\n",
            "---------------\n",
            "Training: (100, 80), (1, 80)\n",
            "Test: (100, 40), (1, 40)\n"
          ]
        }
      ],
      "source": [
        "# Import training dataset\n",
        "#train_dataset = h5py.File(\"../data/train_catvnoncat.h5\")\n",
        "#X_train = np.array(train_dataset[\"train_set_x\"])\n",
        "#y_train = np.array(train_dataset[\"train_set_y\"])\n",
        "\n",
        "#test_dataset = h5py.File(\"../data/test_catvnoncat.h5\")\n",
        "#X_test = np.array(test_dataset[\"test_set_x\"])\n",
        "#y_test = np.array(test_dataset[\"test_set_y\"])\n",
        "\n",
        "# print the shape of input data and label vector\n",
        "print(f\"\"\"Original dimensions:\\n{20 * '-'}\\nTraining: {X_train.shape}, {y_train.shape}\n",
        "Test: {X_test.shape}, {y_test.shape}\"\"\")\n",
        "\n",
        "# plot cat image\n",
        "#plt.figure(figsize=(6, 6))\n",
        "#plt.imshow(X_train[50])\n",
        "#plt.axis(\"off\");\n",
        "\n",
        "\n",
        "# Transform input data and label vector\n",
        "X_train = X_train.reshape(80, -1).T\n",
        "y_train = y_train.reshape(-1, 80)\n",
        "\n",
        "X_test = X_test.reshape(40, -1).T\n",
        "y_test = y_test.reshape(-1, 40)\n",
        "\n",
        "# standarize the data\n",
        "#X_train = X_train / 255\n",
        "#X_test = X_test / 255\n",
        "\n",
        "print(f\"\"\"\\nNew dimensions:\\n{15 * '-'}\\nTraining: {X_train.shape}, {y_train.shape}\n",
        "Test: {X_test.shape}, {y_test.shape}\"\"\")"
      ]
    },
    {
      "cell_type": "code",
      "execution_count": null,
      "metadata": {
        "id": "PX0ixulNbKGy"
      },
      "outputs": [],
      "source": [
        "#X = np.array(df['deceduti']).reshape(-1,1)\n",
        "#scaler = StandardScaler()\n",
        "#scaler.fit(X)\n",
        "#X_scaled = scaler.transform(X)\n",
        "\n",
        "from sklearn.preprocessing import StandardScaler\n",
        "\n",
        "scaler1 = StandardScaler()\n",
        "scaler1.fit(X_train)\n",
        "X_scaled = scaler1.transform(X_train)\n",
        "X_train=X_scaled"
      ]
    },
    {
      "cell_type": "code",
      "execution_count": null,
      "metadata": {
        "id": "HK7qg24TbKGz"
      },
      "outputs": [],
      "source": [
        "#X = np.array(df['deceduti']).reshape(-1,1)\n",
        "#scaler = StandardScaler()\n",
        "#scaler.fit(X)\n",
        "#X_scaled = scaler.transform(X)\n",
        "\n",
        "from sklearn.preprocessing import StandardScaler\n",
        "\n",
        "scaler2 = StandardScaler()\n",
        "scaler2.fit(X_test)\n",
        "X_scaled2 = scaler2.transform(X_test)\n",
        "X_test=X_scaled2"
      ]
    },
    {
      "cell_type": "markdown",
      "metadata": {
        "id": "VSkkCPzObKG0"
      },
      "source": [
        "Now, our dataset is ready to be used and test our neural network implementation. Let's first write **multi-layer model** function to implement gradient-based learning using predefined number of iterations and learning rate."
      ]
    },
    {
      "cell_type": "code",
      "execution_count": null,
      "metadata": {
        "code_folding": [
          0
        ],
        "id": "on9jX7i2bKG1"
      },
      "outputs": [],
      "source": [
        "# Define the multi-layer model using all the helper functions we wrote before\n",
        "\n",
        "\n",
        "def L_layer_model(\n",
        "        X, y, layers_dims, learning_rate=0.01, num_iterations=3000, num_iterations1=20,\n",
        "        print_cost=True, hidden_layers_activation_fn=\"relu\"):\n",
        "    \"\"\"\n",
        "    Implements multilayer neural network using gradient descent as the\n",
        "    learning algorithm.\n",
        "\n",
        "    Arguments\n",
        "    ---------\n",
        "    X : 2d-array\n",
        "        data, shape: number of examples x num_px * num_px * 3.\n",
        "    y : 2d-array\n",
        "        true \"label\" vector, shape: 1 x number of examples.\n",
        "    layers_dims : list\n",
        "        input size and size of each layer, length: number of layers + 1.\n",
        "    learning_rate : float\n",
        "        learning rate of the gradient descent update rule.\n",
        "    num_iterations : int\n",
        "        number of iterations of the optimization loop.\n",
        "    print_cost : bool\n",
        "        if True, it prints the cost every 100 steps.\n",
        "    hidden_layers_activation_fn : str\n",
        "        activation function to be used on hidden layers: \"tanh\", \"relu\".\n",
        "\n",
        "    Returns\n",
        "    -------\n",
        "    parameters : dict\n",
        "        parameters learnt by the model. They can then be used to predict test examples.\n",
        "    \"\"\"\n",
        "    np.random.seed(1)\n",
        "\n",
        "    # initialize parameters\n",
        "    parameters = initialize_parameters(layers_dims)\n",
        "\n",
        "    # intialize cost list\n",
        "    cost_list = []\n",
        "\n",
        "    # iterate over num_iterations\n",
        "    for j in range(num_iterations1):\n",
        "        learning_rate=learning_rate/2.5\n",
        "        # iterate over num_iterations\n",
        "        for i in range(num_iterations):\n",
        "            # iterate over L-layers to get the final output and the cache\n",
        "            AL, caches = L_model_forward(X, parameters, hidden_layers_activation_fn)\n",
        "            # compute cost to plot it\n",
        "            cost = compute_cost(AL, y)\n",
        "            # iterate over L-layers backward to get gradients\n",
        "            grads = L_model_backward(AL, y, caches, hidden_layers_activation_fn)\n",
        "            # update parameters\n",
        "            parameters = update_parameters(parameters, grads, learning_rate)\n",
        "            # append each 100th cost to the cost list\n",
        "            if (i + 1) % 100 == 0 and print_cost:\n",
        "                print(f\"The {j} cost after {i + 1} iterations is: {cost:.10f}\")\n",
        "            if i % 100 == 0:\n",
        "                cost_list.append(cost)\n",
        "\n",
        "    # plot the cost curve\n",
        "    plt.figure(figsize=(10, 6))\n",
        "    plt.plot(cost_list)\n",
        "    plt.xlabel(\"Iterations (per hundreds)\")\n",
        "    plt.ylabel(\"Loss\")\n",
        "    plt.title(f\"Loss curve for the learning rate = {learning_rate}\")\n",
        "\n",
        "    return parameters\n",
        "\n",
        "\n",
        "def accuracy(X, parameters, y, activation_fn=\"relu\"):\n",
        "    \"\"\"\n",
        "    Computes the average accuracy rate.\n",
        "\n",
        "    Arguments\n",
        "    ---------\n",
        "    X : 2d-array\n",
        "        data, shape: number of examples x num_px * num_px * 3.\n",
        "    parameters : dict\n",
        "        learnt parameters.\n",
        "    y : 2d-array\n",
        "        true \"label\" vector, shape: 1 x number of examples.\n",
        "    activation_fn : str\n",
        "        activation function to be used on hidden layers: \"tanh\", \"relu\".\n",
        "\n",
        "    Returns\n",
        "    -------\n",
        "    accuracy : float\n",
        "        accuracy rate after applying parameters on the input data\n",
        "    \"\"\"\n",
        "    probs, caches = L_model_forward(X, parameters, activation_fn)\n",
        "    print(\"probs: \", str(probs))\n",
        "    labels = (probs >= 0.5) * 1\n",
        "    accuracy = np.mean(labels == y) * 100\n",
        "\n",
        "    return f\"The accuracy rate is: {accuracy:.2f}%.\""
      ]
    },
    {
      "cell_type": "code",
      "execution_count": null,
      "metadata": {
        "id": "MJewG4t-bKG3"
      },
      "outputs": [],
      "source": [
        ""
      ]
    },
    {
      "cell_type": "markdown",
      "metadata": {
        "id": "D-fAiM53bKG4"
      },
      "source": [
        "Next, we'll train two versions of the neural network where each one will use different activation function on hidden layers: One will use rectified linear unit (**ReLU**) and the second one will use hyperbolic tangent function (**tanh**). Finally we'll use the parameters we get from both neural networks to classify test examples and compute the test accuracy rates for each version to see which activation function works best on this problem."
      ]
    },
    {
      "cell_type": "code",
      "execution_count": null,
      "metadata": {
        "id": "QmNG3-cMbKG5"
      },
      "outputs": [],
      "source": [
        "# Setting layers dims\n",
        "layers_dims = [X_train.shape[0], 10, 1]"
      ]
    },
    {
      "cell_type": "markdown",
      "metadata": {
        "id": "lEv3j4WabKG8"
      },
      "source": [
        "## TANH"
      ]
    },
    {
      "cell_type": "code",
      "execution_count": null,
      "metadata": {
        "scrolled": true,
        "colab": {
          "base_uri": "https://localhost:8080/",
          "height": 1000
        },
        "id": "kmFOReVtbKG8",
        "outputId": "5249f54f-5eff-4e10-f42f-cedba696f26d"
      },
      "outputs": [
        {
          "output_type": "stream",
          "name": "stdout",
          "text": [
            "The 0 cost after 100 iterations is: 0.6906380782\n",
            "The 0 cost after 200 iterations is: 0.6686978417\n",
            "The 0 cost after 300 iterations is: 0.5498012778\n",
            "The 0 cost after 400 iterations is: 0.3640365411\n",
            "The 0 cost after 500 iterations is: 0.2358765472\n",
            "The 0 cost after 600 iterations is: 0.1540972784\n",
            "The 0 cost after 700 iterations is: 0.1040749762\n",
            "The 0 cost after 800 iterations is: 0.0742340038\n",
            "The 0 cost after 900 iterations is: 0.0557732876\n",
            "The 0 cost after 1000 iterations is: 0.0437445235\n",
            "The 0 cost after 1100 iterations is: 0.0355010499\n",
            "The 0 cost after 1200 iterations is: 0.0295980273\n",
            "The 0 cost after 1300 iterations is: 0.0252123288\n",
            "The 0 cost after 1400 iterations is: 0.0218525254\n",
            "The 0 cost after 1500 iterations is: 0.0192119492\n",
            "The 0 cost after 1600 iterations is: 0.0170915004\n",
            "The 0 cost after 1700 iterations is: 0.0153573456\n",
            "The 0 cost after 1800 iterations is: 0.0139167507\n",
            "The 0 cost after 1900 iterations is: 0.0127037325\n",
            "The 0 cost after 2000 iterations is: 0.0116702363\n",
            "The 0 cost after 2100 iterations is: 0.0107805389\n",
            "The 0 cost after 2200 iterations is: 0.0100075967\n",
            "The 0 cost after 2300 iterations is: 0.0093306026\n",
            "The 0 cost after 2400 iterations is: 0.0087333134\n",
            "The 0 cost after 2500 iterations is: 0.0082028824\n",
            "The 0 cost after 2600 iterations is: 0.0077290282\n",
            "The 0 cost after 2700 iterations is: 0.0073034341\n",
            "The 0 cost after 2800 iterations is: 0.0069193065\n",
            "The 0 cost after 2900 iterations is: 0.0065710458\n",
            "The 0 cost after 3000 iterations is: 0.0062539992\n",
            "The 0 cost after 3100 iterations is: 0.0059642708\n",
            "The 0 cost after 3200 iterations is: 0.0056985755\n",
            "The 0 cost after 3300 iterations is: 0.0054541259\n",
            "The 0 cost after 3400 iterations is: 0.0052285419\n",
            "The 0 cost after 3500 iterations is: 0.0050197804\n",
            "The 0 cost after 3600 iterations is: 0.0048260780\n",
            "The 0 cost after 3700 iterations is: 0.0046459055\n",
            "The 0 cost after 3800 iterations is: 0.0044779305\n",
            "The 0 cost after 3900 iterations is: 0.0043209873\n",
            "The 0 cost after 4000 iterations is: 0.0041740519\n",
            "The 0 cost after 4100 iterations is: 0.0040362209\n",
            "The 0 cost after 4200 iterations is: 0.0039066953\n",
            "The 0 cost after 4300 iterations is: 0.0037847650\n",
            "The 0 cost after 4400 iterations is: 0.0036697978\n",
            "The 0 cost after 4500 iterations is: 0.0035612284\n",
            "The 0 cost after 4600 iterations is: 0.0034585504\n",
            "The 0 cost after 4700 iterations is: 0.0033613085\n",
            "The 0 cost after 4800 iterations is: 0.0032690927\n",
            "The 0 cost after 4900 iterations is: 0.0031815324\n",
            "The 0 cost after 5000 iterations is: 0.0030982920\n",
            "The 0 cost after 5100 iterations is: 0.0030190673\n",
            "The 0 cost after 5200 iterations is: 0.0029435812\n",
            "The 0 cost after 5300 iterations is: 0.0028715813\n",
            "The 0 cost after 5400 iterations is: 0.0028028373\n",
            "The 0 cost after 5500 iterations is: 0.0027371381\n",
            "The 0 cost after 5600 iterations is: 0.0026742906\n",
            "The 0 cost after 5700 iterations is: 0.0026141172\n",
            "The 0 cost after 5800 iterations is: 0.0025564547\n",
            "The 0 cost after 5900 iterations is: 0.0025011526\n",
            "The 0 cost after 6000 iterations is: 0.0024480722\n",
            "The 0 cost after 6100 iterations is: 0.0023970851\n",
            "The 0 cost after 6200 iterations is: 0.0023480727\n",
            "The 0 cost after 6300 iterations is: 0.0023009249\n",
            "The 0 cost after 6400 iterations is: 0.0022555397\n",
            "The 0 cost after 6500 iterations is: 0.0022118222\n",
            "The 0 cost after 6600 iterations is: 0.0021696841\n",
            "The 0 cost after 6700 iterations is: 0.0021290431\n",
            "The 0 cost after 6800 iterations is: 0.0020898227\n",
            "The 0 cost after 6900 iterations is: 0.0020519511\n",
            "The 0 cost after 7000 iterations is: 0.0020153614\n",
            "The 0 cost after 7100 iterations is: 0.0019799911\n",
            "The 0 cost after 7200 iterations is: 0.0019457814\n",
            "The 0 cost after 7300 iterations is: 0.0019126773\n",
            "The 0 cost after 7400 iterations is: 0.0018806272\n",
            "The 0 cost after 7500 iterations is: 0.0018495826\n",
            "The 0 cost after 7600 iterations is: 0.0018194979\n",
            "The 0 cost after 7700 iterations is: 0.0017903302\n",
            "The 0 cost after 7800 iterations is: 0.0017620390\n",
            "The 0 cost after 7900 iterations is: 0.0017345862\n",
            "The 0 cost after 8000 iterations is: 0.0017079358\n",
            "The 0 cost after 8100 iterations is: 0.0016820539\n",
            "The 0 cost after 8200 iterations is: 0.0016569084\n",
            "The 0 cost after 8300 iterations is: 0.0016324689\n",
            "The 0 cost after 8400 iterations is: 0.0016087067\n",
            "The 0 cost after 8500 iterations is: 0.0015855945\n",
            "The 0 cost after 8600 iterations is: 0.0015631067\n",
            "The 0 cost after 8700 iterations is: 0.0015412187\n",
            "The 0 cost after 8800 iterations is: 0.0015199074\n",
            "The 0 cost after 8900 iterations is: 0.0014991506\n",
            "The 0 cost after 9000 iterations is: 0.0014789275\n",
            "The 0 cost after 9100 iterations is: 0.0014592182\n",
            "The 0 cost after 9200 iterations is: 0.0014400035\n",
            "The 0 cost after 9300 iterations is: 0.0014212657\n",
            "The 0 cost after 9400 iterations is: 0.0014029874\n",
            "The 0 cost after 9500 iterations is: 0.0013851522\n",
            "The 0 cost after 9600 iterations is: 0.0013677447\n",
            "The 0 cost after 9700 iterations is: 0.0013507498\n",
            "The 0 cost after 9800 iterations is: 0.0013341533\n",
            "The 0 cost after 9900 iterations is: 0.0013179418\n",
            "The 0 cost after 10000 iterations is: 0.0013021021\n",
            "The 1 cost after 100 iterations is: 0.0012957746\n",
            "The 1 cost after 200 iterations is: 0.0012895979\n",
            "The 1 cost after 300 iterations is: 0.0012834771\n",
            "The 1 cost after 400 iterations is: 0.0012774115\n",
            "The 1 cost after 500 iterations is: 0.0012714005\n",
            "The 1 cost after 600 iterations is: 0.0012654432\n",
            "The 1 cost after 700 iterations is: 0.0012595390\n",
            "The 1 cost after 800 iterations is: 0.0012536871\n",
            "The 1 cost after 900 iterations is: 0.0012478870\n",
            "The 1 cost after 1000 iterations is: 0.0012421379\n",
            "The 1 cost after 1100 iterations is: 0.0012364392\n",
            "The 1 cost after 1200 iterations is: 0.0012307902\n",
            "The 1 cost after 1300 iterations is: 0.0012251903\n",
            "The 1 cost after 1400 iterations is: 0.0012196389\n",
            "The 1 cost after 1500 iterations is: 0.0012141353\n",
            "The 1 cost after 1600 iterations is: 0.0012086790\n",
            "The 1 cost after 1700 iterations is: 0.0012032693\n",
            "The 1 cost after 1800 iterations is: 0.0011979057\n",
            "The 1 cost after 1900 iterations is: 0.0011925876\n",
            "The 1 cost after 2000 iterations is: 0.0011873144\n",
            "The 1 cost after 2100 iterations is: 0.0011820856\n",
            "The 1 cost after 2200 iterations is: 0.0011769006\n",
            "The 1 cost after 2300 iterations is: 0.0011717589\n",
            "The 1 cost after 2400 iterations is: 0.0011666600\n",
            "The 1 cost after 2500 iterations is: 0.0011616033\n",
            "The 1 cost after 2600 iterations is: 0.0011565883\n",
            "The 1 cost after 2700 iterations is: 0.0011516146\n",
            "The 1 cost after 2800 iterations is: 0.0011466816\n",
            "The 1 cost after 2900 iterations is: 0.0011417888\n",
            "The 1 cost after 3000 iterations is: 0.0011369357\n",
            "The 1 cost after 3100 iterations is: 0.0011321220\n",
            "The 1 cost after 3200 iterations is: 0.0011273471\n",
            "The 1 cost after 3300 iterations is: 0.0011226105\n",
            "The 1 cost after 3400 iterations is: 0.0011179118\n",
            "The 1 cost after 3500 iterations is: 0.0011132506\n",
            "The 1 cost after 3600 iterations is: 0.0011086264\n",
            "The 1 cost after 3700 iterations is: 0.0011040388\n",
            "The 1 cost after 3800 iterations is: 0.0010994873\n",
            "The 1 cost after 3900 iterations is: 0.0010949717\n",
            "The 1 cost after 4000 iterations is: 0.0010904913\n",
            "The 1 cost after 4100 iterations is: 0.0010860459\n",
            "The 1 cost after 4200 iterations is: 0.0010816350\n",
            "The 1 cost after 4300 iterations is: 0.0010772582\n",
            "The 1 cost after 4400 iterations is: 0.0010729152\n",
            "The 1 cost after 4500 iterations is: 0.0010686056\n",
            "The 1 cost after 4600 iterations is: 0.0010643290\n",
            "The 1 cost after 4700 iterations is: 0.0010600850\n",
            "The 1 cost after 4800 iterations is: 0.0010558732\n",
            "The 1 cost after 4900 iterations is: 0.0010516933\n",
            "The 1 cost after 5000 iterations is: 0.0010475450\n",
            "The 1 cost after 5100 iterations is: 0.0010434279\n",
            "The 1 cost after 5200 iterations is: 0.0010393416\n",
            "The 1 cost after 5300 iterations is: 0.0010352859\n",
            "The 1 cost after 5400 iterations is: 0.0010312603\n",
            "The 1 cost after 5500 iterations is: 0.0010272645\n",
            "The 1 cost after 5600 iterations is: 0.0010232983\n",
            "The 1 cost after 5700 iterations is: 0.0010193613\n",
            "The 1 cost after 5800 iterations is: 0.0010154532\n",
            "The 1 cost after 5900 iterations is: 0.0010115737\n",
            "The 1 cost after 6000 iterations is: 0.0010077224\n",
            "The 1 cost after 6100 iterations is: 0.0010038991\n",
            "The 1 cost after 6200 iterations is: 0.0010001034\n",
            "The 1 cost after 6300 iterations is: 0.0009963352\n",
            "The 1 cost after 6400 iterations is: 0.0009925940\n",
            "The 1 cost after 6500 iterations is: 0.0009888796\n",
            "The 1 cost after 6600 iterations is: 0.0009851918\n",
            "The 1 cost after 6700 iterations is: 0.0009815302\n",
            "The 1 cost after 6800 iterations is: 0.0009778945\n",
            "The 1 cost after 6900 iterations is: 0.0009742846\n",
            "The 1 cost after 7000 iterations is: 0.0009707000\n",
            "The 1 cost after 7100 iterations is: 0.0009671407\n",
            "The 1 cost after 7200 iterations is: 0.0009636063\n",
            "The 1 cost after 7300 iterations is: 0.0009600965\n",
            "The 1 cost after 7400 iterations is: 0.0009566111\n",
            "The 1 cost after 7500 iterations is: 0.0009531498\n",
            "The 1 cost after 7600 iterations is: 0.0009497125\n",
            "The 1 cost after 7700 iterations is: 0.0009462988\n",
            "The 1 cost after 7800 iterations is: 0.0009429086\n",
            "The 1 cost after 7900 iterations is: 0.0009395415\n",
            "The 1 cost after 8000 iterations is: 0.0009361974\n",
            "The 1 cost after 8100 iterations is: 0.0009328760\n",
            "The 1 cost after 8200 iterations is: 0.0009295771\n",
            "The 1 cost after 8300 iterations is: 0.0009263005\n",
            "The 1 cost after 8400 iterations is: 0.0009230459\n",
            "The 1 cost after 8500 iterations is: 0.0009198132\n",
            "The 1 cost after 8600 iterations is: 0.0009166021\n",
            "The 1 cost after 8700 iterations is: 0.0009134124\n",
            "The 1 cost after 8800 iterations is: 0.0009102439\n",
            "The 1 cost after 8900 iterations is: 0.0009070964\n",
            "The 1 cost after 9000 iterations is: 0.0009039697\n",
            "The 1 cost after 9100 iterations is: 0.0009008636\n",
            "The 1 cost after 9200 iterations is: 0.0008977779\n",
            "The 1 cost after 9300 iterations is: 0.0008947123\n",
            "The 1 cost after 9400 iterations is: 0.0008916668\n",
            "The 1 cost after 9500 iterations is: 0.0008886410\n",
            "The 1 cost after 9600 iterations is: 0.0008856349\n",
            "The 1 cost after 9700 iterations is: 0.0008826482\n",
            "The 1 cost after 9800 iterations is: 0.0008796807\n",
            "The 1 cost after 9900 iterations is: 0.0008767323\n",
            "The 1 cost after 10000 iterations is: 0.0008738028\n",
            "probs:  [[3.70832457e-01 7.23404980e-04 9.97912999e-01 9.99728668e-01\n",
            "  9.30911450e-01 5.31987921e-04 4.79608870e-04 9.65404045e-04\n",
            "  3.79461056e-04 1.37735699e-03 8.83157852e-01 9.96415152e-01\n",
            "  3.06083494e-03 9.99290209e-01 2.36286276e-04 9.99844992e-01\n",
            "  9.99935570e-01 9.81228297e-01 3.21203269e-01 9.98475928e-01\n",
            "  9.99796001e-01 9.98831731e-01 7.23450467e-03 9.99844381e-01\n",
            "  9.99909817e-01 2.07526546e-03 1.86002098e-02 9.78185041e-01\n",
            "  6.96787030e-05 5.60385933e-04 9.90241245e-01 9.98390775e-01\n",
            "  2.48408674e-03 9.99675869e-01 4.33630715e-01 2.14789468e-02\n",
            "  1.17439993e-03 1.65658172e-04 3.60883629e-04 9.99919778e-01]]\n"
          ]
        },
        {
          "output_type": "execute_result",
          "data": {
            "text/plain": [
              "'The accuracy rate is: 52.50%.'"
            ],
            "application/vnd.google.colaboratory.intrinsic+json": {
              "type": "string"
            }
          },
          "metadata": {},
          "execution_count": 43
        },
        {
          "output_type": "display_data",
          "data": {
            "text/plain": [
              "<Figure size 720x432 with 1 Axes>"
            ],
            "image/png": "[encoded data removed]"
          },
          "metadata": {
            "needs_background": "light"
          }
        }
      ],
      "source": [
        "\n",
        "# NN with tanh activation fn\n",
        "parameters_tanh = L_layer_model(\n",
        "    X_train, y_train, layers_dims, learning_rate=0.05, num_iterations=10000, num_iterations1=2,\n",
        "    hidden_layers_activation_fn=\"tanh\")\n",
        "\n",
        "# Print the accuracy\n",
        "accuracy(X_test, parameters_tanh, y_test, activation_fn=\"tanh\")"
      ]
    },
    {
      "cell_type": "markdown",
      "metadata": {
        "id": "lYVDtTHDbKHB"
      },
      "source": [
        "## RELU\n"
      ]
    },
    {
      "cell_type": "code",
      "execution_count": null,
      "metadata": {
        "scrolled": true,
        "colab": {
          "base_uri": "https://localhost:8080/",
          "height": 1000
        },
        "id": "4P6ZRU7jbKHG",
        "outputId": "b0a733c2-cca5-4488-c75d-98eda08ebb41"
      },
      "outputs": [
        {
          "output_type": "stream",
          "name": "stdout",
          "text": [
            "The 0 cost after 100 iterations is: 0.6923506406\n",
            "The 0 cost after 200 iterations is: 0.6892197146\n",
            "The 0 cost after 300 iterations is: 0.6761889387\n",
            "The 0 cost after 400 iterations is: 0.6240473858\n",
            "The 0 cost after 500 iterations is: 0.4970887629\n",
            "The 0 cost after 600 iterations is: 0.3436566993\n",
            "The 0 cost after 700 iterations is: 0.2333866699\n",
            "The 0 cost after 800 iterations is: 0.1677224919\n",
            "The 0 cost after 900 iterations is: 0.1270626683\n",
            "The 0 cost after 1000 iterations is: 0.0987912679\n",
            "The 0 cost after 1100 iterations is: 0.0783434699\n",
            "The 0 cost after 1200 iterations is: 0.0634815646\n",
            "The 0 cost after 1300 iterations is: 0.0524126341\n",
            "The 0 cost after 1400 iterations is: 0.0440153451\n",
            "The 0 cost after 1500 iterations is: 0.0375162080\n",
            "The 0 cost after 1600 iterations is: 0.0325207514\n",
            "The 0 cost after 1700 iterations is: 0.0286090489\n",
            "The 0 cost after 1800 iterations is: 0.0255369326\n",
            "The 0 cost after 1900 iterations is: 0.0230829208\n",
            "The 0 cost after 2000 iterations is: 0.0211012322\n",
            "The 0 cost after 2100 iterations is: 0.0194795507\n",
            "The 0 cost after 2200 iterations is: 0.0181342819\n",
            "The 0 cost after 2300 iterations is: 0.0170044689\n",
            "The 0 cost after 2400 iterations is: 0.0160467642\n",
            "The 0 cost after 2500 iterations is: 0.0152233638\n",
            "The 0 cost after 2600 iterations is: 0.0145082529\n",
            "The 0 cost after 2700 iterations is: 0.0138853357\n",
            "The 0 cost after 2800 iterations is: 0.0133323826\n",
            "The 0 cost after 2900 iterations is: 0.0128408209\n",
            "The 0 cost after 3000 iterations is: 0.0124005412\n",
            "The 0 cost after 3100 iterations is: 0.0120039366\n",
            "The 0 cost after 3200 iterations is: 0.0116443750\n",
            "The 0 cost after 3300 iterations is: 0.0113136427\n",
            "The 0 cost after 3400 iterations is: 0.0110127602\n",
            "The 0 cost after 3500 iterations is: 0.0107354441\n",
            "The 0 cost after 3600 iterations is: 0.0104790397\n",
            "The 0 cost after 3700 iterations is: 0.0102399337\n",
            "The 0 cost after 3800 iterations is: 0.0100181732\n",
            "The 0 cost after 3900 iterations is: 0.0098107600\n",
            "The 0 cost after 4000 iterations is: 0.0096151877\n",
            "The 0 cost after 4100 iterations is: 0.0094318600\n",
            "The 0 cost after 4200 iterations is: 0.0092592608\n",
            "The 0 cost after 4300 iterations is: 0.0090948777\n",
            "The 0 cost after 4400 iterations is: 0.0089401284\n",
            "The 0 cost after 4500 iterations is: 0.0087923937\n",
            "The 0 cost after 4600 iterations is: 0.0086524980\n",
            "The 0 cost after 4700 iterations is: 0.0085184315\n",
            "The 0 cost after 4800 iterations is: 0.0083909966\n",
            "The 0 cost after 4900 iterations is: 0.0082684646\n",
            "The 0 cost after 5000 iterations is: 0.0081516438\n",
            "The 0 cost after 5100 iterations is: 0.0080389006\n",
            "The 0 cost after 5200 iterations is: 0.0079310318\n",
            "The 0 cost after 5300 iterations is: 0.0078268465\n",
            "The 0 cost after 5400 iterations is: 0.0077268112\n",
            "The 0 cost after 5500 iterations is: 0.0076299080\n",
            "The 0 cost after 5600 iterations is: 0.0075368702\n",
            "The 0 cost after 5700 iterations is: 0.0074460153\n",
            "The 0 cost after 5800 iterations is: 0.0073584442\n",
            "The 0 cost after 5900 iterations is: 0.0072738829\n",
            "The 0 cost after 6000 iterations is: 0.0071914818\n",
            "The 0 cost after 6100 iterations is: 0.0071121443\n",
            "The 0 cost after 6200 iterations is: 0.0070343195\n",
            "The 0 cost after 6300 iterations is: 0.0069588304\n",
            "The 0 cost after 6400 iterations is: 0.0068858602\n",
            "The 0 cost after 6500 iterations is: 0.0068143585\n",
            "The 0 cost after 6600 iterations is: 0.0067447040\n",
            "The 0 cost after 6700 iterations is: 0.0066772161\n",
            "The 0 cost after 6800 iterations is: 0.0066109982\n",
            "The 0 cost after 6900 iterations is: 0.0065464759\n",
            "The 0 cost after 7000 iterations is: 0.0064837558\n",
            "The 0 cost after 7100 iterations is: 0.0064221229\n",
            "The 0 cost after 7200 iterations is: 0.0063619106\n",
            "The 0 cost after 7300 iterations is: 0.0063034237\n",
            "The 0 cost after 7400 iterations is: 0.0062457783\n",
            "The 0 cost after 7500 iterations is: 0.0061894136\n",
            "The 0 cost after 7600 iterations is: 0.0061345949\n",
            "The 0 cost after 7700 iterations is: 0.0060805021\n",
            "The 0 cost after 7800 iterations is: 0.0060275067\n",
            "The 0 cost after 7900 iterations is: 0.0059760291\n",
            "The 0 cost after 8000 iterations is: 0.0059249215\n",
            "The 0 cost after 8100 iterations is: 0.0058749643\n",
            "The 0 cost after 8200 iterations is: 0.0058260048\n",
            "The 0 cost after 8300 iterations is: 0.0057781976\n",
            "The 0 cost after 8400 iterations is: 0.0057309172\n",
            "The 0 cost after 8500 iterations is: 0.0056845322\n",
            "The 0 cost after 8600 iterations is: 0.0056394290\n",
            "The 0 cost after 8700 iterations is: 0.0055944782\n",
            "The 0 cost after 8800 iterations is: 0.0055504620\n",
            "The 0 cost after 8900 iterations is: 0.0055072007\n",
            "The 0 cost after 9000 iterations is: 0.0054650006\n",
            "The 0 cost after 9100 iterations is: 0.0054230297\n",
            "The 0 cost after 9200 iterations is: 0.0053818982\n",
            "The 0 cost after 9300 iterations is: 0.0053413870\n",
            "The 0 cost after 9400 iterations is: 0.0053018234\n",
            "The 0 cost after 9500 iterations is: 0.0052624825\n",
            "The 0 cost after 9600 iterations is: 0.0052238320\n",
            "The 0 cost after 9700 iterations is: 0.0051858306\n",
            "The 0 cost after 9800 iterations is: 0.0051486269\n",
            "The 0 cost after 9900 iterations is: 0.0051116045\n",
            "The 0 cost after 10000 iterations is: 0.0050752156\n",
            "The 1 cost after 100 iterations is: 0.0050605922\n",
            "The 1 cost after 200 iterations is: 0.0050462737\n",
            "The 1 cost after 300 iterations is: 0.0050320384\n",
            "The 1 cost after 400 iterations is: 0.0050178860\n",
            "The 1 cost after 500 iterations is: 0.0050039133\n",
            "The 1 cost after 600 iterations is: 0.0049898995\n",
            "The 1 cost after 700 iterations is: 0.0049759984\n",
            "The 1 cost after 800 iterations is: 0.0049621656\n",
            "The 1 cost after 900 iterations is: 0.0049485260\n",
            "The 1 cost after 1000 iterations is: 0.0049348079\n",
            "The 1 cost after 1100 iterations is: 0.0049212059\n",
            "The 1 cost after 1200 iterations is: 0.0049076806\n",
            "The 1 cost after 1300 iterations is: 0.0048942468\n",
            "The 1 cost after 1400 iterations is: 0.0048809431\n",
            "The 1 cost after 1500 iterations is: 0.0048676391\n",
            "The 1 cost after 1600 iterations is: 0.0048544112\n",
            "The 1 cost after 1700 iterations is: 0.0048412578\n",
            "The 1 cost after 1800 iterations is: 0.0048282640\n",
            "The 1 cost after 1900 iterations is: 0.0048152414\n",
            "The 1 cost after 2000 iterations is: 0.0048022985\n",
            "The 1 cost after 2100 iterations is: 0.0047894243\n",
            "The 1 cost after 2200 iterations is: 0.0047767424\n",
            "The 1 cost after 2300 iterations is: 0.0047639532\n",
            "The 1 cost after 2400 iterations is: 0.0047512843\n",
            "The 1 cost after 2500 iterations is: 0.0047386968\n",
            "The 1 cost after 2600 iterations is: 0.0047261610\n",
            "The 1 cost after 2700 iterations is: 0.0047137765\n",
            "The 1 cost after 2800 iterations is: 0.0047013554\n",
            "The 1 cost after 2900 iterations is: 0.0046890178\n",
            "The 1 cost after 3000 iterations is: 0.0046767434\n",
            "The 1 cost after 3100 iterations is: 0.0046646763\n",
            "The 1 cost after 3200 iterations is: 0.0046524618\n",
            "The 1 cost after 3300 iterations is: 0.0046403766\n",
            "The 1 cost after 3400 iterations is: 0.0046283536\n",
            "The 1 cost after 3500 iterations is: 0.0046163919\n",
            "The 1 cost after 3600 iterations is: 0.0046045842\n",
            "The 1 cost after 3700 iterations is: 0.0045927165\n",
            "The 1 cost after 3800 iterations is: 0.0045809470\n",
            "The 1 cost after 3900 iterations is: 0.0045692257\n",
            "The 1 cost after 4000 iterations is: 0.0045575647\n",
            "The 1 cost after 4100 iterations is: 0.0045460359\n",
            "The 1 cost after 4200 iterations is: 0.0045344797\n",
            "The 1 cost after 4300 iterations is: 0.0045229906\n",
            "The 1 cost after 4400 iterations is: 0.0045115736\n",
            "The 1 cost after 4500 iterations is: 0.0045001966\n",
            "The 1 cost after 4600 iterations is: 0.0044889411\n",
            "The 1 cost after 4700 iterations is: 0.0044776756\n",
            "The 1 cost after 4800 iterations is: 0.0044664694\n",
            "The 1 cost after 4900 iterations is: 0.0044553164\n",
            "The 1 cost after 5000 iterations is: 0.0044443202\n",
            "The 1 cost after 5100 iterations is: 0.0044332442\n",
            "The 1 cost after 5200 iterations is: 0.0044222519\n",
            "The 1 cost after 5300 iterations is: 0.0044113153\n",
            "The 1 cost after 5400 iterations is: 0.0044004291\n",
            "The 1 cost after 5500 iterations is: 0.0043896858\n",
            "The 1 cost after 5600 iterations is: 0.0043788715\n",
            "The 1 cost after 5700 iterations is: 0.0043681563\n",
            "The 1 cost after 5800 iterations is: 0.0043574731\n",
            "The 1 cost after 5900 iterations is: 0.0043468456\n",
            "The 1 cost after 6000 iterations is: 0.0043363505\n",
            "The 1 cost after 6100 iterations is: 0.0043257942\n",
            "The 1 cost after 6200 iterations is: 0.0043153147\n",
            "The 1 cost after 6300 iterations is: 0.0043048848\n",
            "The 1 cost after 6400 iterations is: 0.0042945157\n",
            "The 1 cost after 6500 iterations is: 0.0042842634\n",
            "The 1 cost after 6600 iterations is: 0.0042739488\n",
            "The 1 cost after 6700 iterations is: 0.0042637127\n",
            "The 1 cost after 6800 iterations is: 0.0042535225\n",
            "The 1 cost after 6900 iterations is: 0.0042433794\n",
            "The 1 cost after 7000 iterations is: 0.0042333655\n",
            "The 1 cost after 7100 iterations is: 0.0042232959\n",
            "The 1 cost after 7200 iterations is: 0.0042132898\n",
            "The 1 cost after 7300 iterations is: 0.0042033300\n",
            "The 1 cost after 7400 iterations is: 0.0041934166\n",
            "The 1 cost after 7500 iterations is: 0.0041836379\n",
            "The 1 cost after 7600 iterations is: 0.0041737750\n",
            "The 1 cost after 7700 iterations is: 0.0041639942\n",
            "The 1 cost after 7800 iterations is: 0.0041542681\n",
            "The 1 cost after 7900 iterations is: 0.0041445746\n",
            "The 1 cost after 8000 iterations is: 0.0041349249\n",
            "The 1 cost after 8100 iterations is: 0.0041253714\n",
            "The 1 cost after 8200 iterations is: 0.0041158042\n",
            "The 1 cost after 8300 iterations is: 0.0041062835\n",
            "The 1 cost after 8400 iterations is: 0.0040968042\n",
            "The 1 cost after 8500 iterations is: 0.0040873772\n",
            "The 1 cost after 8600 iterations is: 0.0040780389\n",
            "The 1 cost after 8700 iterations is: 0.0040686727\n",
            "The 1 cost after 8800 iterations is: 0.0040593583\n",
            "The 1 cost after 8900 iterations is: 0.0040500854\n",
            "The 1 cost after 9000 iterations is: 0.0040408526\n",
            "The 1 cost after 9100 iterations is: 0.0040317276\n",
            "The 1 cost after 9200 iterations is: 0.0040225648\n",
            "The 1 cost after 9300 iterations is: 0.0040134485\n",
            "The 1 cost after 9400 iterations is: 0.0040043743\n",
            "The 1 cost after 9500 iterations is: 0.0039953390\n",
            "The 1 cost after 9600 iterations is: 0.0039864277\n",
            "The 1 cost after 9700 iterations is: 0.0039774312\n",
            "The 1 cost after 9800 iterations is: 0.0039685102\n",
            "The 1 cost after 9900 iterations is: 0.0039596417\n",
            "The 1 cost after 10000 iterations is: 0.0039507924\n",
            "probs:  [[2.14396440e-01 4.97513061e-01 6.77487119e-01 9.98444344e-01\n",
            "  9.69380890e-01 4.11394360e-01 1.61090825e-02 8.30995112e-02\n",
            "  3.64899080e-03 3.76227716e-01 8.68706976e-01 9.94562230e-01\n",
            "  2.36568138e-02 9.93444665e-01 6.57275709e-03 9.99805651e-01\n",
            "  9.99094811e-01 6.94208380e-01 4.18042793e-03 9.23268330e-01\n",
            "  9.98960727e-01 9.41269219e-01 1.53842043e-02 9.87186270e-01\n",
            "  9.95107569e-01 9.51615059e-01 5.52514705e-01 9.24133113e-01\n",
            "  4.05231909e-06 8.83737848e-03 2.01167050e-01 7.07748853e-01\n",
            "  1.52288386e-01 9.51335968e-01 5.35036574e-02 1.83411078e-02\n",
            "  7.66293853e-02 8.03650369e-04 2.41588757e-04 9.95874585e-01]]\n"
          ]
        },
        {
          "output_type": "execute_result",
          "data": {
            "text/plain": [
              "'The accuracy rate is: 50.00%.'"
            ],
            "application/vnd.google.colaboratory.intrinsic+json": {
              "type": "string"
            }
          },
          "metadata": {},
          "execution_count": 44
        },
        {
          "output_type": "display_data",
          "data": {
            "text/plain": [
              "<Figure size 720x432 with 1 Axes>"
            ],
            "image/png": "[encoded data removed]"
          },
          "metadata": {
            "needs_background": "light"
          }
        }
      ],
      "source": [
        "# NN with relu activation fn\n",
        "parameters_relu = L_layer_model(\n",
        "    X_train, y_train, layers_dims, learning_rate=0.05, num_iterations=10000, num_iterations1=2,\n",
        "    hidden_layers_activation_fn=\"relu\")\n",
        "\n",
        "# Print the accuracy\n",
        "accuracy(X_test, parameters_relu, y_test, activation_fn=\"relu\")"
      ]
    },
    {
      "cell_type": "markdown",
      "metadata": {
        "id": "YLsZSBRQbKHI"
      },
      "source": [
        "sigmoid"
      ]
    },
    {
      "cell_type": "code",
      "execution_count": null,
      "metadata": {
        "colab": {
          "base_uri": "https://localhost:8080/",
          "height": 1000
        },
        "id": "NQP5HBsZbKHI",
        "outputId": "587926e8-c09f-4a24-c345-8c2a0bf5a581"
      },
      "outputs": [
        {
          "output_type": "stream",
          "name": "stdout",
          "text": [
            "The 0 cost after 100 iterations is: 0.6930817492\n",
            "The 0 cost after 200 iterations is: 0.6929739027\n",
            "The 0 cost after 300 iterations is: 0.6928036902\n",
            "The 0 cost after 400 iterations is: 0.6925084302\n",
            "The 0 cost after 500 iterations is: 0.6919813481\n",
            "The 0 cost after 600 iterations is: 0.6910340196\n",
            "The 0 cost after 700 iterations is: 0.6893346308\n",
            "The 0 cost after 800 iterations is: 0.6863094399\n",
            "The 0 cost after 900 iterations is: 0.6810024205\n",
            "The 0 cost after 1000 iterations is: 0.6719239591\n",
            "The 0 cost after 1100 iterations is: 0.6570155947\n",
            "The 0 cost after 1200 iterations is: 0.6339999939\n",
            "The 0 cost after 1300 iterations is: 0.6013591425\n",
            "The 0 cost after 1400 iterations is: 0.5596115819\n",
            "The 0 cost after 1500 iterations is: 0.5117467775\n",
            "The 0 cost after 1600 iterations is: 0.4620526310\n",
            "The 0 cost after 1700 iterations is: 0.4142528922\n",
            "The 0 cost after 1800 iterations is: 0.3704749960\n",
            "The 0 cost after 1900 iterations is: 0.3313748417\n",
            "The 0 cost after 2000 iterations is: 0.2967479017\n",
            "The 0 cost after 2100 iterations is: 0.2660499322\n",
            "The 0 cost after 2200 iterations is: 0.2386913825\n",
            "The 0 cost after 2300 iterations is: 0.2141848486\n",
            "The 0 cost after 2400 iterations is: 0.1922082987\n",
            "The 0 cost after 2500 iterations is: 0.1725829121\n",
            "The 0 cost after 2600 iterations is: 0.1551826810\n",
            "The 0 cost after 2700 iterations is: 0.1398552626\n",
            "The 0 cost after 2800 iterations is: 0.1264073117\n",
            "The 0 cost after 2900 iterations is: 0.1146275299\n",
            "The 0 cost after 3000 iterations is: 0.1043088383\n",
            "The 0 cost after 3100 iterations is: 0.0952598287\n",
            "The 0 cost after 3200 iterations is: 0.0873090668\n",
            "The 0 cost after 3300 iterations is: 0.0803058918\n",
            "The 0 cost after 3400 iterations is: 0.0741195396\n",
            "The 0 cost after 3500 iterations is: 0.0686374661\n",
            "The 0 cost after 3600 iterations is: 0.0637633382\n",
            "The 0 cost after 3700 iterations is: 0.0594149695\n",
            "The 0 cost after 3800 iterations is: 0.0555223543\n",
            "The 0 cost after 3900 iterations is: 0.0520258802\n",
            "The 0 cost after 4000 iterations is: 0.0488747503\n",
            "The 0 cost after 4100 iterations is: 0.0460256182\n",
            "The 0 cost after 4200 iterations is: 0.0434414221\n",
            "The 0 cost after 4300 iterations is: 0.0410903991\n",
            "The 0 cost after 4400 iterations is: 0.0389452556\n",
            "The 0 cost after 4500 iterations is: 0.0369824716\n",
            "The 0 cost after 4600 iterations is: 0.0351817194\n",
            "The 0 cost after 4700 iterations is: 0.0335253772\n",
            "The 0 cost after 4800 iterations is: 0.0319981221\n",
            "The 0 cost after 4900 iterations is: 0.0305865899\n",
            "The 0 cost after 5000 iterations is: 0.0292790892\n",
            "The 0 cost after 5100 iterations is: 0.0280653621\n",
            "The 0 cost after 5200 iterations is: 0.0269363817\n",
            "The 0 cost after 5300 iterations is: 0.0258841821\n",
            "The 0 cost after 5400 iterations is: 0.0249017137\n",
            "The 0 cost after 5500 iterations is: 0.0239827215\n",
            "The 0 cost after 5600 iterations is: 0.0231216406\n",
            "The 0 cost after 5700 iterations is: 0.0223135075\n",
            "The 0 cost after 5800 iterations is: 0.0215538844\n",
            "The 0 cost after 5900 iterations is: 0.0208387935\n",
            "The 0 cost after 6000 iterations is: 0.0201646619\n",
            "The 0 cost after 6100 iterations is: 0.0195282726\n",
            "The 0 cost after 6200 iterations is: 0.0189267227\n",
            "The 0 cost after 6300 iterations is: 0.0183573880\n",
            "The 0 cost after 6400 iterations is: 0.0178178905\n",
            "The 0 cost after 6500 iterations is: 0.0173060718\n",
            "The 0 cost after 6600 iterations is: 0.0168199687\n",
            "The 0 cost after 6700 iterations is: 0.0163577927\n",
            "The 0 cost after 6800 iterations is: 0.0159179111\n",
            "The 0 cost after 6900 iterations is: 0.0154988311\n",
            "The 0 cost after 7000 iterations is: 0.0150991857\n",
            "The 0 cost after 7100 iterations is: 0.0147177208\n",
            "The 0 cost after 7200 iterations is: 0.0143532844\n",
            "The 0 cost after 7300 iterations is: 0.0140048164\n",
            "The 0 cost after 7400 iterations is: 0.0136713400\n",
            "The 0 cost after 7500 iterations is: 0.0133519540\n",
            "The 0 cost after 7600 iterations is: 0.0130458256\n",
            "The 0 cost after 7700 iterations is: 0.0127521843\n",
            "The 0 cost after 7800 iterations is: 0.0124703162\n",
            "The 0 cost after 7900 iterations is: 0.0121995594\n",
            "The 0 cost after 8000 iterations is: 0.0119392988\n",
            "The 0 cost after 8100 iterations is: 0.0116889628\n",
            "The 0 cost after 8200 iterations is: 0.0114480193\n",
            "The 0 cost after 8300 iterations is: 0.0112159724\n",
            "The 0 cost after 8400 iterations is: 0.0109923595\n",
            "The 0 cost after 8500 iterations is: 0.0107767486\n",
            "The 0 cost after 8600 iterations is: 0.0105687358\n",
            "The 0 cost after 8700 iterations is: 0.0103679434\n",
            "The 0 cost after 8800 iterations is: 0.0101740173\n",
            "The 0 cost after 8900 iterations is: 0.0099866259\n",
            "The 0 cost after 9000 iterations is: 0.0098054578\n",
            "The 0 cost after 9100 iterations is: 0.0096302206\n",
            "The 0 cost after 9200 iterations is: 0.0094606394\n",
            "The 0 cost after 9300 iterations is: 0.0092964557\n",
            "The 0 cost after 9400 iterations is: 0.0091374260\n",
            "The 0 cost after 9500 iterations is: 0.0089833209\n",
            "The 0 cost after 9600 iterations is: 0.0088339240\n",
            "The 0 cost after 9700 iterations is: 0.0086890313\n",
            "The 0 cost after 9800 iterations is: 0.0085484498\n",
            "The 0 cost after 9900 iterations is: 0.0084119973\n",
            "The 0 cost after 10000 iterations is: 0.0082795014\n",
            "The 1 cost after 100 iterations is: 0.0082268019\n",
            "The 1 cost after 200 iterations is: 0.0081754824\n",
            "The 1 cost after 300 iterations is: 0.0081247497\n",
            "The 1 cost after 400 iterations is: 0.0080745941\n",
            "The 1 cost after 500 iterations is: 0.0080250062\n",
            "The 1 cost after 600 iterations is: 0.0079759769\n",
            "The 1 cost after 700 iterations is: 0.0079274971\n",
            "The 1 cost after 800 iterations is: 0.0078795579\n",
            "The 1 cost after 900 iterations is: 0.0078321507\n",
            "The 1 cost after 1000 iterations is: 0.0077852671\n",
            "The 1 cost after 1100 iterations is: 0.0077388987\n",
            "The 1 cost after 1200 iterations is: 0.0076930374\n",
            "The 1 cost after 1300 iterations is: 0.0076476753\n",
            "The 1 cost after 1400 iterations is: 0.0076028046\n",
            "The 1 cost after 1500 iterations is: 0.0075584175\n",
            "The 1 cost after 1600 iterations is: 0.0075145067\n",
            "The 1 cost after 1700 iterations is: 0.0074710647\n",
            "The 1 cost after 1800 iterations is: 0.0074280845\n",
            "The 1 cost after 1900 iterations is: 0.0073855589\n",
            "The 1 cost after 2000 iterations is: 0.0073434810\n",
            "The 1 cost after 2100 iterations is: 0.0073018441\n",
            "The 1 cost after 2200 iterations is: 0.0072606415\n",
            "The 1 cost after 2300 iterations is: 0.0072198667\n",
            "The 1 cost after 2400 iterations is: 0.0071795134\n",
            "The 1 cost after 2500 iterations is: 0.0071395752\n",
            "The 1 cost after 2600 iterations is: 0.0071000460\n",
            "The 1 cost after 2700 iterations is: 0.0070609199\n",
            "The 1 cost after 2800 iterations is: 0.0070221908\n",
            "The 1 cost after 2900 iterations is: 0.0069838530\n",
            "The 1 cost after 3000 iterations is: 0.0069459008\n",
            "The 1 cost after 3100 iterations is: 0.0069083287\n",
            "The 1 cost after 3200 iterations is: 0.0068711311\n",
            "The 1 cost after 3300 iterations is: 0.0068343027\n",
            "The 1 cost after 3400 iterations is: 0.0067978382\n",
            "The 1 cost after 3500 iterations is: 0.0067617324\n",
            "The 1 cost after 3600 iterations is: 0.0067259803\n",
            "The 1 cost after 3700 iterations is: 0.0066905769\n",
            "The 1 cost after 3800 iterations is: 0.0066555172\n",
            "The 1 cost after 3900 iterations is: 0.0066207965\n",
            "The 1 cost after 4000 iterations is: 0.0065864100\n",
            "The 1 cost after 4100 iterations is: 0.0065523532\n",
            "The 1 cost after 4200 iterations is: 0.0065186214\n",
            "The 1 cost after 4300 iterations is: 0.0064852102\n",
            "The 1 cost after 4400 iterations is: 0.0064521152\n",
            "The 1 cost after 4500 iterations is: 0.0064193321\n",
            "The 1 cost after 4600 iterations is: 0.0063868567\n",
            "The 1 cost after 4700 iterations is: 0.0063546847\n",
            "The 1 cost after 4800 iterations is: 0.0063228122\n",
            "The 1 cost after 4900 iterations is: 0.0062912351\n",
            "The 1 cost after 5000 iterations is: 0.0062599494\n",
            "The 1 cost after 5100 iterations is: 0.0062289513\n",
            "The 1 cost after 5200 iterations is: 0.0061982369\n",
            "The 1 cost after 5300 iterations is: 0.0061678026\n",
            "The 1 cost after 5400 iterations is: 0.0061376446\n",
            "The 1 cost after 5500 iterations is: 0.0061077593\n",
            "The 1 cost after 5600 iterations is: 0.0060781432\n",
            "The 1 cost after 5700 iterations is: 0.0060487927\n",
            "The 1 cost after 5800 iterations is: 0.0060197045\n",
            "The 1 cost after 5900 iterations is: 0.0059908751\n",
            "The 1 cost after 6000 iterations is: 0.0059623012\n",
            "The 1 cost after 6100 iterations is: 0.0059339796\n",
            "The 1 cost after 6200 iterations is: 0.0059059071\n",
            "The 1 cost after 6300 iterations is: 0.0058780804\n",
            "The 1 cost after 6400 iterations is: 0.0058504965\n",
            "The 1 cost after 6500 iterations is: 0.0058231523\n",
            "The 1 cost after 6600 iterations is: 0.0057960448\n",
            "The 1 cost after 6700 iterations is: 0.0057691711\n",
            "The 1 cost after 6800 iterations is: 0.0057425282\n",
            "The 1 cost after 6900 iterations is: 0.0057161133\n",
            "The 1 cost after 7000 iterations is: 0.0056899235\n",
            "The 1 cost after 7100 iterations is: 0.0056639562\n",
            "The 1 cost after 7200 iterations is: 0.0056382085\n",
            "The 1 cost after 7300 iterations is: 0.0056126778\n",
            "The 1 cost after 7400 iterations is: 0.0055873614\n",
            "The 1 cost after 7500 iterations is: 0.0055622568\n",
            "The 1 cost after 7600 iterations is: 0.0055373613\n",
            "The 1 cost after 7700 iterations is: 0.0055126725\n",
            "The 1 cost after 7800 iterations is: 0.0054881880\n",
            "The 1 cost after 7900 iterations is: 0.0054639051\n",
            "The 1 cost after 8000 iterations is: 0.0054398216\n",
            "The 1 cost after 8100 iterations is: 0.0054159351\n",
            "The 1 cost after 8200 iterations is: 0.0053922432\n",
            "The 1 cost after 8300 iterations is: 0.0053687437\n",
            "The 1 cost after 8400 iterations is: 0.0053454343\n",
            "The 1 cost after 8500 iterations is: 0.0053223127\n",
            "The 1 cost after 8600 iterations is: 0.0052993769\n",
            "The 1 cost after 8700 iterations is: 0.0052766246\n",
            "The 1 cost after 8800 iterations is: 0.0052540536\n",
            "The 1 cost after 8900 iterations is: 0.0052316620\n",
            "The 1 cost after 9000 iterations is: 0.0052094477\n",
            "The 1 cost after 9100 iterations is: 0.0051874086\n",
            "The 1 cost after 9200 iterations is: 0.0051655427\n",
            "The 1 cost after 9300 iterations is: 0.0051438481\n",
            "The 1 cost after 9400 iterations is: 0.0051223228\n",
            "The 1 cost after 9500 iterations is: 0.0051009649\n",
            "The 1 cost after 9600 iterations is: 0.0050797725\n",
            "The 1 cost after 9700 iterations is: 0.0050587438\n",
            "The 1 cost after 9800 iterations is: 0.0050378770\n",
            "The 1 cost after 9900 iterations is: 0.0050171702\n",
            "The 1 cost after 10000 iterations is: 0.0049966216\n",
            "probs:  [[3.34035374e-01 6.67001085e-03 9.87985140e-01 9.98309106e-01\n",
            "  9.09048975e-01 5.24570854e-03 2.83347544e-03 6.56461822e-03\n",
            "  2.82874994e-03 1.12015144e-02 8.16063032e-01 9.84410196e-01\n",
            "  1.13514740e-02 9.97119588e-01 1.62621263e-03 9.99149887e-01\n",
            "  9.99640697e-01 9.60925311e-01 2.82211311e-01 9.91510593e-01\n",
            "  9.98739076e-01 9.92872918e-01 2.75028944e-02 9.98997129e-01\n",
            "  9.99474289e-01 1.90243814e-02 3.45534875e-02 9.46969766e-01\n",
            "  4.46680685e-04 3.82110954e-03 9.62259336e-01 9.89778726e-01\n",
            "  1.42026687e-02 9.97375307e-01 3.86297366e-01 4.13096490e-02\n",
            "  9.48650427e-03 1.15479927e-03 2.19623405e-03 9.99585447e-01]]\n"
          ]
        },
        {
          "output_type": "execute_result",
          "data": {
            "text/plain": [
              "'The accuracy rate is: 52.50%.'"
            ],
            "application/vnd.google.colaboratory.intrinsic+json": {
              "type": "string"
            }
          },
          "metadata": {},
          "execution_count": 45
        },
        {
          "output_type": "display_data",
          "data": {
            "text/plain": [
              "<Figure size 720x432 with 1 Axes>"
            ],
            "image/png": "[encoded data removed]"
          },
          "metadata": {
            "needs_background": "light"
          }
        }
      ],
      "source": [
        "# NN with tanh activation fn\n",
        "parameters_tanh = L_layer_model(\n",
        "    X_train, y_train, layers_dims, learning_rate=0.05, num_iterations=10000, num_iterations1=2,\n",
        "    hidden_layers_activation_fn=\"sigmoid\")\n",
        "\n",
        "# Print the accuracy\n",
        "accuracy(X_test, parameters_tanh, y_test, activation_fn=\"sigmoid\")"
      ]
    },
    {
      "cell_type": "markdown",
      "source": [
        "# Oscar"
      ],
      "metadata": {
        "id": "KQoj6FjeeWpM"
      }
    },
    {
      "cell_type": "markdown",
      "metadata": {
        "id": "4Je61Lp8bKHS"
      },
      "source": [
        "leaky_relu"
      ]
    },
    {
      "cell_type": "code",
      "execution_count": null,
      "metadata": {
        "scrolled": true,
        "id": "vdP8dd9gbKHW"
      },
      "outputs": [],
      "source": [
        "# NN with tanh activation fn\n",
        "parameters_leaky_relu = L_layer_model(\n",
        "    X_train, y_train, layers_dims, learning_rate=0.2, num_iterations=10000, num_iterations1=2,\n",
        "    hidden_layers_activation_fn=\"leaky_relu\")\n",
        "\n",
        "# Print the accuracy\n",
        "accuracy(X_test, parameters_tanh, y_test, activation_fn=\"leaky_relu\")"
      ]
    }
  ],
  "metadata": {
    "celltoolbar": "Edit Metadata",
    "kernelspec": {
      "display_name": "Python 3 (ipykernel)",
      "language": "python",
      "name": "python3"
    },
    "language_info": {
      "codemirror_mode": {
        "name": "ipython",
        "version": 3
      },
      "file_extension": ".py",
      "mimetype": "text/x-python",
      "name": "python",
      "nbconvert_exporter": "python",
      "pygments_lexer": "ipython3",
      "version": "3.9.7"
    },
    "colab": {
      "name": "Copy of NNetF-B-Propag80x10x10_95x100SinEstandarizarOOKKK Laura.ipynb",
      "provenance": [],
      "toc_visible": true,
      "collapsed_sections": [
        "lYVDtTHDbKHB"
      ],
      "include_colab_link": true
    }
  },
  "nbformat": 4,
  "nbformat_minor": 0
}