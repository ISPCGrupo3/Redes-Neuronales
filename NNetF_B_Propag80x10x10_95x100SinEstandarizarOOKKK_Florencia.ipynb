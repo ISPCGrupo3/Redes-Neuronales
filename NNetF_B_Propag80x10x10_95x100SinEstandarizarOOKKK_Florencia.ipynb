{
  "cells": [
    {
      "cell_type": "markdown",
      "metadata": {
        "id": "view-in-github",
        "colab_type": "text"
      },
      "source": [
        "<a href=\"https://colab.research.google.com/github/ISPCGrupo3/Redes-Neuronales/blob/main/NNetF_B_Propag80x10x10_95x100SinEstandarizarOOKKK_Florencia.ipynb\" target=\"_parent\"><img src=\"https://colab.research.google.com/assets/colab-badge.svg\" alt=\"Open In Colab\"/></a>"
      ]
    },
    {
      "cell_type": "markdown",
      "metadata": {
        "id": "VfheL5fybKD2"
      },
      "source": [
        "<h1 style=\"font-family: Georgia; font-size:3em;color:#2462C0; font-style:bold\">\n",
        "Coding Neural Network - Forward Propagation and Backpropagation\n",
        "</h1><br>"
      ]
    },
    {
      "cell_type": "markdown",
      "metadata": {
        "id": "F89z1kDlbKEV"
      },
      "source": [
        "https://machinelearningmastery.com/learning-rate-for-deep-learning-neural-networks/\n",
        "https://machinelearningmastery.com/how-to-configure-the-number-of-layers-and-nodes-in-a-neural-network/\n",
        "\n",
        "https://stats.stackexchange.com/questions/352036/what-should-i-do-when-my-neural-network-doesnt-learn\n",
        "\n",
        "https://datascience-enthusiast.com/DL/Improving_DeepNeural_Networks_Regularization.html\n",
        "\n",
        "http://neuralnetworksanddeeplearning.com/chap5.html\n",
        "\n",
        "https://wiki.pathmind.com/neural-network\n",
        "\n",
        "https://towardsdatascience.com/neural-network-architectures-156e5bad51ba"
      ]
    },
    {
      "cell_type": "code",
      "execution_count": 1,
      "metadata": {
        "code_folding": [
          0
        ],
        "id": "DxjoRZQMbKEb"
      },
      "outputs": [],
      "source": [
        "# Import packages\n",
        "import os as os\n",
        "\n",
        "import h5py\n",
        "import matplotlib.pyplot as plt\n",
        "import numpy as np\n",
        "import seaborn as sns\n",
        "\n",
        "%matplotlib inline\n",
        "sns.set_context(\"notebook\")\n",
        "plt.style.use(\"fivethirtyeight\")"
      ]
    },
    {
      "cell_type": "markdown",
      "metadata": {
        "id": "LmBK6yOkbKEh"
      },
      "source": [
        "<h3 style=\"font-family: Georgia; font-size:1.3em;color:purple; font-style:bold\">\n",
        "Parameters Initialization\n",
        "</h3><br>\n"
      ]
    },
    {
      "cell_type": "code",
      "execution_count": 2,
      "metadata": {
        "code_folding": [
          0
        ],
        "id": "isO-7cQbbKEl"
      },
      "outputs": [],
      "source": [
        "# Initialize parameters\n",
        "def initialize_parameters(layers_dims):\n",
        "    \"\"\"\n",
        "    Initialize parameters dictionary.\n",
        "    \n",
        "    Weight matrices will be initialized to random values from uniform normal\n",
        "    distribution.\n",
        "    bias vectors will be initialized to zeros.\n",
        "\n",
        "    Arguments\n",
        "    ---------\n",
        "    layers_dims : list or array-like\n",
        "        dimensions of each layer in the network.\n",
        "\n",
        "    Returns\n",
        "    -------\n",
        "    parameters : dict\n",
        "        weight matrix and the bias vector for each layer.\n",
        "    \"\"\"\n",
        "    np.random.seed(1)               \n",
        "    parameters = {}\n",
        "    L = len(layers_dims)            \n",
        "\n",
        "    for l in range(1, L):           \n",
        "        parameters[\"W\" + str(l)] = np.random.randn(\n",
        "            layers_dims[l], layers_dims[l - 1]) * 0.01\n",
        "        parameters[\"b\" + str(l)] = np.zeros((layers_dims[l], 1))\n",
        "\n",
        "        assert parameters[\"W\" + str(l)].shape == (\n",
        "            layers_dims[l], layers_dims[l - 1])\n",
        "        assert parameters[\"b\" + str(l)].shape == (layers_dims[l], 1)\n",
        "\n",
        "    return parameters"
      ]
    },
    {
      "cell_type": "markdown",
      "metadata": {
        "id": "gK-eMyyNbKEr"
      },
      "source": [
        "<h3 style=\"font-family: Georgia; font-size:1.3em;color:purple; font-style:bold\">\n",
        "Activation Functions\n",
        "</h3><br>"
      ]
    },
    {
      "cell_type": "code",
      "execution_count": 3,
      "metadata": {
        "code_folding": [
          0
        ],
        "id": "73MV_sFcbKEt"
      },
      "outputs": [],
      "source": [
        "# Define activation functions that will be used in forward propagation\n",
        "def sigmoid(Z):\n",
        "    \"\"\"\n",
        "    Computes the sigmoid of Z element-wise.\n",
        "\n",
        "    Arguments\n",
        "    ---------\n",
        "    Z : array\n",
        "        output of affine transformation.\n",
        "\n",
        "    Returns\n",
        "    -------\n",
        "    A : array\n",
        "        post activation output.\n",
        "    Z : array\n",
        "        output of affine transformation.\n",
        "    \"\"\"\n",
        "    A = 1 / (1 + np.exp(-Z))\n",
        "\n",
        "    return A, Z\n",
        "\n",
        "\n",
        "def tanh(Z):\n",
        "    \"\"\"\n",
        "    Computes the Hyperbolic Tagent of Z elemnet-wise.\n",
        "\n",
        "    Arguments\n",
        "    ---------\n",
        "    Z : array\n",
        "        output of affine transformation.\n",
        "\n",
        "    Returns\n",
        "    -------\n",
        "    A : array\n",
        "        post activation output.\n",
        "    Z : array\n",
        "        output of affine transformation.\n",
        "    \"\"\"\n",
        "    A = np.tanh(Z)\n",
        "\n",
        "    return A, Z\n",
        "\n",
        "\n",
        "def relu(Z):\n",
        "    \"\"\"\n",
        "    Computes the Rectified Linear Unit (ReLU) element-wise.\n",
        "\n",
        "    Arguments\n",
        "    ---------\n",
        "    Z : array\n",
        "        output of affine transformation.\n",
        "\n",
        "    Returns\n",
        "    -------\n",
        "    A : array\n",
        "        post activation output.\n",
        "    Z : array\n",
        "        output of affine transformation.\n",
        "    \"\"\"\n",
        "    A = np.maximum(0, Z)\n",
        "\n",
        "    return A, Z\n",
        "\n",
        "\n",
        "def leaky_relu(Z):\n",
        "    \"\"\"\n",
        "    Computes Leaky Rectified Linear Unit element-wise.\n",
        "\n",
        "    Arguments\n",
        "    ---------\n",
        "    Z : array\n",
        "        output of affine transformation.\n",
        "\n",
        "    Returns\n",
        "    -------\n",
        "    A : array\n",
        "        post activation output.\n",
        "    Z : array\n",
        "        output of affine transformation.\n",
        "    \"\"\"\n",
        "    A = np.maximum(0.1 * Z, Z)\n",
        "\n",
        "    return A, Z"
      ]
    },
    {
      "cell_type": "markdown",
      "metadata": {
        "id": "8gtg9vgNbKEy"
      },
      "source": [
        ""
      ]
    },
    {
      "cell_type": "code",
      "execution_count": 4,
      "metadata": {
        "code_folding": [
          0
        ],
        "colab": {
          "base_uri": "https://localhost:8080/",
          "height": 585
        },
        "id": "pUAgYbj5bKE2",
        "outputId": "4b9aad2c-a862-4468-cf79-928441ace906"
      },
      "outputs": [
        {
          "output_type": "display_data",
          "data": {
            "text/plain": [
              "<Figure size 864x576 with 4 Axes>"
            ],
            "image/png": "[encoded data removed]"
          },
          "metadata": {
            "needs_background": "light"
          }
        }
      ],
      "source": [
        "# Plot the 4 activation functions\n",
        "z = np.linspace(-12, 18, 90)\n",
        "\n",
        "# Computes post-activation outputs\n",
        "A_sigmoid, z = sigmoid(z)\n",
        "A_tanh, z = tanh(z)\n",
        "A_relu, z = relu(z)\n",
        "A_leaky_relu, z = leaky_relu(z)\n",
        "\n",
        "# Plot sigmoid\n",
        "plt.figure(figsize=(12, 8))\n",
        "plt.subplot(2, 2, 1)\n",
        "plt.plot(z, A_sigmoid, label = \"Function\")\n",
        "plt.plot(z, A_sigmoid * (1 - A_sigmoid), label = \"Derivative\")\n",
        "plt.legend(loc = \"upper left\")\n",
        "plt.xlabel(\"z\")\n",
        "plt.ylabel(r\"$\\frac{1}{1 + e^{-z}}$\")\n",
        "plt.title(\"Sigmoid Function\", fontsize = 16)\n",
        "# Plot tanh\n",
        "plt.subplot(2, 2, 2)\n",
        "plt.plot(z, A_tanh, 'b', label = \"Function\")\n",
        "plt.plot(z, 1 - np.square(A_tanh), 'r',label = \"Derivative\")\n",
        "plt.legend(loc = \"upper left\")\n",
        "plt.xlabel(\"z\")\n",
        "plt.ylabel(r\"$\\frac{e^z - e^{-z}}{e^z + e^{-z}}$\")\n",
        "plt.title(\"Hyperbolic Tangent Function\", fontsize = 16)\n",
        "# plot relu\n",
        "plt.subplot(2, 2, 3)\n",
        "plt.plot(z, A_relu, 'g')\n",
        "plt.xlabel(\"z\")\n",
        "plt.ylabel(r\"$max\\{0, z\\}$\")\n",
        "plt.title(\"ReLU Function\", fontsize = 16)\n",
        "# plot leaky relu\n",
        "plt.subplot(2, 2, 4)\n",
        "plt.plot(z, A_leaky_relu, 'y')\n",
        "plt.xlabel(\"z\")\n",
        "plt.ylabel(r\"$max\\{0.1z, z\\}$\")\n",
        "plt.title(\"Leaky ReLU Function\", fontsize = 16)\n",
        "plt.tight_layout();"
      ]
    },
    {
      "cell_type": "markdown",
      "metadata": {
        "id": "XNc1pDWtbKE-"
      },
      "source": [
        "<h3 style=\"font-family: Georgia; font-size:1.3em;color:purple; font-style:bold\">\n",
        "Feed Forward\n",
        "</h3><br>\n"
      ]
    },
    {
      "cell_type": "code",
      "execution_count": 5,
      "metadata": {
        "code_folding": [
          0
        ],
        "id": "U7MeMbKIbKFA"
      },
      "outputs": [],
      "source": [
        "# Define helper functions that will be used in L-model forward prop\n",
        "def linear_forward(A_prev, W, b):\n",
        "    \"\"\"\n",
        "    Computes affine transformation of the input.\n",
        "\n",
        "    Arguments\n",
        "    ---------\n",
        "    A_prev : 2d-array\n",
        "        activations output from previous layer.\n",
        "    W : 2d-array\n",
        "        weight matrix, shape: size of current layer x size of previuos layer.\n",
        "    b : 2d-array\n",
        "        bias vector, shape: size of current layer x 1.\n",
        "\n",
        "    Returns\n",
        "    -------\n",
        "    Z : 2d-array\n",
        "        affine transformation output.\n",
        "    cache : tuple\n",
        "        stores A_prev, W, b to be used in backpropagation.\n",
        "    \"\"\"\n",
        "    Z = np.dot(W, A_prev) + b\n",
        "    cache = (A_prev, W, b)\n",
        "\n",
        "    return Z, cache\n",
        "\n",
        "\n",
        "def linear_activation_forward(A_prev, W, b, activation_fn):\n",
        "    \"\"\"\n",
        "    Computes post-activation output using non-linear activation function.\n",
        "\n",
        "    Arguments\n",
        "    ---------\n",
        "    A_prev : 2d-array\n",
        "        activations output from previous layer.\n",
        "    W : 2d-array\n",
        "        weight matrix, shape: size of current layer x size of previuos layer.\n",
        "    b : 2d-array\n",
        "        bias vector, shape: size of current layer x 1.\n",
        "    activation_fn : str\n",
        "        non-linear activation function to be used: \"sigmoid\", \"tanh\", \"relu\".\n",
        "\n",
        "    Returns\n",
        "    -------\n",
        "    A : 2d-array\n",
        "        output of the activation function.\n",
        "    cache : tuple\n",
        "        stores linear_cache and activation_cache. ((A_prev, W, b), Z) to be used in backpropagation.\n",
        "    \"\"\"\n",
        "    assert activation_fn == \"sigmoid\" or activation_fn == \"tanh\" or \\\n",
        "        activation_fn == \"relu\"\n",
        "\n",
        "    if activation_fn == \"sigmoid\":\n",
        "        Z, linear_cache = linear_forward(A_prev, W, b)\n",
        "        A, activation_cache = sigmoid(Z)\n",
        "\n",
        "    elif activation_fn == \"tanh\":\n",
        "        Z, linear_cache = linear_forward(A_prev, W, b)\n",
        "        A, activation_cache = tanh(Z)\n",
        "\n",
        "    elif activation_fn == \"relu\":\n",
        "        Z, linear_cache = linear_forward(A_prev, W, b)\n",
        "        A, activation_cache = relu(Z)\n",
        "\n",
        "    assert A.shape == (W.shape[0], A_prev.shape[1])\n",
        "\n",
        "    cache = (linear_cache, activation_cache)\n",
        "\n",
        "    return A, cache\n",
        "\n",
        "\n",
        "def L_model_forward(X, parameters, hidden_layers_activation_fn=\"relu\"):\n",
        "    \"\"\"\n",
        "    Computes the output layer through looping over all units in topological\n",
        "    order.\n",
        "\n",
        "    Arguments\n",
        "    ---------\n",
        "    X : 2d-array\n",
        "        input matrix of shape input_size x training_examples.\n",
        "    parameters : dict\n",
        "        contains all the weight matrices and bias vectors for all layers.\n",
        "    hidden_layers_activation_fn : str\n",
        "        activation function to be used on hidden layers: \"tanh\", \"relu\".\n",
        "\n",
        "    Returns\n",
        "    -------\n",
        "    AL : 2d-array\n",
        "        probability vector of shape 1 x training_examples.\n",
        "    caches : list\n",
        "        that contains L tuples where each layer has: A_prev, W, b, Z.\n",
        "    \"\"\"\n",
        "    A = X                           \n",
        "    caches = []                     \n",
        "    L = len(parameters) // 2        \n",
        "\n",
        "    for l in range(1, L):\n",
        "        A_prev = A\n",
        "        A, cache = linear_activation_forward(\n",
        "            A_prev, parameters[\"W\" + str(l)], parameters[\"b\" + str(l)],\n",
        "            activation_fn=hidden_layers_activation_fn)\n",
        "        caches.append(cache)\n",
        "\n",
        "    AL, cache = linear_activation_forward(\n",
        "        A, parameters[\"W\" + str(L)], parameters[\"b\" + str(L)],\n",
        "        activation_fn=\"sigmoid\")\n",
        "    caches.append(cache)\n",
        "\n",
        "    assert AL.shape == (1, X.shape[1])\n",
        "\n",
        "    return AL, caches"
      ]
    },
    {
      "cell_type": "markdown",
      "metadata": {
        "id": "CQ8gD7f1bKFR"
      },
      "source": [
        "<h3 style=\"font-family: Georgia; font-size:1.3em;color:purple; font-style:bold\">\n",
        "Cost\n",
        "</h3><br>\n",
        "\n",
        "https://math.stackexchange.com/questions/886555/deriving-cost-function-using-mle-why-use-log-function\n"
      ]
    },
    {
      "cell_type": "code",
      "execution_count": 6,
      "metadata": {
        "code_folding": [
          0
        ],
        "id": "EdN0IimDbKFk"
      },
      "outputs": [],
      "source": [
        "# Compute cross-entropy cost\n",
        "def compute_cost(AL, y):\n",
        "    \"\"\"\n",
        "    Computes the binary Cross-Entropy cost.\n",
        "\n",
        "    Arguments\n",
        "    ---------\n",
        "    AL : 2d-array\n",
        "        probability vector of shape 1 x training_examples.\n",
        "    y : 2d-array\n",
        "        true \"label\" vector.\n",
        "\n",
        "    Returns\n",
        "    -------\n",
        "    cost : float\n",
        "        binary cross-entropy cost.\n",
        "    \"\"\"\n",
        "    m = y.shape[1]              \n",
        "    cost = - (1 / m) * np.sum(\n",
        "        np.multiply(y, np.log(AL)) + np.multiply(1 - y, np.log(1 - AL)))\n",
        "\n",
        "    return cost"
      ]
    },
    {
      "cell_type": "markdown",
      "metadata": {
        "id": "xTNTm_5kbKFr"
      },
      "source": [
        "<h2 style=\"font-family: Georgia; font-size:1.5em;color:purple; font-style:bold\">\n",
        "Back-Propagation\n",
        "</h2>"
      ]
    },
    {
      "cell_type": "code",
      "execution_count": 7,
      "metadata": {
        "code_folding": [
          0
        ],
        "id": "2W_3L_SXbKFt"
      },
      "outputs": [],
      "source": [
        "# Define derivative of activation functions w.r.t z that will be used in back-propagation\n",
        "def sigmoid_gradient(dA, Z):\n",
        "    \"\"\"\n",
        "    Computes the gradient of sigmoid output w.r.t input Z.\n",
        "\n",
        "    Arguments\n",
        "    ---------\n",
        "    dA : 2d-array\n",
        "        post-activation gradient, of any shape.\n",
        "    Z : 2d-array\n",
        "        input used for the activation fn on this layer.\n",
        "\n",
        "    Returns\n",
        "    -------\n",
        "    dZ : 2d-array\n",
        "        gradient of the cost with respect to Z.\n",
        "    \"\"\"\n",
        "    A, Z = sigmoid(Z)\n",
        "    dZ = dA * A * (1 - A)\n",
        "\n",
        "    return dZ\n",
        "\n",
        "\n",
        "def tanh_gradient(dA, Z):\n",
        "    \"\"\"\n",
        "    Computes the gradient of hyperbolic tangent output w.r.t input Z.\n",
        "\n",
        "    Arguments\n",
        "    ---------\n",
        "    dA : 2d-array\n",
        "        post-activation gradient, of any shape.\n",
        "    Z : 2d-array\n",
        "        input used for the activation fn on this layer.\n",
        "\n",
        "    Returns\n",
        "    -------\n",
        "    dZ : 2d-array\n",
        "        gradient of the cost with respect to Z.\n",
        "    \"\"\"\n",
        "    A, Z = tanh(Z)\n",
        "    dZ = dA * (1 - np.square(A))\n",
        "\n",
        "    return dZ\n",
        "\n",
        "\n",
        "def relu_gradient(dA, Z):\n",
        "    \"\"\"\n",
        "    Computes the gradient of ReLU output w.r.t input Z.\n",
        "\n",
        "    Arguments\n",
        "    ---------\n",
        "    dA : 2d-array\n",
        "        post-activation gradient, of any shape.\n",
        "    Z : 2d-array\n",
        "        input used for the activation fn on this layer.\n",
        "\n",
        "    Returns\n",
        "    -------\n",
        "    dZ : 2d-array\n",
        "        gradient of the cost with respect to Z.\n",
        "    \"\"\"\n",
        "    A, Z = relu(Z)\n",
        "    dZ = np.multiply(dA, np.int64(A > 0))\n",
        "\n",
        "    return dZ\n",
        "\n",
        "\n",
        "# define helper functions that will be used in L-model back-prop\n",
        "def linear_backword(dZ, cache):\n",
        "    \"\"\"\n",
        "    Computes the gradient of the output w.r.t weight, bias, and post-activation\n",
        "    output of (l - 1) layers at layer l.\n",
        "\n",
        "    Arguments\n",
        "    ---------\n",
        "    dZ : 2d-array\n",
        "        gradient of the cost w.r.t. the linear output (of current layer l).\n",
        "    cache : tuple\n",
        "        values of (A_prev, W, b) coming from the forward propagation in the current layer.\n",
        "\n",
        "    Returns\n",
        "    -------\n",
        "    dA_prev : 2d-array\n",
        "        gradient of the cost w.r.t. the activation (of the previous layer l-1).\n",
        "    dW : 2d-array\n",
        "        gradient of the cost w.r.t. W (current layer l).\n",
        "    db : 2d-array\n",
        "        gradient of the cost w.r.t. b (current layer l).\n",
        "    \"\"\"\n",
        "    A_prev, W, b = cache\n",
        "    m = A_prev.shape[1]\n",
        "\n",
        "    dW = (1 / m) * np.dot(dZ, A_prev.T)\n",
        "    db = (1 / m) * np.sum(dZ, axis=1, keepdims=True)\n",
        "    dA_prev = np.dot(W.T, dZ)\n",
        "\n",
        "    assert dA_prev.shape == A_prev.shape\n",
        "    assert dW.shape == W.shape\n",
        "    assert db.shape == b.shape\n",
        "\n",
        "    return dA_prev, dW, db\n",
        "\n",
        "\n",
        "def linear_activation_backward(dA, cache, activation_fn):\n",
        "    \"\"\"\n",
        "    Arguments\n",
        "    ---------\n",
        "    dA : 2d-array\n",
        "        post-activation gradient for current layer l.\n",
        "    cache : tuple\n",
        "        values of (linear_cache, activation_cache).\n",
        "    activation : str\n",
        "        activation used in this layer: \"sigmoid\", \"tanh\", or \"relu\".\n",
        "\n",
        "    Returns\n",
        "    -------\n",
        "    dA_prev : 2d-array\n",
        "        gradient of the cost w.r.t. the activation (of the previous layer l-1), same shape as A_prev.\n",
        "    dW : 2d-array\n",
        "        gradient of the cost w.r.t. W (current layer l), same shape as W.\n",
        "    db : 2d-array\n",
        "        gradient of the cost w.r.t. b (current layer l), same shape as b.\n",
        "    \"\"\"\n",
        "    linear_cache, activation_cache = cache\n",
        "\n",
        "    if activation_fn == \"sigmoid\":\n",
        "        dZ = sigmoid_gradient(dA, activation_cache)\n",
        "        dA_prev, dW, db = linear_backword(dZ, linear_cache)\n",
        "\n",
        "    elif activation_fn == \"tanh\":\n",
        "        dZ = tanh_gradient(dA, activation_cache)\n",
        "        dA_prev, dW, db = linear_backword(dZ, linear_cache)\n",
        "\n",
        "    elif activation_fn == \"relu\":\n",
        "        dZ = relu_gradient(dA, activation_cache)\n",
        "        dA_prev, dW, db = linear_backword(dZ, linear_cache)\n",
        "\n",
        "    return dA_prev, dW, db\n",
        "\n",
        "\n",
        "def L_model_backward(AL, y, caches, hidden_layers_activation_fn=\"relu\"):\n",
        "    \"\"\"\n",
        "    Computes the gradient of output layer w.r.t weights, biases, etc. starting\n",
        "    on the output layer in reverse topological order.\n",
        "\n",
        "    Arguments\n",
        "    ---------\n",
        "    AL : 2d-array\n",
        "        probability vector, output of the forward propagation (L_model_forward()).\n",
        "    y : 2d-array\n",
        "        true \"label\" vector (containing 0 if non-cat, 1 if cat).\n",
        "    caches : list\n",
        "        list of caches for all layers.\n",
        "    hidden_layers_activation_fn :\n",
        "        activation function used on hidden layers: \"tanh\", \"relu\".\n",
        "\n",
        "    Returns\n",
        "    -------\n",
        "    grads : dict\n",
        "        with the gradients.\n",
        "    \"\"\"\n",
        "    y = y.reshape(AL.shape)\n",
        "    L = len(caches)\n",
        "    grads = {}\n",
        "\n",
        "    dAL = np.divide(AL - y, np.multiply(AL, 1 - AL))\n",
        "\n",
        "    grads[\"dA\" + str(L - 1)], grads[\"dW\" + str(L)], grads[\n",
        "        \"db\" + str(L)] = linear_activation_backward(\n",
        "            dAL, caches[L - 1], \"sigmoid\")\n",
        "\n",
        "    for l in range(L - 1, 0, -1):\n",
        "        current_cache = caches[l - 1]\n",
        "        grads[\"dA\" + str(l - 1)], grads[\"dW\" + str(l)], grads[\n",
        "            \"db\" + str(l)] = linear_activation_backward(\n",
        "                grads[\"dA\" + str(l)], current_cache,\n",
        "                hidden_layers_activation_fn)\n",
        "\n",
        "    return grads\n",
        "\n",
        "\n",
        "# define the function to update both weight matrices and bias vectors\n",
        "def update_parameters(parameters, grads, learning_rate):\n",
        "    \"\"\"\n",
        "    Update the parameters' values using gradient descent rule.\n",
        "\n",
        "    Arguments\n",
        "    ---------\n",
        "    parameters : dict\n",
        "        contains all the weight matrices and bias vectors for all layers.\n",
        "    grads : dict\n",
        "        stores all gradients (output of L_model_backward).\n",
        "\n",
        "    Returns\n",
        "    -------\n",
        "    parameters : dict\n",
        "        updated parameters.\n",
        "    \"\"\"\n",
        "    L = len(parameters) // 2\n",
        "\n",
        "    for l in range(1, L + 1):\n",
        "        parameters[\"W\" + str(l)] = parameters[\"W\" + str(l)] - learning_rate * grads[\"dW\" + str(l)]\n",
        "        parameters[\"b\" + str(l)] = parameters[\"b\" + str(l)] - learning_rate * grads[\"db\" + str(l)]\n",
        "\n",
        "    return parameters"
      ]
    },
    {
      "cell_type": "markdown",
      "metadata": {
        "id": "uOACYtMJbKF2"
      },
      "source": [
        "<a id=\"Application\"></a>"
      ]
    },
    {
      "cell_type": "markdown",
      "metadata": {
        "id": "nhvgxAeUbKF-"
      },
      "source": [
        "<h2 style=\"font-family: Georgia; font-size:2em;color:purple; font-style:bold\">\n",
        "II. Application\n",
        "</h2>"
      ]
    },
    {
      "cell_type": "markdown",
      "metadata": {
        "id": "kYk3I0aVbKGA"
      },
      "source": [
        "The dataset that we'll be working on has 209 images. Each image is 64 x 64 pixels on RGB scale. We'll build a neural network to classify if the image has a cat or not. Therefore, $y^i \\in \\{0, 1\\}.$\n",
        "- We'll first load the images.\n",
        "- Show sample image for a cat.\n",
        "- Reshape input matrix so that each column would be one example. Also, since each image is 64 x 64 x 3, we'll end up having 12,288 features for each image. Therefore, the input matrix would be 12,288 x 209.\n",
        "- Standardize the data so that the gradients don't go out of control. Also, it will help hidden units have similar range of values. For now, we'll divide every pixel by 255 which shouldn't be an issue. However, it's better to standardize the data to have a mean of 0 and a standard deviation of 1."
      ]
    },
    {
      "cell_type": "code",
      "execution_count": null,
      "metadata": {
        "id": "YPcXaa3ObKGC"
      },
      "outputs": [],
      "source": [
        ""
      ]
    },
    {
      "cell_type": "code",
      "execution_count": 8,
      "metadata": {
        "scrolled": false,
        "id": "dSVFvuXxbKGD"
      },
      "outputs": [],
      "source": [
        "X_train=np.random.randn(10,10)*1 + 1\n",
        "l = [X_train]\n",
        "for i in range(0,9):\n",
        "    #print(i)\n",
        "    X = np.random.randn(10,10)*1 + 1\n",
        "    l.append(X)"
      ]
    },
    {
      "cell_type": "code",
      "execution_count": 9,
      "metadata": {
        "id": "ng6V4K-abKGG"
      },
      "outputs": [],
      "source": [
        "X_train=np.random.randn(10,10)*1 + 1\n",
        "l.append(X_train)\n",
        "for i in range(0,9):\n",
        "    #print(i)\n",
        "    X = np.random.randn(10,10)*1 + 1\n",
        "    l.append(X)"
      ]
    },
    {
      "cell_type": "code",
      "execution_count": 10,
      "metadata": {
        "id": "RKwPr-xvbKGP"
      },
      "outputs": [],
      "source": [
        "X_train=np.random.randn(10,10)*1 + 1\n",
        "l.append(X_train)\n",
        "for i in range(0,9):\n",
        "    #print(i)\n",
        "    X = np.random.randn(10,10)*1 + 1\n",
        "    l.append(X)"
      ]
    },
    {
      "cell_type": "code",
      "execution_count": 11,
      "metadata": {
        "id": "U4DYgzYybKGR"
      },
      "outputs": [],
      "source": [
        "X_train=np.random.randn(10,10)*1 + 1\n",
        "l.append(X_train)\n",
        "for i in range(0,9):\n",
        "    #print(i)\n",
        "    X = np.random.randn(10,10)*1 + 1\n",
        "    l.append(X)"
      ]
    },
    {
      "cell_type": "code",
      "execution_count": null,
      "metadata": {
        "id": "bfroh01ybKGT"
      },
      "outputs": [],
      "source": [
        ""
      ]
    },
    {
      "cell_type": "code",
      "execution_count": 12,
      "metadata": {
        "id": "8AcTnQ7vbKGU"
      },
      "outputs": [],
      "source": [
        "X_train=np.random.randn(10,10)*1 + 20\n",
        "l.append(X_train)\n",
        "for i in range(0,9):\n",
        "    #print(i)\n",
        "    X = np.random.randn(10,10)*1 + 20\n",
        "    l.append(X)"
      ]
    },
    {
      "cell_type": "code",
      "execution_count": 13,
      "metadata": {
        "id": "XB72aTeTbKGU"
      },
      "outputs": [],
      "source": [
        "X_train=np.random.randn(10,10)*1 + 20\n",
        "l.append(X_train)\n",
        "for i in range(0,9):\n",
        "    #print(i)\n",
        "    X = np.random.randn(10,10)*1 + 20\n",
        "    l.append(X)"
      ]
    },
    {
      "cell_type": "code",
      "execution_count": 14,
      "metadata": {
        "id": "fmGZQjgkbKGV"
      },
      "outputs": [],
      "source": [
        "X_train=np.random.randn(10,10)*1 + 20\n",
        "l.append(X_train)\n",
        "for i in range(0,9):\n",
        "    #print(i)\n",
        "    X = np.random.randn(10,10)*1 + 20\n",
        "    l.append(X)"
      ]
    },
    {
      "cell_type": "code",
      "execution_count": 15,
      "metadata": {
        "id": "wVOsieYwbKGW"
      },
      "outputs": [],
      "source": [
        "X_train=np.random.randn(10,10)*1 + 20\n",
        "l.append(X_train)\n",
        "for i in range(0,9):\n",
        "    #print(i)\n",
        "    X = np.random.randn(10,10)*1 + 20\n",
        "    l.append(X)"
      ]
    },
    {
      "cell_type": "code",
      "execution_count": 16,
      "metadata": {
        "colab": {
          "base_uri": "https://localhost:8080/"
        },
        "id": "dpKGC3yhbKGa",
        "outputId": "11025959-8863-45fa-edca-723cae902fea"
      },
      "outputs": [
        {
          "output_type": "execute_result",
          "data": {
            "text/plain": [
              "(80, 10, 10)"
            ]
          },
          "metadata": {},
          "execution_count": 16
        }
      ],
      "source": [
        "l = np.array(l)\n",
        "l.shape"
      ]
    },
    {
      "cell_type": "code",
      "execution_count": 17,
      "metadata": {
        "scrolled": true,
        "id": "wYsqchwybKGc"
      },
      "outputs": [],
      "source": [
        "X_train= l\n",
        "#X_train"
      ]
    },
    {
      "cell_type": "code",
      "execution_count": 18,
      "metadata": {
        "colab": {
          "base_uri": "https://localhost:8080/"
        },
        "id": "4u1sPgO0bKGc",
        "outputId": "44880287-00e9-4824-d10d-37207fd8ba8d"
      },
      "outputs": [
        {
          "output_type": "execute_result",
          "data": {
            "text/plain": [
              "array([[[19.46941537, 20.09618567, 18.69218335, 20.09270367,\n",
              "         21.90357716, 21.94089838, 20.00282361, 18.31460231,\n",
              "         20.70830123, 22.46411388],\n",
              "        [20.54912683, 18.95730509, 20.78984179, 21.56926152,\n",
              "         21.91969147, 20.19866904, 18.25662959, 18.41581859,\n",
              "         19.1355429 , 19.25977891],\n",
              "        [20.03200414, 19.82391555, 19.1969849 , 17.82659568,\n",
              "         21.67561979, 19.91163978, 20.99669947, 19.20213073,\n",
              "         20.52227918, 20.60906139],\n",
              "        [19.09661432, 20.24639664, 19.41633275, 19.03737488,\n",
              "         19.68739691, 20.17834366, 20.18802323, 18.90774077,\n",
              "         20.81738   , 20.19953142],\n",
              "        [21.52470979, 18.33061966, 20.89368818, 20.06971607,\n",
              "         18.77220594, 21.16537992, 18.99735715, 20.37186279,\n",
              "         17.88016857, 20.94236883],\n",
              "        [21.0563983 , 19.19898152, 19.40388282, 20.94843557,\n",
              "         18.42527706, 19.07440644, 21.45614862, 18.91221282,\n",
              "         20.4081796 , 19.71584245],\n",
              "        [21.92996827, 19.06825034, 18.98878671, 19.94731138,\n",
              "         18.96185216, 20.77542274, 21.01866902, 19.52250169,\n",
              "         19.14220465, 19.0150459 ],\n",
              "        [18.10596913, 21.26152379, 20.50048754, 20.59040556,\n",
              "         19.2203693 , 20.51095013, 21.12399101, 20.01069574,\n",
              "         18.84187907, 18.18766681],\n",
              "        [19.65889111, 19.84186888, 20.86111875, 21.28892157,\n",
              "         19.2679442 , 20.22166734, 20.82821024, 20.6009146 ,\n",
              "         20.96298492, 19.85303633],\n",
              "        [18.4804392 , 20.01574205, 19.96335848, 19.77211937,\n",
              "         21.24196819, 21.17627049, 21.47937414, 20.90329862,\n",
              "         19.93624895, 20.02253221]]])"
            ]
          },
          "metadata": {},
          "execution_count": 18
        }
      ],
      "source": [
        "X_train[44:45]"
      ]
    },
    {
      "cell_type": "code",
      "execution_count": null,
      "metadata": {
        "id": "nOkL0ZMXbKGd"
      },
      "outputs": [],
      "source": [
        ""
      ]
    },
    {
      "cell_type": "code",
      "execution_count": 19,
      "metadata": {
        "id": "PogTBn7fbKGe"
      },
      "outputs": [],
      "source": [
        "X_test=np.random.randn(10,10)*1 + 1\n",
        "l = [X_test]\n",
        "for i in range(0,9):\n",
        "    #print(i)\n",
        "    X = np.random.randn(10,10)*1 + 1\n",
        "    l.append(X)"
      ]
    },
    {
      "cell_type": "code",
      "execution_count": 20,
      "metadata": {
        "id": "nwpWnL4mbKGf"
      },
      "outputs": [],
      "source": [
        "X_test=np.random.randn(10,10)*1 + 1\n",
        "l.append(X_test)\n",
        "for i in range(0,9):\n",
        "    #print(i)\n",
        "    X = np.random.randn(10,10)*1 + 1\n",
        "    l.append(X)"
      ]
    },
    {
      "cell_type": "code",
      "execution_count": null,
      "metadata": {
        "id": "EZLjLvmnbKGg"
      },
      "outputs": [],
      "source": [
        ""
      ]
    },
    {
      "cell_type": "code",
      "execution_count": 21,
      "metadata": {
        "id": "pE0mok6mbKGh"
      },
      "outputs": [],
      "source": [
        "X_test=np.random.randn(10,10)*1 + 20\n",
        "l.append(X_test)\n",
        "for i in range(0,9):\n",
        "    #print(i)\n",
        "    X = np.random.randn(10,10)*1 + 20\n",
        "    l.append(X)"
      ]
    },
    {
      "cell_type": "code",
      "execution_count": 22,
      "metadata": {
        "id": "qlo7pgU4bKGj"
      },
      "outputs": [],
      "source": [
        "X_test=np.random.randn(10,10)*1 + 20\n",
        "l.append(X_test)\n",
        "for i in range(0,10-1):\n",
        "    #print(i)\n",
        "    X = np.random.randn(10,10)*1 + 20\n",
        "    l.append(X)"
      ]
    },
    {
      "cell_type": "code",
      "execution_count": null,
      "metadata": {
        "id": "JXn4dXvIbKGk"
      },
      "outputs": [],
      "source": [
        ""
      ]
    },
    {
      "cell_type": "code",
      "execution_count": 23,
      "metadata": {
        "colab": {
          "base_uri": "https://localhost:8080/"
        },
        "id": "Ff98Bf7obKGk",
        "outputId": "27cbd175-327e-4a66-ebd8-ed9e9998f0b5"
      },
      "outputs": [
        {
          "output_type": "execute_result",
          "data": {
            "text/plain": [
              "(40, 10, 10)"
            ]
          },
          "metadata": {},
          "execution_count": 23
        }
      ],
      "source": [
        "l = np.array(l)\n",
        "l.shape"
      ]
    },
    {
      "cell_type": "code",
      "execution_count": 24,
      "metadata": {
        "colab": {
          "base_uri": "https://localhost:8080/"
        },
        "id": "fRZ-eswwbKGl",
        "outputId": "1c31a649-728e-414f-ebc2-9186a279b07f"
      },
      "outputs": [
        {
          "output_type": "execute_result",
          "data": {
            "text/plain": [
              "(40, 10, 10)"
            ]
          },
          "metadata": {},
          "execution_count": 24
        }
      ],
      "source": [
        "X_test=l\n",
        "X_test.shape\n"
      ]
    },
    {
      "cell_type": "code",
      "execution_count": null,
      "metadata": {
        "id": "FVEVtqNSbKGn"
      },
      "outputs": [],
      "source": [
        ""
      ]
    },
    {
      "cell_type": "code",
      "execution_count": 25,
      "metadata": {
        "colab": {
          "base_uri": "https://localhost:8080/"
        },
        "id": "zSr38EIkbKGo",
        "outputId": "bbfbeba8-6c0c-4481-dc68-d36a81d19568"
      },
      "outputs": [
        {
          "output_type": "execute_result",
          "data": {
            "text/plain": [
              "(80, 1)"
            ]
          },
          "metadata": {},
          "execution_count": 25
        }
      ],
      "source": [
        "y_train = np.array([[1],[1],[1],[1],[1],[1],[1],[1],[1],[1],                    \n",
        "                    [1],[1],[1],[1],[1],[1],[1],[1],[1],[1],                    \n",
        "                    [1],[1],[1],[1],[1],[1],[1],[1],[1],[1],                    \n",
        "                    [1],[1],[1],[1],[1],[1],[1],[1],[1],[1],                    \n",
        "                    [0],[0],[0],[0],[0],[0],[0],[0],[0],[0],\n",
        "                    [0],[0],[0],[0],[0],[0],[0],[0],[0],[0],\n",
        "                    [0],[0],[0],[0],[0],[0],[0],[0],[0],[0],\n",
        "                    [0],[0],[0],[0],[0],[0],[0],[0],[0],[0]])\n",
        "\n",
        "y_train.shape         "
      ]
    },
    {
      "cell_type": "code",
      "execution_count": 26,
      "metadata": {
        "colab": {
          "base_uri": "https://localhost:8080/"
        },
        "id": "6SNDjun8bKGv",
        "outputId": "ffcc2960-ec39-4094-9e3d-f49e092b1d05"
      },
      "outputs": [
        {
          "output_type": "execute_result",
          "data": {
            "text/plain": [
              "(40, 1)"
            ]
          },
          "metadata": {},
          "execution_count": 26
        }
      ],
      "source": [
        "y_test = np.array([[1],[1],[1],[1],[1],[1],[1],[1],[1],[1],\n",
        "                   [1],[1],[1],[1],[1],[1],[1],[1],[1],[1],\n",
        "                   [0],[0],[0],[0],[0],[0],[0],[0],[0],[0],\n",
        "                   [0],[0],[0],[0],[0],[0],[0],[0],[0],[0]])                   \n",
        "\n",
        "y_test.shape     "
      ]
    },
    {
      "cell_type": "code",
      "execution_count": 27,
      "metadata": {
        "code_folding": [
          0
        ],
        "colab": {
          "base_uri": "https://localhost:8080/"
        },
        "id": "WasUVTWYbKGw",
        "outputId": "75a878fe-744f-4e17-e05e-e88c6059c2ef"
      },
      "outputs": [
        {
          "output_type": "stream",
          "name": "stdout",
          "text": [
            "Original dimensions:\n",
            "--------------------\n",
            "Training: (80, 10, 10), (80, 1)\n",
            "Test: (40, 10, 10), (40, 1)\n",
            "\n",
            "New dimensions:\n",
            "---------------\n",
            "Training: (100, 80), (1, 80)\n",
            "Test: (100, 40), (1, 40)\n"
          ]
        }
      ],
      "source": [
        "# Import training dataset\n",
        "#train_dataset = h5py.File(\"../data/train_catvnoncat.h5\")\n",
        "#X_train = np.array(train_dataset[\"train_set_x\"])\n",
        "#y_train = np.array(train_dataset[\"train_set_y\"])\n",
        "\n",
        "#test_dataset = h5py.File(\"../data/test_catvnoncat.h5\")\n",
        "#X_test = np.array(test_dataset[\"test_set_x\"])\n",
        "#y_test = np.array(test_dataset[\"test_set_y\"])\n",
        "\n",
        "# print the shape of input data and label vector\n",
        "print(f\"\"\"Original dimensions:\\n{20 * '-'}\\nTraining: {X_train.shape}, {y_train.shape}\n",
        "Test: {X_test.shape}, {y_test.shape}\"\"\")\n",
        "\n",
        "# plot cat image\n",
        "#plt.figure(figsize=(6, 6))\n",
        "#plt.imshow(X_train[50])\n",
        "#plt.axis(\"off\");\n",
        "\n",
        "\n",
        "# Transform input data and label vector\n",
        "X_train = X_train.reshape(80, -1).T\n",
        "y_train = y_train.reshape(-1, 80)\n",
        "\n",
        "X_test = X_test.reshape(40, -1).T\n",
        "y_test = y_test.reshape(-1, 40)\n",
        "\n",
        "# standarize the data\n",
        "#X_train = X_train / 255\n",
        "#X_test = X_test / 255\n",
        "\n",
        "print(f\"\"\"\\nNew dimensions:\\n{15 * '-'}\\nTraining: {X_train.shape}, {y_train.shape}\n",
        "Test: {X_test.shape}, {y_test.shape}\"\"\")"
      ]
    },
    {
      "cell_type": "code",
      "execution_count": 28,
      "metadata": {
        "id": "PX0ixulNbKGy"
      },
      "outputs": [],
      "source": [
        "#X = np.array(df['deceduti']).reshape(-1,1)\n",
        "#scaler = StandardScaler()\n",
        "#scaler.fit(X)\n",
        "#X_scaled = scaler.transform(X)\n",
        "\n",
        "from sklearn.preprocessing import StandardScaler\n",
        "\n",
        "scaler1 = StandardScaler()\n",
        "scaler1.fit(X_train)\n",
        "X_scaled = scaler1.transform(X_train)\n",
        "X_train=X_scaled"
      ]
    },
    {
      "cell_type": "code",
      "execution_count": 29,
      "metadata": {
        "id": "HK7qg24TbKGz"
      },
      "outputs": [],
      "source": [
        "#X = np.array(df['deceduti']).reshape(-1,1)\n",
        "#scaler = StandardScaler()\n",
        "#scaler.fit(X)\n",
        "#X_scaled = scaler.transform(X)\n",
        "\n",
        "from sklearn.preprocessing import StandardScaler\n",
        "\n",
        "scaler2 = StandardScaler()\n",
        "scaler2.fit(X_test)\n",
        "X_scaled2 = scaler2.transform(X_test)\n",
        "X_test=X_scaled2"
      ]
    },
    {
      "cell_type": "markdown",
      "metadata": {
        "id": "VSkkCPzObKG0"
      },
      "source": [
        "Now, our dataset is ready to be used and test our neural network implementation. Let's first write **multi-layer model** function to implement gradient-based learning using predefined number of iterations and learning rate."
      ]
    },
    {
      "cell_type": "code",
      "execution_count": 30,
      "metadata": {
        "code_folding": [
          0
        ],
        "id": "on9jX7i2bKG1"
      },
      "outputs": [],
      "source": [
        "# Define the multi-layer model using all the helper functions we wrote before\n",
        "\n",
        "\n",
        "def L_layer_model(\n",
        "        X, y, layers_dims, learning_rate=0.01, num_iterations=3000, num_iterations1=20,\n",
        "        print_cost=True, hidden_layers_activation_fn=\"relu\"):\n",
        "    \"\"\"\n",
        "    Implements multilayer neural network using gradient descent as the\n",
        "    learning algorithm.\n",
        "\n",
        "    Arguments\n",
        "    ---------\n",
        "    X : 2d-array\n",
        "        data, shape: number of examples x num_px * num_px * 3.\n",
        "    y : 2d-array\n",
        "        true \"label\" vector, shape: 1 x number of examples.\n",
        "    layers_dims : list\n",
        "        input size and size of each layer, length: number of layers + 1.\n",
        "    learning_rate : float\n",
        "        learning rate of the gradient descent update rule.\n",
        "    num_iterations : int\n",
        "        number of iterations of the optimization loop.\n",
        "    print_cost : bool\n",
        "        if True, it prints the cost every 100 steps.\n",
        "    hidden_layers_activation_fn : str\n",
        "        activation function to be used on hidden layers: \"tanh\", \"relu\".\n",
        "\n",
        "    Returns\n",
        "    -------\n",
        "    parameters : dict\n",
        "        parameters learnt by the model. They can then be used to predict test examples.\n",
        "    \"\"\"\n",
        "    np.random.seed(1)\n",
        "\n",
        "    # initialize parameters\n",
        "    parameters = initialize_parameters(layers_dims)\n",
        "\n",
        "    # intialize cost list\n",
        "    cost_list = []\n",
        "\n",
        "    # iterate over num_iterations\n",
        "    for j in range(num_iterations1):\n",
        "        learning_rate=learning_rate/2.5\n",
        "        # iterate over num_iterations\n",
        "        for i in range(num_iterations):\n",
        "            # iterate over L-layers to get the final output and the cache\n",
        "            AL, caches = L_model_forward(X, parameters, hidden_layers_activation_fn)\n",
        "            # compute cost to plot it\n",
        "            cost = compute_cost(AL, y)\n",
        "            # iterate over L-layers backward to get gradients\n",
        "            grads = L_model_backward(AL, y, caches, hidden_layers_activation_fn)\n",
        "            # update parameters\n",
        "            parameters = update_parameters(parameters, grads, learning_rate)\n",
        "            # append each 100th cost to the cost list\n",
        "            if (i + 1) % 100 == 0 and print_cost:\n",
        "                print(f\"The {j} cost after {i + 1} iterations is: {cost:.10f}\")\n",
        "            if i % 100 == 0:\n",
        "                cost_list.append(cost)\n",
        "\n",
        "    # plot the cost curve\n",
        "    plt.figure(figsize=(10, 6))\n",
        "    plt.plot(cost_list)\n",
        "    plt.xlabel(\"Iterations (per hundreds)\")\n",
        "    plt.ylabel(\"Loss\")\n",
        "    plt.title(f\"Loss curve for the learning rate = {learning_rate}\")\n",
        "\n",
        "    return parameters\n",
        "\n",
        "\n",
        "def accuracy(X, parameters, y, activation_fn=\"relu\"):\n",
        "    \"\"\"\n",
        "    Computes the average accuracy rate.\n",
        "\n",
        "    Arguments\n",
        "    ---------\n",
        "    X : 2d-array\n",
        "        data, shape: number of examples x num_px * num_px * 3.\n",
        "    parameters : dict\n",
        "        learnt parameters.\n",
        "    y : 2d-array\n",
        "        true \"label\" vector, shape: 1 x number of examples.\n",
        "    activation_fn : str\n",
        "        activation function to be used on hidden layers: \"tanh\", \"relu\".\n",
        "\n",
        "    Returns\n",
        "    -------\n",
        "    accuracy : float\n",
        "        accuracy rate after applying parameters on the input data\n",
        "    \"\"\"\n",
        "    probs, caches = L_model_forward(X, parameters, activation_fn)\n",
        "    print(\"probs: \", str(probs))\n",
        "    labels = (probs >= 0.5) * 1\n",
        "    accuracy = np.mean(labels == y) * 100\n",
        "\n",
        "    return f\"The accuracy rate is: {accuracy:.2f}%.\""
      ]
    },
    {
      "cell_type": "code",
      "execution_count": null,
      "metadata": {
        "id": "MJewG4t-bKG3"
      },
      "outputs": [],
      "source": [
        ""
      ]
    },
    {
      "cell_type": "markdown",
      "metadata": {
        "id": "D-fAiM53bKG4"
      },
      "source": [
        "Next, we'll train two versions of the neural network where each one will use different activation function on hidden layers: One will use rectified linear unit (**ReLU**) and the second one will use hyperbolic tangent function (**tanh**). Finally we'll use the parameters we get from both neural networks to classify test examples and compute the test accuracy rates for each version to see which activation function works best on this problem."
      ]
    },
    {
      "cell_type": "code",
      "execution_count": 31,
      "metadata": {
        "id": "QmNG3-cMbKG5"
      },
      "outputs": [],
      "source": [
        "# Setting layers dims\n",
        "layers_dims = [X_train.shape[0], 10, 1]"
      ]
    },
    {
      "cell_type": "markdown",
      "metadata": {
        "id": "lEv3j4WabKG8"
      },
      "source": [
        "## TANH"
      ]
    },
    {
      "cell_type": "code",
      "execution_count": 32,
      "metadata": {
        "scrolled": true,
        "colab": {
          "base_uri": "https://localhost:8080/",
          "height": 579
        },
        "id": "kmFOReVtbKG8",
        "outputId": "ff841d40-ca4e-434e-b71d-d85cc4ff5a89"
      },
      "outputs": [
        {
          "output_type": "stream",
          "name": "stdout",
          "text": [
            "The 0 cost after 100 iterations is: 0.6913665745\n",
            "The 1 cost after 100 iterations is: 0.6885883116\n",
            "probs:  [[0.4999604  0.49952452 0.50054934 0.49918036 0.50017052 0.49582849\n",
            "  0.50138171 0.50255451 0.49636832 0.4993004  0.49644462 0.50131666\n",
            "  0.49784494 0.49850512 0.4988043  0.50046258 0.49882009 0.49963693\n",
            "  0.49711939 0.49490235 0.49690033 0.49882419 0.49968841 0.4985041\n",
            "  0.50123424 0.49562893 0.50424599 0.49946044 0.49989435 0.5051185\n",
            "  0.5001575  0.50213882 0.50355521 0.49687271 0.5039563  0.49907165\n",
            "  0.49903867 0.50377048 0.49498961 0.4979753 ]]\n"
          ]
        },
        {
          "output_type": "execute_result",
          "data": {
            "text/plain": [
              "'The accuracy rate is: 45.00%.'"
            ],
            "application/vnd.google.colaboratory.intrinsic+json": {
              "type": "string"
            }
          },
          "metadata": {},
          "execution_count": 32
        },
        {
          "output_type": "display_data",
          "data": {
            "text/plain": [
              "<Figure size 720x432 with 1 Axes>"
            ],
            "image/png": "[encoded data removed]"
          },
          "metadata": {
            "needs_background": "light"
          }
        }
      ],
      "source": [
        "\n",
        "# NN with tanh activation fn\n",
        "parameters_tanh = L_layer_model(\n",
        "    X_train, y_train, layers_dims, learning_rate=0.05, num_iterations=100, num_iterations1=2,\n",
        "    hidden_layers_activation_fn=\"tanh\")\n",
        "\n",
        "# Print the accuracy\n",
        "accuracy(X_test, parameters_tanh, y_test, activation_fn=\"tanh\")"
      ]
    },
    {
      "cell_type": "markdown",
      "metadata": {
        "id": "lYVDtTHDbKHB"
      },
      "source": [
        "## RELU\n"
      ]
    },
    {
      "cell_type": "code",
      "execution_count": 35,
      "metadata": {
        "scrolled": true,
        "colab": {
          "base_uri": "https://localhost:8080/",
          "height": 1000
        },
        "id": "4P6ZRU7jbKHG",
        "outputId": "ab834efa-bdb3-427c-edcb-bd5bbcdb0668"
      },
      "outputs": [
        {
          "output_type": "stream",
          "name": "stdout",
          "text": [
            "The 0 cost after 100 iterations is: 0.6923308927\n",
            "The 0 cost after 200 iterations is: 0.6895813947\n",
            "The 0 cost after 300 iterations is: 0.6792843474\n",
            "The 0 cost after 400 iterations is: 0.6397389279\n",
            "The 0 cost after 500 iterations is: 0.5218666185\n",
            "The 0 cost after 600 iterations is: 0.3458071118\n",
            "The 0 cost after 700 iterations is: 0.2072704763\n",
            "The 0 cost after 800 iterations is: 0.1284406938\n",
            "The 0 cost after 900 iterations is: 0.0855710631\n",
            "The 0 cost after 1000 iterations is: 0.0601911639\n",
            "The 0 cost after 1100 iterations is: 0.0446550963\n",
            "The 0 cost after 1200 iterations is: 0.0345545534\n",
            "The 0 cost after 1300 iterations is: 0.0276532754\n",
            "The 0 cost after 1400 iterations is: 0.0227358172\n",
            "The 0 cost after 1500 iterations is: 0.0191091333\n",
            "The 0 cost after 1600 iterations is: 0.0163567809\n",
            "The 0 cost after 1700 iterations is: 0.0142106036\n",
            "The 0 cost after 1800 iterations is: 0.0125014110\n",
            "The 0 cost after 1900 iterations is: 0.0111177802\n",
            "The 0 cost after 2000 iterations is: 0.0099793212\n",
            "The 0 cost after 2100 iterations is: 0.0090293830\n",
            "The 0 cost after 2200 iterations is: 0.0082268184\n",
            "The 0 cost after 2300 iterations is: 0.0075417572\n",
            "The 0 cost after 2400 iterations is: 0.0069509295\n",
            "The 0 cost after 2500 iterations is: 0.0064375707\n",
            "The 0 cost after 2600 iterations is: 0.0059878498\n",
            "The 0 cost after 2700 iterations is: 0.0055907313\n",
            "The 0 cost after 2800 iterations is: 0.0052378627\n",
            "The 0 cost after 2900 iterations is: 0.0049218337\n",
            "The 0 cost after 3000 iterations is: 0.0046384322\n",
            "The 0 cost after 3100 iterations is: 0.0043829438\n",
            "The 0 cost after 3200 iterations is: 0.0041517105\n",
            "The 0 cost after 3300 iterations is: 0.0039415176\n",
            "The 0 cost after 3400 iterations is: 0.0037497728\n",
            "The 0 cost after 3500 iterations is: 0.0035741915\n",
            "The 0 cost after 3600 iterations is: 0.0034129406\n",
            "The 0 cost after 3700 iterations is: 0.0032643075\n",
            "The 0 cost after 3800 iterations is: 0.0031270072\n",
            "The 0 cost after 3900 iterations is: 0.0029997214\n",
            "The 0 cost after 4000 iterations is: 0.0028814586\n",
            "The 0 cost after 4100 iterations is: 0.0027714417\n",
            "The 0 cost after 4200 iterations is: 0.0026688165\n",
            "The 0 cost after 4300 iterations is: 0.0025728756\n",
            "The 0 cost after 4400 iterations is: 0.0024830145\n",
            "The 0 cost after 4500 iterations is: 0.0023987046\n",
            "The 0 cost after 4600 iterations is: 0.0023194850\n",
            "The 0 cost after 4700 iterations is: 0.0022449094\n",
            "The 0 cost after 4800 iterations is: 0.0021745688\n",
            "The 0 cost after 4900 iterations is: 0.0021081437\n",
            "The 0 cost after 5000 iterations is: 0.0020453202\n",
            "The 0 cost after 5100 iterations is: 0.0019858748\n",
            "The 0 cost after 5200 iterations is: 0.0019294776\n",
            "The 0 cost after 5300 iterations is: 0.0018759382\n",
            "The 0 cost after 5400 iterations is: 0.0018250618\n",
            "The 0 cost after 5500 iterations is: 0.0017766587\n",
            "The 0 cost after 5600 iterations is: 0.0017305650\n",
            "The 0 cost after 5700 iterations is: 0.0016865853\n",
            "The 0 cost after 5800 iterations is: 0.0016446228\n",
            "The 0 cost after 5900 iterations is: 0.0016045266\n",
            "The 0 cost after 6000 iterations is: 0.0015662007\n",
            "The 0 cost after 6100 iterations is: 0.0015295109\n",
            "The 0 cost after 6200 iterations is: 0.0014943604\n",
            "The 0 cost after 6300 iterations is: 0.0014606847\n",
            "The 0 cost after 6400 iterations is: 0.0014283691\n",
            "The 0 cost after 6500 iterations is: 0.0013973360\n",
            "The 0 cost after 6600 iterations is: 0.0013675171\n",
            "The 0 cost after 6700 iterations is: 0.0013388567\n",
            "The 0 cost after 6800 iterations is: 0.0013112832\n",
            "The 0 cost after 6900 iterations is: 0.0012847315\n",
            "The 0 cost after 7000 iterations is: 0.0012591437\n",
            "The 0 cost after 7100 iterations is: 0.0012344836\n",
            "The 0 cost after 7200 iterations is: 0.0012107036\n",
            "The 0 cost after 7300 iterations is: 0.0011877484\n",
            "The 0 cost after 7400 iterations is: 0.0011655870\n",
            "The 0 cost after 7500 iterations is: 0.0011441662\n",
            "The 0 cost after 7600 iterations is: 0.0011234679\n",
            "The 0 cost after 7700 iterations is: 0.0011034432\n",
            "The 0 cost after 7800 iterations is: 0.0010840764\n",
            "The 0 cost after 7900 iterations is: 0.0010653205\n",
            "The 0 cost after 8000 iterations is: 0.0010471513\n",
            "The 0 cost after 8100 iterations is: 0.0010295509\n",
            "The 0 cost after 8200 iterations is: 0.0010124902\n",
            "The 0 cost after 8300 iterations is: 0.0009959322\n",
            "The 0 cost after 8400 iterations is: 0.0009798783\n",
            "The 0 cost after 8500 iterations is: 0.0009642920\n",
            "The 0 cost after 8600 iterations is: 0.0009491576\n",
            "The 0 cost after 8700 iterations is: 0.0009344562\n",
            "The 0 cost after 8800 iterations is: 0.0009201695\n",
            "The 0 cost after 8900 iterations is: 0.0009062831\n",
            "The 0 cost after 9000 iterations is: 0.0008927721\n",
            "The 0 cost after 9100 iterations is: 0.0008796380\n",
            "The 0 cost after 9200 iterations is: 0.0008668526\n",
            "The 0 cost after 9300 iterations is: 0.0008544060\n",
            "The 0 cost after 9400 iterations is: 0.0008422860\n",
            "The 0 cost after 9500 iterations is: 0.0008304839\n",
            "The 0 cost after 9600 iterations is: 0.0008189822\n",
            "The 0 cost after 9700 iterations is: 0.0008077691\n",
            "The 0 cost after 9800 iterations is: 0.0007968387\n",
            "The 0 cost after 9900 iterations is: 0.0007861787\n",
            "The 0 cost after 10000 iterations is: 0.0007757794\n",
            "The 0 cost after 10100 iterations is: 0.0007656314\n",
            "The 0 cost after 10200 iterations is: 0.0007557290\n",
            "The 0 cost after 10300 iterations is: 0.0007460584\n",
            "The 0 cost after 10400 iterations is: 0.0007366169\n",
            "The 0 cost after 10500 iterations is: 0.0007273944\n",
            "The 0 cost after 10600 iterations is: 0.0007183805\n",
            "The 0 cost after 10700 iterations is: 0.0007095730\n",
            "The 0 cost after 10800 iterations is: 0.0007009663\n",
            "The 0 cost after 10900 iterations is: 0.0006925478\n",
            "The 0 cost after 11000 iterations is: 0.0006843172\n",
            "The 0 cost after 11100 iterations is: 0.0006762627\n",
            "The 0 cost after 11200 iterations is: 0.0006683845\n",
            "The 0 cost after 11300 iterations is: 0.0006606753\n",
            "The 0 cost after 11400 iterations is: 0.0006531279\n",
            "The 0 cost after 11500 iterations is: 0.0006457392\n",
            "The 0 cost after 11600 iterations is: 0.0006385066\n",
            "The 0 cost after 11700 iterations is: 0.0006314220\n",
            "The 0 cost after 11800 iterations is: 0.0006244804\n",
            "The 0 cost after 11900 iterations is: 0.0006176796\n",
            "The 0 cost after 12000 iterations is: 0.0006110153\n",
            "The 0 cost after 12100 iterations is: 0.0006044845\n",
            "The 0 cost after 12200 iterations is: 0.0005980796\n",
            "The 0 cost after 12300 iterations is: 0.0005918005\n",
            "The 0 cost after 12400 iterations is: 0.0005856447\n",
            "The 0 cost after 12500 iterations is: 0.0005796047\n",
            "The 0 cost after 12600 iterations is: 0.0005736803\n",
            "The 0 cost after 12700 iterations is: 0.0005678680\n",
            "The 0 cost after 12800 iterations is: 0.0005621627\n",
            "The 0 cost after 12900 iterations is: 0.0005565647\n",
            "The 0 cost after 13000 iterations is: 0.0005510688\n",
            "The 0 cost after 13100 iterations is: 0.0005456734\n",
            "The 0 cost after 13200 iterations is: 0.0005403739\n",
            "The 0 cost after 13300 iterations is: 0.0005351696\n",
            "The 0 cost after 13400 iterations is: 0.0005300583\n",
            "The 0 cost after 13500 iterations is: 0.0005250369\n",
            "The 0 cost after 13600 iterations is: 0.0005201036\n",
            "The 0 cost after 13700 iterations is: 0.0005152547\n",
            "The 0 cost after 13800 iterations is: 0.0005104896\n",
            "The 0 cost after 13900 iterations is: 0.0005058065\n",
            "The 0 cost after 14000 iterations is: 0.0005012033\n",
            "The 0 cost after 14100 iterations is: 0.0004966779\n",
            "The 0 cost after 14200 iterations is: 0.0004922261\n",
            "The 0 cost after 14300 iterations is: 0.0004878478\n",
            "The 0 cost after 14400 iterations is: 0.0004835428\n",
            "The 0 cost after 14500 iterations is: 0.0004793071\n",
            "The 0 cost after 14600 iterations is: 0.0004751396\n",
            "The 0 cost after 14700 iterations is: 0.0004710402\n",
            "The 0 cost after 14800 iterations is: 0.0004670063\n",
            "The 0 cost after 14900 iterations is: 0.0004630350\n",
            "The 0 cost after 15000 iterations is: 0.0004591271\n",
            "The 0 cost after 15100 iterations is: 0.0004552797\n",
            "The 0 cost after 15200 iterations is: 0.0004514921\n",
            "The 0 cost after 15300 iterations is: 0.0004477627\n",
            "The 0 cost after 15400 iterations is: 0.0004440903\n",
            "The 0 cost after 15500 iterations is: 0.0004404740\n",
            "The 0 cost after 15600 iterations is: 0.0004369125\n",
            "The 0 cost after 15700 iterations is: 0.0004334032\n",
            "The 0 cost after 15800 iterations is: 0.0004299454\n",
            "The 0 cost after 15900 iterations is: 0.0004265406\n",
            "The 0 cost after 16000 iterations is: 0.0004231841\n",
            "The 0 cost after 16100 iterations is: 0.0004198768\n",
            "The 0 cost after 16200 iterations is: 0.0004166188\n",
            "The 0 cost after 16300 iterations is: 0.0004134066\n",
            "The 0 cost after 16400 iterations is: 0.0004102400\n",
            "The 0 cost after 16500 iterations is: 0.0004071182\n",
            "The 0 cost after 16600 iterations is: 0.0004040417\n",
            "The 0 cost after 16700 iterations is: 0.0004010078\n",
            "The 0 cost after 16800 iterations is: 0.0003980149\n",
            "The 0 cost after 16900 iterations is: 0.0003950642\n",
            "The 0 cost after 17000 iterations is: 0.0003921540\n",
            "The 0 cost after 17100 iterations is: 0.0003892836\n",
            "The 0 cost after 17200 iterations is: 0.0003864524\n",
            "The 0 cost after 17300 iterations is: 0.0003836596\n",
            "The 0 cost after 17400 iterations is: 0.0003809030\n",
            "The 0 cost after 17500 iterations is: 0.0003781838\n",
            "The 0 cost after 17600 iterations is: 0.0003755009\n",
            "The 0 cost after 17700 iterations is: 0.0003728533\n",
            "The 0 cost after 17800 iterations is: 0.0003702402\n",
            "The 0 cost after 17900 iterations is: 0.0003676615\n",
            "The 0 cost after 18000 iterations is: 0.0003651148\n",
            "The 0 cost after 18100 iterations is: 0.0003626013\n",
            "The 0 cost after 18200 iterations is: 0.0003601202\n",
            "The 0 cost after 18300 iterations is: 0.0003576714\n",
            "The 0 cost after 18400 iterations is: 0.0003552521\n",
            "The 0 cost after 18500 iterations is: 0.0003528636\n",
            "The 0 cost after 18600 iterations is: 0.0003505058\n",
            "The 0 cost after 18700 iterations is: 0.0003481761\n",
            "The 0 cost after 18800 iterations is: 0.0003458759\n",
            "The 0 cost after 18900 iterations is: 0.0003436034\n",
            "The 0 cost after 19000 iterations is: 0.0003413588\n",
            "The 0 cost after 19100 iterations is: 0.0003391424\n",
            "The 0 cost after 19200 iterations is: 0.0003369512\n",
            "The 0 cost after 19300 iterations is: 0.0003347867\n",
            "The 0 cost after 19400 iterations is: 0.0003326482\n",
            "The 0 cost after 19500 iterations is: 0.0003305355\n",
            "The 0 cost after 19600 iterations is: 0.0003284477\n",
            "The 0 cost after 19700 iterations is: 0.0003263836\n",
            "The 0 cost after 19800 iterations is: 0.0003243441\n",
            "The 0 cost after 19900 iterations is: 0.0003223287\n",
            "The 0 cost after 20000 iterations is: 0.0003203360\n",
            "The 1 cost after 100 iterations is: 0.0003195322\n",
            "The 1 cost after 200 iterations is: 0.0003187454\n",
            "The 1 cost after 300 iterations is: 0.0003179618\n",
            "The 1 cost after 400 iterations is: 0.0003171823\n",
            "The 1 cost after 500 iterations is: 0.0003164061\n",
            "The 1 cost after 600 iterations is: 0.0003156336\n",
            "The 1 cost after 700 iterations is: 0.0003148647\n",
            "The 1 cost after 800 iterations is: 0.0003140990\n",
            "The 1 cost after 900 iterations is: 0.0003133369\n",
            "The 1 cost after 1000 iterations is: 0.0003125785\n",
            "The 1 cost after 1100 iterations is: 0.0003118230\n",
            "The 1 cost after 1200 iterations is: 0.0003110716\n",
            "The 1 cost after 1300 iterations is: 0.0003103229\n",
            "The 1 cost after 1400 iterations is: 0.0003095778\n",
            "The 1 cost after 1500 iterations is: 0.0003088361\n",
            "The 1 cost after 1600 iterations is: 0.0003080977\n",
            "The 1 cost after 1700 iterations is: 0.0003073627\n",
            "The 1 cost after 1800 iterations is: 0.0003066308\n",
            "The 1 cost after 1900 iterations is: 0.0003059021\n",
            "The 1 cost after 2000 iterations is: 0.0003051771\n",
            "The 1 cost after 2100 iterations is: 0.0003044549\n",
            "The 1 cost after 2200 iterations is: 0.0003037357\n",
            "The 1 cost after 2300 iterations is: 0.0003030200\n",
            "The 1 cost after 2400 iterations is: 0.0003023075\n",
            "The 1 cost after 2500 iterations is: 0.0003015979\n",
            "The 1 cost after 2600 iterations is: 0.0003008913\n",
            "The 1 cost after 2700 iterations is: 0.0003001883\n",
            "The 1 cost after 2800 iterations is: 0.0002994880\n",
            "The 1 cost after 2900 iterations is: 0.0002987907\n",
            "The 1 cost after 3000 iterations is: 0.0002980967\n",
            "The 1 cost after 3100 iterations is: 0.0002974054\n",
            "The 1 cost after 3200 iterations is: 0.0002967171\n",
            "The 1 cost after 3300 iterations is: 0.0002960321\n",
            "The 1 cost after 3400 iterations is: 0.0002953498\n",
            "The 1 cost after 3500 iterations is: 0.0002946705\n",
            "The 1 cost after 3600 iterations is: 0.0002939941\n",
            "The 1 cost after 3700 iterations is: 0.0002933205\n",
            "The 1 cost after 3800 iterations is: 0.0002926501\n",
            "The 1 cost after 3900 iterations is: 0.0002919823\n",
            "The 1 cost after 4000 iterations is: 0.0002913174\n",
            "The 1 cost after 4100 iterations is: 0.0002906552\n",
            "The 1 cost after 4200 iterations is: 0.0002899961\n",
            "The 1 cost after 4300 iterations is: 0.0002893397\n",
            "The 1 cost after 4400 iterations is: 0.0002886858\n",
            "The 1 cost after 4500 iterations is: 0.0002880349\n",
            "The 1 cost after 4600 iterations is: 0.0002873867\n",
            "The 1 cost after 4700 iterations is: 0.0002867412\n",
            "The 1 cost after 4800 iterations is: 0.0002860985\n",
            "The 1 cost after 4900 iterations is: 0.0002854583\n",
            "The 1 cost after 5000 iterations is: 0.0002848210\n",
            "The 1 cost after 5100 iterations is: 0.0002841863\n",
            "The 1 cost after 5200 iterations is: 0.0002835540\n",
            "The 1 cost after 5300 iterations is: 0.0002829246\n",
            "The 1 cost after 5400 iterations is: 0.0002822977\n",
            "The 1 cost after 5500 iterations is: 0.0002816734\n",
            "The 1 cost after 5600 iterations is: 0.0002810518\n",
            "The 1 cost after 5700 iterations is: 0.0002804326\n",
            "The 1 cost after 5800 iterations is: 0.0002798160\n",
            "The 1 cost after 5900 iterations is: 0.0002792019\n",
            "The 1 cost after 6000 iterations is: 0.0002785904\n",
            "The 1 cost after 6100 iterations is: 0.0002779813\n",
            "The 1 cost after 6200 iterations is: 0.0002773748\n",
            "The 1 cost after 6300 iterations is: 0.0002767707\n",
            "The 1 cost after 6400 iterations is: 0.0002761691\n",
            "The 1 cost after 6500 iterations is: 0.0002755700\n",
            "The 1 cost after 6600 iterations is: 0.0002749731\n",
            "The 1 cost after 6700 iterations is: 0.0002743787\n",
            "The 1 cost after 6800 iterations is: 0.0002737869\n",
            "The 1 cost after 6900 iterations is: 0.0002731973\n",
            "The 1 cost after 7000 iterations is: 0.0002726101\n",
            "The 1 cost after 7100 iterations is: 0.0002720253\n",
            "The 1 cost after 7200 iterations is: 0.0002714430\n",
            "The 1 cost after 7300 iterations is: 0.0002708627\n",
            "The 1 cost after 7400 iterations is: 0.0002702847\n",
            "The 1 cost after 7500 iterations is: 0.0002697093\n",
            "The 1 cost after 7600 iterations is: 0.0002691361\n",
            "The 1 cost after 7700 iterations is: 0.0002685651\n",
            "The 1 cost after 7800 iterations is: 0.0002679963\n",
            "The 1 cost after 7900 iterations is: 0.0002674300\n",
            "The 1 cost after 8000 iterations is: 0.0002668656\n",
            "The 1 cost after 8100 iterations is: 0.0002663037\n",
            "The 1 cost after 8200 iterations is: 0.0002657440\n",
            "The 1 cost after 8300 iterations is: 0.0002651863\n",
            "The 1 cost after 8400 iterations is: 0.0002646310\n",
            "The 1 cost after 8500 iterations is: 0.0002640777\n",
            "The 1 cost after 8600 iterations is: 0.0002635266\n",
            "The 1 cost after 8700 iterations is: 0.0002629777\n",
            "The 1 cost after 8800 iterations is: 0.0002624308\n",
            "The 1 cost after 8900 iterations is: 0.0002618864\n",
            "The 1 cost after 9000 iterations is: 0.0002613437\n",
            "The 1 cost after 9100 iterations is: 0.0002608034\n",
            "The 1 cost after 9200 iterations is: 0.0002602651\n",
            "The 1 cost after 9300 iterations is: 0.0002597288\n",
            "The 1 cost after 9400 iterations is: 0.0002591945\n",
            "The 1 cost after 9500 iterations is: 0.0002586623\n",
            "The 1 cost after 9600 iterations is: 0.0002581323\n",
            "The 1 cost after 9700 iterations is: 0.0002576042\n",
            "The 1 cost after 9800 iterations is: 0.0002570781\n",
            "The 1 cost after 9900 iterations is: 0.0002565541\n",
            "The 1 cost after 10000 iterations is: 0.0002560321\n",
            "The 1 cost after 10100 iterations is: 0.0002555120\n",
            "The 1 cost after 10200 iterations is: 0.0002549938\n",
            "The 1 cost after 10300 iterations is: 0.0002544778\n",
            "The 1 cost after 10400 iterations is: 0.0002539635\n",
            "The 1 cost after 10500 iterations is: 0.0002534513\n",
            "The 1 cost after 10600 iterations is: 0.0002529409\n",
            "The 1 cost after 10700 iterations is: 0.0002524326\n",
            "The 1 cost after 10800 iterations is: 0.0002519261\n",
            "The 1 cost after 10900 iterations is: 0.0002514215\n",
            "The 1 cost after 11000 iterations is: 0.0002509188\n",
            "The 1 cost after 11100 iterations is: 0.0002504181\n",
            "The 1 cost after 11200 iterations is: 0.0002499191\n",
            "The 1 cost after 11300 iterations is: 0.0002494220\n",
            "The 1 cost after 11400 iterations is: 0.0002489269\n",
            "The 1 cost after 11500 iterations is: 0.0002484334\n",
            "The 1 cost after 11600 iterations is: 0.0002479418\n",
            "The 1 cost after 11700 iterations is: 0.0002474520\n",
            "The 1 cost after 11800 iterations is: 0.0002469643\n",
            "The 1 cost after 11900 iterations is: 0.0002464781\n",
            "The 1 cost after 12000 iterations is: 0.0002459930\n",
            "The 1 cost after 12100 iterations is: 0.0002455017\n",
            "The 1 cost after 12200 iterations is: 0.0002450122\n",
            "The 1 cost after 12300 iterations is: 0.0002445245\n",
            "The 1 cost after 12400 iterations is: 0.0002440386\n",
            "The 1 cost after 12500 iterations is: 0.0002435546\n",
            "The 1 cost after 12600 iterations is: 0.0002430724\n",
            "The 1 cost after 12700 iterations is: 0.0002425920\n",
            "The 1 cost after 12800 iterations is: 0.0002421134\n",
            "The 1 cost after 12900 iterations is: 0.0002416366\n",
            "The 1 cost after 13000 iterations is: 0.0002411616\n",
            "The 1 cost after 13100 iterations is: 0.0002406883\n",
            "The 1 cost after 13200 iterations is: 0.0002402167\n",
            "The 1 cost after 13300 iterations is: 0.0002397470\n",
            "The 1 cost after 13400 iterations is: 0.0002392789\n",
            "The 1 cost after 13500 iterations is: 0.0002388126\n",
            "The 1 cost after 13600 iterations is: 0.0002383479\n",
            "The 1 cost after 13700 iterations is: 0.0002378851\n",
            "The 1 cost after 13800 iterations is: 0.0002374238\n",
            "The 1 cost after 13900 iterations is: 0.0002369644\n",
            "The 1 cost after 14000 iterations is: 0.0002365065\n",
            "The 1 cost after 14100 iterations is: 0.0002360505\n",
            "The 1 cost after 14200 iterations is: 0.0002355960\n",
            "The 1 cost after 14300 iterations is: 0.0002351431\n",
            "The 1 cost after 14400 iterations is: 0.0002346919\n",
            "The 1 cost after 14500 iterations is: 0.0002342423\n",
            "The 1 cost after 14600 iterations is: 0.0002337945\n",
            "The 1 cost after 14700 iterations is: 0.0002333481\n",
            "The 1 cost after 14800 iterations is: 0.0002329035\n",
            "The 1 cost after 14900 iterations is: 0.0002324602\n",
            "The 1 cost after 15000 iterations is: 0.0002320188\n",
            "The 1 cost after 15100 iterations is: 0.0002315790\n",
            "The 1 cost after 15200 iterations is: 0.0002311406\n",
            "The 1 cost after 15300 iterations is: 0.0002307038\n",
            "The 1 cost after 15400 iterations is: 0.0002302685\n",
            "The 1 cost after 15500 iterations is: 0.0002298348\n",
            "The 1 cost after 15600 iterations is: 0.0002294028\n",
            "The 1 cost after 15700 iterations is: 0.0002289721\n",
            "The 1 cost after 15800 iterations is: 0.0002285431\n",
            "The 1 cost after 15900 iterations is: 0.0002281155\n",
            "The 1 cost after 16000 iterations is: 0.0002276895\n",
            "The 1 cost after 16100 iterations is: 0.0002272649\n",
            "The 1 cost after 16200 iterations is: 0.0002268420\n",
            "The 1 cost after 16300 iterations is: 0.0002264203\n",
            "The 1 cost after 16400 iterations is: 0.0002260004\n",
            "The 1 cost after 16500 iterations is: 0.0002255817\n",
            "The 1 cost after 16600 iterations is: 0.0002251645\n",
            "The 1 cost after 16700 iterations is: 0.0002247489\n",
            "The 1 cost after 16800 iterations is: 0.0002243345\n",
            "The 1 cost after 16900 iterations is: 0.0002239218\n",
            "The 1 cost after 17000 iterations is: 0.0002235105\n",
            "The 1 cost after 17100 iterations is: 0.0002231005\n",
            "The 1 cost after 17200 iterations is: 0.0002226919\n",
            "The 1 cost after 17300 iterations is: 0.0002222848\n",
            "The 1 cost after 17400 iterations is: 0.0002218790\n",
            "The 1 cost after 17500 iterations is: 0.0002214748\n",
            "The 1 cost after 17600 iterations is: 0.0002210718\n",
            "The 1 cost after 17700 iterations is: 0.0002206704\n",
            "The 1 cost after 17800 iterations is: 0.0002202702\n",
            "The 1 cost after 17900 iterations is: 0.0002198714\n",
            "The 1 cost after 18000 iterations is: 0.0002194740\n",
            "The 1 cost after 18100 iterations is: 0.0002190780\n",
            "The 1 cost after 18200 iterations is: 0.0002186832\n",
            "The 1 cost after 18300 iterations is: 0.0002182899\n",
            "The 1 cost after 18400 iterations is: 0.0002178978\n",
            "The 1 cost after 18500 iterations is: 0.0002175071\n",
            "The 1 cost after 18600 iterations is: 0.0002171177\n",
            "The 1 cost after 18700 iterations is: 0.0002167296\n",
            "The 1 cost after 18800 iterations is: 0.0002163429\n",
            "The 1 cost after 18900 iterations is: 0.0002159574\n",
            "The 1 cost after 19000 iterations is: 0.0002155732\n",
            "The 1 cost after 19100 iterations is: 0.0002151903\n",
            "The 1 cost after 19200 iterations is: 0.0002148087\n",
            "The 1 cost after 19300 iterations is: 0.0002144285\n",
            "The 1 cost after 19400 iterations is: 0.0002140493\n",
            "The 1 cost after 19500 iterations is: 0.0002136715\n",
            "The 1 cost after 19600 iterations is: 0.0002132950\n",
            "The 1 cost after 19700 iterations is: 0.0002129198\n",
            "The 1 cost after 19800 iterations is: 0.0002125457\n",
            "The 1 cost after 19900 iterations is: 0.0002121730\n",
            "The 1 cost after 20000 iterations is: 0.0002118014\n",
            "The 2 cost after 100 iterations is: 0.0002116506\n",
            "The 2 cost after 200 iterations is: 0.0002115026\n",
            "The 2 cost after 300 iterations is: 0.0002113547\n",
            "The 2 cost after 400 iterations is: 0.0002112070\n",
            "The 2 cost after 500 iterations is: 0.0002110595\n",
            "The 2 cost after 600 iterations is: 0.0002109122\n",
            "The 2 cost after 700 iterations is: 0.0002107651\n",
            "The 2 cost after 800 iterations is: 0.0002106182\n",
            "The 2 cost after 900 iterations is: 0.0002104715\n",
            "The 2 cost after 1000 iterations is: 0.0002103249\n",
            "The 2 cost after 1100 iterations is: 0.0002101786\n",
            "The 2 cost after 1200 iterations is: 0.0002100325\n",
            "The 2 cost after 1300 iterations is: 0.0002098865\n",
            "The 2 cost after 1400 iterations is: 0.0002097408\n",
            "The 2 cost after 1500 iterations is: 0.0002095952\n",
            "The 2 cost after 1600 iterations is: 0.0002094499\n",
            "The 2 cost after 1700 iterations is: 0.0002093047\n",
            "The 2 cost after 1800 iterations is: 0.0002091597\n",
            "The 2 cost after 1900 iterations is: 0.0002090149\n",
            "The 2 cost after 2000 iterations is: 0.0002088702\n",
            "The 2 cost after 2100 iterations is: 0.0002087258\n",
            "The 2 cost after 2200 iterations is: 0.0002085816\n",
            "The 2 cost after 2300 iterations is: 0.0002084375\n",
            "The 2 cost after 2400 iterations is: 0.0002082937\n",
            "The 2 cost after 2500 iterations is: 0.0002081500\n",
            "The 2 cost after 2600 iterations is: 0.0002080065\n",
            "The 2 cost after 2700 iterations is: 0.0002078632\n",
            "The 2 cost after 2800 iterations is: 0.0002077201\n",
            "The 2 cost after 2900 iterations is: 0.0002075772\n",
            "The 2 cost after 3000 iterations is: 0.0002074344\n",
            "The 2 cost after 3100 iterations is: 0.0002072919\n",
            "The 2 cost after 3200 iterations is: 0.0002071495\n",
            "The 2 cost after 3300 iterations is: 0.0002070073\n",
            "The 2 cost after 3400 iterations is: 0.0002068653\n",
            "The 2 cost after 3500 iterations is: 0.0002067235\n",
            "The 2 cost after 3600 iterations is: 0.0002065819\n",
            "The 2 cost after 3700 iterations is: 0.0002064404\n",
            "The 2 cost after 3800 iterations is: 0.0002062992\n",
            "The 2 cost after 3900 iterations is: 0.0002061581\n",
            "The 2 cost after 4000 iterations is: 0.0002060172\n",
            "The 2 cost after 4100 iterations is: 0.0002058764\n",
            "The 2 cost after 4200 iterations is: 0.0002057359\n",
            "The 2 cost after 4300 iterations is: 0.0002055955\n",
            "The 2 cost after 4400 iterations is: 0.0002054553\n",
            "The 2 cost after 4500 iterations is: 0.0002053153\n",
            "The 2 cost after 4600 iterations is: 0.0002051755\n",
            "The 2 cost after 4700 iterations is: 0.0002050358\n",
            "The 2 cost after 4800 iterations is: 0.0002048964\n",
            "The 2 cost after 4900 iterations is: 0.0002047571\n",
            "The 2 cost after 5000 iterations is: 0.0002046180\n",
            "The 2 cost after 5100 iterations is: 0.0002044791\n",
            "The 2 cost after 5200 iterations is: 0.0002043403\n",
            "The 2 cost after 5300 iterations is: 0.0002042018\n",
            "The 2 cost after 5400 iterations is: 0.0002040634\n",
            "The 2 cost after 5500 iterations is: 0.0002039251\n",
            "The 2 cost after 5600 iterations is: 0.0002037871\n",
            "The 2 cost after 5700 iterations is: 0.0002036492\n",
            "The 2 cost after 5800 iterations is: 0.0002035115\n",
            "The 2 cost after 5900 iterations is: 0.0002033740\n",
            "The 2 cost after 6000 iterations is: 0.0002032367\n",
            "The 2 cost after 6100 iterations is: 0.0002030996\n",
            "The 2 cost after 6200 iterations is: 0.0002029626\n",
            "The 2 cost after 6300 iterations is: 0.0002028258\n",
            "The 2 cost after 6400 iterations is: 0.0002026891\n",
            "The 2 cost after 6500 iterations is: 0.0002025527\n",
            "The 2 cost after 6600 iterations is: 0.0002024163\n",
            "The 2 cost after 6700 iterations is: 0.0002022803\n",
            "The 2 cost after 6800 iterations is: 0.0002021443\n",
            "The 2 cost after 6900 iterations is: 0.0002020085\n",
            "The 2 cost after 7000 iterations is: 0.0002018729\n",
            "The 2 cost after 7100 iterations is: 0.0002017375\n",
            "The 2 cost after 7200 iterations is: 0.0002016023\n",
            "The 2 cost after 7300 iterations is: 0.0002014672\n",
            "The 2 cost after 7400 iterations is: 0.0002013322\n",
            "The 2 cost after 7500 iterations is: 0.0002011975\n",
            "The 2 cost after 7600 iterations is: 0.0002010629\n",
            "The 2 cost after 7700 iterations is: 0.0002009285\n",
            "The 2 cost after 7800 iterations is: 0.0002007943\n",
            "The 2 cost after 7900 iterations is: 0.0002006602\n",
            "The 2 cost after 8000 iterations is: 0.0002005263\n",
            "The 2 cost after 8100 iterations is: 0.0002003926\n",
            "The 2 cost after 8200 iterations is: 0.0002002590\n",
            "The 2 cost after 8300 iterations is: 0.0002001257\n",
            "The 2 cost after 8400 iterations is: 0.0001999924\n",
            "The 2 cost after 8500 iterations is: 0.0001998594\n",
            "The 2 cost after 8600 iterations is: 0.0001997265\n",
            "The 2 cost after 8700 iterations is: 0.0001995938\n",
            "The 2 cost after 8800 iterations is: 0.0001994612\n",
            "The 2 cost after 8900 iterations is: 0.0001993288\n",
            "The 2 cost after 9000 iterations is: 0.0001991966\n",
            "The 2 cost after 9100 iterations is: 0.0001990645\n",
            "The 2 cost after 9200 iterations is: 0.0001989326\n",
            "The 2 cost after 9300 iterations is: 0.0001988009\n",
            "The 2 cost after 9400 iterations is: 0.0001986693\n",
            "The 2 cost after 9500 iterations is: 0.0001985379\n",
            "The 2 cost after 9600 iterations is: 0.0001984067\n",
            "The 2 cost after 9700 iterations is: 0.0001982756\n",
            "The 2 cost after 9800 iterations is: 0.0001981447\n",
            "The 2 cost after 9900 iterations is: 0.0001980140\n",
            "The 2 cost after 10000 iterations is: 0.0001978834\n",
            "The 2 cost after 10100 iterations is: 0.0001977530\n",
            "The 2 cost after 10200 iterations is: 0.0001976227\n",
            "The 2 cost after 10300 iterations is: 0.0001974927\n",
            "The 2 cost after 10400 iterations is: 0.0001973627\n",
            "The 2 cost after 10500 iterations is: 0.0001972329\n",
            "The 2 cost after 10600 iterations is: 0.0001971033\n",
            "The 2 cost after 10700 iterations is: 0.0001969739\n",
            "The 2 cost after 10800 iterations is: 0.0001968446\n",
            "The 2 cost after 10900 iterations is: 0.0001967154\n",
            "The 2 cost after 11000 iterations is: 0.0001965865\n",
            "The 2 cost after 11100 iterations is: 0.0001964576\n",
            "The 2 cost after 11200 iterations is: 0.0001963290\n",
            "The 2 cost after 11300 iterations is: 0.0001962005\n",
            "The 2 cost after 11400 iterations is: 0.0001960721\n",
            "The 2 cost after 11500 iterations is: 0.0001959440\n",
            "The 2 cost after 11600 iterations is: 0.0001958160\n",
            "The 2 cost after 11700 iterations is: 0.0001956881\n",
            "The 2 cost after 11800 iterations is: 0.0001955604\n",
            "The 2 cost after 11900 iterations is: 0.0001954328\n",
            "The 2 cost after 12000 iterations is: 0.0001953055\n",
            "The 2 cost after 12100 iterations is: 0.0001951782\n",
            "The 2 cost after 12200 iterations is: 0.0001950512\n",
            "The 2 cost after 12300 iterations is: 0.0001949242\n",
            "The 2 cost after 12400 iterations is: 0.0001947975\n",
            "The 2 cost after 12500 iterations is: 0.0001946709\n",
            "The 2 cost after 12600 iterations is: 0.0001945444\n",
            "The 2 cost after 12700 iterations is: 0.0001944181\n",
            "The 2 cost after 12800 iterations is: 0.0001942920\n",
            "The 2 cost after 12900 iterations is: 0.0001941660\n",
            "The 2 cost after 13000 iterations is: 0.0001940402\n",
            "The 2 cost after 13100 iterations is: 0.0001939145\n",
            "The 2 cost after 13200 iterations is: 0.0001937889\n",
            "The 2 cost after 13300 iterations is: 0.0001936636\n",
            "The 2 cost after 13400 iterations is: 0.0001935384\n",
            "The 2 cost after 13500 iterations is: 0.0001934133\n",
            "The 2 cost after 13600 iterations is: 0.0001932884\n",
            "The 2 cost after 13700 iterations is: 0.0001931636\n",
            "The 2 cost after 13800 iterations is: 0.0001930390\n",
            "The 2 cost after 13900 iterations is: 0.0001929146\n",
            "The 2 cost after 14000 iterations is: 0.0001927902\n",
            "The 2 cost after 14100 iterations is: 0.0001926661\n",
            "The 2 cost after 14200 iterations is: 0.0001925421\n",
            "The 2 cost after 14300 iterations is: 0.0001924182\n",
            "The 2 cost after 14400 iterations is: 0.0001922945\n",
            "The 2 cost after 14500 iterations is: 0.0001921710\n",
            "The 2 cost after 14600 iterations is: 0.0001920475\n",
            "The 2 cost after 14700 iterations is: 0.0001919242\n",
            "The 2 cost after 14800 iterations is: 0.0001918012\n",
            "The 2 cost after 14900 iterations is: 0.0001916782\n",
            "The 2 cost after 15000 iterations is: 0.0001915554\n",
            "The 2 cost after 15100 iterations is: 0.0001914327\n",
            "The 2 cost after 15200 iterations is: 0.0001913102\n",
            "The 2 cost after 15300 iterations is: 0.0001911878\n",
            "The 2 cost after 15400 iterations is: 0.0001910656\n",
            "The 2 cost after 15500 iterations is: 0.0001909436\n",
            "The 2 cost after 15600 iterations is: 0.0001908216\n",
            "The 2 cost after 15700 iterations is: 0.0001906998\n",
            "The 2 cost after 15800 iterations is: 0.0001905782\n",
            "The 2 cost after 15900 iterations is: 0.0001904567\n",
            "The 2 cost after 16000 iterations is: 0.0001903354\n",
            "The 2 cost after 16100 iterations is: 0.0001902142\n",
            "The 2 cost after 16200 iterations is: 0.0001900932\n",
            "The 2 cost after 16300 iterations is: 0.0001899723\n",
            "The 2 cost after 16400 iterations is: 0.0001898515\n",
            "The 2 cost after 16500 iterations is: 0.0001897309\n",
            "The 2 cost after 16600 iterations is: 0.0001896104\n",
            "The 2 cost after 16700 iterations is: 0.0001894901\n",
            "The 2 cost after 16800 iterations is: 0.0001893699\n",
            "The 2 cost after 16900 iterations is: 0.0001892499\n",
            "The 2 cost after 17000 iterations is: 0.0001891300\n",
            "The 2 cost after 17100 iterations is: 0.0001890103\n",
            "The 2 cost after 17200 iterations is: 0.0001888907\n",
            "The 2 cost after 17300 iterations is: 0.0001887712\n",
            "The 2 cost after 17400 iterations is: 0.0001886519\n",
            "The 2 cost after 17500 iterations is: 0.0001885327\n",
            "The 2 cost after 17600 iterations is: 0.0001884137\n",
            "The 2 cost after 17700 iterations is: 0.0001882948\n",
            "The 2 cost after 17800 iterations is: 0.0001881760\n",
            "The 2 cost after 17900 iterations is: 0.0001880574\n",
            "The 2 cost after 18000 iterations is: 0.0001879390\n",
            "The 2 cost after 18100 iterations is: 0.0001878206\n",
            "The 2 cost after 18200 iterations is: 0.0001877024\n",
            "The 2 cost after 18300 iterations is: 0.0001875844\n",
            "The 2 cost after 18400 iterations is: 0.0001874665\n",
            "The 2 cost after 18500 iterations is: 0.0001873487\n",
            "The 2 cost after 18600 iterations is: 0.0001872311\n",
            "The 2 cost after 18700 iterations is: 0.0001871136\n",
            "The 2 cost after 18800 iterations is: 0.0001869962\n",
            "The 2 cost after 18900 iterations is: 0.0001868790\n",
            "The 2 cost after 19000 iterations is: 0.0001867619\n",
            "The 2 cost after 19100 iterations is: 0.0001866450\n",
            "The 2 cost after 19200 iterations is: 0.0001865282\n",
            "The 2 cost after 19300 iterations is: 0.0001864116\n",
            "The 2 cost after 19400 iterations is: 0.0001862950\n",
            "The 2 cost after 19500 iterations is: 0.0001861787\n",
            "The 2 cost after 19600 iterations is: 0.0001860624\n",
            "The 2 cost after 19700 iterations is: 0.0001859463\n",
            "The 2 cost after 19800 iterations is: 0.0001858303\n",
            "The 2 cost after 19900 iterations is: 0.0001857145\n",
            "The 2 cost after 20000 iterations is: 0.0001855988\n",
            "probs:  [[1.28979908e-01 9.48600565e-01 9.99852960e-01 6.50020744e-01\n",
            "  9.98369055e-01 9.31901418e-01 1.09732021e-01 9.99979884e-01\n",
            "  5.84443295e-05 9.97449098e-01 3.89574924e-06 1.61753830e-01\n",
            "  1.00019052e-01 9.49859479e-04 9.83494797e-05 9.98962313e-01\n",
            "  7.53635270e-03 6.44280958e-02 3.15975219e-03 6.78505942e-03\n",
            "  1.40809976e-01 6.36324442e-02 9.97096888e-01 9.99905821e-01\n",
            "  3.16471334e-05 8.66867815e-05 9.99990307e-01 7.22953276e-03\n",
            "  8.87431279e-02 9.96281557e-01 1.26530108e-01 6.14734265e-03\n",
            "  9.99131726e-01 1.24413782e-01 6.20687830e-01 4.70587838e-02\n",
            "  1.88203858e-02 9.90987110e-01 1.33473006e-03 3.75089110e-01]]\n"
          ]
        },
        {
          "output_type": "execute_result",
          "data": {
            "text/plain": [
              "'The accuracy rate is: 52.50%.'"
            ],
            "application/vnd.google.colaboratory.intrinsic+json": {
              "type": "string"
            }
          },
          "metadata": {},
          "execution_count": 35
        },
        {
          "output_type": "display_data",
          "data": {
            "text/plain": [
              "<Figure size 720x432 with 1 Axes>"
            ],
            "image/png": "[encoded data removed]"
          },
          "metadata": {
            "needs_background": "light"
          }
        }
      ],
      "source": [
        "# NN with relu activation fn\n",
        "parameters_relu = L_layer_model(\n",
        "    X_train, y_train, layers_dims, learning_rate=0.05, num_iterations=20000, num_iterations1=3,\n",
        "    hidden_layers_activation_fn=\"relu\")\n",
        "\n",
        "# Print the accuracy\n",
        "accuracy(X_test, parameters_relu, y_test, activation_fn=\"relu\")"
      ]
    },
    {
      "cell_type": "markdown",
      "metadata": {
        "id": "YLsZSBRQbKHI"
      },
      "source": [
        "sigmoid"
      ]
    },
    {
      "cell_type": "code",
      "execution_count": 34,
      "metadata": {
        "colab": {
          "base_uri": "https://localhost:8080/",
          "height": 1000
        },
        "id": "NQP5HBsZbKHI",
        "outputId": "64152b0e-6938-4359-eb09-864c73e5c6b7"
      },
      "outputs": [
        {
          "output_type": "stream",
          "name": "stdout",
          "text": [
            "The 0 cost after 100 iterations is: 0.6931215064\n",
            "The 0 cost after 200 iterations is: 0.6930396503\n",
            "The 0 cost after 300 iterations is: 0.6929251212\n",
            "The 0 cost after 400 iterations is: 0.6927398561\n",
            "The 0 cost after 500 iterations is: 0.6924241418\n",
            "The 0 cost after 600 iterations is: 0.6918758555\n",
            "The 0 cost after 700 iterations is: 0.6909181663\n",
            "The 0 cost after 800 iterations is: 0.6892461938\n",
            "The 0 cost after 900 iterations is: 0.6863427296\n",
            "The 0 cost after 1000 iterations is: 0.6813576526\n",
            "The 0 cost after 1100 iterations is: 0.6729706544\n",
            "The 0 cost after 1200 iterations is: 0.6593270305\n",
            "The 0 cost after 1300 iterations is: 0.6382546568\n",
            "The 0 cost after 1400 iterations is: 0.6080055719\n",
            "The 0 cost after 1500 iterations is: 0.5683937624\n",
            "The 0 cost after 1600 iterations is: 0.5214449989\n",
            "The 0 cost after 1700 iterations is: 0.4706659438\n",
            "The 0 cost after 1800 iterations is: 0.4194633580\n",
            "The 0 cost after 1900 iterations is: 0.3701748861\n",
            "The 0 cost after 2000 iterations is: 0.3241723265\n",
            "The 0 cost after 2100 iterations is: 0.2823086272\n",
            "The 0 cost after 2200 iterations is: 0.2450961047\n",
            "The 0 cost after 2300 iterations is: 0.2126857910\n",
            "The 0 cost after 2400 iterations is: 0.1848949956\n",
            "The 0 cost after 2500 iterations is: 0.1613141597\n",
            "The 0 cost after 2600 iterations is: 0.1414238612\n",
            "The 0 cost after 2700 iterations is: 0.1246833368\n",
            "The 0 cost after 2800 iterations is: 0.1105844805\n",
            "The 0 cost after 2900 iterations is: 0.0986780494\n",
            "The 0 cost after 3000 iterations is: 0.0885815490\n",
            "The 0 cost after 3100 iterations is: 0.0799768368\n",
            "The 0 cost after 3200 iterations is: 0.0726029556\n",
            "The 0 cost after 3300 iterations is: 0.0662474630\n",
            "The 0 cost after 3400 iterations is: 0.0607379618\n",
            "The 0 cost after 3500 iterations is: 0.0559345806\n",
            "The 0 cost after 3600 iterations is: 0.0517236313\n",
            "The 0 cost after 3700 iterations is: 0.0480124145\n",
            "The 0 cost after 3800 iterations is: 0.0447250376\n",
            "The 0 cost after 3900 iterations is: 0.0417990809\n",
            "The 0 cost after 4000 iterations is: 0.0391829518\n",
            "The 0 cost after 4100 iterations is: 0.0368337893\n",
            "The 0 cost after 4200 iterations is: 0.0347158028\n",
            "The 0 cost after 4300 iterations is: 0.0327989527\n",
            "The 0 cost after 4400 iterations is: 0.0310578997\n",
            "The 0 cost after 4500 iterations is: 0.0294711642\n",
            "The 0 cost after 4600 iterations is: 0.0280204521\n",
            "The 0 cost after 4700 iterations is: 0.0266901105\n",
            "The 0 cost after 4800 iterations is: 0.0254666871\n",
            "The 0 cost after 4900 iterations is: 0.0243385719\n",
            "The 0 cost after 5000 iterations is: 0.0232957039\n",
            "The 0 cost after 5100 iterations is: 0.0223293299\n",
            "The 0 cost after 5200 iterations is: 0.0214318068\n",
            "The 0 cost after 5300 iterations is: 0.0205964359\n",
            "The 0 cost after 5400 iterations is: 0.0198173269\n",
            "The 0 cost after 5500 iterations is: 0.0190892828\n",
            "The 0 cost after 5600 iterations is: 0.0184077038\n",
            "The 0 cost after 5700 iterations is: 0.0177685068\n",
            "The 0 cost after 5800 iterations is: 0.0171680566\n",
            "The 0 cost after 5900 iterations is: 0.0166031078\n",
            "The 0 cost after 6000 iterations is: 0.0160707554\n",
            "The 0 cost after 6100 iterations is: 0.0155683924\n",
            "The 0 cost after 6200 iterations is: 0.0150936738\n",
            "The 0 cost after 6300 iterations is: 0.0146444848\n",
            "The 0 cost after 6400 iterations is: 0.0142189144\n",
            "The 0 cost after 6500 iterations is: 0.0138152318\n",
            "The 0 cost after 6600 iterations is: 0.0134318660\n",
            "The 0 cost after 6700 iterations is: 0.0130673885\n",
            "The 0 cost after 6800 iterations is: 0.0127204977\n",
            "The 0 cost after 6900 iterations is: 0.0123900055\n",
            "The 0 cost after 7000 iterations is: 0.0120748254\n",
            "The 0 cost after 7100 iterations is: 0.0117739620\n",
            "The 0 cost after 7200 iterations is: 0.0114865022\n",
            "The 0 cost after 7300 iterations is: 0.0112116065\n",
            "The 0 cost after 7400 iterations is: 0.0109485023\n",
            "The 0 cost after 7500 iterations is: 0.0106964777\n",
            "The 0 cost after 7600 iterations is: 0.0104548749\n",
            "The 0 cost after 7700 iterations is: 0.0102230863\n",
            "The 0 cost after 7800 iterations is: 0.0100005491\n",
            "The 0 cost after 7900 iterations is: 0.0097867418\n",
            "The 0 cost after 8000 iterations is: 0.0095811804\n",
            "The 0 cost after 8100 iterations is: 0.0093834150\n",
            "The 0 cost after 8200 iterations is: 0.0091930271\n",
            "The 0 cost after 8300 iterations is: 0.0090096270\n",
            "The 0 cost after 8400 iterations is: 0.0088328512\n",
            "The 0 cost after 8500 iterations is: 0.0086623603\n",
            "The 0 cost after 8600 iterations is: 0.0084978374\n",
            "The 0 cost after 8700 iterations is: 0.0083389858\n",
            "The 0 cost after 8800 iterations is: 0.0081855279\n",
            "The 0 cost after 8900 iterations is: 0.0080372033\n",
            "The 0 cost after 9000 iterations is: 0.0078937679\n",
            "The 0 cost after 9100 iterations is: 0.0077549923\n",
            "The 0 cost after 9200 iterations is: 0.0076206612\n",
            "The 0 cost after 9300 iterations is: 0.0074905717\n",
            "The 0 cost after 9400 iterations is: 0.0073645330\n",
            "The 0 cost after 9500 iterations is: 0.0072423653\n",
            "The 0 cost after 9600 iterations is: 0.0071238991\n",
            "The 0 cost after 9700 iterations is: 0.0070089744\n",
            "The 0 cost after 9800 iterations is: 0.0068974400\n",
            "The 0 cost after 9900 iterations is: 0.0067891531\n",
            "The 0 cost after 10000 iterations is: 0.0066839787\n",
            "The 1 cost after 100 iterations is: 0.0066421385\n",
            "The 1 cost after 200 iterations is: 0.0066013896\n",
            "The 1 cost after 300 iterations is: 0.0065611025\n",
            "The 1 cost after 400 iterations is: 0.0065212695\n",
            "The 1 cost after 500 iterations is: 0.0064818834\n",
            "The 1 cost after 600 iterations is: 0.0064429368\n",
            "The 1 cost after 700 iterations is: 0.0064044228\n",
            "The 1 cost after 800 iterations is: 0.0063663343\n",
            "The 1 cost after 900 iterations is: 0.0063286646\n",
            "The 1 cost after 1000 iterations is: 0.0062914072\n",
            "The 1 cost after 1100 iterations is: 0.0062545553\n",
            "The 1 cost after 1200 iterations is: 0.0062181028\n",
            "The 1 cost after 1300 iterations is: 0.0061820434\n",
            "The 1 cost after 1400 iterations is: 0.0061463709\n",
            "The 1 cost after 1500 iterations is: 0.0061110793\n",
            "The 1 cost after 1600 iterations is: 0.0060761629\n",
            "The 1 cost after 1700 iterations is: 0.0060416158\n",
            "The 1 cost after 1800 iterations is: 0.0060074323\n",
            "The 1 cost after 1900 iterations is: 0.0059736071\n",
            "The 1 cost after 2000 iterations is: 0.0059401346\n",
            "The 1 cost after 2100 iterations is: 0.0059070096\n",
            "The 1 cost after 2200 iterations is: 0.0058742268\n",
            "The 1 cost after 2300 iterations is: 0.0058417812\n",
            "The 1 cost after 2400 iterations is: 0.0058096677\n",
            "The 1 cost after 2500 iterations is: 0.0057778814\n",
            "The 1 cost after 2600 iterations is: 0.0057464176\n",
            "The 1 cost after 2700 iterations is: 0.0057152714\n",
            "The 1 cost after 2800 iterations is: 0.0056844383\n",
            "The 1 cost after 2900 iterations is: 0.0056539136\n",
            "The 1 cost after 3000 iterations is: 0.0056236931\n",
            "The 1 cost after 3100 iterations is: 0.0055937722\n",
            "The 1 cost after 3200 iterations is: 0.0055641467\n",
            "The 1 cost after 3300 iterations is: 0.0055348124\n",
            "The 1 cost after 3400 iterations is: 0.0055057651\n",
            "The 1 cost after 3500 iterations is: 0.0054770008\n",
            "The 1 cost after 3600 iterations is: 0.0054485154\n",
            "The 1 cost after 3700 iterations is: 0.0054203052\n",
            "The 1 cost after 3800 iterations is: 0.0053923662\n",
            "The 1 cost after 3900 iterations is: 0.0053646947\n",
            "The 1 cost after 4000 iterations is: 0.0053372869\n",
            "The 1 cost after 4100 iterations is: 0.0053101392\n",
            "The 1 cost after 4200 iterations is: 0.0052832482\n",
            "The 1 cost after 4300 iterations is: 0.0052566101\n",
            "The 1 cost after 4400 iterations is: 0.0052302217\n",
            "The 1 cost after 4500 iterations is: 0.0052040796\n",
            "The 1 cost after 4600 iterations is: 0.0051781803\n",
            "The 1 cost after 4700 iterations is: 0.0051525206\n",
            "The 1 cost after 4800 iterations is: 0.0051270974\n",
            "The 1 cost after 4900 iterations is: 0.0051019075\n",
            "The 1 cost after 5000 iterations is: 0.0050769478\n",
            "The 1 cost after 5100 iterations is: 0.0050522152\n",
            "The 1 cost after 5200 iterations is: 0.0050277067\n",
            "The 1 cost after 5300 iterations is: 0.0050034195\n",
            "The 1 cost after 5400 iterations is: 0.0049793505\n",
            "The 1 cost after 5500 iterations is: 0.0049554971\n",
            "The 1 cost after 5600 iterations is: 0.0049318563\n",
            "The 1 cost after 5700 iterations is: 0.0049084255\n",
            "The 1 cost after 5800 iterations is: 0.0048852019\n",
            "The 1 cost after 5900 iterations is: 0.0048621829\n",
            "The 1 cost after 6000 iterations is: 0.0048393659\n",
            "The 1 cost after 6100 iterations is: 0.0048167482\n",
            "The 1 cost after 6200 iterations is: 0.0047943275\n",
            "The 1 cost after 6300 iterations is: 0.0047721012\n",
            "The 1 cost after 6400 iterations is: 0.0047500668\n",
            "The 1 cost after 6500 iterations is: 0.0047282220\n",
            "The 1 cost after 6600 iterations is: 0.0047065644\n",
            "The 1 cost after 6700 iterations is: 0.0046850916\n",
            "The 1 cost after 6800 iterations is: 0.0046638015\n",
            "The 1 cost after 6900 iterations is: 0.0046426917\n",
            "The 1 cost after 7000 iterations is: 0.0046217600\n",
            "The 1 cost after 7100 iterations is: 0.0046010042\n",
            "The 1 cost after 7200 iterations is: 0.0045804223\n",
            "The 1 cost after 7300 iterations is: 0.0045600120\n",
            "The 1 cost after 7400 iterations is: 0.0045397714\n",
            "The 1 cost after 7500 iterations is: 0.0045196983\n",
            "The 1 cost after 7600 iterations is: 0.0044997908\n",
            "The 1 cost after 7700 iterations is: 0.0044800469\n",
            "The 1 cost after 7800 iterations is: 0.0044604646\n",
            "The 1 cost after 7900 iterations is: 0.0044410421\n",
            "The 1 cost after 8000 iterations is: 0.0044217773\n",
            "The 1 cost after 8100 iterations is: 0.0044026685\n",
            "The 1 cost after 8200 iterations is: 0.0043837139\n",
            "The 1 cost after 8300 iterations is: 0.0043649116\n",
            "The 1 cost after 8400 iterations is: 0.0043462598\n",
            "The 1 cost after 8500 iterations is: 0.0043277569\n",
            "The 1 cost after 8600 iterations is: 0.0043094010\n",
            "The 1 cost after 8700 iterations is: 0.0042911906\n",
            "The 1 cost after 8800 iterations is: 0.0042731238\n",
            "The 1 cost after 8900 iterations is: 0.0042551991\n",
            "The 1 cost after 9000 iterations is: 0.0042374149\n",
            "The 1 cost after 9100 iterations is: 0.0042197696\n",
            "The 1 cost after 9200 iterations is: 0.0042022615\n",
            "The 1 cost after 9300 iterations is: 0.0041848891\n",
            "The 1 cost after 9400 iterations is: 0.0041676510\n",
            "The 1 cost after 9500 iterations is: 0.0041505455\n",
            "The 1 cost after 9600 iterations is: 0.0041335713\n",
            "The 1 cost after 9700 iterations is: 0.0041167268\n",
            "The 1 cost after 9800 iterations is: 0.0041000107\n",
            "The 1 cost after 9900 iterations is: 0.0040834214\n",
            "The 1 cost after 10000 iterations is: 0.0040669576\n",
            "probs:  [[1.24053573e-01 7.04610716e-01 9.99611849e-01 8.65692614e-01\n",
            "  9.99070947e-01 9.92371349e-01 7.17667996e-02 9.99525664e-01\n",
            "  2.65786145e-04 9.98998539e-01 2.59888848e-04 7.52770291e-02\n",
            "  8.37849399e-02 5.30336257e-03 9.10657977e-04 9.98629959e-01\n",
            "  8.07039585e-03 6.82597280e-01 1.36107642e-03 4.19226292e-03\n",
            "  2.46309887e-02 7.86263021e-01 9.94174814e-01 9.98455034e-01\n",
            "  5.83193501e-04 2.58375768e-04 9.99669213e-01 9.65601107e-03\n",
            "  8.89046592e-02 9.98496271e-01 9.77144985e-02 2.27440832e-02\n",
            "  9.97395848e-01 1.43457145e-01 2.42469676e-01 9.33938941e-02\n",
            "  2.15801011e-03 9.90804316e-01 7.83972870e-04 8.57759457e-01]]\n"
          ]
        },
        {
          "output_type": "execute_result",
          "data": {
            "text/plain": [
              "'The accuracy rate is: 52.50%.'"
            ],
            "application/vnd.google.colaboratory.intrinsic+json": {
              "type": "string"
            }
          },
          "metadata": {},
          "execution_count": 34
        },
        {
          "output_type": "display_data",
          "data": {
            "text/plain": [
              "<Figure size 720x432 with 1 Axes>"
            ],
            "image/png": "[encoded data removed]"
          },
          "metadata": {
            "needs_background": "light"
          }
        }
      ],
      "source": [
        "# NN with tanh activation fn\n",
        "parameters_tanh = L_layer_model(\n",
        "    X_train, y_train, layers_dims, learning_rate=0.05, num_iterations=10000, num_iterations1=2,\n",
        "    hidden_layers_activation_fn=\"sigmoid\")\n",
        "\n",
        "# Print the accuracy\n",
        "accuracy(X_test, parameters_tanh, y_test, activation_fn=\"sigmoid\")"
      ]
    },
    {
      "cell_type": "markdown",
      "source": [
        "# Oscar"
      ],
      "metadata": {
        "id": "KQoj6FjeeWpM"
      }
    },
    {
      "cell_type": "markdown",
      "metadata": {
        "id": "4Je61Lp8bKHS"
      },
      "source": [
        "leaky_relu"
      ]
    },
    {
      "cell_type": "code",
      "execution_count": null,
      "metadata": {
        "scrolled": true,
        "id": "vdP8dd9gbKHW"
      },
      "outputs": [],
      "source": [
        "# NN with tanh activation fn\n",
        "parameters_leaky_relu = L_layer_model(\n",
        "    X_train, y_train, layers_dims, learning_rate=0.2, num_iterations=10000, num_iterations1=2,\n",
        "    hidden_layers_activation_fn=\"leaky_relu\")\n",
        "\n",
        "# Print the accuracy\n",
        "accuracy(X_test, parameters_tanh, y_test, activation_fn=\"leaky_relu\")"
      ]
    }
  ],
  "metadata": {
    "celltoolbar": "Edit Metadata",
    "kernelspec": {
      "display_name": "Python 3 (ipykernel)",
      "language": "python",
      "name": "python3"
    },
    "language_info": {
      "codemirror_mode": {
        "name": "ipython",
        "version": 3
      },
      "file_extension": ".py",
      "mimetype": "text/x-python",
      "name": "python",
      "nbconvert_exporter": "python",
      "pygments_lexer": "ipython3",
      "version": "3.9.7"
    },
    "colab": {
      "name": "Copy of NNetF-B-Propag80x10x10_95x100SinEstandarizarOOKKK Laura.ipynb",
      "provenance": [],
      "collapsed_sections": [
        "lYVDtTHDbKHB"
      ],
      "include_colab_link": true
    }
  },
  "nbformat": 4,
  "nbformat_minor": 0
}