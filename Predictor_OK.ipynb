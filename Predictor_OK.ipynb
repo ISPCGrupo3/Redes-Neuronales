{
  "cells": [
    {
      "cell_type": "code",
      "execution_count": 2,
      "id": "dac49ea5",
      "metadata": {
        "colab": {
          "base_uri": "https://localhost:8080/"
        },
        "id": "dac49ea5",
        "outputId": "f2f3ffbb-2609-4945-c7f9-e07e9d503ea7"
      },
      "outputs": [
        {
          "output_type": "stream",
          "name": "stdout",
          "text": [
            "Looking in indexes: https://pypi.org/simple, https://us-python.pkg.dev/colab-wheels/public/simple/\n",
            "Requirement already satisfied: pandas in /usr/local/lib/python3.7/dist-packages (1.3.5)\n",
            "Requirement already satisfied: python-dateutil>=2.7.3 in /usr/local/lib/python3.7/dist-packages (from pandas) (2.8.2)\n",
            "Requirement already satisfied: pytz>=2017.3 in /usr/local/lib/python3.7/dist-packages (from pandas) (2022.6)\n",
            "Requirement already satisfied: numpy>=1.17.3 in /usr/local/lib/python3.7/dist-packages (from pandas) (1.21.6)\n",
            "Requirement already satisfied: six>=1.5 in /usr/local/lib/python3.7/dist-packages (from python-dateutil>=2.7.3->pandas) (1.15.0)\n"
          ]
        }
      ],
      "source": [
        "!pip install pandas"
      ]
    },
    {
      "cell_type": "code",
      "source": [
        "!pip install scikit-learn"
      ],
      "metadata": {
        "colab": {
          "base_uri": "https://localhost:8080/"
        },
        "id": "XeXvT4XplREx",
        "outputId": "9ac91878-14da-4ee1-806b-f3b247a7a5ed"
      },
      "id": "XeXvT4XplREx",
      "execution_count": 3,
      "outputs": [
        {
          "output_type": "stream",
          "name": "stdout",
          "text": [
            "Looking in indexes: https://pypi.org/simple, https://us-python.pkg.dev/colab-wheels/public/simple/\n",
            "Requirement already satisfied: scikit-learn in /usr/local/lib/python3.7/dist-packages (1.0.2)\n",
            "Requirement already satisfied: joblib>=0.11 in /usr/local/lib/python3.7/dist-packages (from scikit-learn) (1.2.0)\n",
            "Requirement already satisfied: numpy>=1.14.6 in /usr/local/lib/python3.7/dist-packages (from scikit-learn) (1.21.6)\n",
            "Requirement already satisfied: threadpoolctl>=2.0.0 in /usr/local/lib/python3.7/dist-packages (from scikit-learn) (3.1.0)\n",
            "Requirement already satisfied: scipy>=1.1.0 in /usr/local/lib/python3.7/dist-packages (from scikit-learn) (1.7.3)\n"
          ]
        }
      ]
    },
    {
      "cell_type": "code",
      "source": [
        "!pip install skforecast"
      ],
      "metadata": {
        "colab": {
          "base_uri": "https://localhost:8080/",
          "height": 1000
        },
        "id": "u2AtBUF_mmOL",
        "outputId": "03ec9566-68ef-4b60-e253-46821c5c0a92"
      },
      "id": "u2AtBUF_mmOL",
      "execution_count": 4,
      "outputs": [
        {
          "output_type": "stream",
          "name": "stdout",
          "text": [
            "Looking in indexes: https://pypi.org/simple, https://us-python.pkg.dev/colab-wheels/public/simple/\n",
            "Collecting skforecast\n",
            "  Downloading skforecast-0.5.1-py2.py3-none-any.whl (169 kB)\n",
            "\u001b[K     |████████████████████████████████| 169 kB 27.1 MB/s \n",
            "\u001b[?25hCollecting seaborn==0.11\n",
            "  Downloading seaborn-0.11.0-py3-none-any.whl (283 kB)\n",
            "\u001b[K     |████████████████████████████████| 283 kB 71.4 MB/s \n",
            "\u001b[?25hRequirement already satisfied: numpy<=1.23,>=1.20 in /usr/local/lib/python3.7/dist-packages (from skforecast) (1.21.6)\n",
            "Collecting scikit-optimize==0.9.0\n",
            "  Downloading scikit_optimize-0.9.0-py2.py3-none-any.whl (100 kB)\n",
            "\u001b[K     |████████████████████████████████| 100 kB 11.1 MB/s \n",
            "\u001b[?25hRequirement already satisfied: pandas<=1.4,>=1.2 in /usr/local/lib/python3.7/dist-packages (from skforecast) (1.3.5)\n",
            "Collecting matplotlib<=3.5,>=3.3\n",
            "  Downloading matplotlib-3.5.0-cp37-cp37m-manylinux_2_5_x86_64.manylinux1_x86_64.whl (11.2 MB)\n",
            "\u001b[K     |████████████████████████████████| 11.2 MB 55.2 MB/s \n",
            "\u001b[?25hRequirement already satisfied: scikit-learn<=1.1,>=1.0 in /usr/local/lib/python3.7/dist-packages (from skforecast) (1.0.2)\n",
            "Collecting tqdm<=4.64,>=4.57.0\n",
            "  Downloading tqdm-4.64.0-py2.py3-none-any.whl (78 kB)\n",
            "\u001b[K     |████████████████████████████████| 78 kB 3.1 MB/s \n",
            "\u001b[?25hRequirement already satisfied: statsmodels<=0.13,>=0.12 in /usr/local/lib/python3.7/dist-packages (from skforecast) (0.12.2)\n",
            "Collecting optuna==2.10.0\n",
            "  Downloading optuna-2.10.0-py3-none-any.whl (308 kB)\n",
            "\u001b[K     |████████████████████████████████| 308 kB 72.8 MB/s \n",
            "\u001b[?25hRequirement already satisfied: joblib<=1.2.0,>=1.1.0 in /usr/local/lib/python3.7/dist-packages (from skforecast) (1.2.0)\n",
            "Requirement already satisfied: packaging>=20.0 in /usr/local/lib/python3.7/dist-packages (from optuna==2.10.0->skforecast) (21.3)\n",
            "Requirement already satisfied: scipy!=1.4.0 in /usr/local/lib/python3.7/dist-packages (from optuna==2.10.0->skforecast) (1.7.3)\n",
            "Collecting cliff\n",
            "  Downloading cliff-3.10.1-py3-none-any.whl (81 kB)\n",
            "\u001b[K     |████████████████████████████████| 81 kB 10.2 MB/s \n",
            "\u001b[?25hCollecting colorlog\n",
            "  Downloading colorlog-6.7.0-py2.py3-none-any.whl (11 kB)\n",
            "Requirement already satisfied: sqlalchemy>=1.1.0 in /usr/local/lib/python3.7/dist-packages (from optuna==2.10.0->skforecast) (1.4.43)\n",
            "Collecting cmaes>=0.8.2\n",
            "  Downloading cmaes-0.9.0-py3-none-any.whl (23 kB)\n",
            "Requirement already satisfied: PyYAML in /usr/local/lib/python3.7/dist-packages (from optuna==2.10.0->skforecast) (6.0)\n",
            "Collecting alembic\n",
            "  Downloading alembic-1.8.1-py3-none-any.whl (209 kB)\n",
            "\u001b[K     |████████████████████████████████| 209 kB 66.9 MB/s \n",
            "\u001b[?25hCollecting pyaml>=16.9\n",
            "  Downloading pyaml-21.10.1-py2.py3-none-any.whl (24 kB)\n",
            "Requirement already satisfied: pillow>=6.2.0 in /usr/local/lib/python3.7/dist-packages (from matplotlib<=3.5,>=3.3->skforecast) (7.1.2)\n",
            "Requirement already satisfied: pyparsing>=2.2.1 in /usr/local/lib/python3.7/dist-packages (from matplotlib<=3.5,>=3.3->skforecast) (3.0.9)\n",
            "Collecting setuptools-scm>=4\n",
            "  Downloading setuptools_scm-7.0.5-py3-none-any.whl (42 kB)\n",
            "\u001b[K     |████████████████████████████████| 42 kB 1.1 MB/s \n",
            "\u001b[?25hRequirement already satisfied: cycler>=0.10 in /usr/local/lib/python3.7/dist-packages (from matplotlib<=3.5,>=3.3->skforecast) (0.11.0)\n",
            "Collecting fonttools>=4.22.0\n",
            "  Downloading fonttools-4.38.0-py3-none-any.whl (965 kB)\n",
            "\u001b[K     |████████████████████████████████| 965 kB 74.6 MB/s \n",
            "\u001b[?25hRequirement already satisfied: python-dateutil>=2.7 in /usr/local/lib/python3.7/dist-packages (from matplotlib<=3.5,>=3.3->skforecast) (2.8.2)\n",
            "Requirement already satisfied: kiwisolver>=1.0.1 in /usr/local/lib/python3.7/dist-packages (from matplotlib<=3.5,>=3.3->skforecast) (1.4.4)\n",
            "Requirement already satisfied: typing-extensions in /usr/local/lib/python3.7/dist-packages (from kiwisolver>=1.0.1->matplotlib<=3.5,>=3.3->skforecast) (4.1.1)\n",
            "Requirement already satisfied: pytz>=2017.3 in /usr/local/lib/python3.7/dist-packages (from pandas<=1.4,>=1.2->skforecast) (2022.6)\n",
            "Requirement already satisfied: six>=1.5 in /usr/local/lib/python3.7/dist-packages (from python-dateutil>=2.7->matplotlib<=3.5,>=3.3->skforecast) (1.15.0)\n",
            "Requirement already satisfied: threadpoolctl>=2.0.0 in /usr/local/lib/python3.7/dist-packages (from scikit-learn<=1.1,>=1.0->skforecast) (3.1.0)\n",
            "Requirement already satisfied: importlib-metadata in /usr/local/lib/python3.7/dist-packages (from setuptools-scm>=4->matplotlib<=3.5,>=3.3->skforecast) (4.13.0)\n",
            "Requirement already satisfied: tomli>=1.0.0 in /usr/local/lib/python3.7/dist-packages (from setuptools-scm>=4->matplotlib<=3.5,>=3.3->skforecast) (2.0.1)\n",
            "Requirement already satisfied: setuptools in /usr/local/lib/python3.7/dist-packages (from setuptools-scm>=4->matplotlib<=3.5,>=3.3->skforecast) (57.4.0)\n",
            "Requirement already satisfied: greenlet!=0.4.17 in /usr/local/lib/python3.7/dist-packages (from sqlalchemy>=1.1.0->optuna==2.10.0->skforecast) (2.0.1)\n",
            "Requirement already satisfied: patsy>=0.5 in /usr/local/lib/python3.7/dist-packages (from statsmodels<=0.13,>=0.12->skforecast) (0.5.3)\n",
            "Requirement already satisfied: importlib-resources in /usr/local/lib/python3.7/dist-packages (from alembic->optuna==2.10.0->skforecast) (5.10.0)\n",
            "Collecting Mako\n",
            "  Downloading Mako-1.2.3-py3-none-any.whl (78 kB)\n",
            "\u001b[K     |████████████████████████████████| 78 kB 9.0 MB/s \n",
            "\u001b[?25hCollecting stevedore>=2.0.1\n",
            "  Downloading stevedore-3.5.2-py3-none-any.whl (50 kB)\n",
            "\u001b[K     |████████████████████████████████| 50 kB 4.9 MB/s \n",
            "\u001b[?25hCollecting pbr!=2.1.0,>=2.0.0\n",
            "  Downloading pbr-5.11.0-py2.py3-none-any.whl (112 kB)\n",
            "\u001b[K     |████████████████████████████████| 112 kB 60.7 MB/s \n",
            "\u001b[?25hCollecting cmd2>=1.0.0\n",
            "  Downloading cmd2-2.4.2-py3-none-any.whl (147 kB)\n",
            "\u001b[K     |████████████████████████████████| 147 kB 32.9 MB/s \n",
            "\u001b[?25hCollecting autopage>=0.4.0\n",
            "  Downloading autopage-0.5.1-py3-none-any.whl (29 kB)\n",
            "Requirement already satisfied: PrettyTable>=0.7.2 in /usr/local/lib/python3.7/dist-packages (from cliff->optuna==2.10.0->skforecast) (3.5.0)\n",
            "Requirement already satisfied: attrs>=16.3.0 in /usr/local/lib/python3.7/dist-packages (from cmd2>=1.0.0->cliff->optuna==2.10.0->skforecast) (22.1.0)\n",
            "Requirement already satisfied: wcwidth>=0.1.7 in /usr/local/lib/python3.7/dist-packages (from cmd2>=1.0.0->cliff->optuna==2.10.0->skforecast) (0.2.5)\n",
            "Collecting pyperclip>=1.6\n",
            "  Downloading pyperclip-1.8.2.tar.gz (20 kB)\n",
            "Requirement already satisfied: zipp>=0.5 in /usr/local/lib/python3.7/dist-packages (from importlib-metadata->setuptools-scm>=4->matplotlib<=3.5,>=3.3->skforecast) (3.10.0)\n",
            "Requirement already satisfied: MarkupSafe>=0.9.2 in /usr/local/lib/python3.7/dist-packages (from Mako->alembic->optuna==2.10.0->skforecast) (2.0.1)\n",
            "Building wheels for collected packages: pyperclip\n",
            "  Building wheel for pyperclip (setup.py) ... \u001b[?25l\u001b[?25hdone\n",
            "  Created wheel for pyperclip: filename=pyperclip-1.8.2-py3-none-any.whl size=11137 sha256=924a28ab0187ed930f5a5d5a6a15f2625edd06190a11be1dbc86d4795d496c88\n",
            "  Stored in directory: /root/.cache/pip/wheels/9f/18/84/8f69f8b08169c7bae2dde6bd7daf0c19fca8c8e500ee620a28\n",
            "Successfully built pyperclip\n",
            "Installing collected packages: pyperclip, pbr, stevedore, setuptools-scm, Mako, fonttools, cmd2, autopage, tqdm, pyaml, matplotlib, colorlog, cmaes, cliff, alembic, seaborn, scikit-optimize, optuna, skforecast\n",
            "  Attempting uninstall: tqdm\n",
            "    Found existing installation: tqdm 4.64.1\n",
            "    Uninstalling tqdm-4.64.1:\n",
            "      Successfully uninstalled tqdm-4.64.1\n",
            "  Attempting uninstall: matplotlib\n",
            "    Found existing installation: matplotlib 3.2.2\n",
            "    Uninstalling matplotlib-3.2.2:\n",
            "      Successfully uninstalled matplotlib-3.2.2\n",
            "  Attempting uninstall: seaborn\n",
            "    Found existing installation: seaborn 0.11.2\n",
            "    Uninstalling seaborn-0.11.2:\n",
            "      Successfully uninstalled seaborn-0.11.2\n",
            "Successfully installed Mako-1.2.3 alembic-1.8.1 autopage-0.5.1 cliff-3.10.1 cmaes-0.9.0 cmd2-2.4.2 colorlog-6.7.0 fonttools-4.38.0 matplotlib-3.5.0 optuna-2.10.0 pbr-5.11.0 pyaml-21.10.1 pyperclip-1.8.2 scikit-optimize-0.9.0 seaborn-0.11.0 setuptools-scm-7.0.5 skforecast-0.5.1 stevedore-3.5.2 tqdm-4.64.0\n"
          ]
        },
        {
          "output_type": "display_data",
          "data": {
            "application/vnd.colab-display-data+json": {
              "pip_warning": {
                "packages": [
                  "matplotlib",
                  "mpl_toolkits",
                  "seaborn"
                ]
              }
            }
          },
          "metadata": {}
        }
      ]
    },
    {
      "cell_type": "code",
      "source": [
        "from google.colab import drive\n",
        "drive.mount('/content/drive')"
      ],
      "metadata": {
        "colab": {
          "base_uri": "https://localhost:8080/"
        },
        "id": "30lr9zwrsWmF",
        "outputId": "9522c06b-75d4-440c-b323-a6d26eee9743"
      },
      "id": "30lr9zwrsWmF",
      "execution_count": 5,
      "outputs": [
        {
          "output_type": "stream",
          "name": "stdout",
          "text": [
            "Mounted at /content/drive\n"
          ]
        }
      ]
    },
    {
      "cell_type": "code",
      "execution_count": 6,
      "id": "89d13cf8",
      "metadata": {
        "scrolled": true,
        "colab": {
          "base_uri": "https://localhost:8080/",
          "height": 449
        },
        "id": "89d13cf8",
        "outputId": "22af06bb-4bc1-4da1-c5c6-dc46f832e852"
      },
      "outputs": [
        {
          "output_type": "stream",
          "name": "stdout",
          "text": [
            "<class 'pandas.core.frame.DataFrame'>\n",
            "RangeIndex: 7246 entries, 0 to 7245\n",
            "Data columns (total 7 columns):\n",
            " #   Column       Non-Null Count  Dtype  \n",
            "---  ------       --------------  -----  \n",
            " 0   ID           7246 non-null   int64  \n",
            " 1   FECHA/HORA   7246 non-null   object \n",
            " 2   Dia          7246 non-null   int64  \n",
            " 3   TOTAL KW     7246 non-null   int64  \n",
            " 4   TEMPERATURA  7246 non-null   float64\n",
            " 5   Feriado      7246 non-null   int64  \n",
            " 6   Publico      7246 non-null   int64  \n",
            "dtypes: float64(1), int64(5), object(1)\n",
            "memory usage: 396.4+ KB\n"
          ]
        },
        {
          "output_type": "execute_result",
          "data": {
            "text/plain": [
              "   ID        FECHA/HORA  Dia    TOTAL KW  TEMPERATURA  Feriado  Publico\n",
              "0   0  01/07/2021 00:00    4  1721748533          8.7        0        0\n",
              "1   1  01/07/2021 01:00    4  1731462994          8.4        0        0\n",
              "2   2  01/07/2021 02:00    4  1676358588          8.2        0        0\n",
              "3   3  01/07/2021 03:00    4  1653972981          7.7        0        0\n",
              "4   4  01/07/2021 04:00    4  1653886127          7.2        0        0"
            ],
            "text/html": [
              "\n",
              "  <div id=\"df-38777a3d-0e26-41df-b0bd-cfe8050e96e6\">\n",
              "    <div class=\"colab-df-container\">\n",
              "      <div>\n",
              "<style scoped>\n",
              "    .dataframe tbody tr th:only-of-type {\n",
              "        vertical-align: middle;\n",
              "    }\n",
              "\n",
              "    .dataframe tbody tr th {\n",
              "        vertical-align: top;\n",
              "    }\n",
              "\n",
              "    .dataframe thead th {\n",
              "        text-align: right;\n",
              "    }\n",
              "</style>\n",
              "<table border=\"1\" class=\"dataframe\">\n",
              "  <thead>\n",
              "    <tr style=\"text-align: right;\">\n",
              "      <th></th>\n",
              "      <th>ID</th>\n",
              "      <th>FECHA/HORA</th>\n",
              "      <th>Dia</th>\n",
              "      <th>TOTAL KW</th>\n",
              "      <th>TEMPERATURA</th>\n",
              "      <th>Feriado</th>\n",
              "      <th>Publico</th>\n",
              "    </tr>\n",
              "  </thead>\n",
              "  <tbody>\n",
              "    <tr>\n",
              "      <th>0</th>\n",
              "      <td>0</td>\n",
              "      <td>01/07/2021 00:00</td>\n",
              "      <td>4</td>\n",
              "      <td>1721748533</td>\n",
              "      <td>8.7</td>\n",
              "      <td>0</td>\n",
              "      <td>0</td>\n",
              "    </tr>\n",
              "    <tr>\n",
              "      <th>1</th>\n",
              "      <td>1</td>\n",
              "      <td>01/07/2021 01:00</td>\n",
              "      <td>4</td>\n",
              "      <td>1731462994</td>\n",
              "      <td>8.4</td>\n",
              "      <td>0</td>\n",
              "      <td>0</td>\n",
              "    </tr>\n",
              "    <tr>\n",
              "      <th>2</th>\n",
              "      <td>2</td>\n",
              "      <td>01/07/2021 02:00</td>\n",
              "      <td>4</td>\n",
              "      <td>1676358588</td>\n",
              "      <td>8.2</td>\n",
              "      <td>0</td>\n",
              "      <td>0</td>\n",
              "    </tr>\n",
              "    <tr>\n",
              "      <th>3</th>\n",
              "      <td>3</td>\n",
              "      <td>01/07/2021 03:00</td>\n",
              "      <td>4</td>\n",
              "      <td>1653972981</td>\n",
              "      <td>7.7</td>\n",
              "      <td>0</td>\n",
              "      <td>0</td>\n",
              "    </tr>\n",
              "    <tr>\n",
              "      <th>4</th>\n",
              "      <td>4</td>\n",
              "      <td>01/07/2021 04:00</td>\n",
              "      <td>4</td>\n",
              "      <td>1653886127</td>\n",
              "      <td>7.2</td>\n",
              "      <td>0</td>\n",
              "      <td>0</td>\n",
              "    </tr>\n",
              "  </tbody>\n",
              "</table>\n",
              "</div>\n",
              "      <button class=\"colab-df-convert\" onclick=\"convertToInteractive('df-38777a3d-0e26-41df-b0bd-cfe8050e96e6')\"\n",
              "              title=\"Convert this dataframe to an interactive table.\"\n",
              "              style=\"display:none;\">\n",
              "        \n",
              "  <svg xmlns=\"http://www.w3.org/2000/svg\" height=\"24px\"viewBox=\"0 0 24 24\"\n",
              "       width=\"24px\">\n",
              "    <path d=\"M0 0h24v24H0V0z\" fill=\"none\"/>\n",
              "    <path d=\"M18.56 5.44l.94 2.06.94-2.06 2.06-.94-2.06-.94-.94-2.06-.94 2.06-2.06.94zm-11 1L8.5 8.5l.94-2.06 2.06-.94-2.06-.94L8.5 2.5l-.94 2.06-2.06.94zm10 10l.94 2.06.94-2.06 2.06-.94-2.06-.94-.94-2.06-.94 2.06-2.06.94z\"/><path d=\"M17.41 7.96l-1.37-1.37c-.4-.4-.92-.59-1.43-.59-.52 0-1.04.2-1.43.59L10.3 9.45l-7.72 7.72c-.78.78-.78 2.05 0 2.83L4 21.41c.39.39.9.59 1.41.59.51 0 1.02-.2 1.41-.59l7.78-7.78 2.81-2.81c.8-.78.8-2.07 0-2.86zM5.41 20L4 18.59l7.72-7.72 1.47 1.35L5.41 20z\"/>\n",
              "  </svg>\n",
              "      </button>\n",
              "      \n",
              "  <style>\n",
              "    .colab-df-container {\n",
              "      display:flex;\n",
              "      flex-wrap:wrap;\n",
              "      gap: 12px;\n",
              "    }\n",
              "\n",
              "    .colab-df-convert {\n",
              "      background-color: #E8F0FE;\n",
              "      border: none;\n",
              "      border-radius: 50%;\n",
              "      cursor: pointer;\n",
              "      display: none;\n",
              "      fill: #1967D2;\n",
              "      height: 32px;\n",
              "      padding: 0 0 0 0;\n",
              "      width: 32px;\n",
              "    }\n",
              "\n",
              "    .colab-df-convert:hover {\n",
              "      background-color: #E2EBFA;\n",
              "      box-shadow: 0px 1px 2px rgba(60, 64, 67, 0.3), 0px 1px 3px 1px rgba(60, 64, 67, 0.15);\n",
              "      fill: #174EA6;\n",
              "    }\n",
              "\n",
              "    [theme=dark] .colab-df-convert {\n",
              "      background-color: #3B4455;\n",
              "      fill: #D2E3FC;\n",
              "    }\n",
              "\n",
              "    [theme=dark] .colab-df-convert:hover {\n",
              "      background-color: #434B5C;\n",
              "      box-shadow: 0px 1px 3px 1px rgba(0, 0, 0, 0.15);\n",
              "      filter: drop-shadow(0px 1px 2px rgba(0, 0, 0, 0.3));\n",
              "      fill: #FFFFFF;\n",
              "    }\n",
              "  </style>\n",
              "\n",
              "      <script>\n",
              "        const buttonEl =\n",
              "          document.querySelector('#df-38777a3d-0e26-41df-b0bd-cfe8050e96e6 button.colab-df-convert');\n",
              "        buttonEl.style.display =\n",
              "          google.colab.kernel.accessAllowed ? 'block' : 'none';\n",
              "\n",
              "        async function convertToInteractive(key) {\n",
              "          const element = document.querySelector('#df-38777a3d-0e26-41df-b0bd-cfe8050e96e6');\n",
              "          const dataTable =\n",
              "            await google.colab.kernel.invokeFunction('convertToInteractive',\n",
              "                                                     [key], {});\n",
              "          if (!dataTable) return;\n",
              "\n",
              "          const docLinkHtml = 'Like what you see? Visit the ' +\n",
              "            '<a target=\"_blank\" href=https://colab.research.google.com/notebooks/data_table.ipynb>data table notebook</a>'\n",
              "            + ' to learn more about interactive tables.';\n",
              "          element.innerHTML = '';\n",
              "          dataTable['output_type'] = 'display_data';\n",
              "          await google.colab.output.renderOutput(dataTable, element);\n",
              "          const docLink = document.createElement('div');\n",
              "          docLink.innerHTML = docLinkHtml;\n",
              "          element.appendChild(docLink);\n",
              "        }\n",
              "      </script>\n",
              "    </div>\n",
              "  </div>\n",
              "  "
            ]
          },
          "metadata": {},
          "execution_count": 6
        }
      ],
      "source": [
        "# Tratamiento de datos\n",
        "# ==============================================================================\n",
        "import numpy as np\n",
        "import pandas as pd\n",
        "\n",
        "# Gráficos\n",
        "# ==============================================================================\n",
        "import matplotlib.pyplot as plt\n",
        "import seaborn as sns\n",
        "# %matplotlib inline\n",
        "from statsmodels.graphics.tsaplots import plot_acf\n",
        "from statsmodels.graphics.tsaplots import plot_pacf\n",
        "plt.style.use('fivethirtyeight')\n",
        "\n",
        "# Modelado y Forecasting\n",
        "# ==============================================================================\n",
        "from sklearn.linear_model import Ridge\n",
        "from lightgbm import LGBMRegressor\n",
        "from sklearn.pipeline import make_pipeline\n",
        "from sklearn.preprocessing import StandardScaler\n",
        "from sklearn.metrics import mean_absolute_error\n",
        "from skforecast.ForecasterAutoreg import ForecasterAutoreg\n",
        "from skforecast.ForecasterAutoregMultiOutput import ForecasterAutoregMultiOutput\n",
        "from skforecast.model_selection import grid_search_forecaster\n",
        "from skforecast.model_selection import backtesting_forecaster\n",
        "\n",
        "# Configuración warnings\n",
        "# ==============================================================================\n",
        "import warnings\n",
        "warnings.filterwarnings('ignore')\n",
        "\n",
        "# Descarga de datos\n",
        "# ==============================================================================\n",
        "arch = ('/content/drive/MyDrive/Colab Notebooks/completa.csv')\n",
        "datos = pd.read_csv(arch, sep=',')\n",
        "datos.info()\n",
        "datos.head(5)\n"
      ]
    },
    {
      "cell_type": "markdown",
      "source": [],
      "metadata": {
        "id": "P0o-xhEwYSsi"
      },
      "id": "P0o-xhEwYSsi"
    },
    {
      "cell_type": "code",
      "source": [
        "datos['Dia'].value_counts()"
      ],
      "metadata": {
        "colab": {
          "base_uri": "https://localhost:8080/"
        },
        "id": "jdVBsVTYZtA8",
        "outputId": "cecd093c-b526-4b9c-d0ae-e79025de6582"
      },
      "id": "jdVBsVTYZtA8",
      "execution_count": 7,
      "outputs": [
        {
          "output_type": "execute_result",
          "data": {
            "text/plain": [
              "4    1056\n",
              "5    1055\n",
              "7    1032\n",
              "1    1032\n",
              "3    1032\n",
              "2    1031\n",
              "6    1008\n",
              "Name: Dia, dtype: int64"
            ]
          },
          "metadata": {},
          "execution_count": 7
        }
      ]
    },
    {
      "cell_type": "code",
      "source": [
        "datos['TOTAL KW'] = pd.to_numeric(datos['TOTAL KW'],errors = 'coerce')\n",
        "datos.info()\n",
        "datos.head(3)"
      ],
      "metadata": {
        "colab": {
          "base_uri": "https://localhost:8080/",
          "height": 386
        },
        "id": "ALiMe2Rc_HJi",
        "outputId": "4b4d3499-4835-4b44-d740-9315f34e88f7"
      },
      "id": "ALiMe2Rc_HJi",
      "execution_count": 8,
      "outputs": [
        {
          "output_type": "stream",
          "name": "stdout",
          "text": [
            "<class 'pandas.core.frame.DataFrame'>\n",
            "RangeIndex: 7246 entries, 0 to 7245\n",
            "Data columns (total 7 columns):\n",
            " #   Column       Non-Null Count  Dtype  \n",
            "---  ------       --------------  -----  \n",
            " 0   ID           7246 non-null   int64  \n",
            " 1   FECHA/HORA   7246 non-null   object \n",
            " 2   Dia          7246 non-null   int64  \n",
            " 3   TOTAL KW     7246 non-null   int64  \n",
            " 4   TEMPERATURA  7246 non-null   float64\n",
            " 5   Feriado      7246 non-null   int64  \n",
            " 6   Publico      7246 non-null   int64  \n",
            "dtypes: float64(1), int64(5), object(1)\n",
            "memory usage: 396.4+ KB\n"
          ]
        },
        {
          "output_type": "execute_result",
          "data": {
            "text/plain": [
              "   ID        FECHA/HORA  Dia    TOTAL KW  TEMPERATURA  Feriado  Publico\n",
              "0   0  01/07/2021 00:00    4  1721748533          8.7        0        0\n",
              "1   1  01/07/2021 01:00    4  1731462994          8.4        0        0\n",
              "2   2  01/07/2021 02:00    4  1676358588          8.2        0        0"
            ],
            "text/html": [
              "\n",
              "  <div id=\"df-65f6bbf5-232c-45b2-ae94-6379c0236b2c\">\n",
              "    <div class=\"colab-df-container\">\n",
              "      <div>\n",
              "<style scoped>\n",
              "    .dataframe tbody tr th:only-of-type {\n",
              "        vertical-align: middle;\n",
              "    }\n",
              "\n",
              "    .dataframe tbody tr th {\n",
              "        vertical-align: top;\n",
              "    }\n",
              "\n",
              "    .dataframe thead th {\n",
              "        text-align: right;\n",
              "    }\n",
              "</style>\n",
              "<table border=\"1\" class=\"dataframe\">\n",
              "  <thead>\n",
              "    <tr style=\"text-align: right;\">\n",
              "      <th></th>\n",
              "      <th>ID</th>\n",
              "      <th>FECHA/HORA</th>\n",
              "      <th>Dia</th>\n",
              "      <th>TOTAL KW</th>\n",
              "      <th>TEMPERATURA</th>\n",
              "      <th>Feriado</th>\n",
              "      <th>Publico</th>\n",
              "    </tr>\n",
              "  </thead>\n",
              "  <tbody>\n",
              "    <tr>\n",
              "      <th>0</th>\n",
              "      <td>0</td>\n",
              "      <td>01/07/2021 00:00</td>\n",
              "      <td>4</td>\n",
              "      <td>1721748533</td>\n",
              "      <td>8.7</td>\n",
              "      <td>0</td>\n",
              "      <td>0</td>\n",
              "    </tr>\n",
              "    <tr>\n",
              "      <th>1</th>\n",
              "      <td>1</td>\n",
              "      <td>01/07/2021 01:00</td>\n",
              "      <td>4</td>\n",
              "      <td>1731462994</td>\n",
              "      <td>8.4</td>\n",
              "      <td>0</td>\n",
              "      <td>0</td>\n",
              "    </tr>\n",
              "    <tr>\n",
              "      <th>2</th>\n",
              "      <td>2</td>\n",
              "      <td>01/07/2021 02:00</td>\n",
              "      <td>4</td>\n",
              "      <td>1676358588</td>\n",
              "      <td>8.2</td>\n",
              "      <td>0</td>\n",
              "      <td>0</td>\n",
              "    </tr>\n",
              "  </tbody>\n",
              "</table>\n",
              "</div>\n",
              "      <button class=\"colab-df-convert\" onclick=\"convertToInteractive('df-65f6bbf5-232c-45b2-ae94-6379c0236b2c')\"\n",
              "              title=\"Convert this dataframe to an interactive table.\"\n",
              "              style=\"display:none;\">\n",
              "        \n",
              "  <svg xmlns=\"http://www.w3.org/2000/svg\" height=\"24px\"viewBox=\"0 0 24 24\"\n",
              "       width=\"24px\">\n",
              "    <path d=\"M0 0h24v24H0V0z\" fill=\"none\"/>\n",
              "    <path d=\"M18.56 5.44l.94 2.06.94-2.06 2.06-.94-2.06-.94-.94-2.06-.94 2.06-2.06.94zm-11 1L8.5 8.5l.94-2.06 2.06-.94-2.06-.94L8.5 2.5l-.94 2.06-2.06.94zm10 10l.94 2.06.94-2.06 2.06-.94-2.06-.94-.94-2.06-.94 2.06-2.06.94z\"/><path d=\"M17.41 7.96l-1.37-1.37c-.4-.4-.92-.59-1.43-.59-.52 0-1.04.2-1.43.59L10.3 9.45l-7.72 7.72c-.78.78-.78 2.05 0 2.83L4 21.41c.39.39.9.59 1.41.59.51 0 1.02-.2 1.41-.59l7.78-7.78 2.81-2.81c.8-.78.8-2.07 0-2.86zM5.41 20L4 18.59l7.72-7.72 1.47 1.35L5.41 20z\"/>\n",
              "  </svg>\n",
              "      </button>\n",
              "      \n",
              "  <style>\n",
              "    .colab-df-container {\n",
              "      display:flex;\n",
              "      flex-wrap:wrap;\n",
              "      gap: 12px;\n",
              "    }\n",
              "\n",
              "    .colab-df-convert {\n",
              "      background-color: #E8F0FE;\n",
              "      border: none;\n",
              "      border-radius: 50%;\n",
              "      cursor: pointer;\n",
              "      display: none;\n",
              "      fill: #1967D2;\n",
              "      height: 32px;\n",
              "      padding: 0 0 0 0;\n",
              "      width: 32px;\n",
              "    }\n",
              "\n",
              "    .colab-df-convert:hover {\n",
              "      background-color: #E2EBFA;\n",
              "      box-shadow: 0px 1px 2px rgba(60, 64, 67, 0.3), 0px 1px 3px 1px rgba(60, 64, 67, 0.15);\n",
              "      fill: #174EA6;\n",
              "    }\n",
              "\n",
              "    [theme=dark] .colab-df-convert {\n",
              "      background-color: #3B4455;\n",
              "      fill: #D2E3FC;\n",
              "    }\n",
              "\n",
              "    [theme=dark] .colab-df-convert:hover {\n",
              "      background-color: #434B5C;\n",
              "      box-shadow: 0px 1px 3px 1px rgba(0, 0, 0, 0.15);\n",
              "      filter: drop-shadow(0px 1px 2px rgba(0, 0, 0, 0.3));\n",
              "      fill: #FFFFFF;\n",
              "    }\n",
              "  </style>\n",
              "\n",
              "      <script>\n",
              "        const buttonEl =\n",
              "          document.querySelector('#df-65f6bbf5-232c-45b2-ae94-6379c0236b2c button.colab-df-convert');\n",
              "        buttonEl.style.display =\n",
              "          google.colab.kernel.accessAllowed ? 'block' : 'none';\n",
              "\n",
              "        async function convertToInteractive(key) {\n",
              "          const element = document.querySelector('#df-65f6bbf5-232c-45b2-ae94-6379c0236b2c');\n",
              "          const dataTable =\n",
              "            await google.colab.kernel.invokeFunction('convertToInteractive',\n",
              "                                                     [key], {});\n",
              "          if (!dataTable) return;\n",
              "\n",
              "          const docLinkHtml = 'Like what you see? Visit the ' +\n",
              "            '<a target=\"_blank\" href=https://colab.research.google.com/notebooks/data_table.ipynb>data table notebook</a>'\n",
              "            + ' to learn more about interactive tables.';\n",
              "          element.innerHTML = '';\n",
              "          dataTable['output_type'] = 'display_data';\n",
              "          await google.colab.output.renderOutput(dataTable, element);\n",
              "          const docLink = document.createElement('div');\n",
              "          docLink.innerHTML = docLinkHtml;\n",
              "          element.appendChild(docLink);\n",
              "        }\n",
              "      </script>\n",
              "    </div>\n",
              "  </div>\n",
              "  "
            ]
          },
          "metadata": {},
          "execution_count": 8
        }
      ]
    },
    {
      "cell_type": "code",
      "source": [
        "\n",
        "\n",
        "datos.rename(columns={'TOTAL KW':'TOTAL_KW'}, inplace=True)\n",
        "datos.head(3)"
      ],
      "metadata": {
        "id": "hc1xKA97v9gW",
        "outputId": "ba5a477c-1263-4a60-afc0-bcaf4c1f7ff0",
        "colab": {
          "base_uri": "https://localhost:8080/",
          "height": 143
        }
      },
      "id": "hc1xKA97v9gW",
      "execution_count": 9,
      "outputs": [
        {
          "output_type": "execute_result",
          "data": {
            "text/plain": [
              "   ID        FECHA/HORA  Dia    TOTAL_KW  TEMPERATURA  Feriado  Publico\n",
              "0   0  01/07/2021 00:00    4  1721748533          8.7        0        0\n",
              "1   1  01/07/2021 01:00    4  1731462994          8.4        0        0\n",
              "2   2  01/07/2021 02:00    4  1676358588          8.2        0        0"
            ],
            "text/html": [
              "\n",
              "  <div id=\"df-52e749d3-2e27-4635-a77c-8b8b0813e8be\">\n",
              "    <div class=\"colab-df-container\">\n",
              "      <div>\n",
              "<style scoped>\n",
              "    .dataframe tbody tr th:only-of-type {\n",
              "        vertical-align: middle;\n",
              "    }\n",
              "\n",
              "    .dataframe tbody tr th {\n",
              "        vertical-align: top;\n",
              "    }\n",
              "\n",
              "    .dataframe thead th {\n",
              "        text-align: right;\n",
              "    }\n",
              "</style>\n",
              "<table border=\"1\" class=\"dataframe\">\n",
              "  <thead>\n",
              "    <tr style=\"text-align: right;\">\n",
              "      <th></th>\n",
              "      <th>ID</th>\n",
              "      <th>FECHA/HORA</th>\n",
              "      <th>Dia</th>\n",
              "      <th>TOTAL_KW</th>\n",
              "      <th>TEMPERATURA</th>\n",
              "      <th>Feriado</th>\n",
              "      <th>Publico</th>\n",
              "    </tr>\n",
              "  </thead>\n",
              "  <tbody>\n",
              "    <tr>\n",
              "      <th>0</th>\n",
              "      <td>0</td>\n",
              "      <td>01/07/2021 00:00</td>\n",
              "      <td>4</td>\n",
              "      <td>1721748533</td>\n",
              "      <td>8.7</td>\n",
              "      <td>0</td>\n",
              "      <td>0</td>\n",
              "    </tr>\n",
              "    <tr>\n",
              "      <th>1</th>\n",
              "      <td>1</td>\n",
              "      <td>01/07/2021 01:00</td>\n",
              "      <td>4</td>\n",
              "      <td>1731462994</td>\n",
              "      <td>8.4</td>\n",
              "      <td>0</td>\n",
              "      <td>0</td>\n",
              "    </tr>\n",
              "    <tr>\n",
              "      <th>2</th>\n",
              "      <td>2</td>\n",
              "      <td>01/07/2021 02:00</td>\n",
              "      <td>4</td>\n",
              "      <td>1676358588</td>\n",
              "      <td>8.2</td>\n",
              "      <td>0</td>\n",
              "      <td>0</td>\n",
              "    </tr>\n",
              "  </tbody>\n",
              "</table>\n",
              "</div>\n",
              "      <button class=\"colab-df-convert\" onclick=\"convertToInteractive('df-52e749d3-2e27-4635-a77c-8b8b0813e8be')\"\n",
              "              title=\"Convert this dataframe to an interactive table.\"\n",
              "              style=\"display:none;\">\n",
              "        \n",
              "  <svg xmlns=\"http://www.w3.org/2000/svg\" height=\"24px\"viewBox=\"0 0 24 24\"\n",
              "       width=\"24px\">\n",
              "    <path d=\"M0 0h24v24H0V0z\" fill=\"none\"/>\n",
              "    <path d=\"M18.56 5.44l.94 2.06.94-2.06 2.06-.94-2.06-.94-.94-2.06-.94 2.06-2.06.94zm-11 1L8.5 8.5l.94-2.06 2.06-.94-2.06-.94L8.5 2.5l-.94 2.06-2.06.94zm10 10l.94 2.06.94-2.06 2.06-.94-2.06-.94-.94-2.06-.94 2.06-2.06.94z\"/><path d=\"M17.41 7.96l-1.37-1.37c-.4-.4-.92-.59-1.43-.59-.52 0-1.04.2-1.43.59L10.3 9.45l-7.72 7.72c-.78.78-.78 2.05 0 2.83L4 21.41c.39.39.9.59 1.41.59.51 0 1.02-.2 1.41-.59l7.78-7.78 2.81-2.81c.8-.78.8-2.07 0-2.86zM5.41 20L4 18.59l7.72-7.72 1.47 1.35L5.41 20z\"/>\n",
              "  </svg>\n",
              "      </button>\n",
              "      \n",
              "  <style>\n",
              "    .colab-df-container {\n",
              "      display:flex;\n",
              "      flex-wrap:wrap;\n",
              "      gap: 12px;\n",
              "    }\n",
              "\n",
              "    .colab-df-convert {\n",
              "      background-color: #E8F0FE;\n",
              "      border: none;\n",
              "      border-radius: 50%;\n",
              "      cursor: pointer;\n",
              "      display: none;\n",
              "      fill: #1967D2;\n",
              "      height: 32px;\n",
              "      padding: 0 0 0 0;\n",
              "      width: 32px;\n",
              "    }\n",
              "\n",
              "    .colab-df-convert:hover {\n",
              "      background-color: #E2EBFA;\n",
              "      box-shadow: 0px 1px 2px rgba(60, 64, 67, 0.3), 0px 1px 3px 1px rgba(60, 64, 67, 0.15);\n",
              "      fill: #174EA6;\n",
              "    }\n",
              "\n",
              "    [theme=dark] .colab-df-convert {\n",
              "      background-color: #3B4455;\n",
              "      fill: #D2E3FC;\n",
              "    }\n",
              "\n",
              "    [theme=dark] .colab-df-convert:hover {\n",
              "      background-color: #434B5C;\n",
              "      box-shadow: 0px 1px 3px 1px rgba(0, 0, 0, 0.15);\n",
              "      filter: drop-shadow(0px 1px 2px rgba(0, 0, 0, 0.3));\n",
              "      fill: #FFFFFF;\n",
              "    }\n",
              "  </style>\n",
              "\n",
              "      <script>\n",
              "        const buttonEl =\n",
              "          document.querySelector('#df-52e749d3-2e27-4635-a77c-8b8b0813e8be button.colab-df-convert');\n",
              "        buttonEl.style.display =\n",
              "          google.colab.kernel.accessAllowed ? 'block' : 'none';\n",
              "\n",
              "        async function convertToInteractive(key) {\n",
              "          const element = document.querySelector('#df-52e749d3-2e27-4635-a77c-8b8b0813e8be');\n",
              "          const dataTable =\n",
              "            await google.colab.kernel.invokeFunction('convertToInteractive',\n",
              "                                                     [key], {});\n",
              "          if (!dataTable) return;\n",
              "\n",
              "          const docLinkHtml = 'Like what you see? Visit the ' +\n",
              "            '<a target=\"_blank\" href=https://colab.research.google.com/notebooks/data_table.ipynb>data table notebook</a>'\n",
              "            + ' to learn more about interactive tables.';\n",
              "          element.innerHTML = '';\n",
              "          dataTable['output_type'] = 'display_data';\n",
              "          await google.colab.output.renderOutput(dataTable, element);\n",
              "          const docLink = document.createElement('div');\n",
              "          docLink.innerHTML = docLinkHtml;\n",
              "          element.appendChild(docLink);\n",
              "        }\n",
              "      </script>\n",
              "    </div>\n",
              "  </div>\n",
              "  "
            ]
          },
          "metadata": {},
          "execution_count": 9
        }
      ]
    },
    {
      "cell_type": "code",
      "source": [
        "# Conversión del formato fecha\n",
        "# ==============================================================================\n",
        "#datos['FECHA/HORA'] = pd.to_datetime(datos['FECHA/HORA'], format='%Y/%m/%dT%H:%M:%Sz')\n",
        "datos['FECHA/HORA'] = pd.to_datetime(datos['FECHA/HORA'])\n",
        "#datos['FECHA/HORA'] = datos['FECHA/HORA'].dt.strftime('%Y/%m/%dT%H:%M:%Sz')\n",
        "datos = datos.set_index('FECHA/HORA')\n",
        "datos = datos.asfreq('60min')\n",
        "datos = datos.sort_index()\n",
        "datos"
      ],
      "metadata": {
        "id": "fag80DlK0dsW",
        "outputId": "99638d90-b1d8-444c-8a87-feb8cd3b4ba4",
        "colab": {
          "base_uri": "https://localhost:8080/",
          "height": 455
        }
      },
      "id": "fag80DlK0dsW",
      "execution_count": 10,
      "outputs": [
        {
          "output_type": "execute_result",
          "data": {
            "text/plain": [
              "                         ID  Dia      TOTAL_KW  TEMPERATURA  Feriado  Publico\n",
              "FECHA/HORA                                                                   \n",
              "2021-01-07 00:00:00     0.0  4.0  1.721749e+09          8.7      0.0      0.0\n",
              "2021-01-07 01:00:00     1.0  4.0  1.731463e+09          8.4      0.0      0.0\n",
              "2021-01-07 02:00:00     2.0  4.0  1.676359e+09          8.2      0.0      0.0\n",
              "2021-01-07 03:00:00     3.0  4.0  1.653973e+09          7.7      0.0      0.0\n",
              "2021-01-07 04:00:00     4.0  4.0  1.653886e+09          7.2      0.0      0.0\n",
              "...                     ...  ...           ...          ...      ...      ...\n",
              "2022-12-04 19:00:00  6857.0  2.0  7.263328e+09         13.6      0.0    908.0\n",
              "2022-12-04 20:00:00  6858.0  2.0  7.552296e+09         13.8      0.0    788.0\n",
              "2022-12-04 21:00:00  6859.0  2.0  6.339663e+09         13.4      0.0      0.0\n",
              "2022-12-04 22:00:00  6860.0  2.0  4.978523e+09         13.2      0.0      0.0\n",
              "2022-12-04 23:00:00  6861.0  2.0  3.604378e+09         13.2      0.0      0.0\n",
              "\n",
              "[16728 rows x 6 columns]"
            ],
            "text/html": [
              "\n",
              "  <div id=\"df-e76602c8-b43b-4888-885b-e2646bdd14b8\">\n",
              "    <div class=\"colab-df-container\">\n",
              "      <div>\n",
              "<style scoped>\n",
              "    .dataframe tbody tr th:only-of-type {\n",
              "        vertical-align: middle;\n",
              "    }\n",
              "\n",
              "    .dataframe tbody tr th {\n",
              "        vertical-align: top;\n",
              "    }\n",
              "\n",
              "    .dataframe thead th {\n",
              "        text-align: right;\n",
              "    }\n",
              "</style>\n",
              "<table border=\"1\" class=\"dataframe\">\n",
              "  <thead>\n",
              "    <tr style=\"text-align: right;\">\n",
              "      <th></th>\n",
              "      <th>ID</th>\n",
              "      <th>Dia</th>\n",
              "      <th>TOTAL_KW</th>\n",
              "      <th>TEMPERATURA</th>\n",
              "      <th>Feriado</th>\n",
              "      <th>Publico</th>\n",
              "    </tr>\n",
              "    <tr>\n",
              "      <th>FECHA/HORA</th>\n",
              "      <th></th>\n",
              "      <th></th>\n",
              "      <th></th>\n",
              "      <th></th>\n",
              "      <th></th>\n",
              "      <th></th>\n",
              "    </tr>\n",
              "  </thead>\n",
              "  <tbody>\n",
              "    <tr>\n",
              "      <th>2021-01-07 00:00:00</th>\n",
              "      <td>0.0</td>\n",
              "      <td>4.0</td>\n",
              "      <td>1.721749e+09</td>\n",
              "      <td>8.7</td>\n",
              "      <td>0.0</td>\n",
              "      <td>0.0</td>\n",
              "    </tr>\n",
              "    <tr>\n",
              "      <th>2021-01-07 01:00:00</th>\n",
              "      <td>1.0</td>\n",
              "      <td>4.0</td>\n",
              "      <td>1.731463e+09</td>\n",
              "      <td>8.4</td>\n",
              "      <td>0.0</td>\n",
              "      <td>0.0</td>\n",
              "    </tr>\n",
              "    <tr>\n",
              "      <th>2021-01-07 02:00:00</th>\n",
              "      <td>2.0</td>\n",
              "      <td>4.0</td>\n",
              "      <td>1.676359e+09</td>\n",
              "      <td>8.2</td>\n",
              "      <td>0.0</td>\n",
              "      <td>0.0</td>\n",
              "    </tr>\n",
              "    <tr>\n",
              "      <th>2021-01-07 03:00:00</th>\n",
              "      <td>3.0</td>\n",
              "      <td>4.0</td>\n",
              "      <td>1.653973e+09</td>\n",
              "      <td>7.7</td>\n",
              "      <td>0.0</td>\n",
              "      <td>0.0</td>\n",
              "    </tr>\n",
              "    <tr>\n",
              "      <th>2021-01-07 04:00:00</th>\n",
              "      <td>4.0</td>\n",
              "      <td>4.0</td>\n",
              "      <td>1.653886e+09</td>\n",
              "      <td>7.2</td>\n",
              "      <td>0.0</td>\n",
              "      <td>0.0</td>\n",
              "    </tr>\n",
              "    <tr>\n",
              "      <th>...</th>\n",
              "      <td>...</td>\n",
              "      <td>...</td>\n",
              "      <td>...</td>\n",
              "      <td>...</td>\n",
              "      <td>...</td>\n",
              "      <td>...</td>\n",
              "    </tr>\n",
              "    <tr>\n",
              "      <th>2022-12-04 19:00:00</th>\n",
              "      <td>6857.0</td>\n",
              "      <td>2.0</td>\n",
              "      <td>7.263328e+09</td>\n",
              "      <td>13.6</td>\n",
              "      <td>0.0</td>\n",
              "      <td>908.0</td>\n",
              "    </tr>\n",
              "    <tr>\n",
              "      <th>2022-12-04 20:00:00</th>\n",
              "      <td>6858.0</td>\n",
              "      <td>2.0</td>\n",
              "      <td>7.552296e+09</td>\n",
              "      <td>13.8</td>\n",
              "      <td>0.0</td>\n",
              "      <td>788.0</td>\n",
              "    </tr>\n",
              "    <tr>\n",
              "      <th>2022-12-04 21:00:00</th>\n",
              "      <td>6859.0</td>\n",
              "      <td>2.0</td>\n",
              "      <td>6.339663e+09</td>\n",
              "      <td>13.4</td>\n",
              "      <td>0.0</td>\n",
              "      <td>0.0</td>\n",
              "    </tr>\n",
              "    <tr>\n",
              "      <th>2022-12-04 22:00:00</th>\n",
              "      <td>6860.0</td>\n",
              "      <td>2.0</td>\n",
              "      <td>4.978523e+09</td>\n",
              "      <td>13.2</td>\n",
              "      <td>0.0</td>\n",
              "      <td>0.0</td>\n",
              "    </tr>\n",
              "    <tr>\n",
              "      <th>2022-12-04 23:00:00</th>\n",
              "      <td>6861.0</td>\n",
              "      <td>2.0</td>\n",
              "      <td>3.604378e+09</td>\n",
              "      <td>13.2</td>\n",
              "      <td>0.0</td>\n",
              "      <td>0.0</td>\n",
              "    </tr>\n",
              "  </tbody>\n",
              "</table>\n",
              "<p>16728 rows × 6 columns</p>\n",
              "</div>\n",
              "      <button class=\"colab-df-convert\" onclick=\"convertToInteractive('df-e76602c8-b43b-4888-885b-e2646bdd14b8')\"\n",
              "              title=\"Convert this dataframe to an interactive table.\"\n",
              "              style=\"display:none;\">\n",
              "        \n",
              "  <svg xmlns=\"http://www.w3.org/2000/svg\" height=\"24px\"viewBox=\"0 0 24 24\"\n",
              "       width=\"24px\">\n",
              "    <path d=\"M0 0h24v24H0V0z\" fill=\"none\"/>\n",
              "    <path d=\"M18.56 5.44l.94 2.06.94-2.06 2.06-.94-2.06-.94-.94-2.06-.94 2.06-2.06.94zm-11 1L8.5 8.5l.94-2.06 2.06-.94-2.06-.94L8.5 2.5l-.94 2.06-2.06.94zm10 10l.94 2.06.94-2.06 2.06-.94-2.06-.94-.94-2.06-.94 2.06-2.06.94z\"/><path d=\"M17.41 7.96l-1.37-1.37c-.4-.4-.92-.59-1.43-.59-.52 0-1.04.2-1.43.59L10.3 9.45l-7.72 7.72c-.78.78-.78 2.05 0 2.83L4 21.41c.39.39.9.59 1.41.59.51 0 1.02-.2 1.41-.59l7.78-7.78 2.81-2.81c.8-.78.8-2.07 0-2.86zM5.41 20L4 18.59l7.72-7.72 1.47 1.35L5.41 20z\"/>\n",
              "  </svg>\n",
              "      </button>\n",
              "      \n",
              "  <style>\n",
              "    .colab-df-container {\n",
              "      display:flex;\n",
              "      flex-wrap:wrap;\n",
              "      gap: 12px;\n",
              "    }\n",
              "\n",
              "    .colab-df-convert {\n",
              "      background-color: #E8F0FE;\n",
              "      border: none;\n",
              "      border-radius: 50%;\n",
              "      cursor: pointer;\n",
              "      display: none;\n",
              "      fill: #1967D2;\n",
              "      height: 32px;\n",
              "      padding: 0 0 0 0;\n",
              "      width: 32px;\n",
              "    }\n",
              "\n",
              "    .colab-df-convert:hover {\n",
              "      background-color: #E2EBFA;\n",
              "      box-shadow: 0px 1px 2px rgba(60, 64, 67, 0.3), 0px 1px 3px 1px rgba(60, 64, 67, 0.15);\n",
              "      fill: #174EA6;\n",
              "    }\n",
              "\n",
              "    [theme=dark] .colab-df-convert {\n",
              "      background-color: #3B4455;\n",
              "      fill: #D2E3FC;\n",
              "    }\n",
              "\n",
              "    [theme=dark] .colab-df-convert:hover {\n",
              "      background-color: #434B5C;\n",
              "      box-shadow: 0px 1px 3px 1px rgba(0, 0, 0, 0.15);\n",
              "      filter: drop-shadow(0px 1px 2px rgba(0, 0, 0, 0.3));\n",
              "      fill: #FFFFFF;\n",
              "    }\n",
              "  </style>\n",
              "\n",
              "      <script>\n",
              "        const buttonEl =\n",
              "          document.querySelector('#df-e76602c8-b43b-4888-885b-e2646bdd14b8 button.colab-df-convert');\n",
              "        buttonEl.style.display =\n",
              "          google.colab.kernel.accessAllowed ? 'block' : 'none';\n",
              "\n",
              "        async function convertToInteractive(key) {\n",
              "          const element = document.querySelector('#df-e76602c8-b43b-4888-885b-e2646bdd14b8');\n",
              "          const dataTable =\n",
              "            await google.colab.kernel.invokeFunction('convertToInteractive',\n",
              "                                                     [key], {});\n",
              "          if (!dataTable) return;\n",
              "\n",
              "          const docLinkHtml = 'Like what you see? Visit the ' +\n",
              "            '<a target=\"_blank\" href=https://colab.research.google.com/notebooks/data_table.ipynb>data table notebook</a>'\n",
              "            + ' to learn more about interactive tables.';\n",
              "          element.innerHTML = '';\n",
              "          dataTable['output_type'] = 'display_data';\n",
              "          await google.colab.output.renderOutput(dataTable, element);\n",
              "          const docLink = document.createElement('div');\n",
              "          docLink.innerHTML = docLinkHtml;\n",
              "          element.appendChild(docLink);\n",
              "        }\n",
              "      </script>\n",
              "    </div>\n",
              "  </div>\n",
              "  "
            ]
          },
          "metadata": {},
          "execution_count": 10
        }
      ]
    },
    {
      "cell_type": "code",
      "execution_count": 11,
      "id": "12ba7533",
      "metadata": {
        "id": "12ba7533",
        "colab": {
          "base_uri": "https://localhost:8080/"
        },
        "outputId": "d885e34d-57f8-4f7d-f118-da6da1a598b3"
      },
      "outputs": [
        {
          "output_type": "execute_result",
          "data": {
            "text/plain": [
              "True"
            ]
          },
          "metadata": {},
          "execution_count": 11
        }
      ],
      "source": [
        "# Verificar que un índice temporal está completo\n",
        "# ==============================================================================\n",
        "(datos.index == pd.date_range(start=datos.index.min(),\n",
        "                              end=datos.index.max(),\n",
        "                              freq=datos.index.freq)).all()"
      ]
    },
    {
      "cell_type": "code",
      "execution_count": 13,
      "id": "351c6ef5",
      "metadata": {
        "id": "351c6ef5",
        "colab": {
          "base_uri": "https://localhost:8080/",
          "height": 244
        },
        "outputId": "9a22af7a-4375-462c-c118-7675eabbad50"
      },
      "outputs": [
        {
          "output_type": "stream",
          "name": "stdout",
          "text": [
            "datos original\n",
            "Fechas train      : 2021-01-07 00:00:00 --- 2021-12-31 23:00:00  (n=8616)\n",
            "Fechas validacion : 2022-01-01 00:00:00 --- 2022-04-30 23:00:00  (n=2880)\n",
            "Fechas test       : 2022-05-01 00:00:00 --- 2022-12-04 23:00:00  (n=5232)\n"
          ]
        },
        {
          "output_type": "execute_result",
          "data": {
            "text/plain": [
              "                      ID  Dia      TOTAL_KW  TEMPERATURA  Feriado  Publico\n",
              "FECHA/HORA                                                                \n",
              "2021-01-07 00:00:00  0.0  4.0  1.721749e+09          8.7      0.0      0.0\n",
              "2021-01-07 01:00:00  1.0  4.0  1.731463e+09          8.4      0.0      0.0\n",
              "2021-01-07 02:00:00  2.0  4.0  1.676359e+09          8.2      0.0      0.0"
            ],
            "text/html": [
              "\n",
              "  <div id=\"df-05179a8c-b168-4f0c-a539-8d223c3af641\">\n",
              "    <div class=\"colab-df-container\">\n",
              "      <div>\n",
              "<style scoped>\n",
              "    .dataframe tbody tr th:only-of-type {\n",
              "        vertical-align: middle;\n",
              "    }\n",
              "\n",
              "    .dataframe tbody tr th {\n",
              "        vertical-align: top;\n",
              "    }\n",
              "\n",
              "    .dataframe thead th {\n",
              "        text-align: right;\n",
              "    }\n",
              "</style>\n",
              "<table border=\"1\" class=\"dataframe\">\n",
              "  <thead>\n",
              "    <tr style=\"text-align: right;\">\n",
              "      <th></th>\n",
              "      <th>ID</th>\n",
              "      <th>Dia</th>\n",
              "      <th>TOTAL_KW</th>\n",
              "      <th>TEMPERATURA</th>\n",
              "      <th>Feriado</th>\n",
              "      <th>Publico</th>\n",
              "    </tr>\n",
              "    <tr>\n",
              "      <th>FECHA/HORA</th>\n",
              "      <th></th>\n",
              "      <th></th>\n",
              "      <th></th>\n",
              "      <th></th>\n",
              "      <th></th>\n",
              "      <th></th>\n",
              "    </tr>\n",
              "  </thead>\n",
              "  <tbody>\n",
              "    <tr>\n",
              "      <th>2021-01-07 00:00:00</th>\n",
              "      <td>0.0</td>\n",
              "      <td>4.0</td>\n",
              "      <td>1.721749e+09</td>\n",
              "      <td>8.7</td>\n",
              "      <td>0.0</td>\n",
              "      <td>0.0</td>\n",
              "    </tr>\n",
              "    <tr>\n",
              "      <th>2021-01-07 01:00:00</th>\n",
              "      <td>1.0</td>\n",
              "      <td>4.0</td>\n",
              "      <td>1.731463e+09</td>\n",
              "      <td>8.4</td>\n",
              "      <td>0.0</td>\n",
              "      <td>0.0</td>\n",
              "    </tr>\n",
              "    <tr>\n",
              "      <th>2021-01-07 02:00:00</th>\n",
              "      <td>2.0</td>\n",
              "      <td>4.0</td>\n",
              "      <td>1.676359e+09</td>\n",
              "      <td>8.2</td>\n",
              "      <td>0.0</td>\n",
              "      <td>0.0</td>\n",
              "    </tr>\n",
              "  </tbody>\n",
              "</table>\n",
              "</div>\n",
              "      <button class=\"colab-df-convert\" onclick=\"convertToInteractive('df-05179a8c-b168-4f0c-a539-8d223c3af641')\"\n",
              "              title=\"Convert this dataframe to an interactive table.\"\n",
              "              style=\"display:none;\">\n",
              "        \n",
              "  <svg xmlns=\"http://www.w3.org/2000/svg\" height=\"24px\"viewBox=\"0 0 24 24\"\n",
              "       width=\"24px\">\n",
              "    <path d=\"M0 0h24v24H0V0z\" fill=\"none\"/>\n",
              "    <path d=\"M18.56 5.44l.94 2.06.94-2.06 2.06-.94-2.06-.94-.94-2.06-.94 2.06-2.06.94zm-11 1L8.5 8.5l.94-2.06 2.06-.94-2.06-.94L8.5 2.5l-.94 2.06-2.06.94zm10 10l.94 2.06.94-2.06 2.06-.94-2.06-.94-.94-2.06-.94 2.06-2.06.94z\"/><path d=\"M17.41 7.96l-1.37-1.37c-.4-.4-.92-.59-1.43-.59-.52 0-1.04.2-1.43.59L10.3 9.45l-7.72 7.72c-.78.78-.78 2.05 0 2.83L4 21.41c.39.39.9.59 1.41.59.51 0 1.02-.2 1.41-.59l7.78-7.78 2.81-2.81c.8-.78.8-2.07 0-2.86zM5.41 20L4 18.59l7.72-7.72 1.47 1.35L5.41 20z\"/>\n",
              "  </svg>\n",
              "      </button>\n",
              "      \n",
              "  <style>\n",
              "    .colab-df-container {\n",
              "      display:flex;\n",
              "      flex-wrap:wrap;\n",
              "      gap: 12px;\n",
              "    }\n",
              "\n",
              "    .colab-df-convert {\n",
              "      background-color: #E8F0FE;\n",
              "      border: none;\n",
              "      border-radius: 50%;\n",
              "      cursor: pointer;\n",
              "      display: none;\n",
              "      fill: #1967D2;\n",
              "      height: 32px;\n",
              "      padding: 0 0 0 0;\n",
              "      width: 32px;\n",
              "    }\n",
              "\n",
              "    .colab-df-convert:hover {\n",
              "      background-color: #E2EBFA;\n",
              "      box-shadow: 0px 1px 2px rgba(60, 64, 67, 0.3), 0px 1px 3px 1px rgba(60, 64, 67, 0.15);\n",
              "      fill: #174EA6;\n",
              "    }\n",
              "\n",
              "    [theme=dark] .colab-df-convert {\n",
              "      background-color: #3B4455;\n",
              "      fill: #D2E3FC;\n",
              "    }\n",
              "\n",
              "    [theme=dark] .colab-df-convert:hover {\n",
              "      background-color: #434B5C;\n",
              "      box-shadow: 0px 1px 3px 1px rgba(0, 0, 0, 0.15);\n",
              "      filter: drop-shadow(0px 1px 2px rgba(0, 0, 0, 0.3));\n",
              "      fill: #FFFFFF;\n",
              "    }\n",
              "  </style>\n",
              "\n",
              "      <script>\n",
              "        const buttonEl =\n",
              "          document.querySelector('#df-05179a8c-b168-4f0c-a539-8d223c3af641 button.colab-df-convert');\n",
              "        buttonEl.style.display =\n",
              "          google.colab.kernel.accessAllowed ? 'block' : 'none';\n",
              "\n",
              "        async function convertToInteractive(key) {\n",
              "          const element = document.querySelector('#df-05179a8c-b168-4f0c-a539-8d223c3af641');\n",
              "          const dataTable =\n",
              "            await google.colab.kernel.invokeFunction('convertToInteractive',\n",
              "                                                     [key], {});\n",
              "          if (!dataTable) return;\n",
              "\n",
              "          const docLinkHtml = 'Like what you see? Visit the ' +\n",
              "            '<a target=\"_blank\" href=https://colab.research.google.com/notebooks/data_table.ipynb>data table notebook</a>'\n",
              "            + ' to learn more about interactive tables.';\n",
              "          element.innerHTML = '';\n",
              "          dataTable['output_type'] = 'display_data';\n",
              "          await google.colab.output.renderOutput(dataTable, element);\n",
              "          const docLink = document.createElement('div');\n",
              "          docLink.innerHTML = docLinkHtml;\n",
              "          element.appendChild(docLink);\n",
              "        }\n",
              "      </script>\n",
              "    </div>\n",
              "  </div>\n",
              "  "
            ]
          },
          "metadata": {},
          "execution_count": 13
        }
      ],
      "source": [
        "# Separación datos train-val-test\n",
        "# ==============================================================================\n",
        "datos = datos.loc['2021-01-07 00:00:00': '2022-12-04 23:00:00']\n",
        "fin_train = '2021-12-31 23:59:00'\n",
        "fin_validacion = '2022-04-30 23:59:00'\n",
        "datos_train = datos.loc[: fin_train, :]\n",
        "datos_val   = datos.loc[fin_train:fin_validacion, :]\n",
        "datos_test  = datos.loc[fin_validacion:, :]\n",
        "\n",
        "print(f\"Fechas train      : {datos_train.index.min()} --- {datos_train.index.max()}  (n={len(datos_train)})\")\n",
        "print(f\"Fechas validacion : {datos_val.index.min()} --- {datos_val.index.max()}  (n={len(datos_val)})\")\n",
        "print(f\"Fechas test       : {datos_test.index.min()} --- {datos_test.index.max()}  (n={len(datos_test)})\")\n",
        "datos_train.head(3)\n"
      ]
    },
    {
      "cell_type": "code",
      "source": [],
      "metadata": {
        "id": "K6tWfEFL1PG9",
        "outputId": "8b57f065-669e-4f6b-a504-bc04a2548ca3",
        "colab": {
          "base_uri": "https://localhost:8080/",
          "height": 308
        }
      },
      "id": "K6tWfEFL1PG9",
      "execution_count": 13,
      "outputs": [
        {
          "output_type": "execute_result",
          "data": {
            "text/plain": [
              "                           ID  Dia  TOTAL_KW  TEMPERATURA  Feriado  Publico  \\\n",
              "FECHA/HORA                                                                    \n",
              "2021-07-01 00:00:00+00:00 NaN  NaN       NaN          NaN      NaN      NaN   \n",
              "2021-07-01 01:00:00+00:00 NaN  NaN       NaN          NaN      NaN      NaN   \n",
              "2021-07-01 02:00:00+00:00 NaN  NaN       NaN          NaN      NaN      NaN   \n",
              "\n",
              "                           Unnamed: 7  Unnamed: 8  Unnamed: 9  Unnamed: 10  \\\n",
              "FECHA/HORA                                                                   \n",
              "2021-07-01 00:00:00+00:00         NaN         NaN         NaN          NaN   \n",
              "2021-07-01 01:00:00+00:00         NaN         NaN         NaN          NaN   \n",
              "2021-07-01 02:00:00+00:00         NaN         NaN         NaN          NaN   \n",
              "\n",
              "                           Unnamed: 11  Unnamed: 12  Unnamed: 13  Unnamed: 14  \\\n",
              "FECHA/HORA                                                                      \n",
              "2021-07-01 00:00:00+00:00          NaN          NaN          NaN          NaN   \n",
              "2021-07-01 01:00:00+00:00          NaN          NaN          NaN          NaN   \n",
              "2021-07-01 02:00:00+00:00          NaN          NaN          NaN          NaN   \n",
              "\n",
              "                           Unnamed: 15  Unnamed: 16  Unnamed: 17  Unnamed: 18  \\\n",
              "FECHA/HORA                                                                      \n",
              "2021-07-01 00:00:00+00:00          NaN          NaN          NaN          NaN   \n",
              "2021-07-01 01:00:00+00:00          NaN          NaN          NaN          NaN   \n",
              "2021-07-01 02:00:00+00:00          NaN          NaN          NaN          NaN   \n",
              "\n",
              "                           Unnamed: 19  \n",
              "FECHA/HORA                              \n",
              "2021-07-01 00:00:00+00:00          NaN  \n",
              "2021-07-01 01:00:00+00:00          NaN  \n",
              "2021-07-01 02:00:00+00:00          NaN  "
            ],
            "text/html": [
              "\n",
              "  <div id=\"df-cccfcf1d-3350-44dd-aff2-851260fede6e\">\n",
              "    <div class=\"colab-df-container\">\n",
              "      <div>\n",
              "<style scoped>\n",
              "    .dataframe tbody tr th:only-of-type {\n",
              "        vertical-align: middle;\n",
              "    }\n",
              "\n",
              "    .dataframe tbody tr th {\n",
              "        vertical-align: top;\n",
              "    }\n",
              "\n",
              "    .dataframe thead th {\n",
              "        text-align: right;\n",
              "    }\n",
              "</style>\n",
              "<table border=\"1\" class=\"dataframe\">\n",
              "  <thead>\n",
              "    <tr style=\"text-align: right;\">\n",
              "      <th></th>\n",
              "      <th>ID</th>\n",
              "      <th>Dia</th>\n",
              "      <th>TOTAL_KW</th>\n",
              "      <th>TEMPERATURA</th>\n",
              "      <th>Feriado</th>\n",
              "      <th>Publico</th>\n",
              "      <th>Unnamed: 7</th>\n",
              "      <th>Unnamed: 8</th>\n",
              "      <th>Unnamed: 9</th>\n",
              "      <th>Unnamed: 10</th>\n",
              "      <th>Unnamed: 11</th>\n",
              "      <th>Unnamed: 12</th>\n",
              "      <th>Unnamed: 13</th>\n",
              "      <th>Unnamed: 14</th>\n",
              "      <th>Unnamed: 15</th>\n",
              "      <th>Unnamed: 16</th>\n",
              "      <th>Unnamed: 17</th>\n",
              "      <th>Unnamed: 18</th>\n",
              "      <th>Unnamed: 19</th>\n",
              "    </tr>\n",
              "    <tr>\n",
              "      <th>FECHA/HORA</th>\n",
              "      <th></th>\n",
              "      <th></th>\n",
              "      <th></th>\n",
              "      <th></th>\n",
              "      <th></th>\n",
              "      <th></th>\n",
              "      <th></th>\n",
              "      <th></th>\n",
              "      <th></th>\n",
              "      <th></th>\n",
              "      <th></th>\n",
              "      <th></th>\n",
              "      <th></th>\n",
              "      <th></th>\n",
              "      <th></th>\n",
              "      <th></th>\n",
              "      <th></th>\n",
              "      <th></th>\n",
              "      <th></th>\n",
              "    </tr>\n",
              "  </thead>\n",
              "  <tbody>\n",
              "    <tr>\n",
              "      <th>2021-07-01 00:00:00+00:00</th>\n",
              "      <td>NaN</td>\n",
              "      <td>NaN</td>\n",
              "      <td>NaN</td>\n",
              "      <td>NaN</td>\n",
              "      <td>NaN</td>\n",
              "      <td>NaN</td>\n",
              "      <td>NaN</td>\n",
              "      <td>NaN</td>\n",
              "      <td>NaN</td>\n",
              "      <td>NaN</td>\n",
              "      <td>NaN</td>\n",
              "      <td>NaN</td>\n",
              "      <td>NaN</td>\n",
              "      <td>NaN</td>\n",
              "      <td>NaN</td>\n",
              "      <td>NaN</td>\n",
              "      <td>NaN</td>\n",
              "      <td>NaN</td>\n",
              "      <td>NaN</td>\n",
              "    </tr>\n",
              "    <tr>\n",
              "      <th>2021-07-01 01:00:00+00:00</th>\n",
              "      <td>NaN</td>\n",
              "      <td>NaN</td>\n",
              "      <td>NaN</td>\n",
              "      <td>NaN</td>\n",
              "      <td>NaN</td>\n",
              "      <td>NaN</td>\n",
              "      <td>NaN</td>\n",
              "      <td>NaN</td>\n",
              "      <td>NaN</td>\n",
              "      <td>NaN</td>\n",
              "      <td>NaN</td>\n",
              "      <td>NaN</td>\n",
              "      <td>NaN</td>\n",
              "      <td>NaN</td>\n",
              "      <td>NaN</td>\n",
              "      <td>NaN</td>\n",
              "      <td>NaN</td>\n",
              "      <td>NaN</td>\n",
              "      <td>NaN</td>\n",
              "    </tr>\n",
              "    <tr>\n",
              "      <th>2021-07-01 02:00:00+00:00</th>\n",
              "      <td>NaN</td>\n",
              "      <td>NaN</td>\n",
              "      <td>NaN</td>\n",
              "      <td>NaN</td>\n",
              "      <td>NaN</td>\n",
              "      <td>NaN</td>\n",
              "      <td>NaN</td>\n",
              "      <td>NaN</td>\n",
              "      <td>NaN</td>\n",
              "      <td>NaN</td>\n",
              "      <td>NaN</td>\n",
              "      <td>NaN</td>\n",
              "      <td>NaN</td>\n",
              "      <td>NaN</td>\n",
              "      <td>NaN</td>\n",
              "      <td>NaN</td>\n",
              "      <td>NaN</td>\n",
              "      <td>NaN</td>\n",
              "      <td>NaN</td>\n",
              "    </tr>\n",
              "  </tbody>\n",
              "</table>\n",
              "</div>\n",
              "      <button class=\"colab-df-convert\" onclick=\"convertToInteractive('df-cccfcf1d-3350-44dd-aff2-851260fede6e')\"\n",
              "              title=\"Convert this dataframe to an interactive table.\"\n",
              "              style=\"display:none;\">\n",
              "        \n",
              "  <svg xmlns=\"http://www.w3.org/2000/svg\" height=\"24px\"viewBox=\"0 0 24 24\"\n",
              "       width=\"24px\">\n",
              "    <path d=\"M0 0h24v24H0V0z\" fill=\"none\"/>\n",
              "    <path d=\"M18.56 5.44l.94 2.06.94-2.06 2.06-.94-2.06-.94-.94-2.06-.94 2.06-2.06.94zm-11 1L8.5 8.5l.94-2.06 2.06-.94-2.06-.94L8.5 2.5l-.94 2.06-2.06.94zm10 10l.94 2.06.94-2.06 2.06-.94-2.06-.94-.94-2.06-.94 2.06-2.06.94z\"/><path d=\"M17.41 7.96l-1.37-1.37c-.4-.4-.92-.59-1.43-.59-.52 0-1.04.2-1.43.59L10.3 9.45l-7.72 7.72c-.78.78-.78 2.05 0 2.83L4 21.41c.39.39.9.59 1.41.59.51 0 1.02-.2 1.41-.59l7.78-7.78 2.81-2.81c.8-.78.8-2.07 0-2.86zM5.41 20L4 18.59l7.72-7.72 1.47 1.35L5.41 20z\"/>\n",
              "  </svg>\n",
              "      </button>\n",
              "      \n",
              "  <style>\n",
              "    .colab-df-container {\n",
              "      display:flex;\n",
              "      flex-wrap:wrap;\n",
              "      gap: 12px;\n",
              "    }\n",
              "\n",
              "    .colab-df-convert {\n",
              "      background-color: #E8F0FE;\n",
              "      border: none;\n",
              "      border-radius: 50%;\n",
              "      cursor: pointer;\n",
              "      display: none;\n",
              "      fill: #1967D2;\n",
              "      height: 32px;\n",
              "      padding: 0 0 0 0;\n",
              "      width: 32px;\n",
              "    }\n",
              "\n",
              "    .colab-df-convert:hover {\n",
              "      background-color: #E2EBFA;\n",
              "      box-shadow: 0px 1px 2px rgba(60, 64, 67, 0.3), 0px 1px 3px 1px rgba(60, 64, 67, 0.15);\n",
              "      fill: #174EA6;\n",
              "    }\n",
              "\n",
              "    [theme=dark] .colab-df-convert {\n",
              "      background-color: #3B4455;\n",
              "      fill: #D2E3FC;\n",
              "    }\n",
              "\n",
              "    [theme=dark] .colab-df-convert:hover {\n",
              "      background-color: #434B5C;\n",
              "      box-shadow: 0px 1px 3px 1px rgba(0, 0, 0, 0.15);\n",
              "      filter: drop-shadow(0px 1px 2px rgba(0, 0, 0, 0.3));\n",
              "      fill: #FFFFFF;\n",
              "    }\n",
              "  </style>\n",
              "\n",
              "      <script>\n",
              "        const buttonEl =\n",
              "          document.querySelector('#df-cccfcf1d-3350-44dd-aff2-851260fede6e button.colab-df-convert');\n",
              "        buttonEl.style.display =\n",
              "          google.colab.kernel.accessAllowed ? 'block' : 'none';\n",
              "\n",
              "        async function convertToInteractive(key) {\n",
              "          const element = document.querySelector('#df-cccfcf1d-3350-44dd-aff2-851260fede6e');\n",
              "          const dataTable =\n",
              "            await google.colab.kernel.invokeFunction('convertToInteractive',\n",
              "                                                     [key], {});\n",
              "          if (!dataTable) return;\n",
              "\n",
              "          const docLinkHtml = 'Like what you see? Visit the ' +\n",
              "            '<a target=\"_blank\" href=https://colab.research.google.com/notebooks/data_table.ipynb>data table notebook</a>'\n",
              "            + ' to learn more about interactive tables.';\n",
              "          element.innerHTML = '';\n",
              "          dataTable['output_type'] = 'display_data';\n",
              "          await google.colab.output.renderOutput(dataTable, element);\n",
              "          const docLink = document.createElement('div');\n",
              "          docLink.innerHTML = docLinkHtml;\n",
              "          element.appendChild(docLink);\n",
              "        }\n",
              "      </script>\n",
              "    </div>\n",
              "  </div>\n",
              "  "
            ]
          },
          "metadata": {},
          "execution_count": 13
        }
      ]
    },
    {
      "cell_type": "code",
      "source": [
        "!pip install matplotlib==3.1.3\n",
        "\n"
      ],
      "metadata": {
        "colab": {
          "base_uri": "https://localhost:8080/",
          "height": 453
        },
        "id": "WlUMyxby2HTm",
        "outputId": "bbdd87e1-cfeb-4d73-8255-38823a23505d"
      },
      "id": "WlUMyxby2HTm",
      "execution_count": 14,
      "outputs": [
        {
          "output_type": "stream",
          "name": "stdout",
          "text": [
            "Looking in indexes: https://pypi.org/simple, https://us-python.pkg.dev/colab-wheels/public/simple/\n",
            "Collecting matplotlib==3.1.3\n",
            "  Downloading matplotlib-3.1.3-cp37-cp37m-manylinux1_x86_64.whl (13.1 MB)\n",
            "\u001b[K     |████████████████████████████████| 13.1 MB 30.7 MB/s \n",
            "\u001b[?25hRequirement already satisfied: pyparsing!=2.0.4,!=2.1.2,!=2.1.6,>=2.0.1 in /usr/local/lib/python3.7/dist-packages (from matplotlib==3.1.3) (3.0.9)\n",
            "Requirement already satisfied: numpy>=1.11 in /usr/local/lib/python3.7/dist-packages (from matplotlib==3.1.3) (1.21.6)\n",
            "Requirement already satisfied: cycler>=0.10 in /usr/local/lib/python3.7/dist-packages (from matplotlib==3.1.3) (0.11.0)\n",
            "Requirement already satisfied: kiwisolver>=1.0.1 in /usr/local/lib/python3.7/dist-packages (from matplotlib==3.1.3) (1.4.4)\n",
            "Requirement already satisfied: python-dateutil>=2.1 in /usr/local/lib/python3.7/dist-packages (from matplotlib==3.1.3) (2.8.2)\n",
            "Requirement already satisfied: typing-extensions in /usr/local/lib/python3.7/dist-packages (from kiwisolver>=1.0.1->matplotlib==3.1.3) (4.1.1)\n",
            "Requirement already satisfied: six>=1.5 in /usr/local/lib/python3.7/dist-packages (from python-dateutil>=2.1->matplotlib==3.1.3) (1.15.0)\n",
            "Installing collected packages: matplotlib\n",
            "  Attempting uninstall: matplotlib\n",
            "    Found existing installation: matplotlib 3.5.0\n",
            "    Uninstalling matplotlib-3.5.0:\n",
            "      Successfully uninstalled matplotlib-3.5.0\n",
            "\u001b[31mERROR: pip's dependency resolver does not currently take into account all the packages that are installed. This behaviour is the source of the following dependency conflicts.\n",
            "skforecast 0.5.1 requires matplotlib<=3.5,>=3.3, but you have matplotlib 3.1.3 which is incompatible.\u001b[0m\n",
            "Successfully installed matplotlib-3.1.3\n"
          ]
        },
        {
          "output_type": "display_data",
          "data": {
            "application/vnd.colab-display-data+json": {
              "pip_warning": {
                "packages": [
                  "matplotlib",
                  "mpl_toolkits"
                ]
              }
            }
          },
          "metadata": {}
        }
      ]
    },
    {
      "cell_type": "code",
      "source": [
        "import matplotlib.pyplot as plt"
      ],
      "metadata": {
        "id": "8Btm_FpJ2jvz"
      },
      "id": "8Btm_FpJ2jvz",
      "execution_count": 15,
      "outputs": []
    },
    {
      "cell_type": "code",
      "source": [
        "from sklearn.model_selection import train_test_split"
      ],
      "metadata": {
        "id": "0_WfthWl3vhJ"
      },
      "id": "0_WfthWl3vhJ",
      "execution_count": 16,
      "outputs": []
    },
    {
      "cell_type": "code",
      "execution_count": 17,
      "id": "e14fc80b",
      "metadata": {
        "id": "e14fc80b",
        "colab": {
          "base_uri": "https://localhost:8080/",
          "height": 341
        },
        "outputId": "08812129-d1e2-4d87-c6b1-90a7c301b40d"
      },
      "outputs": [
        {
          "output_type": "display_data",
          "data": {
            "text/plain": [
              "<Figure size 864x288 with 1 Axes>"
            ],
            "image/png": "[encoded data removed]"
          },
          "metadata": {}
        }
      ],
      "source": [
        "# Gráfico serie temporal\n",
        "# ==============================================================================\n",
        "fig, ax = plt.subplots(figsize=(12, 4))\n",
        "datos_train.TOTAL_KW.plot(ax=ax, label='entrenamiento', linewidth=1)\n",
        "datos_val.TOTAL_KW.plot(ax=ax, label='validación', linewidth=1)\n",
        "datos_test.TOTAL_KW.plot(ax=ax, label='test', linewidth=1)\n",
        "ax.set_title('Demanda eléctrica')\n",
        "ax.legend();"
      ]
    },
    {
      "cell_type": "code",
      "execution_count": 18,
      "id": "e25dfcb3",
      "metadata": {
        "id": "e25dfcb3",
        "colab": {
          "base_uri": "https://localhost:8080/",
          "height": 440
        },
        "outputId": "2209f038-c754-4613-a003-2b1456904d42"
      },
      "outputs": [
        {
          "output_type": "display_data",
          "data": {
            "text/plain": [
              "<Figure size 864x432 with 2 Axes>"
            ],
            "image/png": "[encoded data removed]"
          },
          "metadata": {}
        }
      ],
      "source": [
        "# Gráfico serie temporal con zoom\n",
        "# ==============================================================================\n",
        "zoom = ('2021-10-01 14:00:00','2021-11-01 14:00:00')\n",
        "\n",
        "fig = plt.figure(figsize=(12, 6))\n",
        "grid = plt.GridSpec(nrows=8, ncols=1, hspace=0.6, wspace=0)\n",
        "\n",
        "main_ax = fig.add_subplot(grid[1:3, :])\n",
        "zoom_ax = fig.add_subplot(grid[5:, :])\n",
        "\n",
        "datos.TOTAL_KW.plot(ax=main_ax, c='black', alpha=0.5, linewidth=0.5)\n",
        "min_y = min(datos.TOTAL_KW)\n",
        "max_y = max(datos.TOTAL_KW)\n",
        "main_ax.fill_between(zoom, min_y, max_y, facecolor='blue', alpha=0.5, zorder=0)\n",
        "main_ax.set_xlabel('')\n",
        "\n",
        "datos.loc[zoom[0]: zoom[1]].TOTAL_KW.plot(ax=zoom_ax, color='blue', linewidth=2)\n",
        "\n",
        "main_ax.set_title(f'Demanda electricidad: {datos.index.min()}, {datos.index.max()}', fontsize=14)\n",
        "zoom_ax.set_title(f'Demanda electricidad: {zoom}', fontsize=14)\n",
        "plt.subplots_adjust(hspace=1)"
      ]
    },
    {
      "cell_type": "code",
      "execution_count": 19,
      "id": "b556ee78",
      "metadata": {
        "id": "b556ee78",
        "colab": {
          "base_uri": "https://localhost:8080/",
          "height": 281
        },
        "outputId": "75dd6acd-a1d0-47de-847f-dbb9226dbf1f"
      },
      "outputs": [
        {
          "output_type": "display_data",
          "data": {
            "text/plain": [
              "<Figure size 504x252 with 1 Axes>"
            ],
            "image/png": "[encoded data removed]"
          },
          "metadata": {}
        }
      ],
      "source": [
        "# Gráfico boxplot para estacionalidad anual\n",
        "# ==============================================================================\n",
        "fig, ax = plt.subplots(figsize=(7, 3.5))\n",
        "datos['mes'] = datos.index.month\n",
        "datos.boxplot(column='TOTAL_KW', by='mes', ax=ax,)\n",
        "datos.groupby('mes')['TOTAL_KW'].median().plot(style='o-', linewidth=0.8, ax=ax)\n",
        "ax.set_ylabel('Demand')\n",
        "ax.set_title('Distribución demanda por mes')\n",
        "fig.suptitle('');"
      ]
    },
    {
      "cell_type": "code",
      "execution_count": 20,
      "id": "321bcae7",
      "metadata": {
        "id": "321bcae7",
        "colab": {
          "base_uri": "https://localhost:8080/",
          "height": 281
        },
        "outputId": "8ffd92b2-0305-47a8-fa21-c023b8269347"
      },
      "outputs": [
        {
          "output_type": "display_data",
          "data": {
            "text/plain": [
              "<Figure size 504x252 with 1 Axes>"
            ],
            "image/png": "[encoded data removed]"
          },
          "metadata": {}
        }
      ],
      "source": [
        "# Gráfico boxplot para estacionalidad semanal\n",
        "# ==============================================================================\n",
        "fig, ax = plt.subplots(figsize=(7, 3.5))\n",
        "datos['Dia'] = datos.index.day_of_week + 1\n",
        "datos.boxplot(column='TOTAL_KW', by='Dia', ax=ax)\n",
        "datos.groupby('Dia')['TOTAL_KW'].median().plot(style='o-', linewidth=0.8, ax=ax)\n",
        "ax.set_ylabel('TOTAL_KW')\n",
        "ax.set_title('Distribución demanda por día de la semana')\n",
        "fig.suptitle('');"
      ]
    },
    {
      "cell_type": "code",
      "execution_count": 21,
      "id": "eb1deb53",
      "metadata": {
        "id": "eb1deb53",
        "colab": {
          "base_uri": "https://localhost:8080/",
          "height": 282
        },
        "outputId": "b3b856e2-ef3e-4678-dcb3-f6a3fedc40d2"
      },
      "outputs": [
        {
          "output_type": "display_data",
          "data": {
            "text/plain": [
              "<Figure size 648x252 with 1 Axes>"
            ],
            "image/png": "[encoded data removed]"
          },
          "metadata": {}
        }
      ],
      "source": [
        "# Gráfico boxplot para estacionalidad diaria\n",
        "# ==============================================================================\n",
        "fig, ax = plt.subplots(figsize=(9, 3.5))\n",
        "datos['hora_dia'] = datos.index.hour + 1\n",
        "datos.boxplot(column='TOTAL_KW', by='hora_dia', ax=ax)\n",
        "datos.groupby('hora_dia')['TOTAL_KW'].median().plot(style='o-', linewidth=0.8, ax=ax)\n",
        "ax.set_ylabel('TOTAL_KW')\n",
        "ax.set_title('Distribución demanda por hora del día')\n",
        "fig.suptitle('');"
      ]
    },
    {
      "cell_type": "code",
      "execution_count": 23,
      "id": "cb2cfced",
      "metadata": {
        "id": "cb2cfced",
        "colab": {
          "base_uri": "https://localhost:8080/",
          "height": 297
        },
        "outputId": "cb5f051d-73fe-43f7-c92f-caa422f226e0"
      },
      "outputs": [
        {
          "output_type": "display_data",
          "data": {
            "text/plain": [
              "<Figure size 504x252 with 1 Axes>"
            ],
            "image/png": "[encoded data removed]"
          },
          "metadata": {}
        }
      ],
      "source": [
        "# Grafico violinplot\n",
        "# ==============================================================================\n",
        "fig, ax = plt.subplots(nrows=1, ncols=1, figsize=(7, 3.5))\n",
        "sns.violinplot(\n",
        "    x       = 'TOTAL_KW',\n",
        "    y       = 'Feriado',\n",
        "    data    = datos.assign(Feriado = datos.Feriado.astype(str)),\n",
        "    palette = 'tab10',\n",
        "    ax      = ax\n",
        ")\n",
        "ax.set_title('Distribución de la demanda entre festivos y no festivos')\n",
        "ax.set_xlabel('demanda')\n",
        "ax.set_ylabel('Feriado');"
      ]
    },
    {
      "cell_type": "code",
      "execution_count": 24,
      "id": "bd1e2279",
      "metadata": {
        "id": "bd1e2279",
        "colab": {
          "base_uri": "https://localhost:8080/",
          "height": 244
        },
        "outputId": "8d232aa4-dea3-4da0-d9de-5a713dc50cd2"
      },
      "outputs": [
        {
          "output_type": "display_data",
          "data": {
            "text/plain": [
              "<Figure size 504x216 with 1 Axes>"
            ],
            "image/png": "[encoded data removed]"
          },
          "metadata": {}
        }
      ],
      "source": [
        "# Gráfico autocorrelación\n",
        "# ==============================================================================\n",
        "fig, ax = plt.subplots(figsize=(7, 3))\n",
        "plot_acf(datos.TOTAL_KW, ax=ax, lags=60)\n",
        "plt.show()"
      ]
    },
    {
      "cell_type": "code",
      "execution_count": 25,
      "id": "15bfc9d3",
      "metadata": {
        "id": "15bfc9d3",
        "colab": {
          "base_uri": "https://localhost:8080/",
          "height": 244
        },
        "outputId": "9dceb78e-e2a4-452f-f82b-ba5bc81da5bf"
      },
      "outputs": [
        {
          "output_type": "display_data",
          "data": {
            "text/plain": [
              "<Figure size 504x216 with 1 Axes>"
            ],
            "image/png": "[encoded data removed]"
          },
          "metadata": {}
        }
      ],
      "source": [
        "# Gráfico autocorrelación parcial\n",
        "# ==============================================================================\n",
        "fig, ax = plt.subplots(figsize=(7, 3))\n",
        "plot_pacf(datos.TOTAL_KW, ax=ax, lags=60)\n",
        "plt.show()\n"
      ]
    },
    {
      "cell_type": "code",
      "execution_count": 29,
      "id": "609cd9c7",
      "metadata": {
        "id": "609cd9c7",
        "colab": {
          "base_uri": "https://localhost:8080/",
          "height": 276
        },
        "outputId": "aae34d21-de92-4ec6-8882-032031f85b69"
      },
      "outputs": [
        {
          "output_type": "error",
          "ename": "TypeError",
          "evalue": "ignored",
          "traceback": [
            "\u001b[0;31m---------------------------------------------------------------------------\u001b[0m",
            "\u001b[0;31mTypeError\u001b[0m                                 Traceback (most recent call last)",
            "\u001b[0;32m<ipython-input-29-0072828dd654>\u001b[0m in \u001b[0;36m<module>\u001b[0;34m\u001b[0m\n\u001b[1;32m      7\u001b[0m              )\n\u001b[1;32m      8\u001b[0m \u001b[0;34m\u001b[0m\u001b[0m\n\u001b[0;32m----> 9\u001b[0;31m \u001b[0mforecaster\u001b[0m\u001b[0;34m.\u001b[0m\u001b[0mfit\u001b[0m\u001b[0;34m(\u001b[0m\u001b[0my\u001b[0m\u001b[0;34m=\u001b[0m\u001b[0mdatos_train\u001b[0m\u001b[0;34m[\u001b[0m\u001b[0;34m:\u001b[0m\u001b[0mfin_validacion\u001b[0m\u001b[0;34m,\u001b[0m\u001b[0;34m'TOTAL_KW'\u001b[0m\u001b[0;34m]\u001b[0m\u001b[0;34m)\u001b[0m\u001b[0;34m\u001b[0m\u001b[0;34m\u001b[0m\u001b[0m\n\u001b[0m\u001b[1;32m     10\u001b[0m \u001b[0mforecaster\u001b[0m\u001b[0;34m\u001b[0m\u001b[0;34m\u001b[0m\u001b[0m\n",
            "\u001b[0;32m/usr/local/lib/python3.7/dist-packages/pandas/core/frame.py\u001b[0m in \u001b[0;36m__getitem__\u001b[0;34m(self, key)\u001b[0m\n\u001b[1;32m   3456\u001b[0m             \u001b[0;32mif\u001b[0m \u001b[0mself\u001b[0m\u001b[0;34m.\u001b[0m\u001b[0mcolumns\u001b[0m\u001b[0;34m.\u001b[0m\u001b[0mnlevels\u001b[0m \u001b[0;34m>\u001b[0m \u001b[0;36m1\u001b[0m\u001b[0;34m:\u001b[0m\u001b[0;34m\u001b[0m\u001b[0;34m\u001b[0m\u001b[0m\n\u001b[1;32m   3457\u001b[0m                 \u001b[0;32mreturn\u001b[0m \u001b[0mself\u001b[0m\u001b[0;34m.\u001b[0m\u001b[0m_getitem_multilevel\u001b[0m\u001b[0;34m(\u001b[0m\u001b[0mkey\u001b[0m\u001b[0;34m)\u001b[0m\u001b[0;34m\u001b[0m\u001b[0;34m\u001b[0m\u001b[0m\n\u001b[0;32m-> 3458\u001b[0;31m             \u001b[0mindexer\u001b[0m \u001b[0;34m=\u001b[0m \u001b[0mself\u001b[0m\u001b[0;34m.\u001b[0m\u001b[0mcolumns\u001b[0m\u001b[0;34m.\u001b[0m\u001b[0mget_loc\u001b[0m\u001b[0;34m(\u001b[0m\u001b[0mkey\u001b[0m\u001b[0;34m)\u001b[0m\u001b[0;34m\u001b[0m\u001b[0;34m\u001b[0m\u001b[0m\n\u001b[0m\u001b[1;32m   3459\u001b[0m             \u001b[0;32mif\u001b[0m \u001b[0mis_integer\u001b[0m\u001b[0;34m(\u001b[0m\u001b[0mindexer\u001b[0m\u001b[0;34m)\u001b[0m\u001b[0;34m:\u001b[0m\u001b[0;34m\u001b[0m\u001b[0;34m\u001b[0m\u001b[0m\n\u001b[1;32m   3460\u001b[0m                 \u001b[0mindexer\u001b[0m \u001b[0;34m=\u001b[0m \u001b[0;34m[\u001b[0m\u001b[0mindexer\u001b[0m\u001b[0;34m]\u001b[0m\u001b[0;34m\u001b[0m\u001b[0;34m\u001b[0m\u001b[0m\n",
            "\u001b[0;32m/usr/local/lib/python3.7/dist-packages/pandas/core/indexes/base.py\u001b[0m in \u001b[0;36mget_loc\u001b[0;34m(self, key, method, tolerance)\u001b[0m\n\u001b[1;32m   3359\u001b[0m             \u001b[0mcasted_key\u001b[0m \u001b[0;34m=\u001b[0m \u001b[0mself\u001b[0m\u001b[0;34m.\u001b[0m\u001b[0m_maybe_cast_indexer\u001b[0m\u001b[0;34m(\u001b[0m\u001b[0mkey\u001b[0m\u001b[0;34m)\u001b[0m\u001b[0;34m\u001b[0m\u001b[0;34m\u001b[0m\u001b[0m\n\u001b[1;32m   3360\u001b[0m             \u001b[0;32mtry\u001b[0m\u001b[0;34m:\u001b[0m\u001b[0;34m\u001b[0m\u001b[0;34m\u001b[0m\u001b[0m\n\u001b[0;32m-> 3361\u001b[0;31m                 \u001b[0;32mreturn\u001b[0m \u001b[0mself\u001b[0m\u001b[0;34m.\u001b[0m\u001b[0m_engine\u001b[0m\u001b[0;34m.\u001b[0m\u001b[0mget_loc\u001b[0m\u001b[0;34m(\u001b[0m\u001b[0mcasted_key\u001b[0m\u001b[0;34m)\u001b[0m\u001b[0;34m\u001b[0m\u001b[0;34m\u001b[0m\u001b[0m\n\u001b[0m\u001b[1;32m   3362\u001b[0m             \u001b[0;32mexcept\u001b[0m \u001b[0mKeyError\u001b[0m \u001b[0;32mas\u001b[0m \u001b[0merr\u001b[0m\u001b[0;34m:\u001b[0m\u001b[0;34m\u001b[0m\u001b[0;34m\u001b[0m\u001b[0m\n\u001b[1;32m   3363\u001b[0m                 \u001b[0;32mraise\u001b[0m \u001b[0mKeyError\u001b[0m\u001b[0;34m(\u001b[0m\u001b[0mkey\u001b[0m\u001b[0;34m)\u001b[0m \u001b[0;32mfrom\u001b[0m \u001b[0merr\u001b[0m\u001b[0;34m\u001b[0m\u001b[0;34m\u001b[0m\u001b[0m\n",
            "\u001b[0;32m/usr/local/lib/python3.7/dist-packages/pandas/_libs/index.pyx\u001b[0m in \u001b[0;36mpandas._libs.index.IndexEngine.get_loc\u001b[0;34m()\u001b[0m\n",
            "\u001b[0;32m/usr/local/lib/python3.7/dist-packages/pandas/_libs/index.pyx\u001b[0m in \u001b[0;36mpandas._libs.index.IndexEngine.get_loc\u001b[0;34m()\u001b[0m\n",
            "\u001b[0;31mTypeError\u001b[0m: '(slice(None, '2022-04-30 23:59:00', None), 'TOTAL_KW')' is an invalid key"
          ]
        }
      ],
      "source": [
        "# Crear y entrenar forecaster\n",
        "# ==============================================================================\n",
        "forecaster = ForecasterAutoreg(\n",
        "                regressor     = Ridge(),\n",
        "                lags          = 24,\n",
        "                transformer_y = StandardScaler()\n",
        "             )\n",
        "\n",
        "forecaster.fit(y=datos.loc[:fin_validacion,'TOTAL_KW'])\n",
        "forecaster"
      ]
    },
    {
      "cell_type": "code",
      "execution_count": null,
      "id": "9713cdb1",
      "metadata": {
        "id": "9713cdb1",
        "colab": {
          "base_uri": "https://localhost:8080/",
          "height": 364
        },
        "outputId": "8e5931e4-997f-4f29-cb82-d3ce4527ec7a"
      },
      "outputs": [
        {
          "output_type": "error",
          "ename": "Exception",
          "evalue": "ignored",
          "traceback": [
            "\u001b[0;31m---------------------------------------------------------------------------\u001b[0m",
            "\u001b[0;31mException\u001b[0m                                 Traceback (most recent call last)",
            "\u001b[0;32m<ipython-input-66-bd664d450772>\u001b[0m in \u001b[0;36m<module>\u001b[0;34m\u001b[0m\n\u001b[1;32m      9\u001b[0m                             \u001b[0mmetric\u001b[0m     \u001b[0;34m=\u001b[0m \u001b[0;34m'mean_absolute_error'\u001b[0m\u001b[0;34m,\u001b[0m\u001b[0;34m\u001b[0m\u001b[0;34m\u001b[0m\u001b[0m\n\u001b[1;32m     10\u001b[0m                             \u001b[0mrefit\u001b[0m      \u001b[0;34m=\u001b[0m \u001b[0;32mFalse\u001b[0m\u001b[0;34m,\u001b[0m\u001b[0;34m\u001b[0m\u001b[0;34m\u001b[0m\u001b[0m\n\u001b[0;32m---> 11\u001b[0;31m                             \u001b[0mverbose\u001b[0m    \u001b[0;34m=\u001b[0m \u001b[0;32mTrue\u001b[0m\u001b[0;34m\u001b[0m\u001b[0;34m\u001b[0m\u001b[0m\n\u001b[0m\u001b[1;32m     12\u001b[0m                         )\n",
            "\u001b[0;32m/usr/local/lib/python3.7/dist-packages/skforecast/model_selection/model_selection.py\u001b[0m in \u001b[0;36mbacktesting_forecaster\u001b[0;34m(forecaster, y, steps, metric, initial_train_size, fixed_train_size, exog, refit, interval, n_boot, random_state, in_sample_residuals, verbose)\u001b[0m\n\u001b[1;32m   1092\u001b[0m             \u001b[0mrandom_state\u001b[0m        \u001b[0;34m=\u001b[0m \u001b[0mrandom_state\u001b[0m\u001b[0;34m,\u001b[0m\u001b[0;34m\u001b[0m\u001b[0;34m\u001b[0m\u001b[0m\n\u001b[1;32m   1093\u001b[0m             \u001b[0min_sample_residuals\u001b[0m \u001b[0;34m=\u001b[0m \u001b[0min_sample_residuals\u001b[0m\u001b[0;34m,\u001b[0m\u001b[0;34m\u001b[0m\u001b[0;34m\u001b[0m\u001b[0m\n\u001b[0;32m-> 1094\u001b[0;31m             \u001b[0mverbose\u001b[0m             \u001b[0;34m=\u001b[0m \u001b[0mverbose\u001b[0m\u001b[0;34m\u001b[0m\u001b[0;34m\u001b[0m\u001b[0m\n\u001b[0m\u001b[1;32m   1095\u001b[0m         )\n\u001b[1;32m   1096\u001b[0m \u001b[0;34m\u001b[0m\u001b[0m\n",
            "\u001b[0;32m/usr/local/lib/python3.7/dist-packages/skforecast/model_selection/model_selection.py\u001b[0m in \u001b[0;36m_backtesting_forecaster_no_refit\u001b[0;34m(forecaster, y, steps, metric, initial_train_size, exog, interval, n_boot, random_state, in_sample_residuals, verbose)\u001b[0m\n\u001b[1;32m    757\u001b[0m     \u001b[0;32mif\u001b[0m \u001b[0minitial_train_size\u001b[0m \u001b[0;32mis\u001b[0m \u001b[0;32mnot\u001b[0m \u001b[0;32mNone\u001b[0m\u001b[0;34m:\u001b[0m\u001b[0;34m\u001b[0m\u001b[0;34m\u001b[0m\u001b[0m\n\u001b[1;32m    758\u001b[0m         \u001b[0;32mif\u001b[0m \u001b[0mexog\u001b[0m \u001b[0;32mis\u001b[0m \u001b[0;32mNone\u001b[0m\u001b[0;34m:\u001b[0m\u001b[0;34m\u001b[0m\u001b[0;34m\u001b[0m\u001b[0m\n\u001b[0;32m--> 759\u001b[0;31m             \u001b[0mforecaster\u001b[0m\u001b[0;34m.\u001b[0m\u001b[0mfit\u001b[0m\u001b[0;34m(\u001b[0m\u001b[0my\u001b[0m\u001b[0;34m=\u001b[0m\u001b[0my\u001b[0m\u001b[0;34m.\u001b[0m\u001b[0miloc\u001b[0m\u001b[0;34m[\u001b[0m\u001b[0;34m:\u001b[0m\u001b[0minitial_train_size\u001b[0m\u001b[0;34m]\u001b[0m\u001b[0;34m)\u001b[0m\u001b[0;34m\u001b[0m\u001b[0;34m\u001b[0m\u001b[0m\n\u001b[0m\u001b[1;32m    760\u001b[0m         \u001b[0;32melse\u001b[0m\u001b[0;34m:\u001b[0m\u001b[0;34m\u001b[0m\u001b[0;34m\u001b[0m\u001b[0m\n\u001b[1;32m    761\u001b[0m             forecaster.fit(\n",
            "\u001b[0;32m/usr/local/lib/python3.7/dist-packages/skforecast/ForecasterAutoreg/ForecasterAutoreg.py\u001b[0m in \u001b[0;36mfit\u001b[0;34m(self, y, exog)\u001b[0m\n\u001b[1;32m    425\u001b[0m                  \u001b[0mexog\u001b[0m\u001b[0;34m.\u001b[0m\u001b[0mcolumns\u001b[0m\u001b[0;34m.\u001b[0m\u001b[0mto_list\u001b[0m\u001b[0;34m(\u001b[0m\u001b[0;34m)\u001b[0m \u001b[0;32mif\u001b[0m \u001b[0misinstance\u001b[0m\u001b[0;34m(\u001b[0m\u001b[0mexog\u001b[0m\u001b[0;34m,\u001b[0m \u001b[0mpd\u001b[0m\u001b[0;34m.\u001b[0m\u001b[0mDataFrame\u001b[0m\u001b[0;34m)\u001b[0m \u001b[0;32melse\u001b[0m \u001b[0mexog\u001b[0m\u001b[0;34m.\u001b[0m\u001b[0mname\u001b[0m\u001b[0;34m\u001b[0m\u001b[0;34m\u001b[0m\u001b[0m\n\u001b[1;32m    426\u001b[0m \u001b[0;34m\u001b[0m\u001b[0m\n\u001b[0;32m--> 427\u001b[0;31m         \u001b[0mX_train\u001b[0m\u001b[0;34m,\u001b[0m \u001b[0my_train\u001b[0m \u001b[0;34m=\u001b[0m \u001b[0mself\u001b[0m\u001b[0;34m.\u001b[0m\u001b[0mcreate_train_X_y\u001b[0m\u001b[0;34m(\u001b[0m\u001b[0my\u001b[0m\u001b[0;34m=\u001b[0m\u001b[0my\u001b[0m\u001b[0;34m,\u001b[0m \u001b[0mexog\u001b[0m\u001b[0;34m=\u001b[0m\u001b[0mexog\u001b[0m\u001b[0;34m)\u001b[0m\u001b[0;34m\u001b[0m\u001b[0;34m\u001b[0m\u001b[0m\n\u001b[0m\u001b[1;32m    428\u001b[0m \u001b[0;34m\u001b[0m\u001b[0m\n\u001b[1;32m    429\u001b[0m         \u001b[0;32mif\u001b[0m \u001b[0;32mnot\u001b[0m \u001b[0mstr\u001b[0m\u001b[0;34m(\u001b[0m\u001b[0mtype\u001b[0m\u001b[0;34m(\u001b[0m\u001b[0mself\u001b[0m\u001b[0;34m.\u001b[0m\u001b[0mregressor\u001b[0m\u001b[0;34m)\u001b[0m\u001b[0;34m)\u001b[0m \u001b[0;34m==\u001b[0m \u001b[0;34m\"<class 'xgboost.sklearn.XGBRegressor'>\"\u001b[0m\u001b[0;34m:\u001b[0m\u001b[0;34m\u001b[0m\u001b[0;34m\u001b[0m\u001b[0m\n",
            "\u001b[0;32m/usr/local/lib/python3.7/dist-packages/skforecast/ForecasterAutoreg/ForecasterAutoreg.py\u001b[0m in \u001b[0;36mcreate_train_X_y\u001b[0;34m(self, y, exog)\u001b[0m\n\u001b[1;32m    320\u001b[0m         \"\"\"\n\u001b[1;32m    321\u001b[0m \u001b[0;34m\u001b[0m\u001b[0m\n\u001b[0;32m--> 322\u001b[0;31m         \u001b[0mcheck_y\u001b[0m\u001b[0;34m(\u001b[0m\u001b[0my\u001b[0m\u001b[0;34m=\u001b[0m\u001b[0my\u001b[0m\u001b[0;34m)\u001b[0m\u001b[0;34m\u001b[0m\u001b[0;34m\u001b[0m\u001b[0m\n\u001b[0m\u001b[1;32m    323\u001b[0m         y = transform_series(\n\u001b[1;32m    324\u001b[0m                 \u001b[0mseries\u001b[0m            \u001b[0;34m=\u001b[0m \u001b[0my\u001b[0m\u001b[0;34m,\u001b[0m\u001b[0;34m\u001b[0m\u001b[0;34m\u001b[0m\u001b[0m\n",
            "\u001b[0;32m/usr/local/lib/python3.7/dist-packages/skforecast/utils/utils.py\u001b[0m in \u001b[0;36mcheck_y\u001b[0;34m(y)\u001b[0m\n\u001b[1;32m     36\u001b[0m \u001b[0;34m\u001b[0m\u001b[0m\n\u001b[1;32m     37\u001b[0m     \u001b[0;32mif\u001b[0m \u001b[0my\u001b[0m\u001b[0;34m.\u001b[0m\u001b[0misnull\u001b[0m\u001b[0;34m(\u001b[0m\u001b[0;34m)\u001b[0m\u001b[0;34m.\u001b[0m\u001b[0many\u001b[0m\u001b[0;34m(\u001b[0m\u001b[0;34m)\u001b[0m\u001b[0;34m:\u001b[0m\u001b[0;34m\u001b[0m\u001b[0;34m\u001b[0m\u001b[0m\n\u001b[0;32m---> 38\u001b[0;31m         \u001b[0;32mraise\u001b[0m \u001b[0mException\u001b[0m\u001b[0;34m(\u001b[0m\u001b[0;34m'`y` has missing values.'\u001b[0m\u001b[0;34m)\u001b[0m\u001b[0;34m\u001b[0m\u001b[0;34m\u001b[0m\u001b[0m\n\u001b[0m\u001b[1;32m     39\u001b[0m \u001b[0;34m\u001b[0m\u001b[0m\n\u001b[1;32m     40\u001b[0m     \u001b[0;32mreturn\u001b[0m\u001b[0;34m\u001b[0m\u001b[0;34m\u001b[0m\u001b[0m\n",
            "\u001b[0;31mException\u001b[0m: `y` has missing values."
          ]
        }
      ],
      "source": [
        "# Backtest\n",
        "# ==============================================================================\n",
        "metrica, predicciones = backtesting_forecaster(\n",
        "                            forecaster = forecaster,\n",
        "                            y          = datos.TOTAL_KW,\n",
        "                            initial_train_size = len(datos.loc[:fin_validacion]),\n",
        "                            fixed_train_size   = False,\n",
        "                            steps      = 24,\n",
        "                            metric     = 'mean_absolute_error',\n",
        "                            refit      = False,\n",
        "                            verbose    = True\n",
        "                        )"
      ]
    },
    {
      "cell_type": "code",
      "execution_count": null,
      "id": "1b7fc53d",
      "metadata": {
        "id": "1b7fc53d",
        "colab": {
          "base_uri": "https://localhost:8080/",
          "height": 476
        },
        "outputId": "e18cba75-8f31-49fe-b075-b57d85b93db4"
      },
      "outputs": [
        {
          "output_type": "error",
          "ename": "NameError",
          "evalue": "ignored",
          "traceback": [
            "\u001b[0;31m---------------------------------------------------------------------------\u001b[0m",
            "\u001b[0;31mNameError\u001b[0m                                 Traceback (most recent call last)",
            "\u001b[0;32m<ipython-input-67-7fd4833e04e3>\u001b[0m in \u001b[0;36m<module>\u001b[0;34m\u001b[0m\n\u001b[1;32m      2\u001b[0m \u001b[0;31m# ==============================================================================\u001b[0m\u001b[0;34m\u001b[0m\u001b[0;34m\u001b[0m\u001b[0;34m\u001b[0m\u001b[0m\n\u001b[1;32m      3\u001b[0m \u001b[0mfig\u001b[0m\u001b[0;34m,\u001b[0m \u001b[0max\u001b[0m \u001b[0;34m=\u001b[0m \u001b[0mplt\u001b[0m\u001b[0;34m.\u001b[0m\u001b[0msubplots\u001b[0m\u001b[0;34m(\u001b[0m\u001b[0mfigsize\u001b[0m\u001b[0;34m=\u001b[0m\u001b[0;34m(\u001b[0m\u001b[0;36m12\u001b[0m\u001b[0;34m,\u001b[0m \u001b[0;36m3.5\u001b[0m\u001b[0;34m)\u001b[0m\u001b[0;34m)\u001b[0m\u001b[0;34m\u001b[0m\u001b[0;34m\u001b[0m\u001b[0m\n\u001b[0;32m----> 4\u001b[0;31m \u001b[0mdatos\u001b[0m\u001b[0;34m.\u001b[0m\u001b[0mloc\u001b[0m\u001b[0;34m[\u001b[0m\u001b[0mpredicciones\u001b[0m\u001b[0;34m.\u001b[0m\u001b[0mindex\u001b[0m\u001b[0;34m,\u001b[0m \u001b[0;34m'TOTAL_KW'\u001b[0m\u001b[0;34m]\u001b[0m\u001b[0;34m.\u001b[0m\u001b[0mplot\u001b[0m\u001b[0;34m(\u001b[0m\u001b[0max\u001b[0m\u001b[0;34m=\u001b[0m\u001b[0max\u001b[0m\u001b[0;34m,\u001b[0m \u001b[0mlinewidth\u001b[0m\u001b[0;34m=\u001b[0m\u001b[0;36m2\u001b[0m\u001b[0;34m,\u001b[0m \u001b[0mlabel\u001b[0m\u001b[0;34m=\u001b[0m\u001b[0;34m'test'\u001b[0m\u001b[0;34m)\u001b[0m\u001b[0;34m\u001b[0m\u001b[0;34m\u001b[0m\u001b[0m\n\u001b[0m\u001b[1;32m      5\u001b[0m \u001b[0mpredicciones\u001b[0m\u001b[0;34m.\u001b[0m\u001b[0mplot\u001b[0m\u001b[0;34m(\u001b[0m\u001b[0mlinewidth\u001b[0m\u001b[0;34m=\u001b[0m\u001b[0;36m2\u001b[0m\u001b[0;34m,\u001b[0m \u001b[0mlabel\u001b[0m\u001b[0;34m=\u001b[0m\u001b[0;34m'predicción'\u001b[0m\u001b[0;34m,\u001b[0m \u001b[0max\u001b[0m\u001b[0;34m=\u001b[0m\u001b[0max\u001b[0m\u001b[0;34m)\u001b[0m\u001b[0;34m\u001b[0m\u001b[0;34m\u001b[0m\u001b[0m\n\u001b[1;32m      6\u001b[0m \u001b[0max\u001b[0m\u001b[0;34m.\u001b[0m\u001b[0mset_title\u001b[0m\u001b[0;34m(\u001b[0m\u001b[0;34m'Predicción vs demanda real'\u001b[0m\u001b[0;34m)\u001b[0m\u001b[0;34m\u001b[0m\u001b[0;34m\u001b[0m\u001b[0m\n",
            "\u001b[0;31mNameError\u001b[0m: name 'predicciones' is not defined"
          ]
        },
        {
          "output_type": "display_data",
          "data": {
            "text/plain": [
              "<Figure size 864x252 with 1 Axes>"
            ],
            "image/png": "[encoded data removed]"
          },
          "metadata": {}
        }
      ],
      "source": [
        "# Gráfico\n",
        "# ==============================================================================\n",
        "fig, ax = plt.subplots(figsize=(12, 3.5))\n",
        "datos.loc[predicciones.index, 'TOTAL_KW'].plot(ax=ax, linewidth=2, label='test')\n",
        "predicciones.plot(linewidth=2, label='predicción', ax=ax)\n",
        "ax.set_title('Predicción vs demanda real')\n",
        "ax.legend();"
      ]
    },
    {
      "cell_type": "code",
      "execution_count": null,
      "id": "847222b7",
      "metadata": {
        "id": "847222b7",
        "colab": {
          "base_uri": "https://localhost:8080/",
          "height": 201
        },
        "outputId": "0b19795a-ea12-40f4-a294-d60d6dc51cc5"
      },
      "outputs": [
        {
          "output_type": "error",
          "ename": "NameError",
          "evalue": "ignored",
          "traceback": [
            "\u001b[0;31m---------------------------------------------------------------------------\u001b[0m",
            "\u001b[0;31mNameError\u001b[0m                                 Traceback (most recent call last)",
            "\u001b[0;32m<ipython-input-68-e33bce2c1324>\u001b[0m in \u001b[0;36m<module>\u001b[0;34m\u001b[0m\n\u001b[1;32m      1\u001b[0m \u001b[0;31m# Error backtest\u001b[0m\u001b[0;34m\u001b[0m\u001b[0;34m\u001b[0m\u001b[0;34m\u001b[0m\u001b[0m\n\u001b[1;32m      2\u001b[0m \u001b[0;31m# ==============================================================================\u001b[0m\u001b[0;34m\u001b[0m\u001b[0;34m\u001b[0m\u001b[0;34m\u001b[0m\u001b[0m\n\u001b[0;32m----> 3\u001b[0;31m \u001b[0mprint\u001b[0m\u001b[0;34m(\u001b[0m\u001b[0;34mf'Error backtest: {metrica}'\u001b[0m\u001b[0;34m)\u001b[0m\u001b[0;34m\u001b[0m\u001b[0;34m\u001b[0m\u001b[0m\n\u001b[0m",
            "\u001b[0;31mNameError\u001b[0m: name 'metrica' is not defined"
          ]
        }
      ],
      "source": [
        "# Error backtest\n",
        "# ==============================================================================\n",
        "print(f'Error backtest: {metrica}')"
      ]
    },
    {
      "cell_type": "code",
      "execution_count": null,
      "id": "dc63dcb9",
      "metadata": {
        "id": "dc63dcb9"
      },
      "outputs": [],
      "source": [
        "# Grid search de hiperparámetros\n",
        "# ==============================================================================\n",
        "forecaster = ForecasterAutoreg(\n",
        "                regressor     = Ridge(),\n",
        "                lags          = 24,\n",
        "                transformer_y = StandardScaler()# Este valor será remplazado en el grid search\n",
        "             )\n",
        "\n",
        "# Lags utilizados como predictores\n",
        "lags_grid = [5, 24, [1, 2, 3, 23, 24, 25, 47, 48, 49]]\n",
        "\n",
        "# Hiperparámetros del regresor\n",
        "param_grid = {'alpha': np.logspace(-3, 5, 10)}\n",
        "\n",
        "resultados_grid = grid_search_forecaster(\n",
        "                        forecaster  = forecaster,\n",
        "                        y           = datos.loc[:fin_validacion, 'TOTAL KW'],\n",
        "                        param_grid  = param_grid,\n",
        "                        lags_grid   = lags_grid,\n",
        "                        steps       = 24,\n",
        "                        metric      = 'mean_absolute_error',\n",
        "                        refit       = False,\n",
        "                        initial_train_size = len(datos[:fin_train]),\n",
        "                        fixed_train_size   = False,\n",
        "                        return_best = True,\n",
        "                        verbose     = False\n",
        "                  )"
      ]
    },
    {
      "cell_type": "code",
      "execution_count": null,
      "id": "a14f2b02",
      "metadata": {
        "id": "a14f2b02"
      },
      "outputs": [],
      "source": [
        "# Resultados Grid Search\n",
        "# ==============================================================================\n",
        "resultados_grid"
      ]
    },
    {
      "cell_type": "code",
      "execution_count": null,
      "id": "2a6bbd49",
      "metadata": {
        "id": "2a6bbd49"
      },
      "outputs": [],
      "source": [
        "forecaster"
      ]
    },
    {
      "cell_type": "code",
      "execution_count": null,
      "id": "e783c623",
      "metadata": {
        "id": "e783c623"
      },
      "outputs": [],
      "source": [
        "# Backtest modelo final\n",
        "# ==============================================================================\n",
        "metrica, predicciones = backtesting_forecaster(\n",
        "                            forecaster         = forecaster,\n",
        "                            y                  = datos.Demand,\n",
        "                            initial_train_size = len(datos[:fin_validacion]),\n",
        "                            fixed_train_size   = False,\n",
        "                            steps              = 24,\n",
        "                            metric             = 'mean_absolute_error',\n",
        "                            refit              = False,\n",
        "                            verbose            = False\n",
        "                        )\n",
        "\n",
        "fig, ax = plt.subplots(figsize=(12, 3.5))\n",
        "datos.loc[predicciones.index, 'TOTAL KW'].plot(linewidth=2, label='test', ax=ax)\n",
        "predicciones.plot(linewidth=2, label='predicción', ax=ax)\n",
        "ax.set_title('Predicción vs demanda real')\n",
        "ax.legend();"
      ]
    },
    {
      "cell_type": "code",
      "execution_count": null,
      "id": "a1377bc5",
      "metadata": {
        "id": "a1377bc5"
      },
      "outputs": [],
      "source": [
        "# Error backtest\n",
        "# ==============================================================================\n",
        "print(f'Error backtest: {metrica}')"
      ]
    },
    {
      "cell_type": "code",
      "execution_count": null,
      "id": "e9d4d8d7",
      "metadata": {
        "id": "e9d4d8d7"
      },
      "outputs": [],
      "source": [
        "# Backtest del conjunto de test con intervalos de predicción\n",
        "# ==============================================================================\n",
        "metric, predicciones = backtesting_forecaster(\n",
        "                            forecaster          = forecaster,\n",
        "                            y                   = datos.Demand,\n",
        "                            initial_train_size  = len(datos.Demand[:fin_validacion]),\n",
        "                            fixed_train_size    = False,\n",
        "                            steps               = 24,\n",
        "                            metric              = 'mean_absolute_error',\n",
        "                            interval            = [10, 90],\n",
        "                            n_boot              = 500,\n",
        "                            in_sample_residuals = True,\n",
        "                            verbose             = False\n",
        "                       )\n",
        "\n",
        "print('Métrica backtesting:', metric)\n",
        "predicciones.head(5)"
      ]
    },
    {
      "cell_type": "code",
      "execution_count": null,
      "id": "3d61c2e9",
      "metadata": {
        "id": "3d61c2e9"
      },
      "outputs": [],
      "source": [
        "# Gráfico\n",
        "# ==============================================================================\n",
        "fig, ax = plt.subplots(figsize=(12, 3.5))\n",
        "datos.loc[predicciones.index, 'TOTAL KW'].plot(linewidth=2, label='test', ax=ax)\n",
        "predicciones['pred'].plot(linewidth=2, label='predicción', ax=ax)\n",
        "ax.set_title('Predicción vs demanda real')\n",
        "ax.fill_between(\n",
        "    predicciones.index,\n",
        "    predicciones['lower_bound'],\n",
        "    predicciones['upper_bound'],\n",
        "    alpha = 0.3,\n",
        "    color = 'red',\n",
        "    label = 'Intervalo predicción' \n",
        ")\n",
        "ax.legend();"
      ]
    },
    {
      "cell_type": "code",
      "execution_count": null,
      "id": "d3c92fdd",
      "metadata": {
        "id": "d3c92fdd"
      },
      "outputs": [],
      "source": [
        "# Cobertura del intervalo predicho\n",
        "# ==============================================================================\n",
        "dentro_intervalo = np.where(\n",
        "                     (datos.loc[fin_validacion:, 'TOTAL KW'] >= predicciones['lower_bound']) & \\\n",
        "                     (datos.loc[fin_validacion:, 'TOTAL KW'] <= predicciones['upper_bound']),\n",
        "                     True,\n",
        "                     False\n",
        "                   )\n",
        "\n",
        "cobertura = dentro_intervalo.mean()\n",
        "print(f\"Cobertura del intervalo predicho: {round(100*cobertura, 2)} %\")"
      ]
    },
    {
      "cell_type": "code",
      "execution_count": null,
      "id": "05b92b18",
      "metadata": {
        "id": "05b92b18"
      },
      "outputs": [],
      "source": [
        "def backtest_predict_next_24h(forecaster, y, hour_init_prediction, exog=None,\n",
        "                              verbose=False):\n",
        "    \n",
        "    '''\n",
        "    Backtest ForecasterAutoreg object when predicting 24 hours of day D+1\n",
        "    statring at specific hour of day D.\n",
        "    \n",
        "    Parameters\n",
        "    ----------\n",
        "    forecaster : ForecasterAutoreg \n",
        "        ForecasterAutoreg object already trained.\n",
        "        \n",
        "    y : pd.Series with datetime index sorted\n",
        "        Test time series values. \n",
        "        \n",
        "    exog : pd.Series or pd.Dataframe with datetime index sorted\n",
        "        Test values of exogen variable. \n",
        "    \n",
        "    hour_init_prediction: int \n",
        "        Hour of day D to start predicciones of day D+1.\n",
        "\n",
        "\n",
        "    Returns \n",
        "    -------\n",
        "    predicciones: pd.Series\n",
        "        Value of predicciones.\n",
        "\n",
        "    '''\n",
        "    \n",
        "    y = y.sort_index()\n",
        "    if exog is not None:\n",
        "        exog = exog.sort_index()\n",
        "        \n",
        "    dummy_steps = 24 - (hour_init_prediction + 1)\n",
        "    steps = dummy_steps + 24\n",
        "    \n",
        "    # First position of `hour_init_prediction` in the series where there is enough\n",
        "    # previous window to calculate lags.\n",
        "    for datetime in y.index[y.index.hour == hour_init_prediction]:\n",
        "        if len(y[:datetime]) >= len(forecaster.last_window):\n",
        "            datetime_init_backtest = datetime\n",
        "            print(f\"Backtesting starts at day: {datetime_init_backtest}\")\n",
        "            break\n",
        "    \n",
        "    days_backtest = np.unique(y[datetime_init_backtest:].index.date)\n",
        "    days_backtest = pd.to_datetime(days_backtest)\n",
        "    days_backtest = days_backtest[1:]\n",
        "    print(f\"Days predicted in the backtesting: {days_backtest.strftime('%Y-%m-%d').values}\")\n",
        "    print('')\n",
        "    backtest_predicciones = []\n",
        "    \n",
        "    for i, day in enumerate(days_backtest):        \n",
        "        # Start and end of the last window used to create the lags\n",
        "        end_window = (day - pd.Timedelta(1, unit='day')).replace(hour=hour_init_prediction)\n",
        "        start_window = end_window - pd.Timedelta(forecaster.max_lag, unit='hour')\n",
        "        last_window = y.loc[start_window:end_window]\n",
        "               \n",
        "        if exog is None:\n",
        "            if verbose:\n",
        "                print(f\"Forecasting day {day.strftime('%Y-%m-%d')}\")\n",
        "                print(f\"Using window from {start_window} to {end_window}\")\n",
        "                \n",
        "            pred = forecaster.predict(steps=steps, last_window=last_window)\n",
        "            \n",
        "        else:\n",
        "            start_exog_window = end_window + pd.Timedelta(1, unit='hour')\n",
        "            end_exog_window   = end_window + pd.Timedelta(steps, unit='hour')\n",
        "            exog_window = exog.loc[start_exog_window:end_exog_window]\n",
        "            exog_window = exog_window\n",
        "            \n",
        "            if verbose:\n",
        "                print(f\"Forecasting day {day.strftime('%Y-%m-%d')}\")\n",
        "                print(f\"    Using window from {start_window} to {end_window}\")\n",
        "                print(f\"    Using exogen variable from {start_exog_window} to {end_exog_window}\")\n",
        "            \n",
        "            pred = forecaster.predict(steps=steps, last_window=last_window, exog=exog_window)\n",
        "\n",
        "        # Only store predicciones of day D+1\n",
        "        pred = pred[dummy_steps:]\n",
        "        backtest_predicciones.append(pred)\n",
        "    \n",
        "    backtest_predicciones = np.concatenate(backtest_predicciones)\n",
        "    # Add datetime index\n",
        "    backtest_predicciones = pd.Series(\n",
        "                             data  = backtest_predicciones,\n",
        "                             index = pd.date_range(\n",
        "                                        start = days_backtest[0],\n",
        "                                        end   = days_backtest[-1].replace(hour=23),\n",
        "                                        freq  = 'h'\n",
        "                                    )\n",
        "                           )\n",
        "    \n",
        "    return backtest_predicciones"
      ]
    },
    {
      "cell_type": "code",
      "execution_count": null,
      "id": "fd73d0fa",
      "metadata": {
        "id": "fd73d0fa"
      },
      "outputs": [],
      "source": [
        "# Backtest\n",
        "# ==============================================================================\n",
        "predicciones = backtest_predict_next_24h(\n",
        "                    forecaster = forecaster,\n",
        "                    y          = datos.loc[fin_validacion:, 'TOTAL KW'],\n",
        "                    hour_init_prediction = 11,\n",
        "                    verbose    = False\n",
        "                )"
      ]
    },
    {
      "cell_type": "code",
      "execution_count": null,
      "id": "febde3e9",
      "metadata": {
        "id": "febde3e9"
      },
      "outputs": [],
      "source": [
        "# Gráfico\n",
        "# ==============================================================================\n",
        "fig, ax = plt.subplots(figsize=(12, 3.5))\n",
        "datos.loc[predicciones.index, 'TOTAL KW'].plot(linewidth=2, label='test', ax=ax)\n",
        "predicciones.plot(linewidth=2, label='predicción', ax=ax)\n",
        "ax.set_title('Predicción vs demanda real')\n",
        "ax.legend();"
      ]
    },
    {
      "cell_type": "code",
      "execution_count": null,
      "id": "d733beaf",
      "metadata": {
        "id": "d733beaf"
      },
      "outputs": [],
      "source": [
        "# Error backtest\n",
        "# ==============================================================================\n",
        "error = mean_absolute_error(\n",
        "            y_true = datos.loc[predicciones.index, 'Demand'],\n",
        "            y_pred = predicciones\n",
        "        )\n",
        "print(f\"Error de backtest: {error}\")"
      ]
    },
    {
      "cell_type": "code",
      "execution_count": null,
      "id": "9e46cbbb",
      "metadata": {
        "id": "9e46cbbb"
      },
      "outputs": [],
      "source": [
        "# Importancia predictores\n",
        "# ==============================================================================\n",
        "forecaster.get_feature_importance()"
      ]
    },
    {
      "cell_type": "code",
      "execution_count": null,
      "id": "258f1a4e",
      "metadata": {
        "id": "258f1a4e"
      },
      "outputs": [],
      "source": [
        "# Se convierte la columna Holiday de boolean a integer\n",
        "datos_train.loc[:,'Feriado'] = datos_train['Feriado'].astype(int)\n",
        "datos_test.loc[:,'Feriado'] = datos_test['Feriado'].astype(int)\n",
        "\n",
        "# Crear y entrenar forecaster\n",
        "# ==============================================================================\n",
        "forecaster = ForecasterAutoreg(\n",
        "                regressor     = Ridge(alpha=215.44),\n",
        "                lags          = [1, 2, 3, 23, 24, 25, 47, 48, 49],\n",
        "                transformer_y = StandardScaler()\n",
        "             )\n",
        "\n",
        "\n",
        "\n",
        "forecaster.fit(y=datos.Demand[:fin_validacion], exog=datos.Holiday[:fin_validacion])\n",
        "forecaster"
      ]
    },
    {
      "cell_type": "code",
      "execution_count": null,
      "id": "522196b5",
      "metadata": {
        "id": "522196b5"
      },
      "outputs": [],
      "source": [
        "# Backtest\n",
        "# ==============================================================================\n",
        "predicciones = backtest_predict_next_24h(\n",
        "                    forecaster = forecaster,\n",
        "                    y          = datos.loc[fin_validacion:, 'TOTAL KW'],\n",
        "                    exog       = datos.loc[fin_validacion:, 'Feriado'],\n",
        "                    hour_init_prediction = 11,\n",
        "                    verbose    = False\n",
        "               )"
      ]
    },
    {
      "cell_type": "code",
      "execution_count": null,
      "id": "6858b9bf",
      "metadata": {
        "id": "6858b9bf"
      },
      "outputs": [],
      "source": [
        "# Gráfico\n",
        "# ==============================================================================\n",
        "fig, ax = plt.subplots(figsize=(12, 3.5))\n",
        "datos.loc[predicciones.index, 'TOTAL KW'].plot(linewidth=2, label='test', ax=ax)\n",
        "predicciones.plot(linewidth=2, label='predicción', ax=ax)\n",
        "ax.set_title('Predicción vs demanda real')\n",
        "ax.legend();"
      ]
    },
    {
      "cell_type": "code",
      "execution_count": null,
      "id": "078866b0",
      "metadata": {
        "id": "078866b0"
      },
      "outputs": [],
      "source": [
        "# Error backtest\n",
        "# ==============================================================================\n",
        "error = mean_absolute_error(\n",
        "            y_true = datos.loc[predicciones.index, 'TOTAL KW'],\n",
        "            y_pred = predicciones\n",
        "        )\n",
        "\n",
        "print(f\"Error de backtest: {error}\")"
      ]
    },
    {
      "cell_type": "code",
      "execution_count": null,
      "id": "0b22929b",
      "metadata": {
        "id": "0b22929b"
      },
      "outputs": [],
      "source": [
        "# Creación de nuevas variables exógenas\n",
        "# ==============================================================================\n",
        "# Al ser datos  horarios y empezar a las 00:00 se tienen que desplazar los valores\n",
        "# de 24 en 24.\n",
        "datos.loc[:,'Feriado_antes'] = datos['Feriado'].shift(24)\n",
        "datos.loc[:,'Feriado_despues']   = datos['Feriado'].shift(-24)\n",
        "datos=datos.dropna()\n",
        "\n",
        "# One hot encoding del día de la semana y la hora del día\n",
        "datos=pd.get_dummies(datos, columns=['dia_semana', 'hora_dia'])\n",
        "datos.head(3)"
      ]
    },
    {
      "cell_type": "code",
      "execution_count": null,
      "id": "6a0b651c",
      "metadata": {
        "id": "6a0b651c"
      },
      "outputs": [],
      "source": [
        "# Crear y entrenar forecaster\n",
        "# ==============================================================================\n",
        "forecaster = ForecasterAutoreg(\n",
        "                regressor     = Ridge(alpha=215.44),\n",
        "                lags          = [1, 2, 3, 23, 24, 25, 47, 48, 49],\n",
        "                transformer_y = StandardScaler()\n",
        "             )\n",
        "\n",
        "exog = [column for column in datos.columns if column.startswith(('dia', 'hora', 'Feriado'))]\n",
        "forecaster.fit(y=datos.Demand[: fin_validacion], exog=datos[exog][: fin_validacion])\n",
        "\n",
        "# Backtest\n",
        "# ==============================================================================\n",
        "predicciones = backtest_predict_next_24h(\n",
        "                    forecaster = forecaster,\n",
        "                    y          = datos.loc[fin_validacion:, 'TOTAL KW'],\n",
        "                    exog       = datos.loc[fin_validacion:, exog],\n",
        "                    hour_init_prediction = 11,\n",
        "                    verbose    = False\n",
        "               )\n",
        "\n",
        "# Error backtest\n",
        "# ==============================================================================\n",
        "error = mean_absolute_error(\n",
        "            y_true = datos.loc[predicciones.index, 'TOTAL KW'],\n",
        "            y_pred = predicciones\n",
        "        )\n",
        "\n",
        "print(f\"Error de backtest: {error}\")"
      ]
    },
    {
      "cell_type": "markdown",
      "id": "23c6e8b1",
      "metadata": {
        "id": "23c6e8b1"
      },
      "source": [
        "Modelo direct multi-step\n",
        "\n",
        "\n",
        "Los modelos ForecasterAutoreg siguen una estrategia de predicción recursiva en la que, cada nueva predicción, se basa en la predicción anterior. Una alternativa es entrenar un modelo para cada uno de los steps que se desea predecir, lo que se conoce como direct multi-step forecasting. Si bien es computacionalmente más costosa que la recursiva, puesto que requiere entrenar múltiples modelos, en algunos escenarios, consigue mejores resultados. Este tipo de modelos pueden obtenerse con la clase ForecasterAutoregDirect y pueden incluir también una o múltiples variables exógenas.\n",
        "\n",
        "Entrenamiento y tuning del Forecaster\n",
        "\n",
        "\n",
        "A diferencia de cuando se utiliza ForecasterAutoreg, en los modelos de tipo ForecasterAutoregDirect hay que indicar, en el momento de su creación, el número máximo de steps que se quieren predecir."
      ]
    },
    {
      "cell_type": "code",
      "execution_count": null,
      "id": "1125c0af",
      "metadata": {
        "id": "1125c0af"
      },
      "outputs": [],
      "source": [
        "# Grid search de hiperparámetros\n",
        "# ==============================================================================\n",
        "forecaster = ForecasterAutoregDirect(\n",
        "                regressor = LGBMRegressor(max_depth=4),\n",
        "                steps     = 36,\n",
        "                lags      = 24 # Este valor será remplazado en el grid search\n",
        "             )\n",
        "\n",
        "# Lags utilizados como predictores\n",
        "lags_grid = [[1, 2, 3, 23, 24], [1, 2, 3, 23, 24, 25, 47, 48, 49]]\n",
        "\n",
        "# Hiperparámetros del regresor\n",
        "param_grid = {'n_estimators': [100, 500],\n",
        "              'max_depth': [4, 6]}\n",
        "\n",
        "resultados_grid = grid_search_forecaster(\n",
        "                        forecaster         = forecaster,\n",
        "                        y                  = datos.loc[:fin_validacion, 'TOTAL KW'],\n",
        "                        exog               = datos.loc[:fin_validacion, exog],\n",
        "                        param_grid         = param_grid,\n",
        "                        lags_grid          = lags_grid,\n",
        "                        steps              = 36,\n",
        "                        metric             = 'mean_absolute_error',\n",
        "                        refit              = False,\n",
        "                        initial_train_size = len(datos.loc[:fin_train]),\n",
        "                        return_best        = True,\n",
        "                        verbose            = False\n",
        "                  )"
      ]
    },
    {
      "cell_type": "code",
      "execution_count": null,
      "id": "ca58bfcb",
      "metadata": {
        "id": "ca58bfcb"
      },
      "outputs": [],
      "source": [
        "# Backtest\n",
        "# ==============================================================================\n",
        "predicciones = backtest_predict_next_24h(\n",
        "                    forecaster = forecaster,\n",
        "                    y          = datos.loc[fin_validacion:, 'TOTAL KW'],\n",
        "                    exog       = datos.loc[fin_validacion:, exog],\n",
        "                    hour_init_prediction = 11,\n",
        "                    verbose    = False\n",
        "               )"
      ]
    },
    {
      "cell_type": "code",
      "execution_count": null,
      "id": "32064050",
      "metadata": {
        "id": "32064050"
      },
      "outputs": [],
      "source": [
        "# Gráfico\n",
        "# ==============================================================================\n",
        "fig, ax = plt.subplots(figsize=(12, 3.5))\n",
        "datos.loc[predicciones.index, 'TOTAL KW'].plot(linewidth=2, label='test', ax=ax)\n",
        "predicciones.plot(linewidth=2, label='predicción', ax=ax)\n",
        "ax.set_title('Predicción vs demanda real')\n",
        "ax.legend();"
      ]
    },
    {
      "cell_type": "code",
      "execution_count": null,
      "id": "e5b244ff",
      "metadata": {
        "id": "e5b244ff"
      },
      "outputs": [],
      "source": [
        "# Error backtest\n",
        "# ==============================================================================\n",
        "error = mean_absolute_error(\n",
        "            y_true = datos.loc[predicciones.index, 'TOTAL KW'],\n",
        "            y_pred = predicciones\n",
        "        )\n",
        "\n",
        "print(f\"Error de backtest: {error}\")"
      ]
    }
  ],
  "metadata": {
    "kernelspec": {
      "display_name": "Python 3 (ipykernel)",
      "language": "python",
      "name": "python3"
    },
    "language_info": {
      "codemirror_mode": {
        "name": "ipython",
        "version": 3
      },
      "file_extension": ".py",
      "mimetype": "text/x-python",
      "name": "python",
      "nbconvert_exporter": "python",
      "pygments_lexer": "ipython3",
      "version": "3.9.7"
    },
    "colab": {
      "provenance": [],
      "collapsed_sections": []
    }
  },
  "nbformat": 4,
  "nbformat_minor": 5
}