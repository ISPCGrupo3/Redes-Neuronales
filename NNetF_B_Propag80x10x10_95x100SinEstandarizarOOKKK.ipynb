{
  "cells": [
    {
      "cell_type": "markdown",
      "metadata": {
        "id": "view-in-github",
        "colab_type": "text"
      },
      "source": [
        "<a href=\"https://colab.research.google.com/github/ISPCGrupo3/Redes-Neuronales/blob/main/NNetF_B_Propag80x10x10_95x100SinEstandarizarOOKKK.ipynb\" target=\"_parent\"><img src=\"https://colab.research.google.com/assets/colab-badge.svg\" alt=\"Open In Colab\"/></a>"
      ]
    },
    {
      "cell_type": "markdown",
      "metadata": {
        "id": "VfheL5fybKD2"
      },
      "source": [
        "<h1 style=\"font-family: Georgia; font-size:3em;color:#2462C0; font-style:bold\">\n",
        "Coding Neural Network - Forward Propagation and Backpropagation\n",
        "</h1><br>"
      ]
    },
    {
      "cell_type": "markdown",
      "metadata": {
        "id": "F89z1kDlbKEV"
      },
      "source": [
        "https://machinelearningmastery.com/learning-rate-for-deep-learning-neural-networks/\n",
        "https://machinelearningmastery.com/how-to-configure-the-number-of-layers-and-nodes-in-a-neural-network/\n",
        "\n",
        "https://stats.stackexchange.com/questions/352036/what-should-i-do-when-my-neural-network-doesnt-learn\n",
        "\n",
        "https://datascience-enthusiast.com/DL/Improving_DeepNeural_Networks_Regularization.html\n",
        "\n",
        "http://neuralnetworksanddeeplearning.com/chap5.html\n",
        "\n",
        "https://wiki.pathmind.com/neural-network\n",
        "\n",
        "https://towardsdatascience.com/neural-network-architectures-156e5bad51ba"
      ]
    },
    {
      "cell_type": "code",
      "execution_count": null,
      "metadata": {
        "code_folding": [
          0
        ],
        "id": "DxjoRZQMbKEb"
      },
      "outputs": [],
      "source": [
        "# Import packages\n",
        "import os as os\n",
        "\n",
        "import h5py\n",
        "import matplotlib.pyplot as plt\n",
        "import numpy as np\n",
        "import seaborn as sns\n",
        "\n",
        "%matplotlib inline\n",
        "sns.set_context(\"notebook\")\n",
        "plt.style.use(\"fivethirtyeight\")"
      ]
    },
    {
      "cell_type": "markdown",
      "metadata": {
        "id": "LmBK6yOkbKEh"
      },
      "source": [
        "<h3 style=\"font-family: Georgia; font-size:1.3em;color:purple; font-style:bold\">\n",
        "Parameters Initialization\n",
        "</h3><br>\n"
      ]
    },
    {
      "cell_type": "code",
      "execution_count": null,
      "metadata": {
        "code_folding": [
          0
        ],
        "id": "isO-7cQbbKEl"
      },
      "outputs": [],
      "source": [
        "# Initialize parameters\n",
        "def initialize_parameters(layers_dims):\n",
        "    \"\"\"\n",
        "    Initialize parameters dictionary.\n",
        "    \n",
        "    Weight matrices will be initialized to random values from uniform normal\n",
        "    distribution.\n",
        "    bias vectors will be initialized to zeros.\n",
        "\n",
        "    Arguments\n",
        "    ---------\n",
        "    layers_dims : list or array-like\n",
        "        dimensions of each layer in the network.\n",
        "\n",
        "    Returns\n",
        "    -------\n",
        "    parameters : dict\n",
        "        weight matrix and the bias vector for each layer.\n",
        "    \"\"\"\n",
        "    np.random.seed(1)               \n",
        "    parameters = {}\n",
        "    L = len(layers_dims)            \n",
        "\n",
        "    for l in range(1, L):           \n",
        "        parameters[\"W\" + str(l)] = np.random.randn(\n",
        "            layers_dims[l], layers_dims[l - 1]) * 0.01\n",
        "        parameters[\"b\" + str(l)] = np.zeros((layers_dims[l], 1))\n",
        "\n",
        "        assert parameters[\"W\" + str(l)].shape == (\n",
        "            layers_dims[l], layers_dims[l - 1])\n",
        "        assert parameters[\"b\" + str(l)].shape == (layers_dims[l], 1)\n",
        "\n",
        "    return parameters"
      ]
    },
    {
      "cell_type": "markdown",
      "metadata": {
        "id": "gK-eMyyNbKEr"
      },
      "source": [
        "<h3 style=\"font-family: Georgia; font-size:1.3em;color:purple; font-style:bold\">\n",
        "Activation Functions\n",
        "</h3><br>"
      ]
    },
    {
      "cell_type": "code",
      "execution_count": null,
      "metadata": {
        "code_folding": [
          0
        ],
        "id": "73MV_sFcbKEt"
      },
      "outputs": [],
      "source": [
        "# Define activation functions that will be used in forward propagation\n",
        "def sigmoid(Z):\n",
        "    \"\"\"\n",
        "    Computes the sigmoid of Z element-wise.\n",
        "\n",
        "    Arguments\n",
        "    ---------\n",
        "    Z : array\n",
        "        output of affine transformation.\n",
        "\n",
        "    Returns\n",
        "    -------\n",
        "    A : array\n",
        "        post activation output.\n",
        "    Z : array\n",
        "        output of affine transformation.\n",
        "    \"\"\"\n",
        "    A = 1 / (1 + np.exp(-Z))\n",
        "\n",
        "    return A, Z\n",
        "\n",
        "\n",
        "def tanh(Z):\n",
        "    \"\"\"\n",
        "    Computes the Hyperbolic Tagent of Z elemnet-wise.\n",
        "\n",
        "    Arguments\n",
        "    ---------\n",
        "    Z : array\n",
        "        output of affine transformation.\n",
        "\n",
        "    Returns\n",
        "    -------\n",
        "    A : array\n",
        "        post activation output.\n",
        "    Z : array\n",
        "        output of affine transformation.\n",
        "    \"\"\"\n",
        "    A = np.tanh(Z)\n",
        "\n",
        "    return A, Z\n",
        "\n",
        "\n",
        "def relu(Z):\n",
        "    \"\"\"\n",
        "    Computes the Rectified Linear Unit (ReLU) element-wise.\n",
        "\n",
        "    Arguments\n",
        "    ---------\n",
        "    Z : array\n",
        "        output of affine transformation.\n",
        "\n",
        "    Returns\n",
        "    -------\n",
        "    A : array\n",
        "        post activation output.\n",
        "    Z : array\n",
        "        output of affine transformation.\n",
        "    \"\"\"\n",
        "    A = np.maximum(0, Z)\n",
        "\n",
        "    return A, Z\n",
        "\n",
        "\n",
        "def leaky_relu(Z):\n",
        "    \"\"\"\n",
        "    Computes Leaky Rectified Linear Unit element-wise.\n",
        "\n",
        "    Arguments\n",
        "    ---------\n",
        "    Z : array\n",
        "        output of affine transformation.\n",
        "\n",
        "    Returns\n",
        "    -------\n",
        "    A : array\n",
        "        post activation output.\n",
        "    Z : array\n",
        "        output of affine transformation.\n",
        "    \"\"\"\n",
        "    A = np.maximum(0.1 * Z, Z)\n",
        "\n",
        "    return A, Z"
      ]
    },
    {
      "cell_type": "markdown",
      "metadata": {
        "id": "8gtg9vgNbKEy"
      },
      "source": [
        ""
      ]
    },
    {
      "cell_type": "code",
      "execution_count": null,
      "metadata": {
        "code_folding": [
          0
        ],
        "colab": {
          "base_uri": "https://localhost:8080/",
          "height": 577
        },
        "id": "pUAgYbj5bKE2",
        "outputId": "030260c0-0583-4aba-e625-568ef092211f"
      },
      "outputs": [
        {
          "output_type": "display_data",
          "data": {
            "text/plain": [
              "<Figure size 864x576 with 4 Axes>"
            ],
            "image/png": "[encoded data removed]"
          },
          "metadata": {}
        }
      ],
      "source": [
        "# Plot the 4 activation functions\n",
        "z = np.linspace(-10, 10, 100)\n",
        "\n",
        "# Computes post-activation outputs\n",
        "A_sigmoid, z = sigmoid(z)\n",
        "A_tanh, z = tanh(z)\n",
        "A_relu, z = relu(z)\n",
        "A_leaky_relu, z = leaky_relu(z)\n",
        "\n",
        "# Plot sigmoid\n",
        "plt.figure(figsize=(12, 8))\n",
        "plt.subplot(2, 2, 1)\n",
        "plt.plot(z, A_sigmoid, label = \"Function\")\n",
        "plt.plot(z, A_sigmoid * (1 - A_sigmoid), label = \"Derivative\")\n",
        "plt.legend(loc = \"upper left\")\n",
        "plt.xlabel(\"z\")\n",
        "plt.ylabel(r\"$\\frac{1}{1 + e^{-z}}$\")\n",
        "plt.title(\"Sigmoid Function\", fontsize = 16)\n",
        "# Plot tanh\n",
        "plt.subplot(2, 2, 2)\n",
        "plt.plot(z, A_tanh, 'b', label = \"Function\")\n",
        "plt.plot(z, 1 - np.square(A_tanh), 'r',label = \"Derivative\")\n",
        "plt.legend(loc = \"upper left\")\n",
        "plt.xlabel(\"z\")\n",
        "plt.ylabel(r\"$\\frac{e^z - e^{-z}}{e^z + e^{-z}}$\")\n",
        "plt.title(\"Hyperbolic Tangent Function\", fontsize = 16)\n",
        "# plot relu\n",
        "plt.subplot(2, 2, 3)\n",
        "plt.plot(z, A_relu, 'g')\n",
        "plt.xlabel(\"z\")\n",
        "plt.ylabel(r\"$max\\{0, z\\}$\")\n",
        "plt.title(\"ReLU Function\", fontsize = 16)\n",
        "# plot leaky relu\n",
        "plt.subplot(2, 2, 4)\n",
        "plt.plot(z, A_leaky_relu, 'y')\n",
        "plt.xlabel(\"z\")\n",
        "plt.ylabel(r\"$max\\{0.1z, z\\}$\")\n",
        "plt.title(\"Leaky ReLU Function\", fontsize = 16)\n",
        "plt.tight_layout();"
      ]
    },
    {
      "cell_type": "markdown",
      "metadata": {
        "id": "XNc1pDWtbKE-"
      },
      "source": [
        "<h3 style=\"font-family: Georgia; font-size:1.3em;color:purple; font-style:bold\">\n",
        "Feed Forward\n",
        "</h3><br>\n"
      ]
    },
    {
      "cell_type": "code",
      "execution_count": null,
      "metadata": {
        "code_folding": [
          0
        ],
        "id": "U7MeMbKIbKFA"
      },
      "outputs": [],
      "source": [
        "# Define helper functions that will be used in L-model forward prop\n",
        "def linear_forward(A_prev, W, b):\n",
        "    \"\"\"\n",
        "    Computes affine transformation of the input.\n",
        "\n",
        "    Arguments\n",
        "    ---------\n",
        "    A_prev : 2d-array\n",
        "        activations output from previous layer.\n",
        "    W : 2d-array\n",
        "        weight matrix, shape: size of current layer x size of previuos layer.\n",
        "    b : 2d-array\n",
        "        bias vector, shape: size of current layer x 1.\n",
        "\n",
        "    Returns\n",
        "    -------\n",
        "    Z : 2d-array\n",
        "        affine transformation output.\n",
        "    cache : tuple\n",
        "        stores A_prev, W, b to be used in backpropagation.\n",
        "    \"\"\"\n",
        "    Z = np.dot(W, A_prev) + b\n",
        "    cache = (A_prev, W, b)\n",
        "\n",
        "    return Z, cache\n",
        "\n",
        "\n",
        "def linear_activation_forward(A_prev, W, b, activation_fn):\n",
        "    \"\"\"\n",
        "    Computes post-activation output using non-linear activation function.\n",
        "\n",
        "    Arguments\n",
        "    ---------\n",
        "    A_prev : 2d-array\n",
        "        activations output from previous layer.\n",
        "    W : 2d-array\n",
        "        weight matrix, shape: size of current layer x size of previuos layer.\n",
        "    b : 2d-array\n",
        "        bias vector, shape: size of current layer x 1.\n",
        "    activation_fn : str\n",
        "        non-linear activation function to be used: \"sigmoid\", \"tanh\", \"relu\".\n",
        "\n",
        "    Returns\n",
        "    -------\n",
        "    A : 2d-array\n",
        "        output of the activation function.\n",
        "    cache : tuple\n",
        "        stores linear_cache and activation_cache. ((A_prev, W, b), Z) to be used in backpropagation.\n",
        "    \"\"\"\n",
        "    assert activation_fn == \"sigmoid\" or activation_fn == \"tanh\" or \\\n",
        "        activation_fn == \"relu\"\n",
        "\n",
        "    if activation_fn == \"sigmoid\":\n",
        "        Z, linear_cache = linear_forward(A_prev, W, b)\n",
        "        A, activation_cache = sigmoid(Z)\n",
        "\n",
        "    elif activation_fn == \"tanh\":\n",
        "        Z, linear_cache = linear_forward(A_prev, W, b)\n",
        "        A, activation_cache = tanh(Z)\n",
        "\n",
        "    elif activation_fn == \"relu\":\n",
        "        Z, linear_cache = linear_forward(A_prev, W, b)\n",
        "        A, activation_cache = relu(Z)\n",
        "\n",
        "    assert A.shape == (W.shape[0], A_prev.shape[1])\n",
        "\n",
        "    cache = (linear_cache, activation_cache)\n",
        "\n",
        "    return A, cache\n",
        "\n",
        "\n",
        "def L_model_forward(X, parameters, hidden_layers_activation_fn=\"relu\"):\n",
        "    \"\"\"\n",
        "    Computes the output layer through looping over all units in topological\n",
        "    order.\n",
        "\n",
        "    Arguments\n",
        "    ---------\n",
        "    X : 2d-array\n",
        "        input matrix of shape input_size x training_examples.\n",
        "    parameters : dict\n",
        "        contains all the weight matrices and bias vectors for all layers.\n",
        "    hidden_layers_activation_fn : str\n",
        "        activation function to be used on hidden layers: \"tanh\", \"relu\".\n",
        "\n",
        "    Returns\n",
        "    -------\n",
        "    AL : 2d-array\n",
        "        probability vector of shape 1 x training_examples.\n",
        "    caches : list\n",
        "        that contains L tuples where each layer has: A_prev, W, b, Z.\n",
        "    \"\"\"\n",
        "    A = X                           \n",
        "    caches = []                     \n",
        "    L = len(parameters) // 2        \n",
        "\n",
        "    for l in range(1, L):\n",
        "        A_prev = A\n",
        "        A, cache = linear_activation_forward(\n",
        "            A_prev, parameters[\"W\" + str(l)], parameters[\"b\" + str(l)],\n",
        "            activation_fn=hidden_layers_activation_fn)\n",
        "        caches.append(cache)\n",
        "\n",
        "    AL, cache = linear_activation_forward(\n",
        "        A, parameters[\"W\" + str(L)], parameters[\"b\" + str(L)],\n",
        "        activation_fn=\"sigmoid\")\n",
        "    caches.append(cache)\n",
        "\n",
        "    assert AL.shape == (1, X.shape[1])\n",
        "\n",
        "    return AL, caches"
      ]
    },
    {
      "cell_type": "markdown",
      "metadata": {
        "id": "CQ8gD7f1bKFR"
      },
      "source": [
        "<h3 style=\"font-family: Georgia; font-size:1.3em;color:purple; font-style:bold\">\n",
        "Cost\n",
        "</h3><br>\n",
        "\n",
        "https://math.stackexchange.com/questions/886555/deriving-cost-function-using-mle-why-use-log-function\n"
      ]
    },
    {
      "cell_type": "code",
      "execution_count": null,
      "metadata": {
        "code_folding": [
          0
        ],
        "id": "EdN0IimDbKFk"
      },
      "outputs": [],
      "source": [
        "# Compute cross-entropy cost\n",
        "def compute_cost(AL, y):\n",
        "    \"\"\"\n",
        "    Computes the binary Cross-Entropy cost.\n",
        "\n",
        "    Arguments\n",
        "    ---------\n",
        "    AL : 2d-array\n",
        "        probability vector of shape 1 x training_examples.\n",
        "    y : 2d-array\n",
        "        true \"label\" vector.\n",
        "\n",
        "    Returns\n",
        "    -------\n",
        "    cost : float\n",
        "        binary cross-entropy cost.\n",
        "    \"\"\"\n",
        "    m = y.shape[1]              \n",
        "    cost = - (1 / m) * np.sum(\n",
        "        np.multiply(y, np.log(AL)) + np.multiply(1 - y, np.log(1 - AL)))\n",
        "\n",
        "    return cost"
      ]
    },
    {
      "cell_type": "markdown",
      "metadata": {
        "id": "xTNTm_5kbKFr"
      },
      "source": [
        "<h2 style=\"font-family: Georgia; font-size:1.5em;color:purple; font-style:bold\">\n",
        "Back-Propagation\n",
        "</h2>"
      ]
    },
    {
      "cell_type": "code",
      "execution_count": null,
      "metadata": {
        "code_folding": [
          0
        ],
        "id": "2W_3L_SXbKFt"
      },
      "outputs": [],
      "source": [
        "# Define derivative of activation functions w.r.t z that will be used in back-propagation\n",
        "def sigmoid_gradient(dA, Z):\n",
        "    \"\"\"\n",
        "    Computes the gradient of sigmoid output w.r.t input Z.\n",
        "\n",
        "    Arguments\n",
        "    ---------\n",
        "    dA : 2d-array\n",
        "        post-activation gradient, of any shape.\n",
        "    Z : 2d-array\n",
        "        input used for the activation fn on this layer.\n",
        "\n",
        "    Returns\n",
        "    -------\n",
        "    dZ : 2d-array\n",
        "        gradient of the cost with respect to Z.\n",
        "    \"\"\"\n",
        "    A, Z = sigmoid(Z)\n",
        "    dZ = dA * A * (1 - A)\n",
        "\n",
        "    return dZ\n",
        "\n",
        "\n",
        "def tanh_gradient(dA, Z):\n",
        "    \"\"\"\n",
        "    Computes the gradient of hyperbolic tangent output w.r.t input Z.\n",
        "\n",
        "    Arguments\n",
        "    ---------\n",
        "    dA : 2d-array\n",
        "        post-activation gradient, of any shape.\n",
        "    Z : 2d-array\n",
        "        input used for the activation fn on this layer.\n",
        "\n",
        "    Returns\n",
        "    -------\n",
        "    dZ : 2d-array\n",
        "        gradient of the cost with respect to Z.\n",
        "    \"\"\"\n",
        "    A, Z = tanh(Z)\n",
        "    dZ = dA * (1 - np.square(A))\n",
        "\n",
        "    return dZ\n",
        "\n",
        "\n",
        "def relu_gradient(dA, Z):\n",
        "    \"\"\"\n",
        "    Computes the gradient of ReLU output w.r.t input Z.\n",
        "\n",
        "    Arguments\n",
        "    ---------\n",
        "    dA : 2d-array\n",
        "        post-activation gradient, of any shape.\n",
        "    Z : 2d-array\n",
        "        input used for the activation fn on this layer.\n",
        "\n",
        "    Returns\n",
        "    -------\n",
        "    dZ : 2d-array\n",
        "        gradient of the cost with respect to Z.\n",
        "    \"\"\"\n",
        "    A, Z = relu(Z)\n",
        "    dZ = np.multiply(dA, np.int64(A > 0))\n",
        "\n",
        "    return dZ\n",
        "\n",
        "\n",
        "# define helper functions that will be used in L-model back-prop\n",
        "def linear_backword(dZ, cache):\n",
        "    \"\"\"\n",
        "    Computes the gradient of the output w.r.t weight, bias, and post-activation\n",
        "    output of (l - 1) layers at layer l.\n",
        "\n",
        "    Arguments\n",
        "    ---------\n",
        "    dZ : 2d-array\n",
        "        gradient of the cost w.r.t. the linear output (of current layer l).\n",
        "    cache : tuple\n",
        "        values of (A_prev, W, b) coming from the forward propagation in the current layer.\n",
        "\n",
        "    Returns\n",
        "    -------\n",
        "    dA_prev : 2d-array\n",
        "        gradient of the cost w.r.t. the activation (of the previous layer l-1).\n",
        "    dW : 2d-array\n",
        "        gradient of the cost w.r.t. W (current layer l).\n",
        "    db : 2d-array\n",
        "        gradient of the cost w.r.t. b (current layer l).\n",
        "    \"\"\"\n",
        "    A_prev, W, b = cache\n",
        "    m = A_prev.shape[1]\n",
        "\n",
        "    dW = (1 / m) * np.dot(dZ, A_prev.T)\n",
        "    db = (1 / m) * np.sum(dZ, axis=1, keepdims=True)\n",
        "    dA_prev = np.dot(W.T, dZ)\n",
        "\n",
        "    assert dA_prev.shape == A_prev.shape\n",
        "    assert dW.shape == W.shape\n",
        "    assert db.shape == b.shape\n",
        "\n",
        "    return dA_prev, dW, db\n",
        "\n",
        "\n",
        "def linear_activation_backward(dA, cache, activation_fn):\n",
        "    \"\"\"\n",
        "    Arguments\n",
        "    ---------\n",
        "    dA : 2d-array\n",
        "        post-activation gradient for current layer l.\n",
        "    cache : tuple\n",
        "        values of (linear_cache, activation_cache).\n",
        "    activation : str\n",
        "        activation used in this layer: \"sigmoid\", \"tanh\", or \"relu\".\n",
        "\n",
        "    Returns\n",
        "    -------\n",
        "    dA_prev : 2d-array\n",
        "        gradient of the cost w.r.t. the activation (of the previous layer l-1), same shape as A_prev.\n",
        "    dW : 2d-array\n",
        "        gradient of the cost w.r.t. W (current layer l), same shape as W.\n",
        "    db : 2d-array\n",
        "        gradient of the cost w.r.t. b (current layer l), same shape as b.\n",
        "    \"\"\"\n",
        "    linear_cache, activation_cache = cache\n",
        "\n",
        "    if activation_fn == \"sigmoid\":\n",
        "        dZ = sigmoid_gradient(dA, activation_cache)\n",
        "        dA_prev, dW, db = linear_backword(dZ, linear_cache)\n",
        "\n",
        "    elif activation_fn == \"tanh\":\n",
        "        dZ = tanh_gradient(dA, activation_cache)\n",
        "        dA_prev, dW, db = linear_backword(dZ, linear_cache)\n",
        "\n",
        "    elif activation_fn == \"relu\":\n",
        "        dZ = relu_gradient(dA, activation_cache)\n",
        "        dA_prev, dW, db = linear_backword(dZ, linear_cache)\n",
        "\n",
        "    return dA_prev, dW, db\n",
        "\n",
        "\n",
        "def L_model_backward(AL, y, caches, hidden_layers_activation_fn=\"relu\"):\n",
        "    \"\"\"\n",
        "    Computes the gradient of output layer w.r.t weights, biases, etc. starting\n",
        "    on the output layer in reverse topological order.\n",
        "\n",
        "    Arguments\n",
        "    ---------\n",
        "    AL : 2d-array\n",
        "        probability vector, output of the forward propagation (L_model_forward()).\n",
        "    y : 2d-array\n",
        "        true \"label\" vector (containing 0 if non-cat, 1 if cat).\n",
        "    caches : list\n",
        "        list of caches for all layers.\n",
        "    hidden_layers_activation_fn :\n",
        "        activation function used on hidden layers: \"tanh\", \"relu\".\n",
        "\n",
        "    Returns\n",
        "    -------\n",
        "    grads : dict\n",
        "        with the gradients.\n",
        "    \"\"\"\n",
        "    y = y.reshape(AL.shape)\n",
        "    L = len(caches)\n",
        "    grads = {}\n",
        "\n",
        "    dAL = np.divide(AL - y, np.multiply(AL, 1 - AL))\n",
        "\n",
        "    grads[\"dA\" + str(L - 1)], grads[\"dW\" + str(L)], grads[\n",
        "        \"db\" + str(L)] = linear_activation_backward(\n",
        "            dAL, caches[L - 1], \"sigmoid\")\n",
        "\n",
        "    for l in range(L - 1, 0, -1):\n",
        "        current_cache = caches[l - 1]\n",
        "        grads[\"dA\" + str(l - 1)], grads[\"dW\" + str(l)], grads[\n",
        "            \"db\" + str(l)] = linear_activation_backward(\n",
        "                grads[\"dA\" + str(l)], current_cache,\n",
        "                hidden_layers_activation_fn)\n",
        "\n",
        "    return grads\n",
        "\n",
        "\n",
        "# define the function to update both weight matrices and bias vectors\n",
        "def update_parameters(parameters, grads, learning_rate):\n",
        "    \"\"\"\n",
        "    Update the parameters' values using gradient descent rule.\n",
        "\n",
        "    Arguments\n",
        "    ---------\n",
        "    parameters : dict\n",
        "        contains all the weight matrices and bias vectors for all layers.\n",
        "    grads : dict\n",
        "        stores all gradients (output of L_model_backward).\n",
        "\n",
        "    Returns\n",
        "    -------\n",
        "    parameters : dict\n",
        "        updated parameters.\n",
        "    \"\"\"\n",
        "    L = len(parameters) // 2\n",
        "\n",
        "    for l in range(1, L + 1):\n",
        "        parameters[\"W\" + str(l)] = parameters[\"W\" + str(l)] - learning_rate * grads[\"dW\" + str(l)]\n",
        "        parameters[\"b\" + str(l)] = parameters[\"b\" + str(l)] - learning_rate * grads[\"db\" + str(l)]\n",
        "\n",
        "    return parameters"
      ]
    },
    {
      "cell_type": "markdown",
      "metadata": {
        "id": "uOACYtMJbKF2"
      },
      "source": [
        "<a id=\"Application\"></a>"
      ]
    },
    {
      "cell_type": "markdown",
      "metadata": {
        "id": "nhvgxAeUbKF-"
      },
      "source": [
        "<h2 style=\"font-family: Georgia; font-size:2em;color:purple; font-style:bold\">\n",
        "II. Application\n",
        "</h2>"
      ]
    },
    {
      "cell_type": "markdown",
      "metadata": {
        "id": "kYk3I0aVbKGA"
      },
      "source": [
        "The dataset that we'll be working on has 209 images. Each image is 64 x 64 pixels on RGB scale. We'll build a neural network to classify if the image has a cat or not. Therefore, $y^i \\in \\{0, 1\\}.$\n",
        "- We'll first load the images.\n",
        "- Show sample image for a cat.\n",
        "- Reshape input matrix so that each column would be one example. Also, since each image is 64 x 64 x 3, we'll end up having 12,288 features for each image. Therefore, the input matrix would be 12,288 x 209.\n",
        "- Standardize the data so that the gradients don't go out of control. Also, it will help hidden units have similar range of values. For now, we'll divide every pixel by 255 which shouldn't be an issue. However, it's better to standardize the data to have a mean of 0 and a standard deviation of 1."
      ]
    },
    {
      "cell_type": "code",
      "execution_count": null,
      "metadata": {
        "id": "YPcXaa3ObKGC"
      },
      "outputs": [],
      "source": [
        ""
      ]
    },
    {
      "cell_type": "code",
      "execution_count": null,
      "metadata": {
        "scrolled": false,
        "id": "dSVFvuXxbKGD"
      },
      "outputs": [],
      "source": [
        "X_train=np.random.randn(10,10)*1 + 1\n",
        "l = [X_train]\n",
        "for i in range(0,9):\n",
        "    #print(i)\n",
        "    X = np.random.randn(10,10)*1 + 1\n",
        "    l.append(X)"
      ]
    },
    {
      "cell_type": "code",
      "execution_count": null,
      "metadata": {
        "id": "ng6V4K-abKGG"
      },
      "outputs": [],
      "source": [
        "X_train=np.random.randn(10,10)*1 + 1\n",
        "l.append(X_train)\n",
        "for i in range(0,9):\n",
        "    #print(i)\n",
        "    X = np.random.randn(10,10)*1 + 1\n",
        "    l.append(X)"
      ]
    },
    {
      "cell_type": "code",
      "execution_count": null,
      "metadata": {
        "id": "RKwPr-xvbKGP"
      },
      "outputs": [],
      "source": [
        "X_train=np.random.randn(10,10)*1 + 1\n",
        "l.append(X_train)\n",
        "for i in range(0,9):\n",
        "    #print(i)\n",
        "    X = np.random.randn(10,10)*1 + 1\n",
        "    l.append(X)"
      ]
    },
    {
      "cell_type": "code",
      "execution_count": null,
      "metadata": {
        "id": "U4DYgzYybKGR"
      },
      "outputs": [],
      "source": [
        "X_train=np.random.randn(10,10)*1 + 1\n",
        "l.append(X_train)\n",
        "for i in range(0,9):\n",
        "    #print(i)\n",
        "    X = np.random.randn(10,10)*1 + 1\n",
        "    l.append(X)"
      ]
    },
    {
      "cell_type": "code",
      "execution_count": null,
      "metadata": {
        "id": "bfroh01ybKGT"
      },
      "outputs": [],
      "source": [
        ""
      ]
    },
    {
      "cell_type": "code",
      "execution_count": null,
      "metadata": {
        "id": "8AcTnQ7vbKGU"
      },
      "outputs": [],
      "source": [
        "X_train=np.random.randn(10,10)*1 + 20\n",
        "l.append(X_train)\n",
        "for i in range(0,9):\n",
        "    #print(i)\n",
        "    X = np.random.randn(10,10)*1 + 20\n",
        "    l.append(X)"
      ]
    },
    {
      "cell_type": "code",
      "execution_count": null,
      "metadata": {
        "id": "XB72aTeTbKGU"
      },
      "outputs": [],
      "source": [
        "X_train=np.random.randn(10,10)*1 + 20\n",
        "l.append(X_train)\n",
        "for i in range(0,9):\n",
        "    #print(i)\n",
        "    X = np.random.randn(10,10)*1 + 20\n",
        "    l.append(X)"
      ]
    },
    {
      "cell_type": "code",
      "execution_count": null,
      "metadata": {
        "id": "fmGZQjgkbKGV"
      },
      "outputs": [],
      "source": [
        "X_train=np.random.randn(10,10)*1 + 20\n",
        "l.append(X_train)\n",
        "for i in range(0,9):\n",
        "    #print(i)\n",
        "    X = np.random.randn(10,10)*1 + 20\n",
        "    l.append(X)"
      ]
    },
    {
      "cell_type": "code",
      "execution_count": null,
      "metadata": {
        "id": "wVOsieYwbKGW"
      },
      "outputs": [],
      "source": [
        "X_train=np.random.randn(10,10)*1 + 20\n",
        "l.append(X_train)\n",
        "for i in range(0,9):\n",
        "    #print(i)\n",
        "    X = np.random.randn(10,10)*1 + 20\n",
        "    l.append(X)"
      ]
    },
    {
      "cell_type": "code",
      "execution_count": null,
      "metadata": {
        "colab": {
          "base_uri": "https://localhost:8080/"
        },
        "id": "dpKGC3yhbKGa",
        "outputId": "1502fb31-69ad-4273-9e5d-3e4c4d00c412"
      },
      "outputs": [
        {
          "output_type": "execute_result",
          "data": {
            "text/plain": [
              "(80, 10, 10)"
            ]
          },
          "metadata": {},
          "execution_count": 53
        }
      ],
      "source": [
        "l = np.array(l)\n",
        "l.shape"
      ]
    },
    {
      "cell_type": "code",
      "execution_count": null,
      "metadata": {
        "scrolled": true,
        "id": "wYsqchwybKGc"
      },
      "outputs": [],
      "source": [
        "X_train= l\n",
        "#X_train"
      ]
    },
    {
      "cell_type": "code",
      "execution_count": null,
      "metadata": {
        "colab": {
          "base_uri": "https://localhost:8080/"
        },
        "id": "4u1sPgO0bKGc",
        "outputId": "19c58168-427b-4e14-b898-c99459fcf016"
      },
      "outputs": [
        {
          "output_type": "execute_result",
          "data": {
            "text/plain": [
              "array([[[20.25308047, 17.90689893, 20.84154588, 20.51448649,\n",
              "         21.00738323, 19.3381858 , 18.44335357, 19.67456232,\n",
              "         22.40277677, 19.87759555],\n",
              "        [20.36362806, 19.71743986, 20.86637517, 19.00992336,\n",
              "         20.10419794, 20.26351742, 21.27593114, 21.70876025,\n",
              "         17.75845602, 19.76103707],\n",
              "        [18.47799024, 19.26662659, 20.66702386, 21.15507934,\n",
              "         21.23727869, 18.11907488, 18.65596993, 18.71301489,\n",
              "         19.21699633, 19.97092924],\n",
              "        [20.47115443, 19.94537239, 19.59661466, 21.24534512,\n",
              "         19.0231782 , 19.72076507, 18.80785758, 19.45430706,\n",
              "         20.62411712, 18.15788299],\n",
              "        [19.33467328, 19.38533785, 19.57319162, 19.99101349,\n",
              "         19.51319838, 19.34910059, 19.90201712, 19.83217413,\n",
              "         18.39565765, 18.22080028],\n",
              "        [19.42743896, 20.69994604, 19.80329374, 19.25354806,\n",
              "         20.93774813, 17.37459876, 20.74616483, 20.67411002,\n",
              "         21.0142675 , 19.91928577],\n",
              "        [19.77835227, 19.35364089, 21.37408466, 19.08708947,\n",
              "         20.47971118, 20.74236675, 20.23154789, 19.09303626,\n",
              "         22.48194524, 20.22661946],\n",
              "        [19.86208376, 19.45845076, 19.195408  , 20.93062739,\n",
              "         21.54306521, 21.3817869 , 19.83333124, 18.34141713,\n",
              "         19.44565084, 20.50668347],\n",
              "        [20.15247581, 19.62761886, 18.88295396, 19.57218527,\n",
              "         20.93918381, 19.07929009, 19.55736266, 20.68065369,\n",
              "         18.96382619, 18.24888679],\n",
              "        [20.53414308, 20.6998327 , 20.21283107, 18.55687926,\n",
              "         19.87436932, 21.5763563 , 18.56346164, 20.27732605,\n",
              "         19.435388  , 20.21023162]]])"
            ]
          },
          "metadata": {},
          "execution_count": 55
        }
      ],
      "source": [
        "X_train[44:45]"
      ]
    },
    {
      "cell_type": "code",
      "execution_count": null,
      "metadata": {
        "id": "nOkL0ZMXbKGd"
      },
      "outputs": [],
      "source": [
        ""
      ]
    },
    {
      "cell_type": "code",
      "execution_count": null,
      "metadata": {
        "id": "PogTBn7fbKGe"
      },
      "outputs": [],
      "source": [
        "X_test=np.random.randn(10,10)*1 + 1\n",
        "l = [X_test]\n",
        "for i in range(0,9):\n",
        "    #print(i)\n",
        "    X = np.random.randn(10,10)*1 + 1\n",
        "    l.append(X)"
      ]
    },
    {
      "cell_type": "code",
      "execution_count": null,
      "metadata": {
        "id": "nwpWnL4mbKGf"
      },
      "outputs": [],
      "source": [
        "X_test=np.random.randn(10,10)*1 + 1\n",
        "l.append(X_test)\n",
        "for i in range(0,9):\n",
        "    #print(i)\n",
        "    X = np.random.randn(10,10)*1 + 1\n",
        "    l.append(X)"
      ]
    },
    {
      "cell_type": "code",
      "execution_count": null,
      "metadata": {
        "id": "EZLjLvmnbKGg"
      },
      "outputs": [],
      "source": [
        ""
      ]
    },
    {
      "cell_type": "code",
      "execution_count": null,
      "metadata": {
        "id": "pE0mok6mbKGh"
      },
      "outputs": [],
      "source": [
        "X_test=np.random.randn(10,10)*1 + 20\n",
        "l.append(X_test)\n",
        "for i in range(0,9):\n",
        "    #print(i)\n",
        "    X = np.random.randn(10,10)*1 + 20\n",
        "    l.append(X)"
      ]
    },
    {
      "cell_type": "code",
      "execution_count": null,
      "metadata": {
        "id": "qlo7pgU4bKGj"
      },
      "outputs": [],
      "source": [
        "X_test=np.random.randn(10,10)*1 + 20\n",
        "l.append(X_test)\n",
        "for i in range(0,10-1):\n",
        "    #print(i)\n",
        "    X = np.random.randn(10,10)*1 + 20\n",
        "    l.append(X)"
      ]
    },
    {
      "cell_type": "code",
      "execution_count": null,
      "metadata": {
        "id": "JXn4dXvIbKGk"
      },
      "outputs": [],
      "source": [
        ""
      ]
    },
    {
      "cell_type": "code",
      "execution_count": null,
      "metadata": {
        "colab": {
          "base_uri": "https://localhost:8080/"
        },
        "id": "Ff98Bf7obKGk",
        "outputId": "3996f604-cf67-4149-e5af-4dcd745b7f3a"
      },
      "outputs": [
        {
          "output_type": "execute_result",
          "data": {
            "text/plain": [
              "(40, 10, 10)"
            ]
          },
          "metadata": {},
          "execution_count": 60
        }
      ],
      "source": [
        "l = np.array(l)\n",
        "l.shape"
      ]
    },
    {
      "cell_type": "code",
      "execution_count": null,
      "metadata": {
        "colab": {
          "base_uri": "https://localhost:8080/"
        },
        "id": "fRZ-eswwbKGl",
        "outputId": "aaf568a2-acc2-461e-8865-f32fc5675076"
      },
      "outputs": [
        {
          "output_type": "execute_result",
          "data": {
            "text/plain": [
              "(40, 10, 10)"
            ]
          },
          "metadata": {},
          "execution_count": 61
        }
      ],
      "source": [
        "X_test=l\n",
        "X_test.shape\n"
      ]
    },
    {
      "cell_type": "code",
      "execution_count": null,
      "metadata": {
        "id": "FVEVtqNSbKGn"
      },
      "outputs": [],
      "source": [
        ""
      ]
    },
    {
      "cell_type": "code",
      "execution_count": null,
      "metadata": {
        "colab": {
          "base_uri": "https://localhost:8080/"
        },
        "id": "zSr38EIkbKGo",
        "outputId": "5d82ef48-02fc-4b95-a187-f5ea0dc2fb2c"
      },
      "outputs": [
        {
          "output_type": "execute_result",
          "data": {
            "text/plain": [
              "(80, 1)"
            ]
          },
          "metadata": {},
          "execution_count": 62
        }
      ],
      "source": [
        "y_train = np.array([[1],[1],[1],[1],[1],[1],[1],[1],[1],[1],                    \n",
        "                    [1],[1],[1],[1],[1],[1],[1],[1],[1],[1],                    \n",
        "                    [1],[1],[1],[1],[1],[1],[1],[1],[1],[1],                    \n",
        "                    [1],[1],[1],[1],[1],[1],[1],[1],[1],[1],                    \n",
        "                    [0],[0],[0],[0],[0],[0],[0],[0],[0],[0],\n",
        "                    [0],[0],[0],[0],[0],[0],[0],[0],[0],[0],\n",
        "                    [0],[0],[0],[0],[0],[0],[0],[0],[0],[0],\n",
        "                    [0],[0],[0],[0],[0],[0],[0],[0],[0],[0]])\n",
        "\n",
        "y_train.shape         "
      ]
    },
    {
      "cell_type": "code",
      "execution_count": null,
      "metadata": {
        "colab": {
          "base_uri": "https://localhost:8080/"
        },
        "id": "6SNDjun8bKGv",
        "outputId": "f58e35a5-04ff-431d-f056-ccd834bb5f5f"
      },
      "outputs": [
        {
          "output_type": "execute_result",
          "data": {
            "text/plain": [
              "(40, 1)"
            ]
          },
          "metadata": {},
          "execution_count": 63
        }
      ],
      "source": [
        "y_test = np.array([[1],[1],[1],[1],[1],[1],[1],[1],[1],[1],\n",
        "                   [1],[1],[1],[1],[1],[1],[1],[1],[1],[1],\n",
        "                   [0],[0],[0],[0],[0],[0],[0],[0],[0],[0],\n",
        "                   [0],[0],[0],[0],[0],[0],[0],[0],[0],[0]])                   \n",
        "\n",
        "y_test.shape     "
      ]
    },
    {
      "cell_type": "code",
      "execution_count": null,
      "metadata": {
        "code_folding": [
          0
        ],
        "colab": {
          "base_uri": "https://localhost:8080/"
        },
        "id": "WasUVTWYbKGw",
        "outputId": "a734e8f6-40f8-4643-8544-87d5b05608a0"
      },
      "outputs": [
        {
          "output_type": "stream",
          "name": "stdout",
          "text": [
            "Original dimensions:\n",
            "--------------------\n",
            "Training: (80, 10, 10), (80, 1)\n",
            "Test: (40, 10, 10), (40, 1)\n",
            "\n",
            "New dimensions:\n",
            "---------------\n",
            "Training: (100, 80), (1, 80)\n",
            "Test: (100, 40), (1, 40)\n"
          ]
        }
      ],
      "source": [
        "# Import training dataset\n",
        "#train_dataset = h5py.File(\"../data/train_catvnoncat.h5\")\n",
        "#X_train = np.array(train_dataset[\"train_set_x\"])\n",
        "#y_train = np.array(train_dataset[\"train_set_y\"])\n",
        "\n",
        "#test_dataset = h5py.File(\"../data/test_catvnoncat.h5\")\n",
        "#X_test = np.array(test_dataset[\"test_set_x\"])\n",
        "#y_test = np.array(test_dataset[\"test_set_y\"])\n",
        "\n",
        "# print the shape of input data and label vector\n",
        "print(f\"\"\"Original dimensions:\\n{20 * '-'}\\nTraining: {X_train.shape}, {y_train.shape}\n",
        "Test: {X_test.shape}, {y_test.shape}\"\"\")\n",
        "\n",
        "# plot cat image\n",
        "#plt.figure(figsize=(6, 6))\n",
        "#plt.imshow(X_train[50])\n",
        "#plt.axis(\"off\");\n",
        "\n",
        "\n",
        "# Transform input data and label vector\n",
        "X_train = X_train.reshape(80, -1).T\n",
        "y_train = y_train.reshape(-1, 80)\n",
        "\n",
        "X_test = X_test.reshape(40, -1).T\n",
        "y_test = y_test.reshape(-1, 40)\n",
        "\n",
        "# standarize the data\n",
        "#X_train = X_train / 255\n",
        "#X_test = X_test / 255\n",
        "\n",
        "print(f\"\"\"\\nNew dimensions:\\n{15 * '-'}\\nTraining: {X_train.shape}, {y_train.shape}\n",
        "Test: {X_test.shape}, {y_test.shape}\"\"\")"
      ]
    },
    {
      "cell_type": "code",
      "execution_count": null,
      "metadata": {
        "id": "PX0ixulNbKGy"
      },
      "outputs": [],
      "source": [
        "#X = np.array(df['deceduti']).reshape(-1,1)\n",
        "#scaler = StandardScaler()\n",
        "#scaler.fit(X)\n",
        "#X_scaled = scaler.transform(X)\n",
        "\n",
        "from sklearn.preprocessing import StandardScaler\n",
        "\n",
        "scaler1 = StandardScaler()\n",
        "scaler1.fit(X_train)\n",
        "X_scaled = scaler1.transform(X_train)\n",
        "X_train=X_scaled"
      ]
    },
    {
      "cell_type": "code",
      "execution_count": null,
      "metadata": {
        "id": "HK7qg24TbKGz"
      },
      "outputs": [],
      "source": [
        "#X = np.array(df['deceduti']).reshape(-1,1)\n",
        "#scaler = StandardScaler()\n",
        "#scaler.fit(X)\n",
        "#X_scaled = scaler.transform(X)\n",
        "\n",
        "from sklearn.preprocessing import StandardScaler\n",
        "\n",
        "scaler2 = StandardScaler()\n",
        "scaler2.fit(X_test)\n",
        "X_scaled2 = scaler2.transform(X_test)\n",
        "X_test=X_scaled2"
      ]
    },
    {
      "cell_type": "markdown",
      "metadata": {
        "id": "VSkkCPzObKG0"
      },
      "source": [
        "Now, our dataset is ready to be used and test our neural network implementation. Let's first write **multi-layer model** function to implement gradient-based learning using predefined number of iterations and learning rate."
      ]
    },
    {
      "cell_type": "code",
      "execution_count": null,
      "metadata": {
        "code_folding": [
          0
        ],
        "id": "on9jX7i2bKG1"
      },
      "outputs": [],
      "source": [
        "# Define the multi-layer model using all the helper functions we wrote before\n",
        "\n",
        "\n",
        "def L_layer_model(\n",
        "        X, y, layers_dims, learning_rate=0.01, num_iterations=3000, num_iterations1=20,\n",
        "        print_cost=True, hidden_layers_activation_fn=\"relu\"):\n",
        "    \"\"\"\n",
        "    Implements multilayer neural network using gradient descent as the\n",
        "    learning algorithm.\n",
        "\n",
        "    Arguments\n",
        "    ---------\n",
        "    X : 2d-array\n",
        "        data, shape: number of examples x num_px * num_px * 3.\n",
        "    y : 2d-array\n",
        "        true \"label\" vector, shape: 1 x number of examples.\n",
        "    layers_dims : list\n",
        "        input size and size of each layer, length: number of layers + 1.\n",
        "    learning_rate : float\n",
        "        learning rate of the gradient descent update rule.\n",
        "    num_iterations : int\n",
        "        number of iterations of the optimization loop.\n",
        "    print_cost : bool\n",
        "        if True, it prints the cost every 100 steps.\n",
        "    hidden_layers_activation_fn : str\n",
        "        activation function to be used on hidden layers: \"tanh\", \"relu\".\n",
        "\n",
        "    Returns\n",
        "    -------\n",
        "    parameters : dict\n",
        "        parameters learnt by the model. They can then be used to predict test examples.\n",
        "    \"\"\"\n",
        "    np.random.seed(1)\n",
        "\n",
        "    # initialize parameters\n",
        "    parameters = initialize_parameters(layers_dims)\n",
        "\n",
        "    # intialize cost list\n",
        "    cost_list = []\n",
        "\n",
        "    # iterate over num_iterations\n",
        "    for j in range(num_iterations1):\n",
        "        learning_rate=learning_rate/2.5\n",
        "        # iterate over num_iterations\n",
        "        for i in range(num_iterations):\n",
        "            # iterate over L-layers to get the final output and the cache\n",
        "            AL, caches = L_model_forward(X, parameters, hidden_layers_activation_fn)\n",
        "            # compute cost to plot it\n",
        "            cost = compute_cost(AL, y)\n",
        "            # iterate over L-layers backward to get gradients\n",
        "            grads = L_model_backward(AL, y, caches, hidden_layers_activation_fn)\n",
        "            # update parameters\n",
        "            parameters = update_parameters(parameters, grads, learning_rate)\n",
        "            # append each 100th cost to the cost list\n",
        "            if (i + 1) % 100 == 0 and print_cost:\n",
        "                print(f\"The {j} cost after {i + 1} iterations is: {cost:.10f}\")\n",
        "            if i % 100 == 0:\n",
        "                cost_list.append(cost)\n",
        "\n",
        "    # plot the cost curve\n",
        "    plt.figure(figsize=(10, 6))\n",
        "    plt.plot(cost_list)\n",
        "    plt.xlabel(\"Iterations (per hundreds)\")\n",
        "    plt.ylabel(\"Loss\")\n",
        "    plt.title(f\"Loss curve for the learning rate = {learning_rate}\")\n",
        "\n",
        "    return parameters\n",
        "\n",
        "\n",
        "def accuracy(X, parameters, y, activation_fn=\"relu\"):\n",
        "    \"\"\"\n",
        "    Computes the average accuracy rate.\n",
        "\n",
        "    Arguments\n",
        "    ---------\n",
        "    X : 2d-array\n",
        "        data, shape: number of examples x num_px * num_px * 3.\n",
        "    parameters : dict\n",
        "        learnt parameters.\n",
        "    y : 2d-array\n",
        "        true \"label\" vector, shape: 1 x number of examples.\n",
        "    activation_fn : str\n",
        "        activation function to be used on hidden layers: \"tanh\", \"relu\".\n",
        "\n",
        "    Returns\n",
        "    -------\n",
        "    accuracy : float\n",
        "        accuracy rate after applying parameters on the input data\n",
        "    \"\"\"\n",
        "    probs, caches = L_model_forward(X, parameters, activation_fn)\n",
        "    print(\"probs: \", str(probs))\n",
        "    labels = (probs >= 0.5) * 1\n",
        "    accuracy = np.mean(labels == y) * 100\n",
        "\n",
        "    return f\"The accuracy rate is: {accuracy:.2f}%.\""
      ]
    },
    {
      "cell_type": "code",
      "execution_count": null,
      "metadata": {
        "id": "MJewG4t-bKG3"
      },
      "outputs": [],
      "source": [
        ""
      ]
    },
    {
      "cell_type": "markdown",
      "metadata": {
        "id": "D-fAiM53bKG4"
      },
      "source": [
        "Next, we'll train two versions of the neural network where each one will use different activation function on hidden layers: One will use rectified linear unit (**ReLU**) and the second one will use hyperbolic tangent function (**tanh**). Finally we'll use the parameters we get from both neural networks to classify test examples and compute the test accuracy rates for each version to see which activation function works best on this problem."
      ]
    },
    {
      "cell_type": "code",
      "execution_count": null,
      "metadata": {
        "id": "QmNG3-cMbKG5"
      },
      "outputs": [],
      "source": [
        "# Setting layers dims\n",
        "layers_dims = [X_train.shape[0], 3, 5, 1]"
      ]
    },
    {
      "cell_type": "markdown",
      "metadata": {
        "id": "lEv3j4WabKG8"
      },
      "source": [
        "## TANH"
      ]
    },
    {
      "cell_type": "code",
      "execution_count": null,
      "metadata": {
        "scrolled": true,
        "colab": {
          "base_uri": "https://localhost:8080/",
          "height": 1000
        },
        "id": "kmFOReVtbKG8",
        "outputId": "ce499794-2e53-4434-81c4-3786e4a087aa"
      },
      "outputs": [
        {
          "output_type": "stream",
          "name": "stdout",
          "text": [
            "The 0 cost after 100 iterations is: 0.6931452974\n",
            "The 0 cost after 200 iterations is: 0.6931419825\n",
            "The 0 cost after 300 iterations is: 0.6931338100\n",
            "The 0 cost after 400 iterations is: 0.6931058901\n",
            "The 0 cost after 500 iterations is: 0.6929289654\n",
            "The 0 cost after 600 iterations is: 0.6842001303\n",
            "The 0 cost after 700 iterations is: 0.0346927633\n",
            "The 0 cost after 800 iterations is: 0.0095152438\n",
            "The 0 cost after 900 iterations is: 0.0052918679\n",
            "The 0 cost after 1000 iterations is: 0.0036237555\n",
            "The 0 cost after 1100 iterations is: 0.0027413488\n",
            "The 0 cost after 1200 iterations is: 0.0021984284\n",
            "The 0 cost after 1300 iterations is: 0.0018318641\n",
            "The 0 cost after 1400 iterations is: 0.0015682706\n",
            "The 0 cost after 1500 iterations is: 0.0013698795\n",
            "The 0 cost after 1600 iterations is: 0.0012153160\n",
            "The 0 cost after 1700 iterations is: 0.0010915944\n",
            "The 0 cost after 1800 iterations is: 0.0009903797\n",
            "The 0 cost after 1900 iterations is: 0.0009060811\n",
            "The 0 cost after 2000 iterations is: 0.0008348115\n",
            "The 0 cost after 2100 iterations is: 0.0007737856\n",
            "The 0 cost after 2200 iterations is: 0.0007209565\n",
            "The 0 cost after 2300 iterations is: 0.0006747867\n",
            "The 0 cost after 2400 iterations is: 0.0006340992\n",
            "The 0 cost after 2500 iterations is: 0.0005979780\n",
            "The 0 cost after 2600 iterations is: 0.0005656997\n",
            "The 0 cost after 2700 iterations is: 0.0005366856\n",
            "The 0 cost after 2800 iterations is: 0.0005104671\n",
            "The 0 cost after 2900 iterations is: 0.0004866610\n",
            "The 0 cost after 3000 iterations is: 0.0004649508\n",
            "The 0 cost after 3100 iterations is: 0.0004450730\n",
            "The 0 cost after 3200 iterations is: 0.0004268062\n",
            "The 0 cost after 3300 iterations is: 0.0004099632\n",
            "The 0 cost after 3400 iterations is: 0.0003943846\n",
            "The 0 cost after 3500 iterations is: 0.0003799340\n",
            "The 0 cost after 3600 iterations is: 0.0003664938\n",
            "The 0 cost after 3700 iterations is: 0.0003539621\n",
            "The 0 cost after 3800 iterations is: 0.0003422503\n",
            "The 0 cost after 3900 iterations is: 0.0003312808\n",
            "The 0 cost after 4000 iterations is: 0.0003209857\n",
            "The 0 cost after 4100 iterations is: 0.0003113048\n",
            "The 0 cost after 4200 iterations is: 0.0003021851\n",
            "The 0 cost after 4300 iterations is: 0.0002935793\n",
            "The 0 cost after 4400 iterations is: 0.0002854455\n",
            "The 0 cost after 4500 iterations is: 0.0002777460\n",
            "The 0 cost after 4600 iterations is: 0.0002704470\n",
            "The 0 cost after 4700 iterations is: 0.0002635184\n",
            "The 0 cost after 4800 iterations is: 0.0002569326\n",
            "The 0 cost after 4900 iterations is: 0.0002506651\n",
            "The 0 cost after 5000 iterations is: 0.0002446933\n",
            "The 0 cost after 5100 iterations is: 0.0002389969\n",
            "The 0 cost after 5200 iterations is: 0.0002335574\n",
            "The 0 cost after 5300 iterations is: 0.0002283578\n",
            "The 0 cost after 5400 iterations is: 0.0002233828\n",
            "The 0 cost after 5500 iterations is: 0.0002186180\n",
            "The 0 cost after 5600 iterations is: 0.0002140506\n",
            "The 0 cost after 5700 iterations is: 0.0002096685\n",
            "The 0 cost after 5800 iterations is: 0.0002054608\n",
            "The 0 cost after 5900 iterations is: 0.0002014172\n",
            "The 0 cost after 6000 iterations is: 0.0001975285\n",
            "The 0 cost after 6100 iterations is: 0.0001937859\n",
            "The 0 cost after 6200 iterations is: 0.0001901813\n",
            "The 0 cost after 6300 iterations is: 0.0001867073\n",
            "The 0 cost after 6400 iterations is: 0.0001833570\n",
            "The 0 cost after 6500 iterations is: 0.0001801238\n",
            "The 0 cost after 6600 iterations is: 0.0001770019\n",
            "The 0 cost after 6700 iterations is: 0.0001739855\n",
            "The 0 cost after 6800 iterations is: 0.0001710694\n",
            "The 0 cost after 6900 iterations is: 0.0001682487\n",
            "The 0 cost after 7000 iterations is: 0.0001655188\n",
            "The 0 cost after 7100 iterations is: 0.0001628754\n",
            "The 0 cost after 7200 iterations is: 0.0001603146\n",
            "The 0 cost after 7300 iterations is: 0.0001578324\n",
            "The 0 cost after 7400 iterations is: 0.0001554253\n",
            "The 0 cost after 7500 iterations is: 0.0001530901\n",
            "The 0 cost after 7600 iterations is: 0.0001508235\n",
            "The 0 cost after 7700 iterations is: 0.0001486225\n",
            "The 0 cost after 7800 iterations is: 0.0001464845\n",
            "The 0 cost after 7900 iterations is: 0.0001444066\n",
            "The 0 cost after 8000 iterations is: 0.0001423865\n",
            "The 0 cost after 8100 iterations is: 0.0001404217\n",
            "The 0 cost after 8200 iterations is: 0.0001385100\n",
            "The 0 cost after 8300 iterations is: 0.0001366493\n",
            "The 0 cost after 8400 iterations is: 0.0001348376\n",
            "The 0 cost after 8500 iterations is: 0.0001330730\n",
            "The 0 cost after 8600 iterations is: 0.0001313537\n",
            "The 0 cost after 8700 iterations is: 0.0001296780\n",
            "The 0 cost after 8800 iterations is: 0.0001280442\n",
            "The 0 cost after 8900 iterations is: 0.0001264508\n",
            "The 0 cost after 9000 iterations is: 0.0001248963\n",
            "The 0 cost after 9100 iterations is: 0.0001233793\n",
            "The 0 cost after 9200 iterations is: 0.0001218985\n",
            "The 0 cost after 9300 iterations is: 0.0001204526\n",
            "The 0 cost after 9400 iterations is: 0.0001190403\n",
            "The 0 cost after 9500 iterations is: 0.0001176606\n",
            "The 0 cost after 9600 iterations is: 0.0001163123\n",
            "The 0 cost after 9700 iterations is: 0.0001149944\n",
            "The 0 cost after 9800 iterations is: 0.0001137058\n",
            "The 0 cost after 9900 iterations is: 0.0001124456\n",
            "The 0 cost after 10000 iterations is: 0.0001112129\n",
            "The 1 cost after 100 iterations is: 0.0001107200\n",
            "The 1 cost after 200 iterations is: 0.0001102387\n",
            "The 1 cost after 300 iterations is: 0.0001097615\n",
            "The 1 cost after 400 iterations is: 0.0001092884\n",
            "The 1 cost after 500 iterations is: 0.0001088193\n",
            "The 1 cost after 600 iterations is: 0.0001083543\n",
            "The 1 cost after 700 iterations is: 0.0001078931\n",
            "The 1 cost after 800 iterations is: 0.0001074358\n",
            "The 1 cost after 900 iterations is: 0.0001069824\n",
            "The 1 cost after 1000 iterations is: 0.0001065328\n",
            "The 1 cost after 1100 iterations is: 0.0001060869\n",
            "The 1 cost after 1200 iterations is: 0.0001056447\n",
            "The 1 cost after 1300 iterations is: 0.0001052061\n",
            "The 1 cost after 1400 iterations is: 0.0001047712\n",
            "The 1 cost after 1500 iterations is: 0.0001043398\n",
            "The 1 cost after 1600 iterations is: 0.0001039119\n",
            "The 1 cost after 1700 iterations is: 0.0001034875\n",
            "The 1 cost after 1800 iterations is: 0.0001030665\n",
            "The 1 cost after 1900 iterations is: 0.0001026490\n",
            "The 1 cost after 2000 iterations is: 0.0001022347\n",
            "The 1 cost after 2100 iterations is: 0.0001018238\n",
            "The 1 cost after 2200 iterations is: 0.0001014162\n",
            "The 1 cost after 2300 iterations is: 0.0001010118\n",
            "The 1 cost after 2400 iterations is: 0.0001006105\n",
            "The 1 cost after 2500 iterations is: 0.0001002125\n",
            "The 1 cost after 2600 iterations is: 0.0000998175\n",
            "The 1 cost after 2700 iterations is: 0.0000994257\n",
            "The 1 cost after 2800 iterations is: 0.0000990368\n",
            "The 1 cost after 2900 iterations is: 0.0000986510\n",
            "The 1 cost after 3000 iterations is: 0.0000982682\n",
            "The 1 cost after 3100 iterations is: 0.0000978883\n",
            "The 1 cost after 3200 iterations is: 0.0000975113\n",
            "The 1 cost after 3300 iterations is: 0.0000971372\n",
            "The 1 cost after 3400 iterations is: 0.0000967660\n",
            "The 1 cost after 3500 iterations is: 0.0000963975\n",
            "The 1 cost after 3600 iterations is: 0.0000960319\n",
            "The 1 cost after 3700 iterations is: 0.0000956690\n",
            "The 1 cost after 3800 iterations is: 0.0000953088\n",
            "The 1 cost after 3900 iterations is: 0.0000949512\n",
            "The 1 cost after 4000 iterations is: 0.0000945964\n",
            "The 1 cost after 4100 iterations is: 0.0000942441\n",
            "The 1 cost after 4200 iterations is: 0.0000938945\n",
            "The 1 cost after 4300 iterations is: 0.0000935474\n",
            "The 1 cost after 4400 iterations is: 0.0000932029\n",
            "The 1 cost after 4500 iterations is: 0.0000928609\n",
            "The 1 cost after 4600 iterations is: 0.0000925214\n",
            "The 1 cost after 4700 iterations is: 0.0000921843\n",
            "The 1 cost after 4800 iterations is: 0.0000918497\n",
            "The 1 cost after 4900 iterations is: 0.0000915175\n",
            "The 1 cost after 5000 iterations is: 0.0000911877\n",
            "The 1 cost after 5100 iterations is: 0.0000908602\n",
            "The 1 cost after 5200 iterations is: 0.0000905350\n",
            "The 1 cost after 5300 iterations is: 0.0000902122\n",
            "The 1 cost after 5400 iterations is: 0.0000898916\n",
            "The 1 cost after 5500 iterations is: 0.0000895733\n",
            "The 1 cost after 5600 iterations is: 0.0000892572\n",
            "The 1 cost after 5700 iterations is: 0.0000889434\n",
            "The 1 cost after 5800 iterations is: 0.0000886317\n",
            "The 1 cost after 5900 iterations is: 0.0000883222\n",
            "The 1 cost after 6000 iterations is: 0.0000880148\n",
            "The 1 cost after 6100 iterations is: 0.0000877096\n",
            "The 1 cost after 6200 iterations is: 0.0000874064\n",
            "The 1 cost after 6300 iterations is: 0.0000871054\n",
            "The 1 cost after 6400 iterations is: 0.0000868063\n",
            "The 1 cost after 6500 iterations is: 0.0000865094\n",
            "The 1 cost after 6600 iterations is: 0.0000862144\n",
            "The 1 cost after 6700 iterations is: 0.0000859214\n",
            "The 1 cost after 6800 iterations is: 0.0000856304\n",
            "The 1 cost after 6900 iterations is: 0.0000853414\n",
            "The 1 cost after 7000 iterations is: 0.0000850543\n",
            "The 1 cost after 7100 iterations is: 0.0000847691\n",
            "The 1 cost after 7200 iterations is: 0.0000844858\n",
            "The 1 cost after 7300 iterations is: 0.0000842043\n",
            "The 1 cost after 7400 iterations is: 0.0000839248\n",
            "The 1 cost after 7500 iterations is: 0.0000836471\n",
            "The 1 cost after 7600 iterations is: 0.0000833712\n",
            "The 1 cost after 7700 iterations is: 0.0000830971\n",
            "The 1 cost after 7800 iterations is: 0.0000828248\n",
            "The 1 cost after 7900 iterations is: 0.0000825542\n",
            "The 1 cost after 8000 iterations is: 0.0000822854\n",
            "The 1 cost after 8100 iterations is: 0.0000820184\n",
            "The 1 cost after 8200 iterations is: 0.0000817530\n",
            "The 1 cost after 8300 iterations is: 0.0000814894\n",
            "The 1 cost after 8400 iterations is: 0.0000812275\n",
            "The 1 cost after 8500 iterations is: 0.0000809672\n",
            "The 1 cost after 8600 iterations is: 0.0000807086\n",
            "The 1 cost after 8700 iterations is: 0.0000804516\n",
            "The 1 cost after 8800 iterations is: 0.0000801962\n",
            "The 1 cost after 8900 iterations is: 0.0000799425\n",
            "The 1 cost after 9000 iterations is: 0.0000796903\n",
            "The 1 cost after 9100 iterations is: 0.0000794397\n",
            "The 1 cost after 9200 iterations is: 0.0000791907\n",
            "The 1 cost after 9300 iterations is: 0.0000789432\n",
            "The 1 cost after 9400 iterations is: 0.0000786973\n",
            "The 1 cost after 9500 iterations is: 0.0000784529\n",
            "The 1 cost after 9600 iterations is: 0.0000782100\n",
            "The 1 cost after 9700 iterations is: 0.0000779686\n",
            "The 1 cost after 9800 iterations is: 0.0000777286\n",
            "The 1 cost after 9900 iterations is: 0.0000774901\n",
            "The 1 cost after 10000 iterations is: 0.0000772531\n",
            "probs:  [[9.99533221e-01 5.00619711e-05 9.99916724e-01 1.89846170e-02\n",
            "  9.99870097e-01 9.99868437e-01 9.99952448e-01 9.99661664e-01\n",
            "  1.35353444e-04 9.99932384e-01 9.99931015e-01 4.95734809e-05\n",
            "  1.01661289e-04 5.28029682e-05 3.60723957e-01 9.99860966e-01\n",
            "  1.21622373e-03 9.99948694e-01 9.99951401e-01 9.99948543e-01\n",
            "  9.99849420e-01 5.21064557e-05 4.96817736e-05 9.40353156e-05\n",
            "  5.54423134e-05 7.22083311e-01 9.99915454e-01 5.11542609e-05\n",
            "  5.45198999e-05 9.99940041e-01 9.99946511e-01 9.99943455e-01\n",
            "  9.99951357e-01 9.66697338e-05 5.09718913e-05 9.97153182e-01\n",
            "  9.99952267e-01 9.99939067e-01 9.99936828e-01 9.99771731e-01]]\n"
          ]
        },
        {
          "output_type": "execute_result",
          "data": {
            "text/plain": [
              "'The accuracy rate is: 50.00%.'"
            ],
            "application/vnd.google.colaboratory.intrinsic+json": {
              "type": "string"
            }
          },
          "metadata": {},
          "execution_count": 69
        },
        {
          "output_type": "display_data",
          "data": {
            "text/plain": [
              "<Figure size 720x432 with 1 Axes>"
            ],
            "image/png": "[encoded data removed]"
          },
          "metadata": {}
        }
      ],
      "source": [
        "\n",
        "# NN with tanh activation fn\n",
        "parameters_tanh = L_layer_model(\n",
        "    X_train, y_train, layers_dims, learning_rate=0.5, num_iterations=10000, num_iterations1=2,\n",
        "    hidden_layers_activation_fn=\"tanh\")\n",
        "\n",
        "# Print the accuracy\n",
        "accuracy(X_test, parameters_tanh, y_test, activation_fn=\"tanh\")"
      ]
    },
    {
      "cell_type": "markdown",
      "metadata": {
        "id": "lYVDtTHDbKHB"
      },
      "source": [
        "## RELU\n"
      ]
    },
    {
      "cell_type": "code",
      "execution_count": null,
      "metadata": {
        "scrolled": true,
        "id": "4P6ZRU7jbKHG",
        "outputId": "52d37368-23e1-4286-f849-d7ab0049653e",
        "colab": {
          "base_uri": "https://localhost:8080/",
          "height": 1000
        }
      },
      "outputs": [
        {
          "output_type": "stream",
          "name": "stdout",
          "text": [
            "The 0 cost after 100 iterations is: 0.6931454265\n",
            "The 0 cost after 200 iterations is: 0.6931442653\n",
            "The 0 cost after 300 iterations is: 0.6931422640\n",
            "The 0 cost after 400 iterations is: 0.6931383576\n",
            "The 0 cost after 500 iterations is: 0.6931293125\n",
            "The 0 cost after 600 iterations is: 0.6931062317\n",
            "The 0 cost after 700 iterations is: 0.6930226604\n",
            "The 0 cost after 800 iterations is: 0.6924667552\n",
            "The 0 cost after 900 iterations is: 0.6576125686\n",
            "The 0 cost after 1000 iterations is: 0.1380041631\n",
            "The 0 cost after 1100 iterations is: 0.1310162428\n",
            "The 0 cost after 1200 iterations is: 0.1299320015\n",
            "The 0 cost after 1300 iterations is: 0.1295429315\n",
            "The 0 cost after 1400 iterations is: 0.1293087081\n",
            "The 0 cost after 1500 iterations is: 0.1291757536\n",
            "The 0 cost after 1600 iterations is: 0.1290902740\n",
            "The 0 cost after 1700 iterations is: 0.1290283511\n",
            "The 0 cost after 1800 iterations is: 0.1289857692\n",
            "The 0 cost after 1900 iterations is: 0.1289636464\n",
            "The 0 cost after 2000 iterations is: 0.1127709462\n",
            "The 0 cost after 2100 iterations is: 0.1126892186\n",
            "The 0 cost after 2200 iterations is: 0.1126592380\n",
            "The 0 cost after 2300 iterations is: 0.1126344592\n",
            "The 0 cost after 2400 iterations is: 0.1126132841\n",
            "The 0 cost after 2500 iterations is: 0.1126016767\n",
            "The 0 cost after 2600 iterations is: 0.1125903159\n",
            "The 0 cost after 2700 iterations is: 0.1125802998\n",
            "The 0 cost after 2800 iterations is: 0.1125703556\n",
            "The 0 cost after 2900 iterations is: 0.1125622005\n",
            "The 0 cost after 3000 iterations is: 0.1125552993\n",
            "The 0 cost after 3100 iterations is: 0.1125502487\n",
            "The 0 cost after 3200 iterations is: 0.1125467486\n",
            "The 0 cost after 3300 iterations is: 0.1125416999\n",
            "The 0 cost after 3400 iterations is: 0.1125383546\n",
            "The 0 cost after 3500 iterations is: 0.1125343209\n",
            "The 0 cost after 3600 iterations is: 0.1125314936\n",
            "The 0 cost after 3700 iterations is: 0.1125281227\n",
            "The 0 cost after 3800 iterations is: 0.1125251151\n",
            "The 0 cost after 3900 iterations is: 0.1125223975\n",
            "The 0 cost after 4000 iterations is: 0.1125199223\n",
            "The 0 cost after 4100 iterations is: 0.1125176574\n",
            "The 0 cost after 4200 iterations is: 0.1125170917\n",
            "The 0 cost after 4300 iterations is: 0.1125152130\n",
            "The 0 cost after 4400 iterations is: 0.1125132827\n",
            "The 0 cost after 4500 iterations is: 0.1125115055\n",
            "The 0 cost after 4600 iterations is: 0.1125098596\n",
            "The 0 cost after 4700 iterations is: 0.1125083300\n",
            "The 0 cost after 4800 iterations is: 0.1125069044\n",
            "The 0 cost after 4900 iterations is: 0.1125055728\n",
            "The 0 cost after 5000 iterations is: 0.1125048648\n",
            "The 0 cost after 5100 iterations is: 0.1125036434\n",
            "The 0 cost after 5200 iterations is: 0.1125025008\n",
            "The 0 cost after 5300 iterations is: 0.1125014262\n",
            "The 0 cost after 5400 iterations is: 0.1125004138\n",
            "The 0 cost after 5500 iterations is: 0.1124994582\n",
            "The 0 cost after 5600 iterations is: 0.1124985545\n",
            "The 0 cost after 5700 iterations is: 0.1124976986\n",
            "The 0 cost after 5800 iterations is: 0.1124973215\n",
            "The 0 cost after 5900 iterations is: 0.1124964824\n",
            "The 0 cost after 6000 iterations is: 0.1124956908\n",
            "The 0 cost after 6100 iterations is: 0.1124949467\n",
            "The 0 cost after 6200 iterations is: 0.1124942513\n",
            "The 0 cost after 6300 iterations is: 0.1124935897\n",
            "The 0 cost after 6400 iterations is: 0.1124936162\n",
            "The 0 cost after 6500 iterations is: 0.1124929768\n",
            "The 0 cost after 6600 iterations is: 0.1124930308\n",
            "The 0 cost after 6700 iterations is: 0.1124923178\n",
            "The 0 cost after 6800 iterations is: 0.1124924281\n",
            "The 0 cost after 6900 iterations is: 0.1124917555\n",
            "The 0 cost after 7000 iterations is: 0.1124911496\n",
            "The 0 cost after 7100 iterations is: 0.1124906037\n",
            "The 0 cost after 7200 iterations is: 0.1124900886\n",
            "The 0 cost after 7300 iterations is: 0.1124895959\n",
            "The 0 cost after 7400 iterations is: 0.1124891236\n",
            "The 0 cost after 7500 iterations is: 0.1124890065\n",
            "The 0 cost after 7600 iterations is: 0.1124885337\n",
            "The 0 cost after 7700 iterations is: 0.1124880906\n",
            "The 0 cost after 7800 iterations is: 0.1124876720\n",
            "The 0 cost after 7900 iterations is: 0.1124872696\n",
            "The 0 cost after 8000 iterations is: 0.1124868847\n",
            "The 0 cost after 8100 iterations is: 0.1124865148\n",
            "The 0 cost after 8200 iterations is: 0.1124861584\n",
            "The 0 cost after 8300 iterations is: 0.1124858147\n",
            "The 0 cost after 8400 iterations is: 0.1124854828\n",
            "The 0 cost after 8500 iterations is: 0.1124851623\n",
            "The 0 cost after 8600 iterations is: 0.1124848524\n",
            "The 0 cost after 8700 iterations is: 0.1124845538\n",
            "The 0 cost after 8800 iterations is: 0.1124842651\n",
            "The 0 cost after 8900 iterations is: 0.1124839857\n",
            "The 0 cost after 9000 iterations is: 0.1124837149\n",
            "The 0 cost after 9100 iterations is: 0.1124834524\n",
            "The 0 cost after 9200 iterations is: 0.1124831978\n",
            "The 0 cost after 9300 iterations is: 0.1124829508\n",
            "The 0 cost after 9400 iterations is: 0.1124827110\n",
            "The 0 cost after 9500 iterations is: 0.1124824781\n",
            "The 0 cost after 9600 iterations is: 0.1124822518\n",
            "The 0 cost after 9700 iterations is: 0.1124820321\n",
            "The 0 cost after 9800 iterations is: 0.1124818185\n",
            "The 0 cost after 9900 iterations is: 0.1124816107\n",
            "The 0 cost after 10000 iterations is: 0.1124814084\n",
            "The 1 cost after 100 iterations is: 0.1124813279\n",
            "The 1 cost after 200 iterations is: 0.1124812493\n",
            "The 1 cost after 300 iterations is: 0.1124811717\n",
            "The 1 cost after 400 iterations is: 0.1124810950\n",
            "The 1 cost after 500 iterations is: 0.1124810191\n",
            "The 1 cost after 600 iterations is: 0.1124809440\n",
            "The 1 cost after 700 iterations is: 0.1124808696\n",
            "The 1 cost after 800 iterations is: 0.1124807960\n",
            "The 1 cost after 900 iterations is: 0.1124807231\n",
            "The 1 cost after 1000 iterations is: 0.1124806510\n",
            "The 1 cost after 1100 iterations is: 0.1124805797\n",
            "The 1 cost after 1200 iterations is: 0.1124805090\n",
            "The 1 cost after 1300 iterations is: 0.1124804390\n",
            "The 1 cost after 1400 iterations is: 0.1124803698\n",
            "The 1 cost after 1500 iterations is: 0.1124803012\n",
            "The 1 cost after 1600 iterations is: 0.1124802333\n",
            "The 1 cost after 1700 iterations is: 0.1124801660\n",
            "The 1 cost after 1800 iterations is: 0.1124800995\n",
            "The 1 cost after 1900 iterations is: 0.1088494705\n",
            "The 1 cost after 2000 iterations is: 0.1087928466\n",
            "The 1 cost after 2100 iterations is: 0.1087770100\n",
            "The 1 cost after 2200 iterations is: 0.1087699098\n",
            "The 1 cost after 2300 iterations is: 0.1087667888\n",
            "The 1 cost after 2400 iterations is: 0.1087645653\n",
            "The 1 cost after 2500 iterations is: 0.1087628029\n",
            "The 1 cost after 2600 iterations is: 0.1087613667\n",
            "The 1 cost after 2700 iterations is: 0.1087601699\n",
            "The 1 cost after 2800 iterations is: 0.1087591538\n",
            "The 1 cost after 2900 iterations is: 0.1087582774\n",
            "The 1 cost after 3000 iterations is: 0.1087575115\n",
            "The 1 cost after 3100 iterations is: 0.1087568343\n",
            "The 1 cost after 3200 iterations is: 0.1087562296\n",
            "The 1 cost after 3300 iterations is: 0.1087556851\n",
            "The 1 cost after 3400 iterations is: 0.1087551908\n",
            "The 1 cost after 3500 iterations is: 0.1087547390\n",
            "The 1 cost after 3600 iterations is: 0.1087543236\n",
            "The 1 cost after 3700 iterations is: 0.1087539395\n",
            "The 1 cost after 3800 iterations is: 0.1087535827\n",
            "The 1 cost after 3900 iterations is: 0.1087532498\n",
            "The 1 cost after 4000 iterations is: 0.1087529381\n",
            "The 1 cost after 4100 iterations is: 0.1087526450\n",
            "The 1 cost after 4200 iterations is: 0.1087523685\n",
            "The 1 cost after 4300 iterations is: 0.1087521070\n",
            "The 1 cost after 4400 iterations is: 0.1087518588\n",
            "The 1 cost after 4500 iterations is: 0.1087516227\n",
            "The 1 cost after 4600 iterations is: 0.1087513977\n",
            "The 1 cost after 4700 iterations is: 0.1087511828\n",
            "The 1 cost after 4800 iterations is: 0.1087509770\n",
            "The 1 cost after 4900 iterations is: 0.1087507797\n",
            "The 1 cost after 5000 iterations is: 0.1087505902\n",
            "The 1 cost after 5100 iterations is: 0.1087504079\n",
            "The 1 cost after 5200 iterations is: 0.1087502323\n",
            "The 1 cost after 5300 iterations is: 0.1087500628\n",
            "The 1 cost after 5400 iterations is: 0.1087498992\n",
            "The 1 cost after 5500 iterations is: 0.1087497409\n",
            "The 1 cost after 5600 iterations is: 0.1087495876\n",
            "The 1 cost after 5700 iterations is: 0.1087494391\n",
            "The 1 cost after 5800 iterations is: 0.1087492951\n",
            "The 1 cost after 5900 iterations is: 0.1087491552\n",
            "The 1 cost after 6000 iterations is: 0.1087490192\n",
            "The 1 cost after 6100 iterations is: 0.1087493404\n",
            "The 1 cost after 6200 iterations is: 0.1087492019\n",
            "The 1 cost after 6300 iterations is: 0.1087490669\n",
            "The 1 cost after 6400 iterations is: 0.1087489353\n",
            "The 1 cost after 6500 iterations is: 0.1087488069\n",
            "The 1 cost after 6600 iterations is: 0.1087486816\n",
            "The 1 cost after 6700 iterations is: 0.1087485593\n",
            "The 1 cost after 6800 iterations is: 0.1087484397\n",
            "The 1 cost after 6900 iterations is: 0.1087483230\n",
            "The 1 cost after 7000 iterations is: 0.1087482089\n",
            "The 1 cost after 7100 iterations is: 0.1087480972\n",
            "The 1 cost after 7200 iterations is: 0.1087479880\n",
            "The 1 cost after 7300 iterations is: 0.1087478811\n",
            "The 1 cost after 7400 iterations is: 0.1087477763\n",
            "The 1 cost after 7500 iterations is: 0.1087476737\n",
            "The 1 cost after 7600 iterations is: 0.1087475731\n",
            "The 1 cost after 7700 iterations is: 0.1087474745\n",
            "The 1 cost after 7800 iterations is: 0.1087473777\n",
            "The 1 cost after 7900 iterations is: 0.1087472828\n",
            "The 1 cost after 8000 iterations is: 0.1087471896\n",
            "The 1 cost after 8100 iterations is: 0.1087470981\n",
            "The 1 cost after 8200 iterations is: 0.1087470084\n",
            "The 1 cost after 8300 iterations is: 0.1087469202\n",
            "The 1 cost after 8400 iterations is: 0.1087468336\n",
            "The 1 cost after 8500 iterations is: 0.1087467485\n",
            "The 1 cost after 8600 iterations is: 0.1087466648\n",
            "The 1 cost after 8700 iterations is: 0.1087465826\n",
            "The 1 cost after 8800 iterations is: 0.1087465017\n",
            "The 1 cost after 8900 iterations is: 0.1087464221\n",
            "The 1 cost after 9000 iterations is: 0.1087463438\n",
            "The 1 cost after 9100 iterations is: 0.1087462668\n",
            "The 1 cost after 9200 iterations is: 0.1087461909\n",
            "The 1 cost after 9300 iterations is: 0.1087461162\n",
            "The 1 cost after 9400 iterations is: 0.1087460426\n",
            "The 1 cost after 9500 iterations is: 0.1087459701\n",
            "The 1 cost after 9600 iterations is: 0.1087458987\n",
            "The 1 cost after 9700 iterations is: 0.1087458283\n",
            "The 1 cost after 9800 iterations is: 0.1087457589\n",
            "The 1 cost after 9900 iterations is: 0.1087456906\n",
            "The 1 cost after 10000 iterations is: 0.1087456232\n",
            "probs:  [[9.66135896e-01 2.42580250e-06 9.99711500e-01 4.76893382e-01\n",
            "  9.99992783e-01 6.94181130e-01 9.99773898e-01 9.21730892e-01\n",
            "  1.25577703e-03 8.96801776e-01 5.82612805e-01 8.98545236e-09\n",
            "  7.62600989e-02 2.15493040e-02 5.92471048e-02 9.91579230e-01\n",
            "  1.38276902e-01 9.99884632e-01 9.99949861e-01 9.27197348e-01\n",
            "  9.92988121e-01 8.89030743e-05 3.92892031e-04 3.97527146e-04\n",
            "  3.55566893e-01 9.47447741e-01 9.98689893e-01 2.78215071e-04\n",
            "  4.47588469e-05 8.82871875e-01 9.83117150e-01 9.99928208e-01\n",
            "  9.99993988e-01 1.77910091e-03 1.44298180e-04 1.45354195e-01\n",
            "  9.99998151e-01 3.96868521e-02 9.93265749e-01 9.67663949e-01]]\n"
          ]
        },
        {
          "output_type": "execute_result",
          "data": {
            "text/plain": [
              "'The accuracy rate is: 55.00%.'"
            ],
            "application/vnd.google.colaboratory.intrinsic+json": {
              "type": "string"
            }
          },
          "metadata": {},
          "execution_count": 70
        },
        {
          "output_type": "display_data",
          "data": {
            "text/plain": [
              "<Figure size 720x432 with 1 Axes>"
            ],
            "image/png": "[encoded data removed]"
          },
          "metadata": {}
        }
      ],
      "source": [
        "# NN with relu activation fn\n",
        "parameters_relu = L_layer_model(\n",
        "    X_train, y_train, layers_dims, learning_rate=0.5, num_iterations=10000, num_iterations1=2,\n",
        "    hidden_layers_activation_fn=\"relu\")\n",
        "\n",
        "# Print the accuracy\n",
        "accuracy(X_test, parameters_relu, y_test, activation_fn=\"relu\")"
      ]
    },
    {
      "cell_type": "markdown",
      "metadata": {
        "id": "YLsZSBRQbKHI"
      },
      "source": [
        "sigmoid"
      ]
    },
    {
      "cell_type": "code",
      "execution_count": null,
      "metadata": {
        "colab": {
          "base_uri": "https://localhost:8080/",
          "height": 1000
        },
        "id": "NQP5HBsZbKHI",
        "outputId": "5142424b-422a-4829-a5f4-e50c8549dd15"
      },
      "outputs": [
        {
          "output_type": "stream",
          "name": "stdout",
          "text": [
            "The 0 cost after 100 iterations is: 0.6931471674\n",
            "The 0 cost after 200 iterations is: 0.6931471615\n",
            "The 0 cost after 300 iterations is: 0.6931471555\n",
            "The 0 cost after 400 iterations is: 0.6931471494\n",
            "The 0 cost after 500 iterations is: 0.6931471431\n",
            "The 0 cost after 600 iterations is: 0.6931471367\n",
            "The 0 cost after 700 iterations is: 0.6931471301\n",
            "The 0 cost after 800 iterations is: 0.6931471234\n",
            "The 0 cost after 900 iterations is: 0.6931471164\n",
            "The 0 cost after 1000 iterations is: 0.6931471092\n",
            "The 0 cost after 1100 iterations is: 0.6931471018\n",
            "The 0 cost after 1200 iterations is: 0.6931470942\n",
            "The 0 cost after 1300 iterations is: 0.6931470862\n",
            "The 0 cost after 1400 iterations is: 0.6931470780\n",
            "The 0 cost after 1500 iterations is: 0.6931470695\n",
            "The 0 cost after 1600 iterations is: 0.6931470607\n",
            "The 0 cost after 1700 iterations is: 0.6931470515\n",
            "The 0 cost after 1800 iterations is: 0.6931470419\n",
            "The 0 cost after 1900 iterations is: 0.6931470319\n",
            "The 0 cost after 2000 iterations is: 0.6931470215\n",
            "The 0 cost after 2100 iterations is: 0.6931470106\n",
            "The 0 cost after 2200 iterations is: 0.6931469992\n",
            "The 0 cost after 2300 iterations is: 0.6931469873\n",
            "The 0 cost after 2400 iterations is: 0.6931469748\n",
            "The 0 cost after 2500 iterations is: 0.6931469617\n",
            "The 0 cost after 2600 iterations is: 0.6931469479\n",
            "The 0 cost after 2700 iterations is: 0.6931469335\n",
            "The 0 cost after 2800 iterations is: 0.6931469183\n",
            "The 0 cost after 2900 iterations is: 0.6931469022\n",
            "The 0 cost after 3000 iterations is: 0.6931468853\n",
            "The 0 cost after 3100 iterations is: 0.6931468675\n",
            "The 0 cost after 3200 iterations is: 0.6931468487\n",
            "The 0 cost after 3300 iterations is: 0.6931468288\n",
            "The 0 cost after 3400 iterations is: 0.6931468077\n",
            "The 0 cost after 3500 iterations is: 0.6931467853\n",
            "The 0 cost after 3600 iterations is: 0.6931467617\n",
            "The 0 cost after 3700 iterations is: 0.6931467365\n",
            "The 0 cost after 3800 iterations is: 0.6931467098\n",
            "The 0 cost after 3900 iterations is: 0.6931466813\n",
            "The 0 cost after 4000 iterations is: 0.6931466510\n",
            "The 0 cost after 4100 iterations is: 0.6931466187\n",
            "The 0 cost after 4200 iterations is: 0.6931465842\n",
            "The 0 cost after 4300 iterations is: 0.6931465474\n",
            "The 0 cost after 4400 iterations is: 0.6931465079\n",
            "The 0 cost after 4500 iterations is: 0.6931464656\n",
            "The 0 cost after 4600 iterations is: 0.6931464202\n",
            "The 0 cost after 4700 iterations is: 0.6931463715\n",
            "The 0 cost after 4800 iterations is: 0.6931463190\n",
            "The 0 cost after 4900 iterations is: 0.6931462624\n",
            "The 0 cost after 5000 iterations is: 0.6931462014\n",
            "The 0 cost after 5100 iterations is: 0.6931461355\n",
            "The 0 cost after 5200 iterations is: 0.6931460640\n",
            "The 0 cost after 5300 iterations is: 0.6931459866\n",
            "The 0 cost after 5400 iterations is: 0.6931459025\n",
            "The 0 cost after 5500 iterations is: 0.6931458109\n",
            "The 0 cost after 5600 iterations is: 0.6931457111\n",
            "The 0 cost after 5700 iterations is: 0.6931456020\n",
            "The 0 cost after 5800 iterations is: 0.6931454826\n",
            "The 0 cost after 5900 iterations is: 0.6931453516\n",
            "The 0 cost after 6000 iterations is: 0.6931452076\n",
            "The 0 cost after 6100 iterations is: 0.6931450488\n",
            "The 0 cost after 6200 iterations is: 0.6931448733\n",
            "The 0 cost after 6300 iterations is: 0.6931446789\n",
            "The 0 cost after 6400 iterations is: 0.6931444629\n",
            "The 0 cost after 6500 iterations is: 0.6931442222\n",
            "The 0 cost after 6600 iterations is: 0.6931439533\n",
            "The 0 cost after 6700 iterations is: 0.6931436517\n",
            "The 0 cost after 6800 iterations is: 0.6931433125\n",
            "The 0 cost after 6900 iterations is: 0.6931429294\n",
            "The 0 cost after 7000 iterations is: 0.6931424952\n",
            "The 0 cost after 7100 iterations is: 0.6931420010\n",
            "The 0 cost after 7200 iterations is: 0.6931414360\n",
            "The 0 cost after 7300 iterations is: 0.6931407872\n",
            "The 0 cost after 7400 iterations is: 0.6931400383\n",
            "The 0 cost after 7500 iterations is: 0.6931391691\n",
            "The 0 cost after 7600 iterations is: 0.6931381547\n",
            "The 0 cost after 7700 iterations is: 0.6931369633\n",
            "The 0 cost after 7800 iterations is: 0.6931355544\n",
            "The 0 cost after 7900 iterations is: 0.6931338762\n",
            "The 0 cost after 8000 iterations is: 0.6931318610\n",
            "The 0 cost after 8100 iterations is: 0.6931294200\n",
            "The 0 cost after 8200 iterations is: 0.6931264343\n",
            "The 0 cost after 8300 iterations is: 0.6931227435\n",
            "The 0 cost after 8400 iterations is: 0.6931181266\n",
            "The 0 cost after 8500 iterations is: 0.6931122744\n",
            "The 0 cost after 8600 iterations is: 0.6931047453\n",
            "The 0 cost after 8700 iterations is: 0.6930948943\n",
            "The 0 cost after 8800 iterations is: 0.6930817553\n",
            "The 0 cost after 8900 iterations is: 0.6930638383\n",
            "The 0 cost after 9000 iterations is: 0.6930387676\n",
            "The 0 cost after 9100 iterations is: 0.6930026039\n",
            "The 0 cost after 9200 iterations is: 0.6929485086\n",
            "The 0 cost after 9300 iterations is: 0.6928639362\n",
            "The 0 cost after 9400 iterations is: 0.6927242756\n",
            "The 0 cost after 9500 iterations is: 0.6924770534\n",
            "The 0 cost after 9600 iterations is: 0.6919979190\n",
            "The 0 cost after 9700 iterations is: 0.6909487482\n",
            "The 0 cost after 9800 iterations is: 0.6882259213\n",
            "The 0 cost after 9900 iterations is: 0.6792535254\n",
            "The 0 cost after 10000 iterations is: 0.6398694808\n",
            "The 1 cost after 100 iterations is: 0.5954054391\n",
            "The 1 cost after 200 iterations is: 0.5216924613\n",
            "The 1 cost after 300 iterations is: 0.4226301356\n",
            "The 1 cost after 400 iterations is: 0.3193063171\n",
            "The 1 cost after 500 iterations is: 0.2344944513\n",
            "The 1 cost after 600 iterations is: 0.1762782973\n",
            "The 1 cost after 700 iterations is: 0.1314630109\n",
            "The 1 cost after 800 iterations is: 0.0960880657\n",
            "The 1 cost after 900 iterations is: 0.0752843514\n",
            "The 1 cost after 1000 iterations is: 0.0609570440\n",
            "The 1 cost after 1100 iterations is: 0.0506583444\n",
            "The 1 cost after 1200 iterations is: 0.0429953061\n",
            "The 1 cost after 1300 iterations is: 0.0371255902\n",
            "The 1 cost after 1400 iterations is: 0.0325181565\n",
            "The 1 cost after 1500 iterations is: 0.0288256270\n",
            "The 1 cost after 1600 iterations is: 0.0258132193\n",
            "The 1 cost after 1700 iterations is: 0.0233176299\n",
            "The 1 cost after 1800 iterations is: 0.0212223725\n",
            "The 1 cost after 1900 iterations is: 0.0194424889\n",
            "The 1 cost after 2000 iterations is: 0.0179147847\n",
            "The 1 cost after 2100 iterations is: 0.0165914233\n",
            "The 1 cost after 2200 iterations is: 0.0154356206\n",
            "The 1 cost after 2300 iterations is: 0.0144186904\n",
            "The 1 cost after 2400 iterations is: 0.0135179735\n",
            "The 1 cost after 2500 iterations is: 0.0127153642\n",
            "The 1 cost after 2600 iterations is: 0.0119962407\n",
            "The 1 cost after 2700 iterations is: 0.0113486812\n",
            "The 1 cost after 2800 iterations is: 0.0107628783\n",
            "The 1 cost after 2900 iterations is: 0.0102306981\n",
            "The 1 cost after 3000 iterations is: 0.0097453437\n",
            "The 1 cost after 3100 iterations is: 0.0093010958\n",
            "The 1 cost after 3200 iterations is: 0.0088931105\n",
            "The 1 cost after 3300 iterations is: 0.0085172604\n",
            "The 1 cost after 3400 iterations is: 0.0081700090\n",
            "The 1 cost after 3500 iterations is: 0.0078483102\n",
            "The 1 cost after 3600 iterations is: 0.0075495272\n",
            "The 1 cost after 3700 iterations is: 0.0072713669\n",
            "The 1 cost after 3800 iterations is: 0.0070118268\n",
            "The 1 cost after 3900 iterations is: 0.0067691506\n",
            "The 1 cost after 4000 iterations is: 0.0065417921\n",
            "The 1 cost after 4100 iterations is: 0.0063283853\n",
            "The 1 cost after 4200 iterations is: 0.0061277189\n",
            "The 1 cost after 4300 iterations is: 0.0059387156\n",
            "The 1 cost after 4400 iterations is: 0.0057604141\n",
            "The 1 cost after 4500 iterations is: 0.0055919541\n",
            "The 1 cost after 4600 iterations is: 0.0054325637\n",
            "The 1 cost after 4700 iterations is: 0.0052815483\n",
            "The 1 cost after 4800 iterations is: 0.0051382812\n",
            "The 1 cost after 4900 iterations is: 0.0050021958\n",
            "The 1 cost after 5000 iterations is: 0.0048727786\n",
            "The 1 cost after 5100 iterations is: 0.0047495632\n",
            "The 1 cost after 5200 iterations is: 0.0046321248\n",
            "The 1 cost after 5300 iterations is: 0.0045200761\n",
            "The 1 cost after 5400 iterations is: 0.0044130633\n",
            "The 1 cost after 5500 iterations is: 0.0043107621\n",
            "The 1 cost after 5600 iterations is: 0.0042128754\n",
            "The 1 cost after 5700 iterations is: 0.0041191298\n",
            "The 1 cost after 5800 iterations is: 0.0040292741\n",
            "The 1 cost after 5900 iterations is: 0.0039430765\n",
            "The 1 cost after 6000 iterations is: 0.0038603231\n",
            "The 1 cost after 6100 iterations is: 0.0037808160\n",
            "The 1 cost after 6200 iterations is: 0.0037043720\n",
            "The 1 cost after 6300 iterations is: 0.0036308214\n",
            "The 1 cost after 6400 iterations is: 0.0035600064\n",
            "The 1 cost after 6500 iterations is: 0.0034917805\n",
            "The 1 cost after 6600 iterations is: 0.0034260072\n",
            "The 1 cost after 6700 iterations is: 0.0033625595\n",
            "The 1 cost after 6800 iterations is: 0.0033013187\n",
            "The 1 cost after 6900 iterations is: 0.0032421740\n",
            "The 1 cost after 7000 iterations is: 0.0031850218\n",
            "The 1 cost after 7100 iterations is: 0.0031297651\n",
            "The 1 cost after 7200 iterations is: 0.0030763132\n",
            "The 1 cost after 7300 iterations is: 0.0030245807\n",
            "The 1 cost after 7400 iterations is: 0.0029744878\n",
            "The 1 cost after 7500 iterations is: 0.0029259592\n",
            "The 1 cost after 7600 iterations is: 0.0028789242\n",
            "The 1 cost after 7700 iterations is: 0.0028333163\n",
            "The 1 cost after 7800 iterations is: 0.0027890727\n",
            "The 1 cost after 7900 iterations is: 0.0027461344\n",
            "The 1 cost after 8000 iterations is: 0.0027044454\n",
            "The 1 cost after 8100 iterations is: 0.0026639532\n",
            "The 1 cost after 8200 iterations is: 0.0026246079\n",
            "The 1 cost after 8300 iterations is: 0.0025863624\n",
            "The 1 cost after 8400 iterations is: 0.0025491720\n",
            "The 1 cost after 8500 iterations is: 0.0025129945\n",
            "The 1 cost after 8600 iterations is: 0.0024777899\n",
            "The 1 cost after 8700 iterations is: 0.0024435201\n",
            "The 1 cost after 8800 iterations is: 0.0024101491\n",
            "The 1 cost after 8900 iterations is: 0.0023776427\n",
            "The 1 cost after 9000 iterations is: 0.0023459682\n",
            "The 1 cost after 9100 iterations is: 0.0023150948\n",
            "The 1 cost after 9200 iterations is: 0.0022849929\n",
            "The 1 cost after 9300 iterations is: 0.0022556346\n",
            "The 1 cost after 9400 iterations is: 0.0022269930\n",
            "The 1 cost after 9500 iterations is: 0.0021990428\n",
            "The 1 cost after 9600 iterations is: 0.0021717596\n",
            "The 1 cost after 9700 iterations is: 0.0021451203\n",
            "The 1 cost after 9800 iterations is: 0.0021191027\n",
            "The 1 cost after 9900 iterations is: 0.0020936857\n",
            "The 1 cost after 10000 iterations is: 0.0020688491\n",
            "probs:  [[9.75906971e-01 6.17262176e-04 9.96397245e-01 9.78245360e-03\n",
            "  9.96300851e-01 9.90160440e-01 9.98753059e-01 9.81655061e-01\n",
            "  2.60404315e-03 9.97727745e-01 9.97825077e-01 6.04018535e-04\n",
            "  1.24459088e-03 6.54725262e-04 1.00640236e-02 9.94177561e-01\n",
            "  1.79746361e-02 9.98490434e-01 9.98721219e-01 9.98594675e-01\n",
            "  9.91971502e-01 6.26524079e-04 6.06222568e-04 1.53934835e-03\n",
            "  7.44209016e-04 6.70906907e-02 9.96307858e-01 6.20883185e-04\n",
            "  1.10481448e-03 9.98034123e-01 9.98442174e-01 9.98070647e-01\n",
            "  9.98726865e-01 1.03091021e-03 6.25958184e-04 9.68357211e-01\n",
            "  9.98753023e-01 9.98285114e-01 9.97942663e-01 9.05025705e-01]]\n"
          ]
        },
        {
          "output_type": "execute_result",
          "data": {
            "text/plain": [
              "'The accuracy rate is: 52.50%.'"
            ],
            "application/vnd.google.colaboratory.intrinsic+json": {
              "type": "string"
            }
          },
          "metadata": {},
          "execution_count": 71
        },
        {
          "output_type": "display_data",
          "data": {
            "text/plain": [
              "<Figure size 720x432 with 1 Axes>"
            ],
            "image/png": "[encoded data removed]"
          },
          "metadata": {}
        }
      ],
      "source": [
        "# NN with tanh activation fn\n",
        "parameters_tanh = L_layer_model(\n",
        "    X_train, y_train, layers_dims, learning_rate=0.5, num_iterations=10000, num_iterations1=2,\n",
        "    hidden_layers_activation_fn=\"sigmoid\")\n",
        "\n",
        "# Print the accuracy\n",
        "accuracy(X_test, parameters_tanh, y_test, activation_fn=\"sigmoid\")"
      ]
    },
    {
      "cell_type": "markdown",
      "source": [
        "# Oscar"
      ],
      "metadata": {
        "id": "KQoj6FjeeWpM"
      }
    },
    {
      "cell_type": "markdown",
      "metadata": {
        "id": "4Je61Lp8bKHS"
      },
      "source": [
        "leaky_relu"
      ]
    },
    {
      "cell_type": "code",
      "execution_count": null,
      "metadata": {
        "scrolled": true,
        "id": "vdP8dd9gbKHW",
        "outputId": "187438db-2a2f-428f-c899-1fcb21835ab6",
        "colab": {
          "base_uri": "https://localhost:8080/",
          "height": 382
        }
      },
      "outputs": [
        {
          "output_type": "error",
          "ename": "AssertionError",
          "evalue": "ignored",
          "traceback": [
            "\u001b[0;31m---------------------------------------------------------------------------\u001b[0m",
            "\u001b[0;31mAssertionError\u001b[0m                            Traceback (most recent call last)",
            "\u001b[0;32m<ipython-input-72-f6dcf098ad34>\u001b[0m in \u001b[0;36m<module>\u001b[0;34m()\u001b[0m\n\u001b[1;32m      2\u001b[0m parameters_leaky_relu = L_layer_model(\n\u001b[1;32m      3\u001b[0m     \u001b[0mX_train\u001b[0m\u001b[0;34m,\u001b[0m \u001b[0my_train\u001b[0m\u001b[0;34m,\u001b[0m \u001b[0mlayers_dims\u001b[0m\u001b[0;34m,\u001b[0m \u001b[0mlearning_rate\u001b[0m\u001b[0;34m=\u001b[0m\u001b[0;36m0.2\u001b[0m\u001b[0;34m,\u001b[0m \u001b[0mnum_iterations\u001b[0m\u001b[0;34m=\u001b[0m\u001b[0;36m10000\u001b[0m\u001b[0;34m,\u001b[0m \u001b[0mnum_iterations1\u001b[0m\u001b[0;34m=\u001b[0m\u001b[0;36m2\u001b[0m\u001b[0;34m,\u001b[0m\u001b[0;34m\u001b[0m\u001b[0;34m\u001b[0m\u001b[0m\n\u001b[0;32m----> 4\u001b[0;31m     hidden_layers_activation_fn=\"leaky_relu\")\n\u001b[0m\u001b[1;32m      5\u001b[0m \u001b[0;34m\u001b[0m\u001b[0m\n\u001b[1;32m      6\u001b[0m \u001b[0;31m# Print the accuracy\u001b[0m\u001b[0;34m\u001b[0m\u001b[0;34m\u001b[0m\u001b[0;34m\u001b[0m\u001b[0m\n",
            "\u001b[0;32m<ipython-input-67-79986a9d4ea1>\u001b[0m in \u001b[0;36mL_layer_model\u001b[0;34m(X, y, layers_dims, learning_rate, num_iterations, num_iterations1, print_cost, hidden_layers_activation_fn)\u001b[0m\n\u001b[1;32m     45\u001b[0m         \u001b[0;32mfor\u001b[0m \u001b[0mi\u001b[0m \u001b[0;32min\u001b[0m \u001b[0mrange\u001b[0m\u001b[0;34m(\u001b[0m\u001b[0mnum_iterations\u001b[0m\u001b[0;34m)\u001b[0m\u001b[0;34m:\u001b[0m\u001b[0;34m\u001b[0m\u001b[0;34m\u001b[0m\u001b[0m\n\u001b[1;32m     46\u001b[0m             \u001b[0;31m# iterate over L-layers to get the final output and the cache\u001b[0m\u001b[0;34m\u001b[0m\u001b[0;34m\u001b[0m\u001b[0;34m\u001b[0m\u001b[0m\n\u001b[0;32m---> 47\u001b[0;31m             \u001b[0mAL\u001b[0m\u001b[0;34m,\u001b[0m \u001b[0mcaches\u001b[0m \u001b[0;34m=\u001b[0m \u001b[0mL_model_forward\u001b[0m\u001b[0;34m(\u001b[0m\u001b[0mX\u001b[0m\u001b[0;34m,\u001b[0m \u001b[0mparameters\u001b[0m\u001b[0;34m,\u001b[0m \u001b[0mhidden_layers_activation_fn\u001b[0m\u001b[0;34m)\u001b[0m\u001b[0;34m\u001b[0m\u001b[0;34m\u001b[0m\u001b[0m\n\u001b[0m\u001b[1;32m     48\u001b[0m             \u001b[0;31m# compute cost to plot it\u001b[0m\u001b[0;34m\u001b[0m\u001b[0;34m\u001b[0m\u001b[0;34m\u001b[0m\u001b[0m\n\u001b[1;32m     49\u001b[0m             \u001b[0mcost\u001b[0m \u001b[0;34m=\u001b[0m \u001b[0mcompute_cost\u001b[0m\u001b[0;34m(\u001b[0m\u001b[0mAL\u001b[0m\u001b[0;34m,\u001b[0m \u001b[0my\u001b[0m\u001b[0;34m)\u001b[0m\u001b[0;34m\u001b[0m\u001b[0;34m\u001b[0m\u001b[0m\n",
            "\u001b[0;32m<ipython-input-42-7d8b7e3b3b56>\u001b[0m in \u001b[0;36mL_model_forward\u001b[0;34m(X, parameters, hidden_layers_activation_fn)\u001b[0m\n\u001b[1;32m     98\u001b[0m         A, cache = linear_activation_forward(\n\u001b[1;32m     99\u001b[0m             \u001b[0mA_prev\u001b[0m\u001b[0;34m,\u001b[0m \u001b[0mparameters\u001b[0m\u001b[0;34m[\u001b[0m\u001b[0;34m\"W\"\u001b[0m \u001b[0;34m+\u001b[0m \u001b[0mstr\u001b[0m\u001b[0;34m(\u001b[0m\u001b[0ml\u001b[0m\u001b[0;34m)\u001b[0m\u001b[0;34m]\u001b[0m\u001b[0;34m,\u001b[0m \u001b[0mparameters\u001b[0m\u001b[0;34m[\u001b[0m\u001b[0;34m\"b\"\u001b[0m \u001b[0;34m+\u001b[0m \u001b[0mstr\u001b[0m\u001b[0;34m(\u001b[0m\u001b[0ml\u001b[0m\u001b[0;34m)\u001b[0m\u001b[0;34m]\u001b[0m\u001b[0;34m,\u001b[0m\u001b[0;34m\u001b[0m\u001b[0;34m\u001b[0m\u001b[0m\n\u001b[0;32m--> 100\u001b[0;31m             activation_fn=hidden_layers_activation_fn)\n\u001b[0m\u001b[1;32m    101\u001b[0m         \u001b[0mcaches\u001b[0m\u001b[0;34m.\u001b[0m\u001b[0mappend\u001b[0m\u001b[0;34m(\u001b[0m\u001b[0mcache\u001b[0m\u001b[0;34m)\u001b[0m\u001b[0;34m\u001b[0m\u001b[0;34m\u001b[0m\u001b[0m\n\u001b[1;32m    102\u001b[0m \u001b[0;34m\u001b[0m\u001b[0m\n",
            "\u001b[0;32m<ipython-input-42-7d8b7e3b3b56>\u001b[0m in \u001b[0;36mlinear_activation_forward\u001b[0;34m(A_prev, W, b, activation_fn)\u001b[0m\n\u001b[1;32m     48\u001b[0m         \u001b[0mstores\u001b[0m \u001b[0mlinear_cache\u001b[0m \u001b[0;32mand\u001b[0m \u001b[0mactivation_cache\u001b[0m\u001b[0;34m.\u001b[0m \u001b[0;34m(\u001b[0m\u001b[0;34m(\u001b[0m\u001b[0mA_prev\u001b[0m\u001b[0;34m,\u001b[0m \u001b[0mW\u001b[0m\u001b[0;34m,\u001b[0m \u001b[0mb\u001b[0m\u001b[0;34m)\u001b[0m\u001b[0;34m,\u001b[0m \u001b[0mZ\u001b[0m\u001b[0;34m)\u001b[0m \u001b[0mto\u001b[0m \u001b[0mbe\u001b[0m \u001b[0mused\u001b[0m \u001b[0;32min\u001b[0m \u001b[0mbackpropagation\u001b[0m\u001b[0;34m.\u001b[0m\u001b[0;34m\u001b[0m\u001b[0;34m\u001b[0m\u001b[0m\n\u001b[1;32m     49\u001b[0m     \"\"\"\n\u001b[0;32m---> 50\u001b[0;31m     \u001b[0;32massert\u001b[0m \u001b[0mactivation_fn\u001b[0m \u001b[0;34m==\u001b[0m \u001b[0;34m\"sigmoid\"\u001b[0m \u001b[0;32mor\u001b[0m \u001b[0mactivation_fn\u001b[0m \u001b[0;34m==\u001b[0m \u001b[0;34m\"tanh\"\u001b[0m \u001b[0;32mor\u001b[0m         \u001b[0mactivation_fn\u001b[0m \u001b[0;34m==\u001b[0m \u001b[0;34m\"relu\"\u001b[0m\u001b[0;34m\u001b[0m\u001b[0;34m\u001b[0m\u001b[0m\n\u001b[0m\u001b[1;32m     51\u001b[0m \u001b[0;34m\u001b[0m\u001b[0m\n\u001b[1;32m     52\u001b[0m     \u001b[0;32mif\u001b[0m \u001b[0mactivation_fn\u001b[0m \u001b[0;34m==\u001b[0m \u001b[0;34m\"sigmoid\"\u001b[0m\u001b[0;34m:\u001b[0m\u001b[0;34m\u001b[0m\u001b[0;34m\u001b[0m\u001b[0m\n",
            "\u001b[0;31mAssertionError\u001b[0m: "
          ]
        }
      ],
      "source": [
        "# NN with tanh activation fn\n",
        "parameters_leaky_relu = L_layer_model(\n",
        "    X_train, y_train, layers_dims, learning_rate=0.2, num_iterations=10000, num_iterations1=2,\n",
        "    hidden_layers_activation_fn=\"leaky_relu\")\n",
        "\n",
        "# Print the accuracy\n",
        "accuracy(X_test, parameters_tanh, y_test, activation_fn=\"leaky_relu\")"
      ]
    }
  ],
  "metadata": {
    "celltoolbar": "Edit Metadata",
    "kernelspec": {
      "display_name": "Python 3 (ipykernel)",
      "language": "python",
      "name": "python3"
    },
    "language_info": {
      "codemirror_mode": {
        "name": "ipython",
        "version": 3
      },
      "file_extension": ".py",
      "mimetype": "text/x-python",
      "name": "python",
      "nbconvert_exporter": "python",
      "pygments_lexer": "ipython3",
      "version": "3.9.7"
    },
    "colab": {
      "name": "NNetF-B-Propag80x10x10_95x100SinEstandarizarOOKKK.ipynb",
      "provenance": [],
      "toc_visible": true,
      "collapsed_sections": [
        "lYVDtTHDbKHB"
      ],
      "include_colab_link": true
    }
  },
  "nbformat": 4,
  "nbformat_minor": 0
}