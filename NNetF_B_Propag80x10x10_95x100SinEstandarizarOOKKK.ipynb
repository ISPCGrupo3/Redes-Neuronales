{
  "cells": [
    {
      "cell_type": "markdown",
      "metadata": {
        "id": "view-in-github",
        "colab_type": "text"
      },
      "source": [
        "<a href=\"https://colab.research.google.com/github/ISPCGrupo3/Redes-Neuronales/blob/main/NNetF_B_Propag80x10x10_95x100SinEstandarizarOOKKK.ipynb\" target=\"_parent\"><img src=\"https://colab.research.google.com/assets/colab-badge.svg\" alt=\"Open In Colab\"/></a>"
      ]
    },
    {
      "cell_type": "markdown",
      "metadata": {
        "id": "VfheL5fybKD2"
      },
      "source": [
        "<h1 style=\"font-family: Georgia; font-size:3em;color:#2462C0; font-style:bold\">\n",
        "Coding Neural Network - Forward Propagation and Backpropagation\n",
        "</h1><br>"
      ]
    },
    {
      "cell_type": "markdown",
      "metadata": {
        "id": "F89z1kDlbKEV"
      },
      "source": [
        "https://machinelearningmastery.com/learning-rate-for-deep-learning-neural-networks/\n",
        "https://machinelearningmastery.com/how-to-configure-the-number-of-layers-and-nodes-in-a-neural-network/\n",
        "\n",
        "https://stats.stackexchange.com/questions/352036/what-should-i-do-when-my-neural-network-doesnt-learn\n",
        "\n",
        "https://datascience-enthusiast.com/DL/Improving_DeepNeural_Networks_Regularization.html\n",
        "\n",
        "http://neuralnetworksanddeeplearning.com/chap5.html\n",
        "\n",
        "https://wiki.pathmind.com/neural-network\n",
        "\n",
        "https://towardsdatascience.com/neural-network-architectures-156e5bad51ba"
      ]
    },
    {
      "cell_type": "code",
      "execution_count": null,
      "metadata": {
        "code_folding": [
          0
        ],
        "id": "DxjoRZQMbKEb"
      },
      "outputs": [],
      "source": [
        "# Import packages\n",
        "import os as os\n",
        "\n",
        "import h5py\n",
        "import matplotlib.pyplot as plt\n",
        "import numpy as np\n",
        "import seaborn as sns\n",
        "\n",
        "%matplotlib inline\n",
        "sns.set_context(\"notebook\")\n",
        "plt.style.use(\"fivethirtyeight\")"
      ]
    },
    {
      "cell_type": "markdown",
      "metadata": {
        "id": "LmBK6yOkbKEh"
      },
      "source": [
        "<h3 style=\"font-family: Georgia; font-size:1.3em;color:purple; font-style:bold\">\n",
        "Parameters Initialization\n",
        "</h3><br>\n"
      ]
    },
    {
      "cell_type": "code",
      "execution_count": null,
      "metadata": {
        "code_folding": [
          0
        ],
        "id": "isO-7cQbbKEl"
      },
      "outputs": [],
      "source": [
        "# Initialize parameters\n",
        "def initialize_parameters(layers_dims):\n",
        "    \"\"\"\n",
        "    Initialize parameters dictionary.\n",
        "    \n",
        "    Weight matrices will be initialized to random values from uniform normal\n",
        "    distribution.\n",
        "    bias vectors will be initialized to zeros.\n",
        "\n",
        "    Arguments\n",
        "    ---------\n",
        "    layers_dims : list or array-like\n",
        "        dimensions of each layer in the network.\n",
        "\n",
        "    Returns\n",
        "    -------\n",
        "    parameters : dict\n",
        "        weight matrix and the bias vector for each layer.\n",
        "    \"\"\"\n",
        "    np.random.seed(1)               \n",
        "    parameters = {}\n",
        "    L = len(layers_dims)            \n",
        "\n",
        "    for l in range(1, L):           \n",
        "        parameters[\"W\" + str(l)] = np.random.randn(\n",
        "            layers_dims[l], layers_dims[l - 1]) * 0.01\n",
        "        parameters[\"b\" + str(l)] = np.zeros((layers_dims[l], 1))\n",
        "\n",
        "        assert parameters[\"W\" + str(l)].shape == (\n",
        "            layers_dims[l], layers_dims[l - 1])\n",
        "        assert parameters[\"b\" + str(l)].shape == (layers_dims[l], 1)\n",
        "\n",
        "    return parameters"
      ]
    },
    {
      "cell_type": "markdown",
      "metadata": {
        "id": "gK-eMyyNbKEr"
      },
      "source": [
        "<h3 style=\"font-family: Georgia; font-size:1.3em;color:purple; font-style:bold\">\n",
        "Activation Functions\n",
        "</h3><br>"
      ]
    },
    {
      "cell_type": "code",
      "execution_count": null,
      "metadata": {
        "code_folding": [
          0
        ],
        "id": "73MV_sFcbKEt"
      },
      "outputs": [],
      "source": [
        "# Define activation functions that will be used in forward propagation\n",
        "def sigmoid(Z):\n",
        "    \"\"\"\n",
        "    Computes the sigmoid of Z element-wise.\n",
        "\n",
        "    Arguments\n",
        "    ---------\n",
        "    Z : array\n",
        "        output of affine transformation.\n",
        "\n",
        "    Returns\n",
        "    -------\n",
        "    A : array\n",
        "        post activation output.\n",
        "    Z : array\n",
        "        output of affine transformation.\n",
        "    \"\"\"\n",
        "    A = 1 / (1 + np.exp(-Z))\n",
        "\n",
        "    return A, Z\n",
        "\n",
        "\n",
        "def tanh(Z):\n",
        "    \"\"\"\n",
        "    Computes the Hyperbolic Tagent of Z elemnet-wise.\n",
        "\n",
        "    Arguments\n",
        "    ---------\n",
        "    Z : array\n",
        "        output of affine transformation.\n",
        "\n",
        "    Returns\n",
        "    -------\n",
        "    A : array\n",
        "        post activation output.\n",
        "    Z : array\n",
        "        output of affine transformation.\n",
        "    \"\"\"\n",
        "    A = np.tanh(Z)\n",
        "\n",
        "    return A, Z\n",
        "\n",
        "\n",
        "def relu(Z):\n",
        "    \"\"\"\n",
        "    Computes the Rectified Linear Unit (ReLU) element-wise.\n",
        "\n",
        "    Arguments\n",
        "    ---------\n",
        "    Z : array\n",
        "        output of affine transformation.\n",
        "\n",
        "    Returns\n",
        "    -------\n",
        "    A : array\n",
        "        post activation output.\n",
        "    Z : array\n",
        "        output of affine transformation.\n",
        "    \"\"\"\n",
        "    A = np.maximum(0, Z)\n",
        "\n",
        "    return A, Z\n",
        "\n",
        "\n",
        "def leaky_relu(Z):\n",
        "    \"\"\"\n",
        "    Computes Leaky Rectified Linear Unit element-wise.\n",
        "\n",
        "    Arguments\n",
        "    ---------\n",
        "    Z : array\n",
        "        output of affine transformation.\n",
        "\n",
        "    Returns\n",
        "    -------\n",
        "    A : array\n",
        "        post activation output.\n",
        "    Z : array\n",
        "        output of affine transformation.\n",
        "    \"\"\"\n",
        "    A = np.maximum(0.1 * Z, Z)\n",
        "\n",
        "    return A, Z"
      ]
    },
    {
      "cell_type": "markdown",
      "metadata": {
        "id": "8gtg9vgNbKEy"
      },
      "source": [
        ""
      ]
    },
    {
      "cell_type": "code",
      "execution_count": null,
      "metadata": {
        "code_folding": [
          0
        ],
        "colab": {
          "base_uri": "https://localhost:8080/",
          "height": 585
        },
        "id": "pUAgYbj5bKE2",
        "outputId": "d7b44e6c-e8a1-4074-d4ab-10f8dfd8a238"
      },
      "outputs": [
        {
          "output_type": "display_data",
          "data": {
            "text/plain": [
              "<Figure size 864x576 with 4 Axes>"
            ],
            "image/png": "[encoded data removed]"
          },
          "metadata": {
            "needs_background": "light"
          }
        }
      ],
      "source": [
        "# Plot the 4 activation functions\n",
        "z = np.linspace(-10, 10, 100)\n",
        "\n",
        "# Computes post-activation outputs\n",
        "A_sigmoid, z = sigmoid(z)\n",
        "A_tanh, z = tanh(z)\n",
        "A_relu, z = relu(z)\n",
        "A_leaky_relu, z = leaky_relu(z)\n",
        "\n",
        "# Plot sigmoid\n",
        "plt.figure(figsize=(12, 8))\n",
        "plt.subplot(2, 2, 1)\n",
        "plt.plot(z, A_sigmoid, label = \"Function\")\n",
        "plt.plot(z, A_sigmoid * (1 - A_sigmoid), label = \"Derivative\")\n",
        "plt.legend(loc = \"upper left\")\n",
        "plt.xlabel(\"z\")\n",
        "plt.ylabel(r\"$\\frac{1}{1 + e^{-z}}$\")\n",
        "plt.title(\"Sigmoid Function\", fontsize = 16)\n",
        "# Plot tanh\n",
        "plt.subplot(2, 2, 2)\n",
        "plt.plot(z, A_tanh, 'b', label = \"Function\")\n",
        "plt.plot(z, 1 - np.square(A_tanh), 'r',label = \"Derivative\")\n",
        "plt.legend(loc = \"upper left\")\n",
        "plt.xlabel(\"z\")\n",
        "plt.ylabel(r\"$\\frac{e^z - e^{-z}}{e^z + e^{-z}}$\")\n",
        "plt.title(\"Hyperbolic Tangent Function\", fontsize = 16)\n",
        "# plot relu\n",
        "plt.subplot(2, 2, 3)\n",
        "plt.plot(z, A_relu, 'g')\n",
        "plt.xlabel(\"z\")\n",
        "plt.ylabel(r\"$max\\{0, z\\}$\")\n",
        "plt.title(\"ReLU Function\", fontsize = 16)\n",
        "# plot leaky relu\n",
        "plt.subplot(2, 2, 4)\n",
        "plt.plot(z, A_leaky_relu, 'y')\n",
        "plt.xlabel(\"z\")\n",
        "plt.ylabel(r\"$max\\{0.1z, z\\}$\")\n",
        "plt.title(\"Leaky ReLU Function\", fontsize = 16)\n",
        "plt.tight_layout();"
      ]
    },
    {
      "cell_type": "markdown",
      "metadata": {
        "id": "XNc1pDWtbKE-"
      },
      "source": [
        "<h3 style=\"font-family: Georgia; font-size:1.3em;color:purple; font-style:bold\">\n",
        "Feed Forward\n",
        "</h3><br>\n"
      ]
    },
    {
      "cell_type": "code",
      "execution_count": null,
      "metadata": {
        "code_folding": [
          0
        ],
        "id": "U7MeMbKIbKFA"
      },
      "outputs": [],
      "source": [
        "# Define helper functions that will be used in L-model forward prop\n",
        "def linear_forward(A_prev, W, b):\n",
        "    \"\"\"\n",
        "    Computes affine transformation of the input.\n",
        "\n",
        "    Arguments\n",
        "    ---------\n",
        "    A_prev : 2d-array\n",
        "        activations output from previous layer.\n",
        "    W : 2d-array\n",
        "        weight matrix, shape: size of current layer x size of previuos layer.\n",
        "    b : 2d-array\n",
        "        bias vector, shape: size of current layer x 1.\n",
        "\n",
        "    Returns\n",
        "    -------\n",
        "    Z : 2d-array\n",
        "        affine transformation output.\n",
        "    cache : tuple\n",
        "        stores A_prev, W, b to be used in backpropagation.\n",
        "    \"\"\"\n",
        "    Z = np.dot(W, A_prev) + b\n",
        "    cache = (A_prev, W, b)\n",
        "\n",
        "    return Z, cache\n",
        "\n",
        "\n",
        "def linear_activation_forward(A_prev, W, b, activation_fn):\n",
        "    \"\"\"\n",
        "    Computes post-activation output using non-linear activation function.\n",
        "\n",
        "    Arguments\n",
        "    ---------\n",
        "    A_prev : 2d-array\n",
        "        activations output from previous layer.\n",
        "    W : 2d-array\n",
        "        weight matrix, shape: size of current layer x size of previuos layer.\n",
        "    b : 2d-array\n",
        "        bias vector, shape: size of current layer x 1.\n",
        "    activation_fn : str\n",
        "        non-linear activation function to be used: \"sigmoid\", \"tanh\", \"relu\".\n",
        "\n",
        "    Returns\n",
        "    -------\n",
        "    A : 2d-array\n",
        "        output of the activation function.\n",
        "    cache : tuple\n",
        "        stores linear_cache and activation_cache. ((A_prev, W, b), Z) to be used in backpropagation.\n",
        "    \"\"\"\n",
        "    assert activation_fn == \"sigmoid\" or activation_fn == \"tanh\" or \\\n",
        "        activation_fn == \"relu\"\n",
        "\n",
        "    if activation_fn == \"sigmoid\":\n",
        "        Z, linear_cache = linear_forward(A_prev, W, b)\n",
        "        A, activation_cache = sigmoid(Z)\n",
        "\n",
        "    elif activation_fn == \"tanh\":\n",
        "        Z, linear_cache = linear_forward(A_prev, W, b)\n",
        "        A, activation_cache = tanh(Z)\n",
        "\n",
        "    elif activation_fn == \"relu\":\n",
        "        Z, linear_cache = linear_forward(A_prev, W, b)\n",
        "        A, activation_cache = relu(Z)\n",
        "\n",
        "    assert A.shape == (W.shape[0], A_prev.shape[1])\n",
        "\n",
        "    cache = (linear_cache, activation_cache)\n",
        "\n",
        "    return A, cache\n",
        "\n",
        "\n",
        "def L_model_forward(X, parameters, hidden_layers_activation_fn=\"relu\"):\n",
        "    \"\"\"\n",
        "    Computes the output layer through looping over all units in topological\n",
        "    order.\n",
        "\n",
        "    Arguments\n",
        "    ---------\n",
        "    X : 2d-array\n",
        "        input matrix of shape input_size x training_examples.\n",
        "    parameters : dict\n",
        "        contains all the weight matrices and bias vectors for all layers.\n",
        "    hidden_layers_activation_fn : str\n",
        "        activation function to be used on hidden layers: \"tanh\", \"relu\".\n",
        "\n",
        "    Returns\n",
        "    -------\n",
        "    AL : 2d-array\n",
        "        probability vector of shape 1 x training_examples.\n",
        "    caches : list\n",
        "        that contains L tuples where each layer has: A_prev, W, b, Z.\n",
        "    \"\"\"\n",
        "    A = X                           \n",
        "    caches = []                     \n",
        "    L = len(parameters) // 2        \n",
        "\n",
        "    for l in range(1, L):\n",
        "        A_prev = A\n",
        "        A, cache = linear_activation_forward(\n",
        "            A_prev, parameters[\"W\" + str(l)], parameters[\"b\" + str(l)],\n",
        "            activation_fn=hidden_layers_activation_fn)\n",
        "        caches.append(cache)\n",
        "\n",
        "    AL, cache = linear_activation_forward(\n",
        "        A, parameters[\"W\" + str(L)], parameters[\"b\" + str(L)],\n",
        "        activation_fn=\"sigmoid\")\n",
        "    caches.append(cache)\n",
        "\n",
        "    assert AL.shape == (1, X.shape[1])\n",
        "\n",
        "    return AL, caches"
      ]
    },
    {
      "cell_type": "markdown",
      "metadata": {
        "id": "CQ8gD7f1bKFR"
      },
      "source": [
        "<h3 style=\"font-family: Georgia; font-size:1.3em;color:purple; font-style:bold\">\n",
        "Cost\n",
        "</h3><br>\n",
        "\n",
        "https://math.stackexchange.com/questions/886555/deriving-cost-function-using-mle-why-use-log-function\n"
      ]
    },
    {
      "cell_type": "code",
      "execution_count": null,
      "metadata": {
        "code_folding": [
          0
        ],
        "id": "EdN0IimDbKFk"
      },
      "outputs": [],
      "source": [
        "# Compute cross-entropy cost\n",
        "def compute_cost(AL, y):\n",
        "    \"\"\"\n",
        "    Computes the binary Cross-Entropy cost.\n",
        "\n",
        "    Arguments\n",
        "    ---------\n",
        "    AL : 2d-array\n",
        "        probability vector of shape 1 x training_examples.\n",
        "    y : 2d-array\n",
        "        true \"label\" vector.\n",
        "\n",
        "    Returns\n",
        "    -------\n",
        "    cost : float\n",
        "        binary cross-entropy cost.\n",
        "    \"\"\"\n",
        "    m = y.shape[1]              \n",
        "    cost = - (1 / m) * np.sum(\n",
        "        np.multiply(y, np.log(AL)) + np.multiply(1 - y, np.log(1 - AL)))\n",
        "\n",
        "    return cost"
      ]
    },
    {
      "cell_type": "markdown",
      "metadata": {
        "id": "xTNTm_5kbKFr"
      },
      "source": [
        "<h2 style=\"font-family: Georgia; font-size:1.5em;color:purple; font-style:bold\">\n",
        "Back-Propagation\n",
        "</h2>"
      ]
    },
    {
      "cell_type": "code",
      "execution_count": null,
      "metadata": {
        "code_folding": [
          0
        ],
        "id": "2W_3L_SXbKFt"
      },
      "outputs": [],
      "source": [
        "# Define derivative of activation functions w.r.t z that will be used in back-propagation\n",
        "def sigmoid_gradient(dA, Z):\n",
        "    \"\"\"\n",
        "    Computes the gradient of sigmoid output w.r.t input Z.\n",
        "\n",
        "    Arguments\n",
        "    ---------\n",
        "    dA : 2d-array\n",
        "        post-activation gradient, of any shape.\n",
        "    Z : 2d-array\n",
        "        input used for the activation fn on this layer.\n",
        "\n",
        "    Returns\n",
        "    -------\n",
        "    dZ : 2d-array\n",
        "        gradient of the cost with respect to Z.\n",
        "    \"\"\"\n",
        "    A, Z = sigmoid(Z)\n",
        "    dZ = dA * A * (1 - A)\n",
        "\n",
        "    return dZ\n",
        "\n",
        "\n",
        "def tanh_gradient(dA, Z):\n",
        "    \"\"\"\n",
        "    Computes the gradient of hyperbolic tangent output w.r.t input Z.\n",
        "\n",
        "    Arguments\n",
        "    ---------\n",
        "    dA : 2d-array\n",
        "        post-activation gradient, of any shape.\n",
        "    Z : 2d-array\n",
        "        input used for the activation fn on this layer.\n",
        "\n",
        "    Returns\n",
        "    -------\n",
        "    dZ : 2d-array\n",
        "        gradient of the cost with respect to Z.\n",
        "    \"\"\"\n",
        "    A, Z = tanh(Z)\n",
        "    dZ = dA * (1 - np.square(A))\n",
        "\n",
        "    return dZ\n",
        "\n",
        "\n",
        "def relu_gradient(dA, Z):\n",
        "    \"\"\"\n",
        "    Computes the gradient of ReLU output w.r.t input Z.\n",
        "\n",
        "    Arguments\n",
        "    ---------\n",
        "    dA : 2d-array\n",
        "        post-activation gradient, of any shape.\n",
        "    Z : 2d-array\n",
        "        input used for the activation fn on this layer.\n",
        "\n",
        "    Returns\n",
        "    -------\n",
        "    dZ : 2d-array\n",
        "        gradient of the cost with respect to Z.\n",
        "    \"\"\"\n",
        "    A, Z = relu(Z)\n",
        "    dZ = np.multiply(dA, np.int64(A > 0))\n",
        "\n",
        "    return dZ\n",
        "\n",
        "\n",
        "# define helper functions that will be used in L-model back-prop\n",
        "def linear_backword(dZ, cache):\n",
        "    \"\"\"\n",
        "    Computes the gradient of the output w.r.t weight, bias, and post-activation\n",
        "    output of (l - 1) layers at layer l.\n",
        "\n",
        "    Arguments\n",
        "    ---------\n",
        "    dZ : 2d-array\n",
        "        gradient of the cost w.r.t. the linear output (of current layer l).\n",
        "    cache : tuple\n",
        "        values of (A_prev, W, b) coming from the forward propagation in the current layer.\n",
        "\n",
        "    Returns\n",
        "    -------\n",
        "    dA_prev : 2d-array\n",
        "        gradient of the cost w.r.t. the activation (of the previous layer l-1).\n",
        "    dW : 2d-array\n",
        "        gradient of the cost w.r.t. W (current layer l).\n",
        "    db : 2d-array\n",
        "        gradient of the cost w.r.t. b (current layer l).\n",
        "    \"\"\"\n",
        "    A_prev, W, b = cache\n",
        "    m = A_prev.shape[1]\n",
        "\n",
        "    dW = (1 / m) * np.dot(dZ, A_prev.T)\n",
        "    db = (1 / m) * np.sum(dZ, axis=1, keepdims=True)\n",
        "    dA_prev = np.dot(W.T, dZ)\n",
        "\n",
        "    assert dA_prev.shape == A_prev.shape\n",
        "    assert dW.shape == W.shape\n",
        "    assert db.shape == b.shape\n",
        "\n",
        "    return dA_prev, dW, db\n",
        "\n",
        "\n",
        "def linear_activation_backward(dA, cache, activation_fn):\n",
        "    \"\"\"\n",
        "    Arguments\n",
        "    ---------\n",
        "    dA : 2d-array\n",
        "        post-activation gradient for current layer l.\n",
        "    cache : tuple\n",
        "        values of (linear_cache, activation_cache).\n",
        "    activation : str\n",
        "        activation used in this layer: \"sigmoid\", \"tanh\", or \"relu\".\n",
        "\n",
        "    Returns\n",
        "    -------\n",
        "    dA_prev : 2d-array\n",
        "        gradient of the cost w.r.t. the activation (of the previous layer l-1), same shape as A_prev.\n",
        "    dW : 2d-array\n",
        "        gradient of the cost w.r.t. W (current layer l), same shape as W.\n",
        "    db : 2d-array\n",
        "        gradient of the cost w.r.t. b (current layer l), same shape as b.\n",
        "    \"\"\"\n",
        "    linear_cache, activation_cache = cache\n",
        "\n",
        "    if activation_fn == \"sigmoid\":\n",
        "        dZ = sigmoid_gradient(dA, activation_cache)\n",
        "        dA_prev, dW, db = linear_backword(dZ, linear_cache)\n",
        "\n",
        "    elif activation_fn == \"tanh\":\n",
        "        dZ = tanh_gradient(dA, activation_cache)\n",
        "        dA_prev, dW, db = linear_backword(dZ, linear_cache)\n",
        "\n",
        "    elif activation_fn == \"relu\":\n",
        "        dZ = relu_gradient(dA, activation_cache)\n",
        "        dA_prev, dW, db = linear_backword(dZ, linear_cache)\n",
        "\n",
        "    return dA_prev, dW, db\n",
        "\n",
        "\n",
        "def L_model_backward(AL, y, caches, hidden_layers_activation_fn=\"relu\"):\n",
        "    \"\"\"\n",
        "    Computes the gradient of output layer w.r.t weights, biases, etc. starting\n",
        "    on the output layer in reverse topological order.\n",
        "\n",
        "    Arguments\n",
        "    ---------\n",
        "    AL : 2d-array\n",
        "        probability vector, output of the forward propagation (L_model_forward()).\n",
        "    y : 2d-array\n",
        "        true \"label\" vector (containing 0 if non-cat, 1 if cat).\n",
        "    caches : list\n",
        "        list of caches for all layers.\n",
        "    hidden_layers_activation_fn :\n",
        "        activation function used on hidden layers: \"tanh\", \"relu\".\n",
        "\n",
        "    Returns\n",
        "    -------\n",
        "    grads : dict\n",
        "        with the gradients.\n",
        "    \"\"\"\n",
        "    y = y.reshape(AL.shape)\n",
        "    L = len(caches)\n",
        "    grads = {}\n",
        "\n",
        "    dAL = np.divide(AL - y, np.multiply(AL, 1 - AL))\n",
        "\n",
        "    grads[\"dA\" + str(L - 1)], grads[\"dW\" + str(L)], grads[\n",
        "        \"db\" + str(L)] = linear_activation_backward(\n",
        "            dAL, caches[L - 1], \"sigmoid\")\n",
        "\n",
        "    for l in range(L - 1, 0, -1):\n",
        "        current_cache = caches[l - 1]\n",
        "        grads[\"dA\" + str(l - 1)], grads[\"dW\" + str(l)], grads[\n",
        "            \"db\" + str(l)] = linear_activation_backward(\n",
        "                grads[\"dA\" + str(l)], current_cache,\n",
        "                hidden_layers_activation_fn)\n",
        "\n",
        "    return grads\n",
        "\n",
        "\n",
        "# define the function to update both weight matrices and bias vectors\n",
        "def update_parameters(parameters, grads, learning_rate):\n",
        "    \"\"\"\n",
        "    Update the parameters' values using gradient descent rule.\n",
        "\n",
        "    Arguments\n",
        "    ---------\n",
        "    parameters : dict\n",
        "        contains all the weight matrices and bias vectors for all layers.\n",
        "    grads : dict\n",
        "        stores all gradients (output of L_model_backward).\n",
        "\n",
        "    Returns\n",
        "    -------\n",
        "    parameters : dict\n",
        "        updated parameters.\n",
        "    \"\"\"\n",
        "    L = len(parameters) // 2\n",
        "\n",
        "    for l in range(1, L + 1):\n",
        "        parameters[\"W\" + str(l)] = parameters[\"W\" + str(l)] - learning_rate * grads[\"dW\" + str(l)]\n",
        "        parameters[\"b\" + str(l)] = parameters[\"b\" + str(l)] - learning_rate * grads[\"db\" + str(l)]\n",
        "\n",
        "    return parameters"
      ]
    },
    {
      "cell_type": "markdown",
      "metadata": {
        "id": "uOACYtMJbKF2"
      },
      "source": [
        "<a id=\"Application\"></a>"
      ]
    },
    {
      "cell_type": "markdown",
      "metadata": {
        "id": "nhvgxAeUbKF-"
      },
      "source": [
        "<h2 style=\"font-family: Georgia; font-size:2em;color:purple; font-style:bold\">\n",
        "II. Application\n",
        "</h2>"
      ]
    },
    {
      "cell_type": "markdown",
      "metadata": {
        "id": "kYk3I0aVbKGA"
      },
      "source": [
        "The dataset that we'll be working on has 209 images. Each image is 64 x 64 pixels on RGB scale. We'll build a neural network to classify if the image has a cat or not. Therefore, $y^i \\in \\{0, 1\\}.$\n",
        "- We'll first load the images.\n",
        "- Show sample image for a cat.\n",
        "- Reshape input matrix so that each column would be one example. Also, since each image is 64 x 64 x 3, we'll end up having 12,288 features for each image. Therefore, the input matrix would be 12,288 x 209.\n",
        "- Standardize the data so that the gradients don't go out of control. Also, it will help hidden units have similar range of values. For now, we'll divide every pixel by 255 which shouldn't be an issue. However, it's better to standardize the data to have a mean of 0 and a standard deviation of 1."
      ]
    },
    {
      "cell_type": "code",
      "execution_count": null,
      "metadata": {
        "id": "YPcXaa3ObKGC"
      },
      "outputs": [],
      "source": [
        ""
      ]
    },
    {
      "cell_type": "code",
      "execution_count": null,
      "metadata": {
        "scrolled": false,
        "id": "dSVFvuXxbKGD"
      },
      "outputs": [],
      "source": [
        "X_train=np.random.randn(10,10)*1 + 1\n",
        "l = [X_train]\n",
        "for i in range(0,9):\n",
        "    #print(i)\n",
        "    X = np.random.randn(10,10)*1 + 1\n",
        "    l.append(X)"
      ]
    },
    {
      "cell_type": "code",
      "execution_count": null,
      "metadata": {
        "id": "ng6V4K-abKGG"
      },
      "outputs": [],
      "source": [
        "X_train=np.random.randn(10,10)*1 + 1\n",
        "l.append(X_train)\n",
        "for i in range(0,9):\n",
        "    #print(i)\n",
        "    X = np.random.randn(10,10)*1 + 1\n",
        "    l.append(X)"
      ]
    },
    {
      "cell_type": "code",
      "execution_count": null,
      "metadata": {
        "id": "RKwPr-xvbKGP"
      },
      "outputs": [],
      "source": [
        "X_train=np.random.randn(10,10)*1 + 1\n",
        "l.append(X_train)\n",
        "for i in range(0,9):\n",
        "    #print(i)\n",
        "    X = np.random.randn(10,10)*1 + 1\n",
        "    l.append(X)"
      ]
    },
    {
      "cell_type": "code",
      "execution_count": null,
      "metadata": {
        "id": "U4DYgzYybKGR"
      },
      "outputs": [],
      "source": [
        "X_train=np.random.randn(10,10)*1 + 1\n",
        "l.append(X_train)\n",
        "for i in range(0,9):\n",
        "    #print(i)\n",
        "    X = np.random.randn(10,10)*1 + 1\n",
        "    l.append(X)"
      ]
    },
    {
      "cell_type": "code",
      "execution_count": null,
      "metadata": {
        "id": "bfroh01ybKGT"
      },
      "outputs": [],
      "source": [
        ""
      ]
    },
    {
      "cell_type": "code",
      "execution_count": null,
      "metadata": {
        "id": "8AcTnQ7vbKGU"
      },
      "outputs": [],
      "source": [
        "X_train=np.random.randn(10,10)*1 + 20\n",
        "l.append(X_train)\n",
        "for i in range(0,9):\n",
        "    #print(i)\n",
        "    X = np.random.randn(10,10)*1 + 20\n",
        "    l.append(X)"
      ]
    },
    {
      "cell_type": "code",
      "execution_count": null,
      "metadata": {
        "id": "XB72aTeTbKGU"
      },
      "outputs": [],
      "source": [
        "X_train=np.random.randn(10,10)*1 + 20\n",
        "l.append(X_train)\n",
        "for i in range(0,9):\n",
        "    #print(i)\n",
        "    X = np.random.randn(10,10)*1 + 20\n",
        "    l.append(X)"
      ]
    },
    {
      "cell_type": "code",
      "execution_count": null,
      "metadata": {
        "id": "fmGZQjgkbKGV"
      },
      "outputs": [],
      "source": [
        "X_train=np.random.randn(10,10)*1 + 20\n",
        "l.append(X_train)\n",
        "for i in range(0,9):\n",
        "    #print(i)\n",
        "    X = np.random.randn(10,10)*1 + 20\n",
        "    l.append(X)"
      ]
    },
    {
      "cell_type": "code",
      "execution_count": null,
      "metadata": {
        "id": "wVOsieYwbKGW"
      },
      "outputs": [],
      "source": [
        "X_train=np.random.randn(10,10)*1 + 20\n",
        "l.append(X_train)\n",
        "for i in range(0,9):\n",
        "    #print(i)\n",
        "    X = np.random.randn(10,10)*1 + 20\n",
        "    l.append(X)"
      ]
    },
    {
      "cell_type": "code",
      "execution_count": null,
      "metadata": {
        "colab": {
          "base_uri": "https://localhost:8080/"
        },
        "id": "dpKGC3yhbKGa",
        "outputId": "daffc830-ef46-4773-a211-fd942219dbbf"
      },
      "outputs": [
        {
          "output_type": "execute_result",
          "data": {
            "text/plain": [
              "(80, 10, 10)"
            ]
          },
          "metadata": {},
          "execution_count": 35
        }
      ],
      "source": [
        "l = np.array(l)\n",
        "l.shape"
      ]
    },
    {
      "cell_type": "code",
      "execution_count": null,
      "metadata": {
        "scrolled": true,
        "id": "wYsqchwybKGc"
      },
      "outputs": [],
      "source": [
        "X_train= l\n",
        "#X_train"
      ]
    },
    {
      "cell_type": "code",
      "execution_count": null,
      "metadata": {
        "colab": {
          "base_uri": "https://localhost:8080/"
        },
        "id": "4u1sPgO0bKGc",
        "outputId": "69828ff2-2d0b-48da-acf0-35f5ab7beb1a"
      },
      "outputs": [
        {
          "output_type": "execute_result",
          "data": {
            "text/plain": [
              "array([[[20.26870622, 18.31874153, 20.04022959, 18.97777897,\n",
              "         19.25749798, 19.94574773, 19.2393893 , 20.74279529,\n",
              "         20.40353529, 19.52660384],\n",
              "        [19.28619638, 20.5386741 , 20.58833052, 21.3608762 ,\n",
              "         21.25448138, 18.22863678, 20.18055654, 18.73156805,\n",
              "         20.10201419, 20.02490455],\n",
              "        [19.48958852, 21.53045229, 19.39671413, 19.40996069,\n",
              "         19.155177  , 20.49331126, 18.84301732, 21.48142964,\n",
              "         21.42315234, 19.40765712],\n",
              "        [19.48635054, 19.79192889, 20.74273642, 19.1511884 ,\n",
              "         18.78699832, 19.80916311, 18.8553291 , 19.12633229,\n",
              "         17.97698996, 20.5577062 ],\n",
              "        [19.40719592, 16.81319453, 21.32382196, 18.71803031,\n",
              "         21.11542225, 19.76300847, 19.94701531, 20.93477781,\n",
              "         20.09194211, 19.98521346],\n",
              "        [20.46769382, 19.29396419, 20.01093637, 20.38844471,\n",
              "         19.06490743, 19.6205512 , 19.76671735, 17.69666901,\n",
              "         19.6338979 , 17.97213621],\n",
              "        [22.27136717, 21.45871521, 18.24519617, 20.29488778,\n",
              "         19.82289073, 18.43785855, 19.07859343, 21.61548075,\n",
              "         19.59545868, 18.82685076],\n",
              "        [20.79220648, 19.74549461, 20.80022481, 20.34057244,\n",
              "         20.51671463, 20.11202045, 18.73972026, 18.37201471,\n",
              "         19.86353797, 21.39689673],\n",
              "        [20.71387728, 20.89408542, 18.0830974 , 21.45605743,\n",
              "         20.29517851, 20.2033235 , 18.83096697, 20.97149195,\n",
              "         18.55180525, 20.35505583],\n",
              "        [19.87529207, 18.4334724 , 19.26442217, 19.32991999,\n",
              "         20.80943436, 20.34037548, 18.45675808, 19.34013042,\n",
              "         19.56768833, 18.65296177]]])"
            ]
          },
          "metadata": {},
          "execution_count": 37
        }
      ],
      "source": [
        "X_train[44:45]"
      ]
    },
    {
      "cell_type": "code",
      "execution_count": null,
      "metadata": {
        "id": "nOkL0ZMXbKGd"
      },
      "outputs": [],
      "source": [
        ""
      ]
    },
    {
      "cell_type": "code",
      "execution_count": null,
      "metadata": {
        "id": "PogTBn7fbKGe"
      },
      "outputs": [],
      "source": [
        "X_test=np.random.randn(10,10)*1 + 1\n",
        "l = [X_test]\n",
        "for i in range(0,9):\n",
        "    #print(i)\n",
        "    X = np.random.randn(10,10)*1 + 1\n",
        "    l.append(X)"
      ]
    },
    {
      "cell_type": "code",
      "execution_count": null,
      "metadata": {
        "id": "nwpWnL4mbKGf"
      },
      "outputs": [],
      "source": [
        "X_test=np.random.randn(10,10)*1 + 1\n",
        "l.append(X_test)\n",
        "for i in range(0,9):\n",
        "    #print(i)\n",
        "    X = np.random.randn(10,10)*1 + 1\n",
        "    l.append(X)"
      ]
    },
    {
      "cell_type": "code",
      "execution_count": null,
      "metadata": {
        "id": "EZLjLvmnbKGg"
      },
      "outputs": [],
      "source": [
        ""
      ]
    },
    {
      "cell_type": "code",
      "execution_count": null,
      "metadata": {
        "id": "pE0mok6mbKGh"
      },
      "outputs": [],
      "source": [
        "X_test=np.random.randn(10,10)*1 + 20\n",
        "l.append(X_test)\n",
        "for i in range(0,9):\n",
        "    #print(i)\n",
        "    X = np.random.randn(10,10)*1 + 20\n",
        "    l.append(X)"
      ]
    },
    {
      "cell_type": "code",
      "execution_count": null,
      "metadata": {
        "id": "qlo7pgU4bKGj"
      },
      "outputs": [],
      "source": [
        "X_test=np.random.randn(10,10)*1 + 20\n",
        "l.append(X_test)\n",
        "for i in range(0,10-1):\n",
        "    #print(i)\n",
        "    X = np.random.randn(10,10)*1 + 20\n",
        "    l.append(X)"
      ]
    },
    {
      "cell_type": "code",
      "execution_count": null,
      "metadata": {
        "id": "JXn4dXvIbKGk"
      },
      "outputs": [],
      "source": [
        ""
      ]
    },
    {
      "cell_type": "code",
      "execution_count": null,
      "metadata": {
        "colab": {
          "base_uri": "https://localhost:8080/"
        },
        "id": "Ff98Bf7obKGk",
        "outputId": "fbf04412-0ae9-4003-b29b-b31e925f934b"
      },
      "outputs": [
        {
          "output_type": "execute_result",
          "data": {
            "text/plain": [
              "(40, 10, 10)"
            ]
          },
          "metadata": {},
          "execution_count": 42
        }
      ],
      "source": [
        "l = np.array(l)\n",
        "l.shape"
      ]
    },
    {
      "cell_type": "code",
      "execution_count": null,
      "metadata": {
        "colab": {
          "base_uri": "https://localhost:8080/"
        },
        "id": "fRZ-eswwbKGl",
        "outputId": "6d4e459d-0c6f-49f8-d433-26dbb8803db1"
      },
      "outputs": [
        {
          "output_type": "execute_result",
          "data": {
            "text/plain": [
              "(40, 10, 10)"
            ]
          },
          "metadata": {},
          "execution_count": 43
        }
      ],
      "source": [
        "X_test=l\n",
        "X_test.shape\n"
      ]
    },
    {
      "cell_type": "code",
      "execution_count": null,
      "metadata": {
        "id": "FVEVtqNSbKGn"
      },
      "outputs": [],
      "source": [
        ""
      ]
    },
    {
      "cell_type": "code",
      "execution_count": null,
      "metadata": {
        "colab": {
          "base_uri": "https://localhost:8080/"
        },
        "id": "zSr38EIkbKGo",
        "outputId": "514f1278-7b49-4877-aad0-9b726a5874c9"
      },
      "outputs": [
        {
          "output_type": "execute_result",
          "data": {
            "text/plain": [
              "(80, 1)"
            ]
          },
          "metadata": {},
          "execution_count": 44
        }
      ],
      "source": [
        "y_train = np.array([[1],[1],[1],[1],[1],[1],[1],[1],[1],[1],                    \n",
        "                    [1],[1],[1],[1],[1],[1],[1],[1],[1],[1],                    \n",
        "                    [1],[1],[1],[1],[1],[1],[1],[1],[1],[1],                    \n",
        "                    [1],[1],[1],[1],[1],[1],[1],[1],[1],[1],                    \n",
        "                    [0],[0],[0],[0],[0],[0],[0],[0],[0],[0],\n",
        "                    [0],[0],[0],[0],[0],[0],[0],[0],[0],[0],\n",
        "                    [0],[0],[0],[0],[0],[0],[0],[0],[0],[0],\n",
        "                    [0],[0],[0],[0],[0],[0],[0],[0],[0],[0]])\n",
        "\n",
        "y_train.shape         "
      ]
    },
    {
      "cell_type": "code",
      "execution_count": null,
      "metadata": {
        "colab": {
          "base_uri": "https://localhost:8080/"
        },
        "id": "6SNDjun8bKGv",
        "outputId": "93c541b2-ffbf-498c-d4e5-223b52024071"
      },
      "outputs": [
        {
          "output_type": "execute_result",
          "data": {
            "text/plain": [
              "(40, 1)"
            ]
          },
          "metadata": {},
          "execution_count": 45
        }
      ],
      "source": [
        "y_test = np.array([[1],[1],[1],[1],[1],[1],[1],[1],[1],[1],\n",
        "                   [1],[1],[1],[1],[1],[1],[1],[1],[1],[1],\n",
        "                   [0],[0],[0],[0],[0],[0],[0],[0],[0],[0],\n",
        "                   [0],[0],[0],[0],[0],[0],[0],[0],[0],[0]])                   \n",
        "\n",
        "y_test.shape     "
      ]
    },
    {
      "cell_type": "code",
      "execution_count": null,
      "metadata": {
        "code_folding": [
          0
        ],
        "colab": {
          "base_uri": "https://localhost:8080/"
        },
        "id": "WasUVTWYbKGw",
        "outputId": "bd98186d-ecc7-4d9d-da90-ff85d281ef57"
      },
      "outputs": [
        {
          "output_type": "stream",
          "name": "stdout",
          "text": [
            "Original dimensions:\n",
            "--------------------\n",
            "Training: (80, 10, 10), (80, 1)\n",
            "Test: (40, 10, 10), (40, 1)\n",
            "\n",
            "New dimensions:\n",
            "---------------\n",
            "Training: (100, 80), (1, 80)\n",
            "Test: (100, 40), (1, 40)\n"
          ]
        }
      ],
      "source": [
        "# Import training dataset\n",
        "#train_dataset = h5py.File(\"../data/train_catvnoncat.h5\")\n",
        "#X_train = np.array(train_dataset[\"train_set_x\"])\n",
        "#y_train = np.array(train_dataset[\"train_set_y\"])\n",
        "\n",
        "#test_dataset = h5py.File(\"../data/test_catvnoncat.h5\")\n",
        "#X_test = np.array(test_dataset[\"test_set_x\"])\n",
        "#y_test = np.array(test_dataset[\"test_set_y\"])\n",
        "\n",
        "# print the shape of input data and label vector\n",
        "print(f\"\"\"Original dimensions:\\n{20 * '-'}\\nTraining: {X_train.shape}, {y_train.shape}\n",
        "Test: {X_test.shape}, {y_test.shape}\"\"\")\n",
        "\n",
        "# plot cat image\n",
        "#plt.figure(figsize=(6, 6))\n",
        "#plt.imshow(X_train[50])\n",
        "#plt.axis(\"off\");\n",
        "\n",
        "\n",
        "# Transform input data and label vector\n",
        "X_train = X_train.reshape(80, -1).T\n",
        "y_train = y_train.reshape(-1, 80)\n",
        "\n",
        "X_test = X_test.reshape(40, -1).T\n",
        "y_test = y_test.reshape(-1, 40)\n",
        "\n",
        "# standarize the data\n",
        "#X_train = X_train / 255\n",
        "#X_test = X_test / 255\n",
        "\n",
        "print(f\"\"\"\\nNew dimensions:\\n{15 * '-'}\\nTraining: {X_train.shape}, {y_train.shape}\n",
        "Test: {X_test.shape}, {y_test.shape}\"\"\")"
      ]
    },
    {
      "cell_type": "code",
      "execution_count": null,
      "metadata": {
        "id": "PX0ixulNbKGy"
      },
      "outputs": [],
      "source": [
        "#X = np.array(df['deceduti']).reshape(-1,1)\n",
        "#scaler = StandardScaler()\n",
        "#scaler.fit(X)\n",
        "#X_scaled = scaler.transform(X)\n",
        "\n",
        "from sklearn.preprocessing import StandardScaler\n",
        "\n",
        "scaler1 = StandardScaler()\n",
        "scaler1.fit(X_train)\n",
        "X_scaled = scaler1.transform(X_train)\n",
        "X_train=X_scaled"
      ]
    },
    {
      "cell_type": "code",
      "execution_count": null,
      "metadata": {
        "id": "HK7qg24TbKGz"
      },
      "outputs": [],
      "source": [
        "#X = np.array(df['deceduti']).reshape(-1,1)\n",
        "#scaler = StandardScaler()\n",
        "#scaler.fit(X)\n",
        "#X_scaled = scaler.transform(X)\n",
        "\n",
        "from sklearn.preprocessing import StandardScaler\n",
        "\n",
        "scaler2 = StandardScaler()\n",
        "scaler2.fit(X_test)\n",
        "X_scaled2 = scaler2.transform(X_test)\n",
        "X_test=X_scaled2"
      ]
    },
    {
      "cell_type": "markdown",
      "metadata": {
        "id": "VSkkCPzObKG0"
      },
      "source": [
        "Now, our dataset is ready to be used and test our neural network implementation. Let's first write **multi-layer model** function to implement gradient-based learning using predefined number of iterations and learning rate."
      ]
    },
    {
      "cell_type": "code",
      "execution_count": null,
      "metadata": {
        "code_folding": [
          0
        ],
        "id": "on9jX7i2bKG1"
      },
      "outputs": [],
      "source": [
        "# Define the multi-layer model using all the helper functions we wrote before\n",
        "\n",
        "\n",
        "def L_layer_model(\n",
        "        X, y, layers_dims, learning_rate=0.01, num_iterations=3000, num_iterations1=20,\n",
        "        print_cost=True, hidden_layers_activation_fn=\"relu\"):\n",
        "    \"\"\"\n",
        "    Implements multilayer neural network using gradient descent as the\n",
        "    learning algorithm.\n",
        "\n",
        "    Arguments\n",
        "    ---------\n",
        "    X : 2d-array\n",
        "        data, shape: number of examples x num_px * num_px * 3.\n",
        "    y : 2d-array\n",
        "        true \"label\" vector, shape: 1 x number of examples.\n",
        "    layers_dims : list\n",
        "        input size and size of each layer, length: number of layers + 1.\n",
        "    learning_rate : float\n",
        "        learning rate of the gradient descent update rule.\n",
        "    num_iterations : int\n",
        "        number of iterations of the optimization loop.\n",
        "    print_cost : bool\n",
        "        if True, it prints the cost every 100 steps.\n",
        "    hidden_layers_activation_fn : str\n",
        "        activation function to be used on hidden layers: \"tanh\", \"relu\".\n",
        "\n",
        "    Returns\n",
        "    -------\n",
        "    parameters : dict\n",
        "        parameters learnt by the model. They can then be used to predict test examples.\n",
        "    \"\"\"\n",
        "    np.random.seed(1)\n",
        "\n",
        "    # initialize parameters\n",
        "    parameters = initialize_parameters(layers_dims)\n",
        "\n",
        "    # intialize cost list\n",
        "    cost_list = []\n",
        "\n",
        "    # iterate over num_iterations\n",
        "    for j in range(num_iterations1):\n",
        "        learning_rate=learning_rate/2.5\n",
        "        # iterate over num_iterations\n",
        "        for i in range(num_iterations):\n",
        "            # iterate over L-layers to get the final output and the cache\n",
        "            AL, caches = L_model_forward(X, parameters, hidden_layers_activation_fn)\n",
        "            # compute cost to plot it\n",
        "            cost = compute_cost(AL, y)\n",
        "            # iterate over L-layers backward to get gradients\n",
        "            grads = L_model_backward(AL, y, caches, hidden_layers_activation_fn)\n",
        "            # update parameters\n",
        "            parameters = update_parameters(parameters, grads, learning_rate)\n",
        "            # append each 100th cost to the cost list\n",
        "            if (i + 1) % 100 == 0 and print_cost:\n",
        "                print(f\"The {j} cost after {i + 1} iterations is: {cost:.10f}\")\n",
        "            if i % 100 == 0:\n",
        "                cost_list.append(cost)\n",
        "\n",
        "    # plot the cost curve\n",
        "    plt.figure(figsize=(10, 6))\n",
        "    plt.plot(cost_list)\n",
        "    plt.xlabel(\"Iterations (per hundreds)\")\n",
        "    plt.ylabel(\"Loss\")\n",
        "    plt.title(f\"Loss curve for the learning rate = {learning_rate}\")\n",
        "\n",
        "    return parameters\n",
        "\n",
        "\n",
        "def accuracy(X, parameters, y, activation_fn=\"relu\"):\n",
        "    \"\"\"\n",
        "    Computes the average accuracy rate.\n",
        "\n",
        "    Arguments\n",
        "    ---------\n",
        "    X : 2d-array\n",
        "        data, shape: number of examples x num_px * num_px * 3.\n",
        "    parameters : dict\n",
        "        learnt parameters.\n",
        "    y : 2d-array\n",
        "        true \"label\" vector, shape: 1 x number of examples.\n",
        "    activation_fn : str\n",
        "        activation function to be used on hidden layers: \"tanh\", \"relu\".\n",
        "\n",
        "    Returns\n",
        "    -------\n",
        "    accuracy : float\n",
        "        accuracy rate after applying parameters on the input data\n",
        "    \"\"\"\n",
        "    probs, caches = L_model_forward(X, parameters, activation_fn)\n",
        "    print(\"probs: \", str(probs))\n",
        "    labels = (probs >= 0.5) * 1\n",
        "    accuracy = np.mean(labels == y) * 100\n",
        "\n",
        "    return f\"The accuracy rate is: {accuracy:.2f}%.\""
      ]
    },
    {
      "cell_type": "code",
      "execution_count": null,
      "metadata": {
        "id": "MJewG4t-bKG3"
      },
      "outputs": [],
      "source": [
        ""
      ]
    },
    {
      "cell_type": "markdown",
      "metadata": {
        "id": "D-fAiM53bKG4"
      },
      "source": [
        "Next, we'll train two versions of the neural network where each one will use different activation function on hidden layers: One will use rectified linear unit (**ReLU**) and the second one will use hyperbolic tangent function (**tanh**). Finally we'll use the parameters we get from both neural networks to classify test examples and compute the test accuracy rates for each version to see which activation function works best on this problem."
      ]
    },
    {
      "cell_type": "code",
      "execution_count": null,
      "metadata": {
        "id": "QmNG3-cMbKG5"
      },
      "outputs": [],
      "source": [
        "# Setting layers dims\n",
        "layers_dims = [X_train.shape[0], 5,5, 1]"
      ]
    },
    {
      "cell_type": "markdown",
      "metadata": {
        "id": "lEv3j4WabKG8"
      },
      "source": [
        "## TANH"
      ]
    },
    {
      "cell_type": "code",
      "execution_count": null,
      "metadata": {
        "scrolled": true,
        "colab": {
          "base_uri": "https://localhost:8080/",
          "height": 944
        },
        "id": "kmFOReVtbKG8",
        "outputId": "246a0a8f-f9cf-49a8-dea8-08dd75ddbc39"
      },
      "outputs": [
        {
          "output_type": "stream",
          "name": "stdout",
          "text": [
            "The 0 cost after 100 iterations is: 0.6931356039\n",
            "The 0 cost after 200 iterations is: 0.6930637614\n",
            "The 0 cost after 300 iterations is: 0.6916172246\n",
            "The 0 cost after 400 iterations is: 0.0504770128\n",
            "The 0 cost after 500 iterations is: 0.0080905393\n",
            "The 0 cost after 600 iterations is: 0.0041874616\n",
            "The 0 cost after 700 iterations is: 0.0027992017\n",
            "The 0 cost after 800 iterations is: 0.0020948811\n",
            "The 0 cost after 900 iterations is: 0.0016707633\n",
            "The 0 cost after 1000 iterations is: 0.0013879999\n",
            "The 1 cost after 100 iterations is: 0.0012985082\n",
            "The 1 cost after 200 iterations is: 0.0012208241\n",
            "The 1 cost after 300 iterations is: 0.0011518073\n",
            "The 1 cost after 400 iterations is: 0.0010900914\n",
            "The 1 cost after 500 iterations is: 0.0010345819\n",
            "The 1 cost after 600 iterations is: 0.0009843921\n",
            "The 1 cost after 700 iterations is: 0.0009387959\n",
            "The 1 cost after 800 iterations is: 0.0008971932\n",
            "The 1 cost after 900 iterations is: 0.0008590838\n",
            "The 1 cost after 1000 iterations is: 0.0008240475\n",
            "probs:  [[9.99554506e-01 5.42870473e-04 9.99534607e-01 3.53718106e-04\n",
            "  3.70643760e-04 9.98744667e-01 4.95849019e-02 3.50059545e-04\n",
            "  7.23723235e-04 7.05913845e-04 1.28003878e-03 9.03467673e-01\n",
            "  9.99035386e-01 4.38728190e-04 9.97302697e-01 9.99591526e-01\n",
            "  9.97556819e-01 4.12090000e-04 3.62804599e-04 7.26951429e-01\n",
            "  5.32430729e-04 9.99536199e-01 9.96834471e-01 9.99596153e-01\n",
            "  4.29662719e-04 3.77524034e-01 2.79777329e-02 9.98198593e-01\n",
            "  4.94433177e-04 9.98389405e-01 4.28839361e-04 1.07322245e-01\n",
            "  3.35233541e-04 9.93237710e-01 9.99427641e-01 1.66873361e-01\n",
            "  9.97138728e-01 3.40297088e-04 1.03474664e-02 9.95195959e-01]]\n"
          ]
        },
        {
          "output_type": "execute_result",
          "data": {
            "text/plain": [
              "'The accuracy rate is: 50.00%.'"
            ],
            "application/vnd.google.colaboratory.intrinsic+json": {
              "type": "string"
            }
          },
          "metadata": {},
          "execution_count": 52
        },
        {
          "output_type": "display_data",
          "data": {
            "text/plain": [
              "<Figure size 720x432 with 1 Axes>"
            ],
            "image/png": "[encoded data removed]"
          },
          "metadata": {
            "needs_background": "light"
          }
        }
      ],
      "source": [
        "\n",
        "# NN with tanh activation fn\n",
        "parameters_tanh = L_layer_model(\n",
        "    X_train, y_train, layers_dims, learning_rate=0.5, num_iterations=150000, num_iterations1=2,\n",
        "    hidden_layers_activation_fn=\"tanh\")\n",
        "\n",
        "# Print the accuracy\n",
        "accuracy(X_test, parameters_tanh, y_test, activation_fn=\"tanh\")"
      ]
    },
    {
      "cell_type": "markdown",
      "metadata": {
        "id": "lYVDtTHDbKHB"
      },
      "source": [
        "## RELU\n"
      ]
    },
    {
      "cell_type": "code",
      "execution_count": null,
      "metadata": {
        "scrolled": true,
        "colab": {
          "base_uri": "https://localhost:8080/",
          "height": 1000
        },
        "id": "4P6ZRU7jbKHG",
        "outputId": "200179ef-ec1f-4dea-e922-ab74d5122414"
      },
      "outputs": [
        {
          "output_type": "stream",
          "name": "stdout",
          "text": [
            "The 0 cost after 100 iterations is: 0.6931493239\n",
            "The 0 cost after 200 iterations is: 0.6931479069\n",
            "The 0 cost after 300 iterations is: 0.6931465818\n",
            "The 0 cost after 400 iterations is: 0.6931453013\n",
            "The 0 cost after 500 iterations is: 0.6931437773\n",
            "The 0 cost after 600 iterations is: 0.6931416961\n",
            "The 0 cost after 700 iterations is: 0.6931390903\n",
            "The 0 cost after 800 iterations is: 0.6931352832\n",
            "The 0 cost after 900 iterations is: 0.6931257227\n",
            "The 0 cost after 1000 iterations is: 0.6931112651\n",
            "The 0 cost after 1100 iterations is: 0.6930869953\n",
            "The 0 cost after 1200 iterations is: 0.6930395666\n",
            "The 0 cost after 1300 iterations is: 0.6929317281\n",
            "The 0 cost after 1400 iterations is: 0.6926322266\n",
            "The 0 cost after 1500 iterations is: 0.6915068479\n",
            "The 0 cost after 1600 iterations is: 0.6835515100\n",
            "The 0 cost after 1700 iterations is: 0.4844105965\n",
            "The 0 cost after 1800 iterations is: 0.0482432503\n",
            "The 0 cost after 1900 iterations is: 0.0168907904\n",
            "The 0 cost after 2000 iterations is: 0.0103991864\n",
            "The 0 cost after 2100 iterations is: 0.0075558459\n",
            "The 0 cost after 2200 iterations is: 0.0059012442\n",
            "The 0 cost after 2300 iterations is: 0.0048057427\n",
            "The 0 cost after 2400 iterations is: 0.0040246328\n",
            "The 0 cost after 2500 iterations is: 0.0034393141\n",
            "The 0 cost after 2600 iterations is: 0.0029879692\n",
            "The 0 cost after 2700 iterations is: 0.0026293272\n",
            "The 0 cost after 2800 iterations is: 0.0023400891\n",
            "The 0 cost after 2900 iterations is: 0.0021008719\n",
            "The 0 cost after 3000 iterations is: 0.0019016877\n",
            "The 0 cost after 3100 iterations is: 0.0017326331\n",
            "The 0 cost after 3200 iterations is: 0.0015883771\n",
            "The 0 cost after 3300 iterations is: 0.0014642404\n",
            "The 0 cost after 3400 iterations is: 0.0013557984\n",
            "The 0 cost after 3500 iterations is: 0.0012610965\n",
            "The 0 cost after 3600 iterations is: 0.0011769769\n",
            "The 0 cost after 3700 iterations is: 0.0011027206\n",
            "The 0 cost after 3800 iterations is: 0.0010361141\n",
            "The 0 cost after 3900 iterations is: 0.0009764747\n",
            "The 0 cost after 4000 iterations is: 0.0009224854\n",
            "The 0 cost after 4100 iterations is: 0.0008735490\n",
            "The 0 cost after 4200 iterations is: 0.0008293150\n",
            "The 0 cost after 4300 iterations is: 0.0007887661\n",
            "The 0 cost after 4400 iterations is: 0.0007517740\n",
            "The 0 cost after 4500 iterations is: 0.0007175915\n",
            "The 0 cost after 4600 iterations is: 0.0006861831\n",
            "The 0 cost after 4700 iterations is: 0.0006571184\n",
            "The 0 cost after 4800 iterations is: 0.0006303273\n",
            "The 0 cost after 4900 iterations is: 0.0006052812\n",
            "The 0 cost after 5000 iterations is: 0.0005820133\n",
            "The 0 cost after 5100 iterations is: 0.0005603319\n",
            "The 0 cost after 5200 iterations is: 0.0005400401\n",
            "The 0 cost after 5300 iterations is: 0.0005210875\n",
            "The 0 cost after 5400 iterations is: 0.0005032550\n",
            "The 0 cost after 5500 iterations is: 0.0004865715\n",
            "The 0 cost after 5600 iterations is: 0.0004707476\n",
            "The 0 cost after 5700 iterations is: 0.0004559152\n",
            "The 0 cost after 5800 iterations is: 0.0004418674\n",
            "The 0 cost after 5900 iterations is: 0.0004285963\n",
            "The 0 cost after 6000 iterations is: 0.0004160705\n",
            "The 0 cost after 6100 iterations is: 0.0004041012\n",
            "The 0 cost after 6200 iterations is: 0.0003928269\n",
            "The 0 cost after 6300 iterations is: 0.0003820838\n",
            "The 0 cost after 6400 iterations is: 0.0003718919\n",
            "The 0 cost after 6500 iterations is: 0.0003621397\n",
            "The 0 cost after 6600 iterations is: 0.0003528557\n",
            "The 0 cost after 6700 iterations is: 0.0003439986\n",
            "The 0 cost after 6800 iterations is: 0.0003355610\n",
            "The 0 cost after 6900 iterations is: 0.0003274600\n",
            "The 0 cost after 7000 iterations is: 0.0003196974\n",
            "The 0 cost after 7100 iterations is: 0.0003123064\n",
            "The 0 cost after 7200 iterations is: 0.0003051904\n",
            "The 0 cost after 7300 iterations is: 0.0002983963\n",
            "The 0 cost after 7400 iterations is: 0.0002918339\n",
            "The 0 cost after 7500 iterations is: 0.0002855704\n",
            "The 0 cost after 7600 iterations is: 0.0002795156\n",
            "The 0 cost after 7700 iterations is: 0.0002737235\n",
            "The 0 cost after 7800 iterations is: 0.0002681277\n",
            "The 0 cost after 7900 iterations is: 0.0002627083\n",
            "The 0 cost after 8000 iterations is: 0.0002575349\n",
            "The 0 cost after 8100 iterations is: 0.0002525223\n",
            "The 0 cost after 8200 iterations is: 0.0002477001\n",
            "The 0 cost after 8300 iterations is: 0.0002430146\n",
            "The 0 cost after 8400 iterations is: 0.0002385247\n",
            "The 0 cost after 8500 iterations is: 0.0002341642\n",
            "The 0 cost after 8600 iterations is: 0.0002299616\n",
            "The 0 cost after 8700 iterations is: 0.0002258685\n",
            "The 0 cost after 8800 iterations is: 0.0002219231\n",
            "The 0 cost after 8900 iterations is: 0.0002181078\n",
            "The 0 cost after 9000 iterations is: 0.0002144068\n",
            "The 0 cost after 9100 iterations is: 0.0002108183\n",
            "The 0 cost after 9200 iterations is: 0.0002073332\n",
            "The 0 cost after 9300 iterations is: 0.0002039694\n",
            "The 0 cost after 9400 iterations is: 0.0002006846\n",
            "The 0 cost after 9500 iterations is: 0.0001975155\n",
            "The 0 cost after 9600 iterations is: 0.0001944213\n",
            "The 0 cost after 9700 iterations is: 0.0001914315\n",
            "The 0 cost after 9800 iterations is: 0.0001885044\n",
            "The 0 cost after 9900 iterations is: 0.0001856615\n",
            "The 0 cost after 10000 iterations is: 0.0001829143\n",
            "The 1 cost after 100 iterations is: 0.0001818096\n",
            "The 1 cost after 200 iterations is: 0.0001807387\n",
            "The 1 cost after 300 iterations is: 0.0001796740\n",
            "The 1 cost after 400 iterations is: 0.0001786300\n",
            "The 1 cost after 500 iterations is: 0.0001775939\n",
            "The 1 cost after 600 iterations is: 0.0001765709\n",
            "The 1 cost after 700 iterations is: 0.0001755527\n",
            "The 1 cost after 800 iterations is: 0.0001745486\n",
            "The 1 cost after 900 iterations is: 0.0001735593\n",
            "The 1 cost after 1000 iterations is: 0.0001725712\n",
            "The 1 cost after 1100 iterations is: 0.0001716023\n",
            "The 1 cost after 1200 iterations is: 0.0001706393\n",
            "The 1 cost after 1300 iterations is: 0.0001696886\n",
            "The 1 cost after 1400 iterations is: 0.0001687429\n",
            "The 1 cost after 1500 iterations is: 0.0001678140\n",
            "The 1 cost after 1600 iterations is: 0.0001668886\n",
            "The 1 cost after 1700 iterations is: 0.0001659750\n",
            "The 1 cost after 1800 iterations is: 0.0001650702\n",
            "The 1 cost after 1900 iterations is: 0.0001641733\n",
            "The 1 cost after 2000 iterations is: 0.0001632893\n",
            "The 1 cost after 2100 iterations is: 0.0001624118\n",
            "The 1 cost after 2200 iterations is: 0.0001615424\n",
            "The 1 cost after 2300 iterations is: 0.0001606803\n",
            "The 1 cost after 2400 iterations is: 0.0001598310\n",
            "The 1 cost after 2500 iterations is: 0.0001589842\n",
            "The 1 cost after 2600 iterations is: 0.0001581501\n",
            "The 1 cost after 2700 iterations is: 0.0001573219\n",
            "The 1 cost after 2800 iterations is: 0.0001565018\n",
            "The 1 cost after 2900 iterations is: 0.0001557025\n",
            "The 1 cost after 3000 iterations is: 0.0001549312\n",
            "The 1 cost after 3100 iterations is: 0.0001541707\n",
            "The 1 cost after 3200 iterations is: 0.0001534140\n",
            "The 1 cost after 3300 iterations is: 0.0001526669\n",
            "The 1 cost after 3400 iterations is: 0.0001519201\n",
            "The 1 cost after 3500 iterations is: 0.0001511859\n",
            "The 1 cost after 3600 iterations is: 0.0001504562\n",
            "The 1 cost after 3700 iterations is: 0.0001497357\n",
            "The 1 cost after 3800 iterations is: 0.0001490176\n",
            "The 1 cost after 3900 iterations is: 0.0001483077\n",
            "The 1 cost after 4000 iterations is: 0.0001476031\n",
            "The 1 cost after 4100 iterations is: 0.0001469081\n",
            "The 1 cost after 4200 iterations is: 0.0001462126\n",
            "The 1 cost after 4300 iterations is: 0.0001455264\n",
            "The 1 cost after 4400 iterations is: 0.0001448494\n",
            "The 1 cost after 4500 iterations is: 0.0001441751\n",
            "The 1 cost after 4600 iterations is: 0.0001435058\n",
            "The 1 cost after 4700 iterations is: 0.0001428428\n",
            "The 1 cost after 4800 iterations is: 0.0001421885\n",
            "The 1 cost after 4900 iterations is: 0.0001415366\n",
            "The 1 cost after 5000 iterations is: 0.0001408904\n",
            "The 1 cost after 5100 iterations is: 0.0001402492\n",
            "The 1 cost after 5200 iterations is: 0.0001396329\n",
            "The 1 cost after 5300 iterations is: 0.0001390610\n",
            "The 1 cost after 5400 iterations is: 0.0001384979\n",
            "The 1 cost after 5500 iterations is: 0.0001379368\n",
            "The 1 cost after 5600 iterations is: 0.0001373807\n",
            "The 1 cost after 5700 iterations is: 0.0001368292\n",
            "The 1 cost after 5800 iterations is: 0.0001362813\n",
            "The 1 cost after 5900 iterations is: 0.0001357367\n",
            "The 1 cost after 6000 iterations is: 0.0001351957\n",
            "The 1 cost after 6100 iterations is: 0.0001346628\n",
            "The 1 cost after 6200 iterations is: 0.0001341289\n",
            "The 1 cost after 6300 iterations is: 0.0001336024\n",
            "The 1 cost after 6400 iterations is: 0.0001330787\n",
            "The 1 cost after 6500 iterations is: 0.0001325580\n",
            "The 1 cost after 6600 iterations is: 0.0001320440\n",
            "The 1 cost after 6700 iterations is: 0.0001315316\n",
            "The 1 cost after 6800 iterations is: 0.0001310210\n",
            "The 1 cost after 6900 iterations is: 0.0001305177\n",
            "The 1 cost after 7000 iterations is: 0.0001300166\n",
            "The 1 cost after 7100 iterations is: 0.0001295211\n",
            "The 1 cost after 7200 iterations is: 0.0001290253\n",
            "The 1 cost after 7300 iterations is: 0.0001285377\n",
            "The 1 cost after 7400 iterations is: 0.0001280485\n",
            "The 1 cost after 7500 iterations is: 0.0001275663\n",
            "The 1 cost after 7600 iterations is: 0.0001270873\n",
            "The 1 cost after 7700 iterations is: 0.0001266090\n",
            "The 1 cost after 7800 iterations is: 0.0001261366\n",
            "The 1 cost after 7900 iterations is: 0.0001256671\n",
            "The 1 cost after 8000 iterations is: 0.0001252016\n",
            "The 1 cost after 8100 iterations is: 0.0001247398\n",
            "The 1 cost after 8200 iterations is: 0.0001242781\n",
            "The 1 cost after 8300 iterations is: 0.0001238275\n",
            "The 1 cost after 8400 iterations is: 0.0001233878\n",
            "The 1 cost after 8500 iterations is: 0.0001229501\n",
            "The 1 cost after 8600 iterations is: 0.0001225149\n",
            "The 1 cost after 8700 iterations is: 0.0001220851\n",
            "The 1 cost after 8800 iterations is: 0.0001216562\n",
            "The 1 cost after 8900 iterations is: 0.0001212317\n",
            "The 1 cost after 9000 iterations is: 0.0001208086\n",
            "The 1 cost after 9100 iterations is: 0.0001203872\n",
            "The 1 cost after 9200 iterations is: 0.0001199706\n",
            "The 1 cost after 9300 iterations is: 0.0001195561\n",
            "The 1 cost after 9400 iterations is: 0.0001191439\n",
            "The 1 cost after 9500 iterations is: 0.0001187364\n",
            "The 1 cost after 9600 iterations is: 0.0001183292\n",
            "The 1 cost after 9700 iterations is: 0.0001179267\n",
            "The 1 cost after 9800 iterations is: 0.0001175256\n",
            "The 1 cost after 9900 iterations is: 0.0001171253\n",
            "The 1 cost after 10000 iterations is: 0.0001167300\n",
            "probs:  [[9.99925327e-01 3.96694770e-05 9.92048889e-01 1.01796343e-05\n",
            "  8.22934204e-05 9.67054102e-01 8.67703347e-01 3.73079314e-07\n",
            "  1.11584934e-04 2.44701997e-03 1.48422211e-03 5.67485151e-01\n",
            "  8.03889017e-01 1.93658431e-02 7.28556098e-01 9.95382287e-01\n",
            "  9.82124644e-01 1.33089045e-06 6.45751967e-06 3.60925097e-01\n",
            "  8.52658940e-03 9.99576923e-01 9.22178514e-01 9.99939915e-01\n",
            "  4.02741788e-04 3.41009292e-02 3.86231531e-02 2.66538562e-01\n",
            "  2.61309856e-04 8.32101788e-01 8.95797774e-06 5.09877894e-03\n",
            "  1.30872189e-08 3.07545059e-01 7.41827426e-01 1.21453085e-01\n",
            "  2.33412826e-01 4.62008594e-09 1.08247944e-04 7.60816119e-01]]\n"
          ]
        },
        {
          "output_type": "execute_result",
          "data": {
            "text/plain": [
              "'The accuracy rate is: 57.50%.'"
            ],
            "application/vnd.google.colaboratory.intrinsic+json": {
              "type": "string"
            }
          },
          "metadata": {},
          "execution_count": 53
        },
        {
          "output_type": "display_data",
          "data": {
            "text/plain": [
              "<Figure size 720x432 with 1 Axes>"
            ],
            "image/png": "[encoded data removed]"
          },
          "metadata": {
            "needs_background": "light"
          }
        }
      ],
      "source": [
        "# NN with relu activation fn\n",
        "parameters_relu = L_layer_model(\n",
        "    X_train, y_train, layers_dims, learning_rate=0.2, num_iterations=10000, num_iterations1=2,\n",
        "    hidden_layers_activation_fn=\"relu\")\n",
        "\n",
        "# Print the accuracy\n",
        "accuracy(X_test, parameters_relu, y_test, activation_fn=\"relu\")"
      ]
    },
    {
      "cell_type": "markdown",
      "metadata": {
        "id": "YLsZSBRQbKHI"
      },
      "source": [
        "sigmoid"
      ]
    },
    {
      "cell_type": "code",
      "execution_count": null,
      "metadata": {
        "colab": {
          "base_uri": "https://localhost:8080/",
          "height": 1000
        },
        "id": "NQP5HBsZbKHI",
        "outputId": "107474e5-749e-48e6-c68a-86f509646058"
      },
      "outputs": [
        {
          "output_type": "stream",
          "name": "stdout",
          "text": [
            "The 0 cost after 100 iterations is: 0.6931478780\n",
            "The 0 cost after 200 iterations is: 0.6931478390\n",
            "The 0 cost after 300 iterations is: 0.6931478015\n",
            "The 0 cost after 400 iterations is: 0.6931477647\n",
            "The 0 cost after 500 iterations is: 0.6931477285\n",
            "The 0 cost after 600 iterations is: 0.6931476929\n",
            "The 0 cost after 700 iterations is: 0.6931476578\n",
            "The 0 cost after 800 iterations is: 0.6931476231\n",
            "The 0 cost after 900 iterations is: 0.6931475889\n",
            "The 0 cost after 1000 iterations is: 0.6931475550\n",
            "The 0 cost after 1100 iterations is: 0.6931475215\n",
            "The 0 cost after 1200 iterations is: 0.6931474883\n",
            "The 0 cost after 1300 iterations is: 0.6931474553\n",
            "The 0 cost after 1400 iterations is: 0.6931474225\n",
            "The 0 cost after 1500 iterations is: 0.6931473898\n",
            "The 0 cost after 1600 iterations is: 0.6931473573\n",
            "The 0 cost after 1700 iterations is: 0.6931473248\n",
            "The 0 cost after 1800 iterations is: 0.6931472924\n",
            "The 0 cost after 1900 iterations is: 0.6931472599\n",
            "The 0 cost after 2000 iterations is: 0.6931472274\n",
            "The 0 cost after 2100 iterations is: 0.6931471948\n",
            "The 0 cost after 2200 iterations is: 0.6931471621\n",
            "The 0 cost after 2300 iterations is: 0.6931471291\n",
            "The 0 cost after 2400 iterations is: 0.6931470960\n",
            "The 0 cost after 2500 iterations is: 0.6931470626\n",
            "The 0 cost after 2600 iterations is: 0.6931470288\n",
            "The 0 cost after 2700 iterations is: 0.6931469947\n",
            "The 0 cost after 2800 iterations is: 0.6931469602\n",
            "The 0 cost after 2900 iterations is: 0.6931469253\n",
            "The 0 cost after 3000 iterations is: 0.6931468898\n",
            "The 0 cost after 3100 iterations is: 0.6931468538\n",
            "The 0 cost after 3200 iterations is: 0.6931468172\n",
            "The 0 cost after 3300 iterations is: 0.6931467800\n",
            "The 0 cost after 3400 iterations is: 0.6931467420\n",
            "The 0 cost after 3500 iterations is: 0.6931467032\n",
            "The 0 cost after 3600 iterations is: 0.6931466637\n",
            "The 0 cost after 3700 iterations is: 0.6931466232\n",
            "The 0 cost after 3800 iterations is: 0.6931465818\n",
            "The 0 cost after 3900 iterations is: 0.6931465393\n",
            "The 0 cost after 4000 iterations is: 0.6931464958\n",
            "The 0 cost after 4100 iterations is: 0.6931464511\n",
            "The 0 cost after 4200 iterations is: 0.6931464052\n",
            "The 0 cost after 4300 iterations is: 0.6931463579\n",
            "The 0 cost after 4400 iterations is: 0.6931463093\n",
            "The 0 cost after 4500 iterations is: 0.6931462591\n",
            "The 0 cost after 4600 iterations is: 0.6931462074\n",
            "The 0 cost after 4700 iterations is: 0.6931461540\n",
            "The 0 cost after 4800 iterations is: 0.6931460988\n",
            "The 0 cost after 4900 iterations is: 0.6931460416\n",
            "The 0 cost after 5000 iterations is: 0.6931459825\n",
            "The 0 cost after 5100 iterations is: 0.6931459213\n",
            "The 0 cost after 5200 iterations is: 0.6931458577\n",
            "The 0 cost after 5300 iterations is: 0.6931457918\n",
            "The 0 cost after 5400 iterations is: 0.6931457233\n",
            "The 0 cost after 5500 iterations is: 0.6931456521\n",
            "The 0 cost after 5600 iterations is: 0.6931455780\n",
            "The 0 cost after 5700 iterations is: 0.6931455009\n",
            "The 0 cost after 5800 iterations is: 0.6931454205\n",
            "The 0 cost after 5900 iterations is: 0.6931453367\n",
            "The 0 cost after 6000 iterations is: 0.6931452492\n",
            "The 0 cost after 6100 iterations is: 0.6931451578\n",
            "The 0 cost after 6200 iterations is: 0.6931450623\n",
            "The 0 cost after 6300 iterations is: 0.6931449623\n",
            "The 0 cost after 6400 iterations is: 0.6931448577\n",
            "The 0 cost after 6500 iterations is: 0.6931447481\n",
            "The 0 cost after 6600 iterations is: 0.6931446331\n",
            "The 0 cost after 6700 iterations is: 0.6931445125\n",
            "The 0 cost after 6800 iterations is: 0.6931443858\n",
            "The 0 cost after 6900 iterations is: 0.6931442526\n",
            "The 0 cost after 7000 iterations is: 0.6931441125\n",
            "The 0 cost after 7100 iterations is: 0.6931439650\n",
            "The 0 cost after 7200 iterations is: 0.6931438096\n",
            "The 0 cost after 7300 iterations is: 0.6931436457\n",
            "The 0 cost after 7400 iterations is: 0.6931434727\n",
            "The 0 cost after 7500 iterations is: 0.6931432899\n",
            "The 0 cost after 7600 iterations is: 0.6931430966\n",
            "The 0 cost after 7700 iterations is: 0.6931428921\n",
            "The 0 cost after 7800 iterations is: 0.6931426754\n",
            "The 0 cost after 7900 iterations is: 0.6931424457\n",
            "The 0 cost after 8000 iterations is: 0.6931422019\n",
            "The 0 cost after 8100 iterations is: 0.6931419429\n",
            "The 0 cost after 8200 iterations is: 0.6931416674\n",
            "The 0 cost after 8300 iterations is: 0.6931413741\n",
            "The 0 cost after 8400 iterations is: 0.6931410616\n",
            "The 0 cost after 8500 iterations is: 0.6931407282\n",
            "The 0 cost after 8600 iterations is: 0.6931403721\n",
            "The 0 cost after 8700 iterations is: 0.6931399913\n",
            "The 0 cost after 8800 iterations is: 0.6931395836\n",
            "The 0 cost after 8900 iterations is: 0.6931391466\n",
            "The 0 cost after 9000 iterations is: 0.6931386775\n",
            "The 0 cost after 9100 iterations is: 0.6931381734\n",
            "The 0 cost after 9200 iterations is: 0.6931376309\n",
            "The 0 cost after 9300 iterations is: 0.6931370462\n",
            "The 0 cost after 9400 iterations is: 0.6931364152\n",
            "The 0 cost after 9500 iterations is: 0.6931357331\n",
            "The 0 cost after 9600 iterations is: 0.6931349946\n",
            "The 0 cost after 9700 iterations is: 0.6931341938\n",
            "The 0 cost after 9800 iterations is: 0.6931333239\n",
            "The 0 cost after 9900 iterations is: 0.6931323773\n",
            "The 0 cost after 10000 iterations is: 0.6931313452\n",
            "The 1 cost after 100 iterations is: 0.6931308995\n",
            "The 1 cost after 200 iterations is: 0.6931304444\n",
            "The 1 cost after 300 iterations is: 0.6931299726\n",
            "The 1 cost after 400 iterations is: 0.6931294834\n",
            "The 1 cost after 500 iterations is: 0.6931289759\n",
            "The 1 cost after 600 iterations is: 0.6931284492\n",
            "The 1 cost after 700 iterations is: 0.6931279026\n",
            "The 1 cost after 800 iterations is: 0.6931273349\n",
            "The 1 cost after 900 iterations is: 0.6931267453\n",
            "The 1 cost after 1000 iterations is: 0.6931261326\n",
            "The 1 cost after 1100 iterations is: 0.6931254956\n",
            "The 1 cost after 1200 iterations is: 0.6931248332\n",
            "The 1 cost after 1300 iterations is: 0.6931241440\n",
            "The 1 cost after 1400 iterations is: 0.6931234268\n",
            "The 1 cost after 1500 iterations is: 0.6931226800\n",
            "The 1 cost after 1600 iterations is: 0.6931219021\n",
            "The 1 cost after 1700 iterations is: 0.6931210916\n",
            "The 1 cost after 1800 iterations is: 0.6931202465\n",
            "The 1 cost after 1900 iterations is: 0.6931193652\n",
            "The 1 cost after 2000 iterations is: 0.6931184456\n",
            "The 1 cost after 2100 iterations is: 0.6931174856\n",
            "The 1 cost after 2200 iterations is: 0.6931164830\n",
            "The 1 cost after 2300 iterations is: 0.6931154354\n",
            "The 1 cost after 2400 iterations is: 0.6931143403\n",
            "The 1 cost after 2500 iterations is: 0.6931131948\n",
            "The 1 cost after 2600 iterations is: 0.6931119961\n",
            "The 1 cost after 2700 iterations is: 0.6931107410\n",
            "The 1 cost after 2800 iterations is: 0.6931094263\n",
            "The 1 cost after 2900 iterations is: 0.6931080482\n",
            "The 1 cost after 3000 iterations is: 0.6931066031\n",
            "The 1 cost after 3100 iterations is: 0.6931050866\n",
            "The 1 cost after 3200 iterations is: 0.6931034944\n",
            "The 1 cost after 3300 iterations is: 0.6931018217\n",
            "The 1 cost after 3400 iterations is: 0.6931000633\n",
            "The 1 cost after 3500 iterations is: 0.6930982137\n",
            "The 1 cost after 3600 iterations is: 0.6930962668\n",
            "The 1 cost after 3700 iterations is: 0.6930942163\n",
            "The 1 cost after 3800 iterations is: 0.6930920552\n",
            "The 1 cost after 3900 iterations is: 0.6930897758\n",
            "The 1 cost after 4000 iterations is: 0.6930873699\n",
            "The 1 cost after 4100 iterations is: 0.6930848288\n",
            "The 1 cost after 4200 iterations is: 0.6930821428\n",
            "The 1 cost after 4300 iterations is: 0.6930793013\n",
            "The 1 cost after 4400 iterations is: 0.6930762931\n",
            "The 1 cost after 4500 iterations is: 0.6930731056\n",
            "The 1 cost after 4600 iterations is: 0.6930697255\n",
            "The 1 cost after 4700 iterations is: 0.6930661378\n",
            "The 1 cost after 4800 iterations is: 0.6930623266\n",
            "The 1 cost after 4900 iterations is: 0.6930582740\n",
            "The 1 cost after 5000 iterations is: 0.6930539609\n",
            "The 1 cost after 5100 iterations is: 0.6930493658\n",
            "The 1 cost after 5200 iterations is: 0.6930444654\n",
            "The 1 cost after 5300 iterations is: 0.6930392340\n",
            "The 1 cost after 5400 iterations is: 0.6930336434\n",
            "The 1 cost after 5500 iterations is: 0.6930276620\n",
            "The 1 cost after 5600 iterations is: 0.6930212554\n",
            "The 1 cost after 5700 iterations is: 0.6930143850\n",
            "The 1 cost after 5800 iterations is: 0.6930070085\n",
            "The 1 cost after 5900 iterations is: 0.6929990783\n",
            "The 1 cost after 6000 iterations is: 0.6929905417\n",
            "The 1 cost after 6100 iterations is: 0.6929813398\n",
            "The 1 cost after 6200 iterations is: 0.6929714068\n",
            "The 1 cost after 6300 iterations is: 0.6929606688\n",
            "The 1 cost after 6400 iterations is: 0.6929490430\n",
            "The 1 cost after 6500 iterations is: 0.6929364361\n",
            "The 1 cost after 6600 iterations is: 0.6929227427\n",
            "The 1 cost after 6700 iterations is: 0.6929078439\n",
            "The 1 cost after 6800 iterations is: 0.6928916045\n",
            "The 1 cost after 6900 iterations is: 0.6928738712\n",
            "The 1 cost after 7000 iterations is: 0.6928544692\n",
            "The 1 cost after 7100 iterations is: 0.6928331983\n",
            "The 1 cost after 7200 iterations is: 0.6928098296\n",
            "The 1 cost after 7300 iterations is: 0.6927840994\n",
            "The 1 cost after 7400 iterations is: 0.6927557039\n",
            "The 1 cost after 7500 iterations is: 0.6927242910\n",
            "The 1 cost after 7600 iterations is: 0.6926894522\n",
            "The 1 cost after 7700 iterations is: 0.6926507111\n",
            "The 1 cost after 7800 iterations is: 0.6926075101\n",
            "The 1 cost after 7900 iterations is: 0.6925591945\n",
            "The 1 cost after 8000 iterations is: 0.6925049914\n",
            "The 1 cost after 8100 iterations is: 0.6924439852\n",
            "The 1 cost after 8200 iterations is: 0.6923750856\n",
            "The 1 cost after 8300 iterations is: 0.6922969885\n",
            "The 1 cost after 8400 iterations is: 0.6922081254\n",
            "The 1 cost after 8500 iterations is: 0.6921066002\n",
            "The 1 cost after 8600 iterations is: 0.6919901071\n",
            "The 1 cost after 8700 iterations is: 0.6918558258\n",
            "The 1 cost after 8800 iterations is: 0.6917002842\n",
            "The 1 cost after 8900 iterations is: 0.6915191791\n",
            "The 1 cost after 9000 iterations is: 0.6913071395\n",
            "The 1 cost after 9100 iterations is: 0.6910574115\n",
            "The 1 cost after 9200 iterations is: 0.6907614339\n",
            "The 1 cost after 9300 iterations is: 0.6904082643\n",
            "The 1 cost after 9400 iterations is: 0.6899837925\n",
            "The 1 cost after 9500 iterations is: 0.6894696535\n",
            "The 1 cost after 9600 iterations is: 0.6888417097\n",
            "The 1 cost after 9700 iterations is: 0.6880679118\n",
            "The 1 cost after 9800 iterations is: 0.6871052519\n",
            "The 1 cost after 9900 iterations is: 0.6858953860\n",
            "The 1 cost after 10000 iterations is: 0.6843582923\n",
            "probs:  [[0.50605362 0.49894906 0.50109778 0.49676969 0.49653476 0.501716\n",
            "  0.49921952 0.48933112 0.49585825 0.49411023 0.49624443 0.50204889\n",
            "  0.5037055  0.50063666 0.50159817 0.50614194 0.50014709 0.49105605\n",
            "  0.49506367 0.50476067 0.49363095 0.5053141  0.50024739 0.5079695\n",
            "  0.49982482 0.50194504 0.50176518 0.50230847 0.49628454 0.49922219\n",
            "  0.49140739 0.49466659 0.48731775 0.50061674 0.49900718 0.50140561\n",
            "  0.49793237 0.48970561 0.4975631  0.49968328]]\n"
          ]
        },
        {
          "output_type": "execute_result",
          "data": {
            "text/plain": [
              "'The accuracy rate is: 55.00%.'"
            ],
            "application/vnd.google.colaboratory.intrinsic+json": {
              "type": "string"
            }
          },
          "metadata": {},
          "execution_count": 54
        },
        {
          "output_type": "display_data",
          "data": {
            "text/plain": [
              "<Figure size 720x432 with 1 Axes>"
            ],
            "image/png": "[encoded data removed]"
          },
          "metadata": {
            "needs_background": "light"
          }
        }
      ],
      "source": [
        "# NN with tanh activation fn\n",
        "parameters_tanh = L_layer_model(\n",
        "    X_train, y_train, layers_dims, learning_rate=0.2, num_iterations=10000, num_iterations1=2,\n",
        "    hidden_layers_activation_fn=\"sigmoid\")\n",
        "\n",
        "# Print the accuracy\n",
        "accuracy(X_test, parameters_tanh, y_test, activation_fn=\"sigmoid\")"
      ]
    },
    {
      "cell_type": "markdown",
      "source": [
        "# Oscar"
      ],
      "metadata": {
        "id": "KQoj6FjeeWpM"
      }
    },
    {
      "cell_type": "markdown",
      "metadata": {
        "id": "4Je61Lp8bKHS"
      },
      "source": [
        "leaky_relu"
      ]
    },
    {
      "cell_type": "code",
      "execution_count": null,
      "metadata": {
        "scrolled": true,
        "colab": {
          "base_uri": "https://localhost:8080/",
          "height": 380
        },
        "id": "vdP8dd9gbKHW",
        "outputId": "1ce2d1fe-05cc-435b-ccdb-df57c59d5c3c"
      },
      "outputs": [
        {
          "output_type": "error",
          "ename": "AssertionError",
          "evalue": "ignored",
          "traceback": [
            "\u001b[0;31m---------------------------------------------------------------------------\u001b[0m",
            "\u001b[0;31mAssertionError\u001b[0m                            Traceback (most recent call last)",
            "\u001b[0;32m<ipython-input-55-dd217fc96e71>\u001b[0m in \u001b[0;36m<module>\u001b[0;34m()\u001b[0m\n\u001b[1;32m      2\u001b[0m parameters_relu = L_layer_model(\n\u001b[1;32m      3\u001b[0m     \u001b[0mX_train\u001b[0m\u001b[0;34m,\u001b[0m \u001b[0my_train\u001b[0m\u001b[0;34m,\u001b[0m \u001b[0mlayers_dims\u001b[0m\u001b[0;34m,\u001b[0m \u001b[0mlearning_rate\u001b[0m\u001b[0;34m=\u001b[0m\u001b[0;36m0.2\u001b[0m\u001b[0;34m,\u001b[0m \u001b[0mnum_iterations\u001b[0m\u001b[0;34m=\u001b[0m\u001b[0;36m150000\u001b[0m\u001b[0;34m,\u001b[0m \u001b[0mnum_iterations1\u001b[0m\u001b[0;34m=\u001b[0m\u001b[0;36m2\u001b[0m\u001b[0;34m,\u001b[0m\u001b[0;34m\u001b[0m\u001b[0;34m\u001b[0m\u001b[0m\n\u001b[0;32m----> 4\u001b[0;31m     hidden_layers_activation_fn=\"leaky_relu\")\n\u001b[0m\u001b[1;32m      5\u001b[0m \u001b[0;34m\u001b[0m\u001b[0m\n\u001b[1;32m      6\u001b[0m \u001b[0;31m# Print the accuracy\u001b[0m\u001b[0;34m\u001b[0m\u001b[0;34m\u001b[0m\u001b[0;34m\u001b[0m\u001b[0m\n",
            "\u001b[0;32m<ipython-input-49-79986a9d4ea1>\u001b[0m in \u001b[0;36mL_layer_model\u001b[0;34m(X, y, layers_dims, learning_rate, num_iterations, num_iterations1, print_cost, hidden_layers_activation_fn)\u001b[0m\n\u001b[1;32m     45\u001b[0m         \u001b[0;32mfor\u001b[0m \u001b[0mi\u001b[0m \u001b[0;32min\u001b[0m \u001b[0mrange\u001b[0m\u001b[0;34m(\u001b[0m\u001b[0mnum_iterations\u001b[0m\u001b[0;34m)\u001b[0m\u001b[0;34m:\u001b[0m\u001b[0;34m\u001b[0m\u001b[0;34m\u001b[0m\u001b[0m\n\u001b[1;32m     46\u001b[0m             \u001b[0;31m# iterate over L-layers to get the final output and the cache\u001b[0m\u001b[0;34m\u001b[0m\u001b[0;34m\u001b[0m\u001b[0;34m\u001b[0m\u001b[0m\n\u001b[0;32m---> 47\u001b[0;31m             \u001b[0mAL\u001b[0m\u001b[0;34m,\u001b[0m \u001b[0mcaches\u001b[0m \u001b[0;34m=\u001b[0m \u001b[0mL_model_forward\u001b[0m\u001b[0;34m(\u001b[0m\u001b[0mX\u001b[0m\u001b[0;34m,\u001b[0m \u001b[0mparameters\u001b[0m\u001b[0;34m,\u001b[0m \u001b[0mhidden_layers_activation_fn\u001b[0m\u001b[0;34m)\u001b[0m\u001b[0;34m\u001b[0m\u001b[0;34m\u001b[0m\u001b[0m\n\u001b[0m\u001b[1;32m     48\u001b[0m             \u001b[0;31m# compute cost to plot it\u001b[0m\u001b[0;34m\u001b[0m\u001b[0;34m\u001b[0m\u001b[0;34m\u001b[0m\u001b[0m\n\u001b[1;32m     49\u001b[0m             \u001b[0mcost\u001b[0m \u001b[0;34m=\u001b[0m \u001b[0mcompute_cost\u001b[0m\u001b[0;34m(\u001b[0m\u001b[0mAL\u001b[0m\u001b[0;34m,\u001b[0m \u001b[0my\u001b[0m\u001b[0;34m)\u001b[0m\u001b[0;34m\u001b[0m\u001b[0;34m\u001b[0m\u001b[0m\n",
            "\u001b[0;32m<ipython-input-5-7d8b7e3b3b56>\u001b[0m in \u001b[0;36mL_model_forward\u001b[0;34m(X, parameters, hidden_layers_activation_fn)\u001b[0m\n\u001b[1;32m     98\u001b[0m         A, cache = linear_activation_forward(\n\u001b[1;32m     99\u001b[0m             \u001b[0mA_prev\u001b[0m\u001b[0;34m,\u001b[0m \u001b[0mparameters\u001b[0m\u001b[0;34m[\u001b[0m\u001b[0;34m\"W\"\u001b[0m \u001b[0;34m+\u001b[0m \u001b[0mstr\u001b[0m\u001b[0;34m(\u001b[0m\u001b[0ml\u001b[0m\u001b[0;34m)\u001b[0m\u001b[0;34m]\u001b[0m\u001b[0;34m,\u001b[0m \u001b[0mparameters\u001b[0m\u001b[0;34m[\u001b[0m\u001b[0;34m\"b\"\u001b[0m \u001b[0;34m+\u001b[0m \u001b[0mstr\u001b[0m\u001b[0;34m(\u001b[0m\u001b[0ml\u001b[0m\u001b[0;34m)\u001b[0m\u001b[0;34m]\u001b[0m\u001b[0;34m,\u001b[0m\u001b[0;34m\u001b[0m\u001b[0;34m\u001b[0m\u001b[0m\n\u001b[0;32m--> 100\u001b[0;31m             activation_fn=hidden_layers_activation_fn)\n\u001b[0m\u001b[1;32m    101\u001b[0m         \u001b[0mcaches\u001b[0m\u001b[0;34m.\u001b[0m\u001b[0mappend\u001b[0m\u001b[0;34m(\u001b[0m\u001b[0mcache\u001b[0m\u001b[0;34m)\u001b[0m\u001b[0;34m\u001b[0m\u001b[0;34m\u001b[0m\u001b[0m\n\u001b[1;32m    102\u001b[0m \u001b[0;34m\u001b[0m\u001b[0m\n",
            "\u001b[0;32m<ipython-input-5-7d8b7e3b3b56>\u001b[0m in \u001b[0;36mlinear_activation_forward\u001b[0;34m(A_prev, W, b, activation_fn)\u001b[0m\n\u001b[1;32m     48\u001b[0m         \u001b[0mstores\u001b[0m \u001b[0mlinear_cache\u001b[0m \u001b[0;32mand\u001b[0m \u001b[0mactivation_cache\u001b[0m\u001b[0;34m.\u001b[0m \u001b[0;34m(\u001b[0m\u001b[0;34m(\u001b[0m\u001b[0mA_prev\u001b[0m\u001b[0;34m,\u001b[0m \u001b[0mW\u001b[0m\u001b[0;34m,\u001b[0m \u001b[0mb\u001b[0m\u001b[0;34m)\u001b[0m\u001b[0;34m,\u001b[0m \u001b[0mZ\u001b[0m\u001b[0;34m)\u001b[0m \u001b[0mto\u001b[0m \u001b[0mbe\u001b[0m \u001b[0mused\u001b[0m \u001b[0;32min\u001b[0m \u001b[0mbackpropagation\u001b[0m\u001b[0;34m.\u001b[0m\u001b[0;34m\u001b[0m\u001b[0;34m\u001b[0m\u001b[0m\n\u001b[1;32m     49\u001b[0m     \"\"\"\n\u001b[0;32m---> 50\u001b[0;31m     \u001b[0;32massert\u001b[0m \u001b[0mactivation_fn\u001b[0m \u001b[0;34m==\u001b[0m \u001b[0;34m\"sigmoid\"\u001b[0m \u001b[0;32mor\u001b[0m \u001b[0mactivation_fn\u001b[0m \u001b[0;34m==\u001b[0m \u001b[0;34m\"tanh\"\u001b[0m \u001b[0;32mor\u001b[0m         \u001b[0mactivation_fn\u001b[0m \u001b[0;34m==\u001b[0m \u001b[0;34m\"relu\"\u001b[0m\u001b[0;34m\u001b[0m\u001b[0;34m\u001b[0m\u001b[0m\n\u001b[0m\u001b[1;32m     51\u001b[0m \u001b[0;34m\u001b[0m\u001b[0m\n\u001b[1;32m     52\u001b[0m     \u001b[0;32mif\u001b[0m \u001b[0mactivation_fn\u001b[0m \u001b[0;34m==\u001b[0m \u001b[0;34m\"sigmoid\"\u001b[0m\u001b[0;34m:\u001b[0m\u001b[0;34m\u001b[0m\u001b[0;34m\u001b[0m\u001b[0m\n",
            "\u001b[0;31mAssertionError\u001b[0m: "
          ]
        }
      ],
      "source": [
        "# NN with tanh activation fn\n",
        "parameters_relu = L_layer_model(\n",
        "    X_train, y_train, layers_dims, learning_rate=0.2, num_iterations=150000, num_iterations1=2,\n",
        "    hidden_layers_activation_fn=\"leaky_relu\")\n",
        "\n",
        "# Print the accuracy\n",
        "accuracy(X_test, parameters_tanh, y_test, activation_fn=\"leaky_relu\")"
      ]
    }
  ],
  "metadata": {
    "celltoolbar": "Edit Metadata",
    "kernelspec": {
      "display_name": "Python 3 (ipykernel)",
      "language": "python",
      "name": "python3"
    },
    "language_info": {
      "codemirror_mode": {
        "name": "ipython",
        "version": 3
      },
      "file_extension": ".py",
      "mimetype": "text/x-python",
      "name": "python",
      "nbconvert_exporter": "python",
      "pygments_lexer": "ipython3",
      "version": "3.9.7"
    },
    "colab": {
      "name": "NNetF-B-Propag80x10x10_95x100SinEstandarizarOOKKK.ipynb",
      "provenance": [],
      "toc_visible": true,
      "collapsed_sections": [
        "lYVDtTHDbKHB"
      ],
      "include_colab_link": true
    }
  },
  "nbformat": 4,
  "nbformat_minor": 0
}