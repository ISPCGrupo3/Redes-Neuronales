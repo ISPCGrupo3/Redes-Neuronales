{
  "cells": [
    {
      "cell_type": "markdown",
      "metadata": {
        "id": "view-in-github",
        "colab_type": "text"
      },
      "source": [
        "<a href=\"https://colab.research.google.com/github/ISPCGrupo3/Redes-Neuronales/blob/main/NNetF_B_Propag80x10x10_95x100SinEstandarizarOOKKK.ipynb\" target=\"_parent\"><img src=\"https://colab.research.google.com/assets/colab-badge.svg\" alt=\"Open In Colab\"/></a>"
      ]
    },
    {
      "cell_type": "markdown",
      "metadata": {
        "id": "VfheL5fybKD2"
      },
      "source": [
        "<h1 style=\"font-family: Georgia; font-size:3em;color:#2462C0; font-style:bold\">\n",
        "Coding Neural Network - Forward Propagation and Backpropagation\n",
        "</h1><br>"
      ]
    },
    {
      "cell_type": "markdown",
      "metadata": {
        "id": "F89z1kDlbKEV"
      },
      "source": [
        "https://machinelearningmastery.com/learning-rate-for-deep-learning-neural-networks/\n",
        "https://machinelearningmastery.com/how-to-configure-the-number-of-layers-and-nodes-in-a-neural-network/\n",
        "\n",
        "https://stats.stackexchange.com/questions/352036/what-should-i-do-when-my-neural-network-doesnt-learn\n",
        "\n",
        "https://datascience-enthusiast.com/DL/Improving_DeepNeural_Networks_Regularization.html\n",
        "\n",
        "http://neuralnetworksanddeeplearning.com/chap5.html\n",
        "\n",
        "https://wiki.pathmind.com/neural-network\n",
        "\n",
        "https://towardsdatascience.com/neural-network-architectures-156e5bad51ba"
      ]
    },
    {
      "cell_type": "code",
      "execution_count": 1,
      "metadata": {
        "code_folding": [
          0
        ],
        "id": "DxjoRZQMbKEb"
      },
      "outputs": [],
      "source": [
        "# Import packages\n",
        "import os as os\n",
        "\n",
        "import h5py\n",
        "import matplotlib.pyplot as plt\n",
        "import numpy as np\n",
        "import seaborn as sns\n",
        "\n",
        "%matplotlib inline\n",
        "sns.set_context(\"notebook\")\n",
        "plt.style.use(\"fivethirtyeight\")"
      ]
    },
    {
      "cell_type": "markdown",
      "metadata": {
        "id": "LmBK6yOkbKEh"
      },
      "source": [
        "<h3 style=\"font-family: Georgia; font-size:1.3em;color:purple; font-style:bold\">\n",
        "Parameters Initialization\n",
        "</h3><br>\n"
      ]
    },
    {
      "cell_type": "code",
      "execution_count": 2,
      "metadata": {
        "code_folding": [
          0
        ],
        "id": "isO-7cQbbKEl"
      },
      "outputs": [],
      "source": [
        "# Initialize parameters\n",
        "def initialize_parameters(layers_dims):\n",
        "    \"\"\"\n",
        "    Initialize parameters dictionary.\n",
        "    \n",
        "    Weight matrices will be initialized to random values from uniform normal\n",
        "    distribution.\n",
        "    bias vectors will be initialized to zeros.\n",
        "\n",
        "    Arguments\n",
        "    ---------\n",
        "    layers_dims : list or array-like\n",
        "        dimensions of each layer in the network.\n",
        "\n",
        "    Returns\n",
        "    -------\n",
        "    parameters : dict\n",
        "        weight matrix and the bias vector for each layer.\n",
        "    \"\"\"\n",
        "    np.random.seed(1)               \n",
        "    parameters = {}\n",
        "    L = len(layers_dims)            \n",
        "\n",
        "    for l in range(1, L):           \n",
        "        parameters[\"W\" + str(l)] = np.random.randn(\n",
        "            layers_dims[l], layers_dims[l - 1]) * 0.01\n",
        "        parameters[\"b\" + str(l)] = np.zeros((layers_dims[l], 1))\n",
        "\n",
        "        assert parameters[\"W\" + str(l)].shape == (\n",
        "            layers_dims[l], layers_dims[l - 1])\n",
        "        assert parameters[\"b\" + str(l)].shape == (layers_dims[l], 1)\n",
        "\n",
        "    return parameters"
      ]
    },
    {
      "cell_type": "markdown",
      "metadata": {
        "id": "gK-eMyyNbKEr"
      },
      "source": [
        "<h3 style=\"font-family: Georgia; font-size:1.3em;color:purple; font-style:bold\">\n",
        "Activation Functions\n",
        "</h3><br>"
      ]
    },
    {
      "cell_type": "code",
      "execution_count": 3,
      "metadata": {
        "code_folding": [
          0
        ],
        "id": "73MV_sFcbKEt"
      },
      "outputs": [],
      "source": [
        "# Define activation functions that will be used in forward propagation\n",
        "def sigmoid(Z):\n",
        "    \"\"\"\n",
        "    Computes the sigmoid of Z element-wise.\n",
        "\n",
        "    Arguments\n",
        "    ---------\n",
        "    Z : array\n",
        "        output of affine transformation.\n",
        "\n",
        "    Returns\n",
        "    -------\n",
        "    A : array\n",
        "        post activation output.\n",
        "    Z : array\n",
        "        output of affine transformation.\n",
        "    \"\"\"\n",
        "    A = 1 / (1 + np.exp(-Z))\n",
        "\n",
        "    return A, Z\n",
        "\n",
        "\n",
        "def tanh(Z):\n",
        "    \"\"\"\n",
        "    Computes the Hyperbolic Tagent of Z elemnet-wise.\n",
        "\n",
        "    Arguments\n",
        "    ---------\n",
        "    Z : array\n",
        "        output of affine transformation.\n",
        "\n",
        "    Returns\n",
        "    -------\n",
        "    A : array\n",
        "        post activation output.\n",
        "    Z : array\n",
        "        output of affine transformation.\n",
        "    \"\"\"\n",
        "    A = np.tanh(Z)\n",
        "\n",
        "    return A, Z\n",
        "\n",
        "\n",
        "def relu(Z):\n",
        "    \"\"\"\n",
        "    Computes the Rectified Linear Unit (ReLU) element-wise.\n",
        "\n",
        "    Arguments\n",
        "    ---------\n",
        "    Z : array\n",
        "        output of affine transformation.\n",
        "\n",
        "    Returns\n",
        "    -------\n",
        "    A : array\n",
        "        post activation output.\n",
        "    Z : array\n",
        "        output of affine transformation.\n",
        "    \"\"\"\n",
        "    A = np.maximum(0, Z)\n",
        "\n",
        "    return A, Z\n",
        "\n",
        "\n",
        "def leaky_relu(Z):\n",
        "    \"\"\"\n",
        "    Computes Leaky Rectified Linear Unit element-wise.\n",
        "\n",
        "    Arguments\n",
        "    ---------\n",
        "    Z : array\n",
        "        output of affine transformation.\n",
        "\n",
        "    Returns\n",
        "    -------\n",
        "    A : array\n",
        "        post activation output.\n",
        "    Z : array\n",
        "        output of affine transformation.\n",
        "    \"\"\"\n",
        "    A = np.maximum(0.1 * Z, Z)\n",
        "\n",
        "    return A, Z"
      ]
    },
    {
      "cell_type": "markdown",
      "metadata": {
        "id": "8gtg9vgNbKEy"
      },
      "source": [
        ""
      ]
    },
    {
      "cell_type": "code",
      "execution_count": 4,
      "metadata": {
        "code_folding": [
          0
        ],
        "colab": {
          "base_uri": "https://localhost:8080/",
          "height": 545
        },
        "id": "pUAgYbj5bKE2",
        "outputId": "aca3924b-8bb9-474e-fb0d-4e80b92e500c"
      },
      "outputs": [
        {
          "output_type": "display_data",
          "data": {
            "text/plain": [
              "<Figure size 864x576 with 4 Axes>"
            ],
            "image/png": "[encoded data removed]"
          },
          "metadata": {
            "needs_background": "light"
          }
        }
      ],
      "source": [
        "# Plot the 4 activation functions\n",
        "z = np.linspace(-10, 10, 100)\n",
        "\n",
        "# Computes post-activation outputs\n",
        "A_sigmoid, z = sigmoid(z)\n",
        "A_tanh, z = tanh(z)\n",
        "A_relu, z = relu(z)\n",
        "A_leaky_relu, z = leaky_relu(z)\n",
        "\n",
        "# Plot sigmoid\n",
        "plt.figure(figsize=(12, 8))\n",
        "plt.subplot(2, 2, 1)\n",
        "plt.plot(z, A_sigmoid, label = \"Function\")\n",
        "plt.plot(z, A_sigmoid * (1 - A_sigmoid), label = \"Derivative\")\n",
        "plt.legend(loc = \"upper left\")\n",
        "plt.xlabel(\"z\")\n",
        "plt.ylabel(r\"$\\frac{1}{1 + e^{-z}}$\")\n",
        "plt.title(\"Sigmoid Function\", fontsize = 16)\n",
        "# Plot tanh\n",
        "plt.subplot(2, 2, 2)\n",
        "plt.plot(z, A_tanh, 'b', label = \"Function\")\n",
        "plt.plot(z, 1 - np.square(A_tanh), 'r',label = \"Derivative\")\n",
        "plt.legend(loc = \"upper left\")\n",
        "plt.xlabel(\"z\")\n",
        "plt.ylabel(r\"$\\frac{e^z - e^{-z}}{e^z + e^{-z}}$\")\n",
        "plt.title(\"Hyperbolic Tangent Function\", fontsize = 16)\n",
        "# plot relu\n",
        "plt.subplot(2, 2, 3)\n",
        "plt.plot(z, A_relu, 'g')\n",
        "plt.xlabel(\"z\")\n",
        "plt.ylabel(r\"$max\\{0, z\\}$\")\n",
        "plt.title(\"ReLU Function\", fontsize = 16)\n",
        "# plot leaky relu\n",
        "plt.subplot(2, 2, 4)\n",
        "plt.plot(z, A_leaky_relu, 'y')\n",
        "plt.xlabel(\"z\")\n",
        "plt.ylabel(r\"$max\\{0.1z, z\\}$\")\n",
        "plt.title(\"Leaky ReLU Function\", fontsize = 16)\n",
        "plt.tight_layout();"
      ]
    },
    {
      "cell_type": "markdown",
      "metadata": {
        "id": "XNc1pDWtbKE-"
      },
      "source": [
        "<h3 style=\"font-family: Georgia; font-size:1.3em;color:purple; font-style:bold\">\n",
        "Feed Forward\n",
        "</h3><br>\n"
      ]
    },
    {
      "cell_type": "code",
      "execution_count": 5,
      "metadata": {
        "code_folding": [
          0
        ],
        "id": "U7MeMbKIbKFA"
      },
      "outputs": [],
      "source": [
        "# Define helper functions that will be used in L-model forward prop\n",
        "def linear_forward(A_prev, W, b):\n",
        "    \"\"\"\n",
        "    Computes affine transformation of the input.\n",
        "\n",
        "    Arguments\n",
        "    ---------\n",
        "    A_prev : 2d-array\n",
        "        activations output from previous layer.\n",
        "    W : 2d-array\n",
        "        weight matrix, shape: size of current layer x size of previuos layer.\n",
        "    b : 2d-array\n",
        "        bias vector, shape: size of current layer x 1.\n",
        "\n",
        "    Returns\n",
        "    -------\n",
        "    Z : 2d-array\n",
        "        affine transformation output.\n",
        "    cache : tuple\n",
        "        stores A_prev, W, b to be used in backpropagation.\n",
        "    \"\"\"\n",
        "    Z = np.dot(W, A_prev) + b\n",
        "    cache = (A_prev, W, b)\n",
        "\n",
        "    return Z, cache\n",
        "\n",
        "\n",
        "def linear_activation_forward(A_prev, W, b, activation_fn):\n",
        "    \"\"\"\n",
        "    Computes post-activation output using non-linear activation function.\n",
        "\n",
        "    Arguments\n",
        "    ---------\n",
        "    A_prev : 2d-array\n",
        "        activations output from previous layer.\n",
        "    W : 2d-array\n",
        "        weight matrix, shape: size of current layer x size of previuos layer.\n",
        "    b : 2d-array\n",
        "        bias vector, shape: size of current layer x 1.\n",
        "    activation_fn : str\n",
        "        non-linear activation function to be used: \"sigmoid\", \"tanh\", \"relu\".\n",
        "\n",
        "    Returns\n",
        "    -------\n",
        "    A : 2d-array\n",
        "        output of the activation function.\n",
        "    cache : tuple\n",
        "        stores linear_cache and activation_cache. ((A_prev, W, b), Z) to be used in backpropagation.\n",
        "    \"\"\"\n",
        "    assert activation_fn == \"sigmoid\" or activation_fn == \"tanh\" or \\\n",
        "        activation_fn == \"relu\"\n",
        "\n",
        "    if activation_fn == \"sigmoid\":\n",
        "        Z, linear_cache = linear_forward(A_prev, W, b)\n",
        "        A, activation_cache = sigmoid(Z)\n",
        "\n",
        "    elif activation_fn == \"tanh\":\n",
        "        Z, linear_cache = linear_forward(A_prev, W, b)\n",
        "        A, activation_cache = tanh(Z)\n",
        "\n",
        "    elif activation_fn == \"relu\":\n",
        "        Z, linear_cache = linear_forward(A_prev, W, b)\n",
        "        A, activation_cache = relu(Z)\n",
        "\n",
        "    assert A.shape == (W.shape[0], A_prev.shape[1])\n",
        "\n",
        "    cache = (linear_cache, activation_cache)\n",
        "\n",
        "    return A, cache\n",
        "\n",
        "\n",
        "def L_model_forward(X, parameters, hidden_layers_activation_fn=\"relu\"):\n",
        "    \"\"\"\n",
        "    Computes the output layer through looping over all units in topological\n",
        "    order.\n",
        "\n",
        "    Arguments\n",
        "    ---------\n",
        "    X : 2d-array\n",
        "        input matrix of shape input_size x training_examples.\n",
        "    parameters : dict\n",
        "        contains all the weight matrices and bias vectors for all layers.\n",
        "    hidden_layers_activation_fn : str\n",
        "        activation function to be used on hidden layers: \"tanh\", \"relu\".\n",
        "\n",
        "    Returns\n",
        "    -------\n",
        "    AL : 2d-array\n",
        "        probability vector of shape 1 x training_examples.\n",
        "    caches : list\n",
        "        that contains L tuples where each layer has: A_prev, W, b, Z.\n",
        "    \"\"\"\n",
        "    A = X                           \n",
        "    caches = []                     \n",
        "    L = len(parameters) // 2        \n",
        "\n",
        "    for l in range(1, L):\n",
        "        A_prev = A\n",
        "        A, cache = linear_activation_forward(\n",
        "            A_prev, parameters[\"W\" + str(l)], parameters[\"b\" + str(l)],\n",
        "            activation_fn=hidden_layers_activation_fn)\n",
        "        caches.append(cache)\n",
        "\n",
        "    AL, cache = linear_activation_forward(\n",
        "        A, parameters[\"W\" + str(L)], parameters[\"b\" + str(L)],\n",
        "        activation_fn=\"sigmoid\")\n",
        "    caches.append(cache)\n",
        "\n",
        "    assert AL.shape == (1, X.shape[1])\n",
        "\n",
        "    return AL, caches"
      ]
    },
    {
      "cell_type": "markdown",
      "metadata": {
        "id": "CQ8gD7f1bKFR"
      },
      "source": [
        "<h3 style=\"font-family: Georgia; font-size:1.3em;color:purple; font-style:bold\">\n",
        "Cost\n",
        "</h3><br>\n",
        "\n",
        "https://math.stackexchange.com/questions/886555/deriving-cost-function-using-mle-why-use-log-function\n"
      ]
    },
    {
      "cell_type": "code",
      "execution_count": 6,
      "metadata": {
        "code_folding": [
          0
        ],
        "id": "EdN0IimDbKFk"
      },
      "outputs": [],
      "source": [
        "# Compute cross-entropy cost\n",
        "def compute_cost(AL, y):\n",
        "    \"\"\"\n",
        "    Computes the binary Cross-Entropy cost.\n",
        "\n",
        "    Arguments\n",
        "    ---------\n",
        "    AL : 2d-array\n",
        "        probability vector of shape 1 x training_examples.\n",
        "    y : 2d-array\n",
        "        true \"label\" vector.\n",
        "\n",
        "    Returns\n",
        "    -------\n",
        "    cost : float\n",
        "        binary cross-entropy cost.\n",
        "    \"\"\"\n",
        "    m = y.shape[1]              \n",
        "    cost = - (1 / m) * np.sum(\n",
        "        np.multiply(y, np.log(AL)) + np.multiply(1 - y, np.log(1 - AL)))\n",
        "\n",
        "    return cost"
      ]
    },
    {
      "cell_type": "markdown",
      "metadata": {
        "id": "xTNTm_5kbKFr"
      },
      "source": [
        "<h2 style=\"font-family: Georgia; font-size:1.5em;color:purple; font-style:bold\">\n",
        "Back-Propagation\n",
        "</h2>"
      ]
    },
    {
      "cell_type": "code",
      "execution_count": 7,
      "metadata": {
        "code_folding": [
          0
        ],
        "id": "2W_3L_SXbKFt"
      },
      "outputs": [],
      "source": [
        "# Define derivative of activation functions w.r.t z that will be used in back-propagation\n",
        "def sigmoid_gradient(dA, Z):\n",
        "    \"\"\"\n",
        "    Computes the gradient of sigmoid output w.r.t input Z.\n",
        "\n",
        "    Arguments\n",
        "    ---------\n",
        "    dA : 2d-array\n",
        "        post-activation gradient, of any shape.\n",
        "    Z : 2d-array\n",
        "        input used for the activation fn on this layer.\n",
        "\n",
        "    Returns\n",
        "    -------\n",
        "    dZ : 2d-array\n",
        "        gradient of the cost with respect to Z.\n",
        "    \"\"\"\n",
        "    A, Z = sigmoid(Z)\n",
        "    dZ = dA * A * (1 - A)\n",
        "\n",
        "    return dZ\n",
        "\n",
        "\n",
        "def tanh_gradient(dA, Z):\n",
        "    \"\"\"\n",
        "    Computes the gradient of hyperbolic tangent output w.r.t input Z.\n",
        "\n",
        "    Arguments\n",
        "    ---------\n",
        "    dA : 2d-array\n",
        "        post-activation gradient, of any shape.\n",
        "    Z : 2d-array\n",
        "        input used for the activation fn on this layer.\n",
        "\n",
        "    Returns\n",
        "    -------\n",
        "    dZ : 2d-array\n",
        "        gradient of the cost with respect to Z.\n",
        "    \"\"\"\n",
        "    A, Z = tanh(Z)\n",
        "    dZ = dA * (1 - np.square(A))\n",
        "\n",
        "    return dZ\n",
        "\n",
        "\n",
        "def relu_gradient(dA, Z):\n",
        "    \"\"\"\n",
        "    Computes the gradient of ReLU output w.r.t input Z.\n",
        "\n",
        "    Arguments\n",
        "    ---------\n",
        "    dA : 2d-array\n",
        "        post-activation gradient, of any shape.\n",
        "    Z : 2d-array\n",
        "        input used for the activation fn on this layer.\n",
        "\n",
        "    Returns\n",
        "    -------\n",
        "    dZ : 2d-array\n",
        "        gradient of the cost with respect to Z.\n",
        "    \"\"\"\n",
        "    A, Z = relu(Z)\n",
        "    dZ = np.multiply(dA, np.int64(A > 0))\n",
        "\n",
        "    return dZ\n",
        "\n",
        "\n",
        "# define helper functions that will be used in L-model back-prop\n",
        "def linear_backword(dZ, cache):\n",
        "    \"\"\"\n",
        "    Computes the gradient of the output w.r.t weight, bias, and post-activation\n",
        "    output of (l - 1) layers at layer l.\n",
        "\n",
        "    Arguments\n",
        "    ---------\n",
        "    dZ : 2d-array\n",
        "        gradient of the cost w.r.t. the linear output (of current layer l).\n",
        "    cache : tuple\n",
        "        values of (A_prev, W, b) coming from the forward propagation in the current layer.\n",
        "\n",
        "    Returns\n",
        "    -------\n",
        "    dA_prev : 2d-array\n",
        "        gradient of the cost w.r.t. the activation (of the previous layer l-1).\n",
        "    dW : 2d-array\n",
        "        gradient of the cost w.r.t. W (current layer l).\n",
        "    db : 2d-array\n",
        "        gradient of the cost w.r.t. b (current layer l).\n",
        "    \"\"\"\n",
        "    A_prev, W, b = cache\n",
        "    m = A_prev.shape[1]\n",
        "\n",
        "    dW = (1 / m) * np.dot(dZ, A_prev.T)\n",
        "    db = (1 / m) * np.sum(dZ, axis=1, keepdims=True)\n",
        "    dA_prev = np.dot(W.T, dZ)\n",
        "\n",
        "    assert dA_prev.shape == A_prev.shape\n",
        "    assert dW.shape == W.shape\n",
        "    assert db.shape == b.shape\n",
        "\n",
        "    return dA_prev, dW, db\n",
        "\n",
        "\n",
        "def linear_activation_backward(dA, cache, activation_fn):\n",
        "    \"\"\"\n",
        "    Arguments\n",
        "    ---------\n",
        "    dA : 2d-array\n",
        "        post-activation gradient for current layer l.\n",
        "    cache : tuple\n",
        "        values of (linear_cache, activation_cache).\n",
        "    activation : str\n",
        "        activation used in this layer: \"sigmoid\", \"tanh\", or \"relu\".\n",
        "\n",
        "    Returns\n",
        "    -------\n",
        "    dA_prev : 2d-array\n",
        "        gradient of the cost w.r.t. the activation (of the previous layer l-1), same shape as A_prev.\n",
        "    dW : 2d-array\n",
        "        gradient of the cost w.r.t. W (current layer l), same shape as W.\n",
        "    db : 2d-array\n",
        "        gradient of the cost w.r.t. b (current layer l), same shape as b.\n",
        "    \"\"\"\n",
        "    linear_cache, activation_cache = cache\n",
        "\n",
        "    if activation_fn == \"sigmoid\":\n",
        "        dZ = sigmoid_gradient(dA, activation_cache)\n",
        "        dA_prev, dW, db = linear_backword(dZ, linear_cache)\n",
        "\n",
        "    elif activation_fn == \"tanh\":\n",
        "        dZ = tanh_gradient(dA, activation_cache)\n",
        "        dA_prev, dW, db = linear_backword(dZ, linear_cache)\n",
        "\n",
        "    elif activation_fn == \"relu\":\n",
        "        dZ = relu_gradient(dA, activation_cache)\n",
        "        dA_prev, dW, db = linear_backword(dZ, linear_cache)\n",
        "\n",
        "    return dA_prev, dW, db\n",
        "\n",
        "\n",
        "def L_model_backward(AL, y, caches, hidden_layers_activation_fn=\"relu\"):\n",
        "    \"\"\"\n",
        "    Computes the gradient of output layer w.r.t weights, biases, etc. starting\n",
        "    on the output layer in reverse topological order.\n",
        "\n",
        "    Arguments\n",
        "    ---------\n",
        "    AL : 2d-array\n",
        "        probability vector, output of the forward propagation (L_model_forward()).\n",
        "    y : 2d-array\n",
        "        true \"label\" vector (containing 0 if non-cat, 1 if cat).\n",
        "    caches : list\n",
        "        list of caches for all layers.\n",
        "    hidden_layers_activation_fn :\n",
        "        activation function used on hidden layers: \"tanh\", \"relu\".\n",
        "\n",
        "    Returns\n",
        "    -------\n",
        "    grads : dict\n",
        "        with the gradients.\n",
        "    \"\"\"\n",
        "    y = y.reshape(AL.shape)\n",
        "    L = len(caches)\n",
        "    grads = {}\n",
        "\n",
        "    dAL = np.divide(AL - y, np.multiply(AL, 1 - AL))\n",
        "\n",
        "    grads[\"dA\" + str(L - 1)], grads[\"dW\" + str(L)], grads[\n",
        "        \"db\" + str(L)] = linear_activation_backward(\n",
        "            dAL, caches[L - 1], \"sigmoid\")\n",
        "\n",
        "    for l in range(L - 1, 0, -1):\n",
        "        current_cache = caches[l - 1]\n",
        "        grads[\"dA\" + str(l - 1)], grads[\"dW\" + str(l)], grads[\n",
        "            \"db\" + str(l)] = linear_activation_backward(\n",
        "                grads[\"dA\" + str(l)], current_cache,\n",
        "                hidden_layers_activation_fn)\n",
        "\n",
        "    return grads\n",
        "\n",
        "\n",
        "# define the function to update both weight matrices and bias vectors\n",
        "def update_parameters(parameters, grads, learning_rate):\n",
        "    \"\"\"\n",
        "    Update the parameters' values using gradient descent rule.\n",
        "\n",
        "    Arguments\n",
        "    ---------\n",
        "    parameters : dict\n",
        "        contains all the weight matrices and bias vectors for all layers.\n",
        "    grads : dict\n",
        "        stores all gradients (output of L_model_backward).\n",
        "\n",
        "    Returns\n",
        "    -------\n",
        "    parameters : dict\n",
        "        updated parameters.\n",
        "    \"\"\"\n",
        "    L = len(parameters) // 2\n",
        "\n",
        "    for l in range(1, L + 1):\n",
        "        parameters[\"W\" + str(l)] = parameters[\"W\" + str(l)] - learning_rate * grads[\"dW\" + str(l)]\n",
        "        parameters[\"b\" + str(l)] = parameters[\"b\" + str(l)] - learning_rate * grads[\"db\" + str(l)]\n",
        "\n",
        "    return parameters"
      ]
    },
    {
      "cell_type": "markdown",
      "metadata": {
        "id": "uOACYtMJbKF2"
      },
      "source": [
        "<a id=\"Application\"></a>"
      ]
    },
    {
      "cell_type": "markdown",
      "metadata": {
        "id": "nhvgxAeUbKF-"
      },
      "source": [
        "<h2 style=\"font-family: Georgia; font-size:2em;color:purple; font-style:bold\">\n",
        "II. Application\n",
        "</h2>"
      ]
    },
    {
      "cell_type": "markdown",
      "metadata": {
        "id": "kYk3I0aVbKGA"
      },
      "source": [
        "The dataset that we'll be working on has 209 images. Each image is 64 x 64 pixels on RGB scale. We'll build a neural network to classify if the image has a cat or not. Therefore, $y^i \\in \\{0, 1\\}.$\n",
        "- We'll first load the images.\n",
        "- Show sample image for a cat.\n",
        "- Reshape input matrix so that each column would be one example. Also, since each image is 64 x 64 x 3, we'll end up having 12,288 features for each image. Therefore, the input matrix would be 12,288 x 209.\n",
        "- Standardize the data so that the gradients don't go out of control. Also, it will help hidden units have similar range of values. For now, we'll divide every pixel by 255 which shouldn't be an issue. However, it's better to standardize the data to have a mean of 0 and a standard deviation of 1."
      ]
    },
    {
      "cell_type": "code",
      "execution_count": null,
      "metadata": {
        "id": "YPcXaa3ObKGC"
      },
      "outputs": [],
      "source": [
        ""
      ]
    },
    {
      "cell_type": "code",
      "execution_count": 8,
      "metadata": {
        "scrolled": false,
        "id": "dSVFvuXxbKGD"
      },
      "outputs": [],
      "source": [
        "X_train=np.random.randn(10,10)*1 + 1\n",
        "l = [X_train]\n",
        "for i in range(0,9):\n",
        "    #print(i)\n",
        "    X = np.random.randn(10,10)*1 + 1\n",
        "    l.append(X)"
      ]
    },
    {
      "cell_type": "code",
      "execution_count": 9,
      "metadata": {
        "id": "ng6V4K-abKGG"
      },
      "outputs": [],
      "source": [
        "X_train=np.random.randn(10,10)*1 + 1\n",
        "l.append(X_train)\n",
        "for i in range(0,9):\n",
        "    #print(i)\n",
        "    X = np.random.randn(10,10)*1 + 1\n",
        "    l.append(X)"
      ]
    },
    {
      "cell_type": "code",
      "execution_count": 10,
      "metadata": {
        "id": "RKwPr-xvbKGP"
      },
      "outputs": [],
      "source": [
        "X_train=np.random.randn(10,10)*1 + 1\n",
        "l.append(X_train)\n",
        "for i in range(0,9):\n",
        "    #print(i)\n",
        "    X = np.random.randn(10,10)*1 + 1\n",
        "    l.append(X)"
      ]
    },
    {
      "cell_type": "code",
      "execution_count": 11,
      "metadata": {
        "id": "U4DYgzYybKGR"
      },
      "outputs": [],
      "source": [
        "X_train=np.random.randn(10,10)*1 + 1\n",
        "l.append(X_train)\n",
        "for i in range(0,9):\n",
        "    #print(i)\n",
        "    X = np.random.randn(10,10)*1 + 1\n",
        "    l.append(X)"
      ]
    },
    {
      "cell_type": "code",
      "execution_count": 11,
      "metadata": {
        "id": "bfroh01ybKGT"
      },
      "outputs": [],
      "source": [
        ""
      ]
    },
    {
      "cell_type": "code",
      "execution_count": 12,
      "metadata": {
        "id": "8AcTnQ7vbKGU"
      },
      "outputs": [],
      "source": [
        "X_train=np.random.randn(10,10)*1 + 20\n",
        "l.append(X_train)\n",
        "for i in range(0,9):\n",
        "    #print(i)\n",
        "    X = np.random.randn(10,10)*1 + 20\n",
        "    l.append(X)"
      ]
    },
    {
      "cell_type": "code",
      "execution_count": 13,
      "metadata": {
        "id": "XB72aTeTbKGU"
      },
      "outputs": [],
      "source": [
        "X_train=np.random.randn(10,10)*1 + 20\n",
        "l.append(X_train)\n",
        "for i in range(0,9):\n",
        "    #print(i)\n",
        "    X = np.random.randn(10,10)*1 + 20\n",
        "    l.append(X)"
      ]
    },
    {
      "cell_type": "code",
      "execution_count": 14,
      "metadata": {
        "id": "fmGZQjgkbKGV"
      },
      "outputs": [],
      "source": [
        "X_train=np.random.randn(10,10)*1 + 20\n",
        "l.append(X_train)\n",
        "for i in range(0,9):\n",
        "    #print(i)\n",
        "    X = np.random.randn(10,10)*1 + 20\n",
        "    l.append(X)"
      ]
    },
    {
      "cell_type": "code",
      "execution_count": 15,
      "metadata": {
        "id": "wVOsieYwbKGW"
      },
      "outputs": [],
      "source": [
        "X_train=np.random.randn(10,10)*1 + 20\n",
        "l.append(X_train)\n",
        "for i in range(0,9):\n",
        "    #print(i)\n",
        "    X = np.random.randn(10,10)*1 + 20\n",
        "    l.append(X)"
      ]
    },
    {
      "cell_type": "code",
      "execution_count": 16,
      "metadata": {
        "colab": {
          "base_uri": "https://localhost:8080/"
        },
        "id": "dpKGC3yhbKGa",
        "outputId": "314397ad-5703-4e2a-a73e-6215fdc6c9f5"
      },
      "outputs": [
        {
          "output_type": "execute_result",
          "data": {
            "text/plain": [
              "(80, 10, 10)"
            ]
          },
          "metadata": {},
          "execution_count": 16
        }
      ],
      "source": [
        "l = np.array(l)\n",
        "l.shape"
      ]
    },
    {
      "cell_type": "code",
      "execution_count": 17,
      "metadata": {
        "scrolled": true,
        "id": "wYsqchwybKGc"
      },
      "outputs": [],
      "source": [
        "X_train= l\n",
        "#X_train"
      ]
    },
    {
      "cell_type": "code",
      "execution_count": 18,
      "metadata": {
        "colab": {
          "base_uri": "https://localhost:8080/"
        },
        "id": "4u1sPgO0bKGc",
        "outputId": "cdd3bd3a-3461-4649-a607-81c4b79079bc"
      },
      "outputs": [
        {
          "output_type": "execute_result",
          "data": {
            "text/plain": [
              "array([[[20.14657748, 20.86276507, 21.24065633, 18.75374842,\n",
              "         20.27565073, 20.46715891, 20.58586747, 21.27796588,\n",
              "         19.17425131, 21.0331659 ],\n",
              "        [18.00202893, 20.61024468, 22.09633678, 19.70655466,\n",
              "         20.64116214, 18.93711787, 19.12596221, 20.40714912,\n",
              "         20.4869774 , 19.64921283],\n",
              "        [19.32497083, 19.63162035, 20.11693929, 19.82944959,\n",
              "         21.62286124, 19.61760353, 18.95360687, 21.34201887,\n",
              "         21.74601826, 20.65494547],\n",
              "        [20.60727798, 19.43425636, 20.00950868, 20.1001093 ,\n",
              "         19.83529543, 18.21064059, 21.12640756, 21.05016278,\n",
              "         19.49154985, 21.9470738 ],\n",
              "        [20.41119561, 20.74390834, 18.83712465, 19.66365193,\n",
              "         21.03528162, 19.208969  , 18.92452691, 18.95577171,\n",
              "         19.67085731, 20.45371606],\n",
              "        [17.60610711, 20.41837858, 20.0417553 , 20.68481873,\n",
              "         19.58525043, 18.59534581, 19.00074477, 19.63806906,\n",
              "         21.84364985, 19.75448048],\n",
              "        [20.00554033, 20.60380142, 19.62180974, 20.62361462,\n",
              "         20.45198822, 21.23237637, 19.88813526, 18.88835867,\n",
              "         19.10084502, 19.56539574],\n",
              "        [20.34943063, 20.25662096, 21.4343225 , 20.4556268 ,\n",
              "         20.13689617, 19.81670754, 20.62570131, 18.84663746,\n",
              "         22.61282586, 19.98634448],\n",
              "        [18.89184054, 18.78628401, 20.99378507, 20.47871969,\n",
              "         20.26584041, 19.6279967 , 17.84594919, 21.02440004,\n",
              "         21.1766346 , 21.3455981 ],\n",
              "        [21.66960976, 20.63573713, 21.28995958, 18.63418627,\n",
              "         20.46688536, 21.65128025, 20.49222254, 20.82105597,\n",
              "         21.59830827, 20.0526081 ]]])"
            ]
          },
          "metadata": {},
          "execution_count": 18
        }
      ],
      "source": [
        "X_train[44:45]"
      ]
    },
    {
      "cell_type": "code",
      "execution_count": null,
      "metadata": {
        "id": "nOkL0ZMXbKGd"
      },
      "outputs": [],
      "source": [
        ""
      ]
    },
    {
      "cell_type": "code",
      "execution_count": 19,
      "metadata": {
        "id": "PogTBn7fbKGe"
      },
      "outputs": [],
      "source": [
        "X_test=np.random.randn(10,10)*1 + 1\n",
        "l = [X_test]\n",
        "for i in range(0,9):\n",
        "    #print(i)\n",
        "    X = np.random.randn(10,10)*1 + 1\n",
        "    l.append(X)"
      ]
    },
    {
      "cell_type": "code",
      "execution_count": 20,
      "metadata": {
        "id": "nwpWnL4mbKGf"
      },
      "outputs": [],
      "source": [
        "X_test=np.random.randn(10,10)*1 + 1\n",
        "l.append(X_test)\n",
        "for i in range(0,9):\n",
        "    #print(i)\n",
        "    X = np.random.randn(10,10)*1 + 1\n",
        "    l.append(X)"
      ]
    },
    {
      "cell_type": "code",
      "execution_count": null,
      "metadata": {
        "id": "EZLjLvmnbKGg"
      },
      "outputs": [],
      "source": [
        ""
      ]
    },
    {
      "cell_type": "code",
      "execution_count": 21,
      "metadata": {
        "id": "pE0mok6mbKGh"
      },
      "outputs": [],
      "source": [
        "X_test=np.random.randn(10,10)*1 + 20\n",
        "l.append(X_test)\n",
        "for i in range(0,9):\n",
        "    #print(i)\n",
        "    X = np.random.randn(10,10)*1 + 20\n",
        "    l.append(X)"
      ]
    },
    {
      "cell_type": "code",
      "execution_count": 22,
      "metadata": {
        "id": "qlo7pgU4bKGj"
      },
      "outputs": [],
      "source": [
        "X_test=np.random.randn(10,10)*1 + 20\n",
        "l.append(X_test)\n",
        "for i in range(0,10-1):\n",
        "    #print(i)\n",
        "    X = np.random.randn(10,10)*1 + 20\n",
        "    l.append(X)"
      ]
    },
    {
      "cell_type": "code",
      "execution_count": null,
      "metadata": {
        "id": "JXn4dXvIbKGk"
      },
      "outputs": [],
      "source": [
        ""
      ]
    },
    {
      "cell_type": "code",
      "execution_count": 23,
      "metadata": {
        "colab": {
          "base_uri": "https://localhost:8080/"
        },
        "id": "Ff98Bf7obKGk",
        "outputId": "1f08b7d9-11db-41d1-df56-dcc75cf4f0dc"
      },
      "outputs": [
        {
          "output_type": "execute_result",
          "data": {
            "text/plain": [
              "(40, 10, 10)"
            ]
          },
          "metadata": {},
          "execution_count": 23
        }
      ],
      "source": [
        "l = np.array(l)\n",
        "l.shape"
      ]
    },
    {
      "cell_type": "code",
      "execution_count": 24,
      "metadata": {
        "colab": {
          "base_uri": "https://localhost:8080/"
        },
        "id": "fRZ-eswwbKGl",
        "outputId": "779d87a1-672c-4948-fff3-d2cd05ca57d6"
      },
      "outputs": [
        {
          "output_type": "execute_result",
          "data": {
            "text/plain": [
              "(40, 10, 10)"
            ]
          },
          "metadata": {},
          "execution_count": 24
        }
      ],
      "source": [
        "X_test=l\n",
        "X_test.shape\n"
      ]
    },
    {
      "cell_type": "code",
      "execution_count": null,
      "metadata": {
        "id": "FVEVtqNSbKGn"
      },
      "outputs": [],
      "source": [
        ""
      ]
    },
    {
      "cell_type": "code",
      "execution_count": 25,
      "metadata": {
        "colab": {
          "base_uri": "https://localhost:8080/"
        },
        "id": "zSr38EIkbKGo",
        "outputId": "7e7a79fe-8da6-4216-ddbd-a33eec7d9b64"
      },
      "outputs": [
        {
          "output_type": "execute_result",
          "data": {
            "text/plain": [
              "(80, 1)"
            ]
          },
          "metadata": {},
          "execution_count": 25
        }
      ],
      "source": [
        "y_train = np.array([[1],[1],[1],[1],[1],[1],[1],[1],[1],[1],                    \n",
        "                    [1],[1],[1],[1],[1],[1],[1],[1],[1],[1],                    \n",
        "                    [1],[1],[1],[1],[1],[1],[1],[1],[1],[1],                    \n",
        "                    [1],[1],[1],[1],[1],[1],[1],[1],[1],[1],                    \n",
        "                    [0],[0],[0],[0],[0],[0],[0],[0],[0],[0],\n",
        "                    [0],[0],[0],[0],[0],[0],[0],[0],[0],[0],\n",
        "                    [0],[0],[0],[0],[0],[0],[0],[0],[0],[0],\n",
        "                    [0],[0],[0],[0],[0],[0],[0],[0],[0],[0]])\n",
        "\n",
        "y_train.shape         "
      ]
    },
    {
      "cell_type": "code",
      "execution_count": 26,
      "metadata": {
        "colab": {
          "base_uri": "https://localhost:8080/"
        },
        "id": "6SNDjun8bKGv",
        "outputId": "88be1103-b2fa-42dd-92e5-26fc655a98b6"
      },
      "outputs": [
        {
          "output_type": "execute_result",
          "data": {
            "text/plain": [
              "(40, 1)"
            ]
          },
          "metadata": {},
          "execution_count": 26
        }
      ],
      "source": [
        "y_test = np.array([[1],[1],[1],[1],[1],[1],[1],[1],[1],[1],\n",
        "                   [1],[1],[1],[1],[1],[1],[1],[1],[1],[1],\n",
        "                   [0],[0],[0],[0],[0],[0],[0],[0],[0],[0],\n",
        "                   [0],[0],[0],[0],[0],[0],[0],[0],[0],[0]])                   \n",
        "\n",
        "y_test.shape     "
      ]
    },
    {
      "cell_type": "code",
      "execution_count": 27,
      "metadata": {
        "code_folding": [
          0
        ],
        "colab": {
          "base_uri": "https://localhost:8080/"
        },
        "id": "WasUVTWYbKGw",
        "outputId": "6f5a781f-ceee-4993-a148-0f9a3ff33ff3"
      },
      "outputs": [
        {
          "output_type": "stream",
          "name": "stdout",
          "text": [
            "Original dimensions:\n",
            "--------------------\n",
            "Training: (80, 10, 10), (80, 1)\n",
            "Test: (40, 10, 10), (40, 1)\n",
            "\n",
            "New dimensions:\n",
            "---------------\n",
            "Training: (100, 80), (1, 80)\n",
            "Test: (100, 40), (1, 40)\n"
          ]
        }
      ],
      "source": [
        "# Import training dataset\n",
        "#train_dataset = h5py.File(\"../data/train_catvnoncat.h5\")\n",
        "#X_train = np.array(train_dataset[\"train_set_x\"])\n",
        "#y_train = np.array(train_dataset[\"train_set_y\"])\n",
        "\n",
        "#test_dataset = h5py.File(\"../data/test_catvnoncat.h5\")\n",
        "#X_test = np.array(test_dataset[\"test_set_x\"])\n",
        "#y_test = np.array(test_dataset[\"test_set_y\"])\n",
        "\n",
        "# print the shape of input data and label vector\n",
        "print(f\"\"\"Original dimensions:\\n{20 * '-'}\\nTraining: {X_train.shape}, {y_train.shape}\n",
        "Test: {X_test.shape}, {y_test.shape}\"\"\")\n",
        "\n",
        "# plot cat image\n",
        "#plt.figure(figsize=(6, 6))\n",
        "#plt.imshow(X_train[50])\n",
        "#plt.axis(\"off\");\n",
        "\n",
        "\n",
        "# Transform input data and label vector\n",
        "X_train = X_train.reshape(80, -1).T\n",
        "y_train = y_train.reshape(-1, 80)\n",
        "\n",
        "X_test = X_test.reshape(40, -1).T\n",
        "y_test = y_test.reshape(-1, 40)\n",
        "\n",
        "# standarize the data\n",
        "#X_train = X_train / 255\n",
        "#X_test = X_test / 255\n",
        "\n",
        "print(f\"\"\"\\nNew dimensions:\\n{15 * '-'}\\nTraining: {X_train.shape}, {y_train.shape}\n",
        "Test: {X_test.shape}, {y_test.shape}\"\"\")"
      ]
    },
    {
      "cell_type": "code",
      "execution_count": 28,
      "metadata": {
        "id": "PX0ixulNbKGy"
      },
      "outputs": [],
      "source": [
        "#X = np.array(df['deceduti']).reshape(-1,1)\n",
        "#scaler = StandardScaler()\n",
        "#scaler.fit(X)\n",
        "#X_scaled = scaler.transform(X)\n",
        "\n",
        "from sklearn.preprocessing import StandardScaler\n",
        "\n",
        "scaler1 = StandardScaler()\n",
        "scaler1.fit(X_train)\n",
        "X_scaled = scaler1.transform(X_train)\n",
        "X_train=X_scaled"
      ]
    },
    {
      "cell_type": "code",
      "execution_count": 29,
      "metadata": {
        "id": "HK7qg24TbKGz"
      },
      "outputs": [],
      "source": [
        "#X = np.array(df['deceduti']).reshape(-1,1)\n",
        "#scaler = StandardScaler()\n",
        "#scaler.fit(X)\n",
        "#X_scaled = scaler.transform(X)\n",
        "\n",
        "from sklearn.preprocessing import StandardScaler\n",
        "\n",
        "scaler2 = StandardScaler()\n",
        "scaler2.fit(X_test)\n",
        "X_scaled2 = scaler2.transform(X_test)\n",
        "X_test=X_scaled2"
      ]
    },
    {
      "cell_type": "markdown",
      "metadata": {
        "id": "VSkkCPzObKG0"
      },
      "source": [
        "Now, our dataset is ready to be used and test our neural network implementation. Let's first write **multi-layer model** function to implement gradient-based learning using predefined number of iterations and learning rate."
      ]
    },
    {
      "cell_type": "code",
      "execution_count": 30,
      "metadata": {
        "code_folding": [
          0
        ],
        "id": "on9jX7i2bKG1"
      },
      "outputs": [],
      "source": [
        "# Define the multi-layer model using all the helper functions we wrote before\n",
        "\n",
        "\n",
        "def L_layer_model(\n",
        "        X, y, layers_dims, learning_rate=0.01, num_iterations=3000, num_iterations1=20,\n",
        "        print_cost=True, hidden_layers_activation_fn=\"relu\"):\n",
        "    \"\"\"\n",
        "    Implements multilayer neural network using gradient descent as the\n",
        "    learning algorithm.\n",
        "\n",
        "    Arguments\n",
        "    ---------\n",
        "    X : 2d-array\n",
        "        data, shape: number of examples x num_px * num_px * 3.\n",
        "    y : 2d-array\n",
        "        true \"label\" vector, shape: 1 x number of examples.\n",
        "    layers_dims : list\n",
        "        input size and size of each layer, length: number of layers + 1.\n",
        "    learning_rate : float\n",
        "        learning rate of the gradient descent update rule.\n",
        "    num_iterations : int\n",
        "        number of iterations of the optimization loop.\n",
        "    print_cost : bool\n",
        "        if True, it prints the cost every 100 steps.\n",
        "    hidden_layers_activation_fn : str\n",
        "        activation function to be used on hidden layers: \"tanh\", \"relu\".\n",
        "\n",
        "    Returns\n",
        "    -------\n",
        "    parameters : dict\n",
        "        parameters learnt by the model. They can then be used to predict test examples.\n",
        "    \"\"\"\n",
        "    np.random.seed(1)\n",
        "\n",
        "    # initialize parameters\n",
        "    parameters = initialize_parameters(layers_dims)\n",
        "\n",
        "    # intialize cost list\n",
        "    cost_list = []\n",
        "\n",
        "    # iterate over num_iterations\n",
        "    for j in range(num_iterations1):\n",
        "        learning_rate=learning_rate/2.5\n",
        "        # iterate over num_iterations\n",
        "        for i in range(num_iterations):\n",
        "            # iterate over L-layers to get the final output and the cache\n",
        "            AL, caches = L_model_forward(X, parameters, hidden_layers_activation_fn)\n",
        "            # compute cost to plot it\n",
        "            cost = compute_cost(AL, y)\n",
        "            # iterate over L-layers backward to get gradients\n",
        "            grads = L_model_backward(AL, y, caches, hidden_layers_activation_fn)\n",
        "            # update parameters\n",
        "            parameters = update_parameters(parameters, grads, learning_rate)\n",
        "            # append each 100th cost to the cost list\n",
        "            if (i + 1) % 100 == 0 and print_cost:\n",
        "                print(f\"The {j} cost after {i + 1} iterations is: {cost:.10f}\")\n",
        "            if i % 100 == 0:\n",
        "                cost_list.append(cost)\n",
        "\n",
        "    # plot the cost curve\n",
        "    plt.figure(figsize=(10, 6))\n",
        "    plt.plot(cost_list)\n",
        "    plt.xlabel(\"Iterations (per hundreds)\")\n",
        "    plt.ylabel(\"Loss\")\n",
        "    plt.title(f\"Loss curve for the learning rate = {learning_rate}\")\n",
        "\n",
        "    return parameters\n",
        "\n",
        "\n",
        "def accuracy(X, parameters, y, activation_fn=\"relu\"):\n",
        "    \"\"\"\n",
        "    Computes the average accuracy rate.\n",
        "\n",
        "    Arguments\n",
        "    ---------\n",
        "    X : 2d-array\n",
        "        data, shape: number of examples x num_px * num_px * 3.\n",
        "    parameters : dict\n",
        "        learnt parameters.\n",
        "    y : 2d-array\n",
        "        true \"label\" vector, shape: 1 x number of examples.\n",
        "    activation_fn : str\n",
        "        activation function to be used on hidden layers: \"tanh\", \"relu\".\n",
        "\n",
        "    Returns\n",
        "    -------\n",
        "    accuracy : float\n",
        "        accuracy rate after applying parameters on the input data\n",
        "    \"\"\"\n",
        "    probs, caches = L_model_forward(X, parameters, activation_fn)\n",
        "    print(\"probs: \", str(probs))\n",
        "    labels = (probs >= 0.5) * 1\n",
        "    accuracy = np.mean(labels == y) * 100\n",
        "\n",
        "    return f\"The accuracy rate is: {accuracy:.2f}%.\""
      ]
    },
    {
      "cell_type": "code",
      "execution_count": null,
      "metadata": {
        "id": "MJewG4t-bKG3"
      },
      "outputs": [],
      "source": [
        ""
      ]
    },
    {
      "cell_type": "markdown",
      "metadata": {
        "id": "D-fAiM53bKG4"
      },
      "source": [
        "Next, we'll train two versions of the neural network where each one will use different activation function on hidden layers: One will use rectified linear unit (**ReLU**) and the second one will use hyperbolic tangent function (**tanh**). Finally we'll use the parameters we get from both neural networks to classify test examples and compute the test accuracy rates for each version to see which activation function works best on this problem."
      ]
    },
    {
      "cell_type": "code",
      "execution_count": 31,
      "metadata": {
        "id": "QmNG3-cMbKG5"
      },
      "outputs": [],
      "source": [
        "# Setting layers dims\n",
        "layers_dims = [X_train.shape[0], 7,3, 1]"
      ]
    },
    {
      "cell_type": "markdown",
      "metadata": {
        "id": "lEv3j4WabKG8"
      },
      "source": [
        "## TANH"
      ]
    },
    {
      "cell_type": "code",
      "execution_count": 33,
      "metadata": {
        "scrolled": true,
        "colab": {
          "base_uri": "https://localhost:8080/",
          "height": 1000
        },
        "id": "kmFOReVtbKG8",
        "outputId": "b3109a2e-1c02-4814-c1df-73eeaae65bb2"
      },
      "outputs": [
        {
          "output_type": "stream",
          "name": "stdout",
          "text": [
            "The 0 cost after 100 iterations is: 0.6931465630\n",
            "The 0 cost after 200 iterations is: 0.6931463963\n",
            "The 0 cost after 300 iterations is: 0.6931462189\n",
            "The 0 cost after 400 iterations is: 0.6931460292\n",
            "The 0 cost after 500 iterations is: 0.6931458255\n",
            "The 0 cost after 600 iterations is: 0.6931456057\n",
            "The 0 cost after 700 iterations is: 0.6931453676\n",
            "The 0 cost after 800 iterations is: 0.6931451088\n",
            "The 0 cost after 900 iterations is: 0.6931448265\n",
            "The 0 cost after 1000 iterations is: 0.6931445175\n",
            "The 0 cost after 1100 iterations is: 0.6931441783\n",
            "The 0 cost after 1200 iterations is: 0.6931438047\n",
            "The 0 cost after 1300 iterations is: 0.6931433922\n",
            "The 0 cost after 1400 iterations is: 0.6931429352\n",
            "The 0 cost after 1500 iterations is: 0.6931424275\n",
            "The 0 cost after 1600 iterations is: 0.6931418620\n",
            "The 0 cost after 1700 iterations is: 0.6931412302\n",
            "The 0 cost after 1800 iterations is: 0.6931405220\n",
            "The 0 cost after 1900 iterations is: 0.6931397259\n",
            "The 0 cost after 2000 iterations is: 0.6931388279\n",
            "The 0 cost after 2100 iterations is: 0.6931378114\n",
            "The 0 cost after 2200 iterations is: 0.6931366567\n",
            "The 0 cost after 2300 iterations is: 0.6931353396\n",
            "The 0 cost after 2400 iterations is: 0.6931338311\n",
            "The 0 cost after 2500 iterations is: 0.6931320956\n",
            "The 0 cost after 2600 iterations is: 0.6931300890\n",
            "The 0 cost after 2700 iterations is: 0.6931277570\n",
            "The 0 cost after 2800 iterations is: 0.6931250310\n",
            "The 0 cost after 2900 iterations is: 0.6931218249\n",
            "The 0 cost after 3000 iterations is: 0.6931180283\n",
            "The 0 cost after 3100 iterations is: 0.6931134992\n",
            "The 0 cost after 3200 iterations is: 0.6931080523\n",
            "The 0 cost after 3300 iterations is: 0.6931014428\n",
            "The 0 cost after 3400 iterations is: 0.6930933429\n",
            "The 0 cost after 3500 iterations is: 0.6930833076\n",
            "The 0 cost after 3600 iterations is: 0.6930707219\n",
            "The 0 cost after 3700 iterations is: 0.6930547204\n",
            "The 0 cost after 3800 iterations is: 0.6930340604\n",
            "The 0 cost after 3900 iterations is: 0.6930069150\n",
            "The 0 cost after 4000 iterations is: 0.6929705273\n",
            "The 0 cost after 4100 iterations is: 0.6929206087\n",
            "The 0 cost after 4200 iterations is: 0.6928502521\n",
            "The 0 cost after 4300 iterations is: 0.6927478680\n",
            "The 0 cost after 4400 iterations is: 0.6925930465\n",
            "The 0 cost after 4500 iterations is: 0.6923476888\n",
            "The 0 cost after 4600 iterations is: 0.6919354282\n",
            "The 0 cost after 4700 iterations is: 0.6911889787\n",
            "The 0 cost after 4800 iterations is: 0.6896981110\n",
            "The 0 cost after 4900 iterations is: 0.6862994800\n",
            "The 0 cost after 5000 iterations is: 0.6770349090\n",
            "The 0 cost after 5100 iterations is: 0.6459237085\n",
            "The 0 cost after 5200 iterations is: 0.5413669208\n",
            "The 0 cost after 5300 iterations is: 0.3620038761\n",
            "The 0 cost after 5400 iterations is: 0.2195555584\n",
            "The 0 cost after 5500 iterations is: 0.1249134781\n",
            "The 0 cost after 5600 iterations is: 0.0775452724\n",
            "The 0 cost after 5700 iterations is: 0.0545441410\n",
            "The 0 cost after 5800 iterations is: 0.0415702164\n",
            "The 0 cost after 5900 iterations is: 0.0334099065\n",
            "The 0 cost after 6000 iterations is: 0.0278576292\n",
            "The 0 cost after 6100 iterations is: 0.0238558230\n",
            "The 0 cost after 6200 iterations is: 0.0208433926\n",
            "The 0 cost after 6300 iterations is: 0.0184979592\n",
            "The 0 cost after 6400 iterations is: 0.0166222091\n",
            "The 0 cost after 6500 iterations is: 0.0150890591\n",
            "The 0 cost after 6600 iterations is: 0.0138131657\n",
            "The 0 cost after 6700 iterations is: 0.0127351877\n",
            "The 0 cost after 6800 iterations is: 0.0118126342\n",
            "The 0 cost after 6900 iterations is: 0.0110143078\n",
            "The 0 cost after 7000 iterations is: 0.0103168015\n",
            "The 0 cost after 7100 iterations is: 0.0097022190\n",
            "The 0 cost after 7200 iterations is: 0.0091566487\n",
            "The 0 cost after 7300 iterations is: 0.0086691161\n",
            "The 0 cost after 7400 iterations is: 0.0082308504\n",
            "The 0 cost after 7500 iterations is: 0.0078347586\n",
            "The 0 cost after 7600 iterations is: 0.0074750440\n",
            "The 0 cost after 7700 iterations is: 0.0071469233\n",
            "The 0 cost after 7800 iterations is: 0.0068464152\n",
            "The 0 cost after 7900 iterations is: 0.0065701792\n",
            "The 0 cost after 8000 iterations is: 0.0063153917\n",
            "The 0 cost after 8100 iterations is: 0.0060796504\n",
            "The 0 cost after 8200 iterations is: 0.0058608981\n",
            "The 0 cost after 8300 iterations is: 0.0056573634\n",
            "The 0 cost after 8400 iterations is: 0.0054675126\n",
            "The 0 cost after 8500 iterations is: 0.0052900111\n",
            "The 0 cost after 8600 iterations is: 0.0051236924\n",
            "The 0 cost after 8700 iterations is: 0.0049675321\n",
            "The 0 cost after 8800 iterations is: 0.0048206273\n",
            "The 0 cost after 8900 iterations is: 0.0046821788\n",
            "The 0 cost after 9000 iterations is: 0.0045514770\n",
            "The 0 cost after 9100 iterations is: 0.0044278893\n",
            "The 0 cost after 9200 iterations is: 0.0043108502\n",
            "The 0 cost after 9300 iterations is: 0.0041998526\n",
            "The 0 cost after 9400 iterations is: 0.0040944403\n",
            "The 0 cost after 9500 iterations is: 0.0039942020\n",
            "The 0 cost after 9600 iterations is: 0.0038987657\n",
            "The 0 cost after 9700 iterations is: 0.0038077943\n",
            "The 0 cost after 9800 iterations is: 0.0037209816\n",
            "The 0 cost after 9900 iterations is: 0.0036380486\n",
            "The 0 cost after 10000 iterations is: 0.0035587407\n",
            "The 1 cost after 100 iterations is: 0.0035275245\n",
            "The 1 cost after 200 iterations is: 0.0034973019\n",
            "The 1 cost after 300 iterations is: 0.0034675941\n",
            "The 1 cost after 400 iterations is: 0.0034383881\n",
            "The 1 cost after 500 iterations is: 0.0034096711\n",
            "The 1 cost after 600 iterations is: 0.0033814311\n",
            "The 1 cost after 700 iterations is: 0.0033536563\n",
            "The 1 cost after 800 iterations is: 0.0033263352\n",
            "The 1 cost after 900 iterations is: 0.0032994568\n",
            "The 1 cost after 1000 iterations is: 0.0032730104\n",
            "The 1 cost after 1100 iterations is: 0.0032469857\n",
            "The 1 cost after 1200 iterations is: 0.0032213726\n",
            "The 1 cost after 1300 iterations is: 0.0031961616\n",
            "The 1 cost after 1400 iterations is: 0.0031713431\n",
            "The 1 cost after 1500 iterations is: 0.0031469080\n",
            "The 1 cost after 1600 iterations is: 0.0031228477\n",
            "The 1 cost after 1700 iterations is: 0.0030991534\n",
            "The 1 cost after 1800 iterations is: 0.0030758169\n",
            "The 1 cost after 1900 iterations is: 0.0030528302\n",
            "The 1 cost after 2000 iterations is: 0.0030301853\n",
            "The 1 cost after 2100 iterations is: 0.0030078749\n",
            "The 1 cost after 2200 iterations is: 0.0029858914\n",
            "The 1 cost after 2300 iterations is: 0.0029642278\n",
            "The 1 cost after 2400 iterations is: 0.0029428771\n",
            "The 1 cost after 2500 iterations is: 0.0029218326\n",
            "The 1 cost after 2600 iterations is: 0.0029010878\n",
            "The 1 cost after 2700 iterations is: 0.0028806362\n",
            "The 1 cost after 2800 iterations is: 0.0028604717\n",
            "The 1 cost after 2900 iterations is: 0.0028405883\n",
            "The 1 cost after 3000 iterations is: 0.0028209802\n",
            "The 1 cost after 3100 iterations is: 0.0028016416\n",
            "The 1 cost after 3200 iterations is: 0.0027825671\n",
            "The 1 cost after 3300 iterations is: 0.0027637512\n",
            "The 1 cost after 3400 iterations is: 0.0027451888\n",
            "The 1 cost after 3500 iterations is: 0.0027268748\n",
            "The 1 cost after 3600 iterations is: 0.0027088041\n",
            "The 1 cost after 3700 iterations is: 0.0026909720\n",
            "The 1 cost after 3800 iterations is: 0.0026733737\n",
            "The 1 cost after 3900 iterations is: 0.0026560048\n",
            "The 1 cost after 4000 iterations is: 0.0026388607\n",
            "The 1 cost after 4100 iterations is: 0.0026219371\n",
            "The 1 cost after 4200 iterations is: 0.0026052298\n",
            "The 1 cost after 4300 iterations is: 0.0025887346\n",
            "The 1 cost after 4400 iterations is: 0.0025724475\n",
            "The 1 cost after 4500 iterations is: 0.0025563647\n",
            "The 1 cost after 4600 iterations is: 0.0025404822\n",
            "The 1 cost after 4700 iterations is: 0.0025247964\n",
            "The 1 cost after 4800 iterations is: 0.0025093037\n",
            "The 1 cost after 4900 iterations is: 0.0024940004\n",
            "The 1 cost after 5000 iterations is: 0.0024788832\n",
            "The 1 cost after 5100 iterations is: 0.0024639486\n",
            "The 1 cost after 5200 iterations is: 0.0024491933\n",
            "The 1 cost after 5300 iterations is: 0.0024346143\n",
            "The 1 cost after 5400 iterations is: 0.0024202082\n",
            "The 1 cost after 5500 iterations is: 0.0024059721\n",
            "The 1 cost after 5600 iterations is: 0.0023919029\n",
            "The 1 cost after 5700 iterations is: 0.0023779977\n",
            "The 1 cost after 5800 iterations is: 0.0023642537\n",
            "The 1 cost after 5900 iterations is: 0.0023506681\n",
            "The 1 cost after 6000 iterations is: 0.0023372382\n",
            "The 1 cost after 6100 iterations is: 0.0023239613\n",
            "The 1 cost after 6200 iterations is: 0.0023108347\n",
            "The 1 cost after 6300 iterations is: 0.0022978560\n",
            "The 1 cost after 6400 iterations is: 0.0022850227\n",
            "The 1 cost after 6500 iterations is: 0.0022723323\n",
            "The 1 cost after 6600 iterations is: 0.0022597825\n",
            "The 1 cost after 6700 iterations is: 0.0022473709\n",
            "The 1 cost after 6800 iterations is: 0.0022350953\n",
            "The 1 cost after 6900 iterations is: 0.0022229534\n",
            "The 1 cost after 7000 iterations is: 0.0022109431\n",
            "The 1 cost after 7100 iterations is: 0.0021990622\n",
            "The 1 cost after 7200 iterations is: 0.0021873086\n",
            "The 1 cost after 7300 iterations is: 0.0021756804\n",
            "The 1 cost after 7400 iterations is: 0.0021641754\n",
            "The 1 cost after 7500 iterations is: 0.0021527919\n",
            "The 1 cost after 7600 iterations is: 0.0021415278\n",
            "The 1 cost after 7700 iterations is: 0.0021303812\n",
            "The 1 cost after 7800 iterations is: 0.0021193504\n",
            "The 1 cost after 7900 iterations is: 0.0021084336\n",
            "The 1 cost after 8000 iterations is: 0.0020976289\n",
            "The 1 cost after 8100 iterations is: 0.0020869348\n",
            "The 1 cost after 8200 iterations is: 0.0020763494\n",
            "The 1 cost after 8300 iterations is: 0.0020658711\n",
            "The 1 cost after 8400 iterations is: 0.0020554983\n",
            "The 1 cost after 8500 iterations is: 0.0020452295\n",
            "The 1 cost after 8600 iterations is: 0.0020350630\n",
            "The 1 cost after 8700 iterations is: 0.0020249974\n",
            "The 1 cost after 8800 iterations is: 0.0020150311\n",
            "The 1 cost after 8900 iterations is: 0.0020051627\n",
            "The 1 cost after 9000 iterations is: 0.0019953907\n",
            "The 1 cost after 9100 iterations is: 0.0019857138\n",
            "The 1 cost after 9200 iterations is: 0.0019761306\n",
            "The 1 cost after 9300 iterations is: 0.0019666396\n",
            "The 1 cost after 9400 iterations is: 0.0019572396\n",
            "The 1 cost after 9500 iterations is: 0.0019479293\n",
            "The 1 cost after 9600 iterations is: 0.0019387074\n",
            "The 1 cost after 9700 iterations is: 0.0019295726\n",
            "The 1 cost after 9800 iterations is: 0.0019205237\n",
            "The 1 cost after 9900 iterations is: 0.0019115595\n",
            "The 1 cost after 10000 iterations is: 0.0019026789\n",
            "probs:  [[0.22708026 0.00199128 0.99750861 0.99841566 0.98757253 0.001901\n",
            "  0.00170574 0.00205158 0.00170986 0.00239136 0.92278745 0.99743376\n",
            "  0.00220589 0.99822515 0.00159585 0.99848698 0.99854615 0.99473144\n",
            "  0.05864492 0.99754984 0.99843717 0.99787097 0.00448733 0.99847358\n",
            "  0.99851999 0.00267256 0.00468179 0.9944633  0.00149504 0.00176651\n",
            "  0.99549855 0.99748893 0.00275484 0.99826477 0.15280463 0.00491581\n",
            "  0.00237227 0.00155708 0.00164091 0.9985398 ]]\n"
          ]
        },
        {
          "output_type": "execute_result",
          "data": {
            "text/plain": [
              "'The accuracy rate is: 52.50%.'"
            ],
            "application/vnd.google.colaboratory.intrinsic+json": {
              "type": "string"
            }
          },
          "metadata": {},
          "execution_count": 33
        },
        {
          "output_type": "display_data",
          "data": {
            "text/plain": [
              "<Figure size 720x432 with 1 Axes>"
            ],
            "image/png": "[encoded data removed]"
          },
          "metadata": {
            "needs_background": "light"
          }
        }
      ],
      "source": [
        "\n",
        "# NN with tanh activation fn\n",
        "parameters_tanh = L_layer_model(\n",
        "    X_train, y_train, layers_dims, learning_rate=0.05, num_iterations=10000, num_iterations1=2,\n",
        "    hidden_layers_activation_fn=\"tanh\")\n",
        "\n",
        "# Print the accuracy\n",
        "accuracy(X_test, parameters_tanh, y_test, activation_fn=\"tanh\")"
      ]
    },
    {
      "cell_type": "markdown",
      "metadata": {
        "id": "lYVDtTHDbKHB"
      },
      "source": [
        "## RELU\n"
      ]
    },
    {
      "cell_type": "code",
      "execution_count": null,
      "metadata": {
        "scrolled": true,
        "id": "4P6ZRU7jbKHG"
      },
      "outputs": [],
      "source": [
        "# NN with relu activation fn\n",
        "parameters_relu = L_layer_model(\n",
        "    X_train, y_train, layers_dims, learning_rate=0.05, num_iterations=10000, num_iterations1=2,\n",
        "    hidden_layers_activation_fn=\"relu\")\n",
        "\n",
        "# Print the accuracy\n",
        "accuracy(X_test, parameters_relu, y_test, activation_fn=\"relu\")"
      ]
    },
    {
      "cell_type": "markdown",
      "metadata": {
        "id": "YLsZSBRQbKHI"
      },
      "source": [
        "sigmoid"
      ]
    },
    {
      "cell_type": "code",
      "execution_count": 37,
      "metadata": {
        "colab": {
          "base_uri": "https://localhost:8080/",
          "height": 1000
        },
        "id": "NQP5HBsZbKHI",
        "outputId": "94eb88fe-1fc1-4aeb-a816-b5c30e202746"
      },
      "outputs": [
        {
          "output_type": "stream",
          "name": "stdout",
          "text": [
            "The 0 cost after 100 iterations is: 0.6931472672\n",
            "The 0 cost after 200 iterations is: 0.6931471672\n",
            "The 0 cost after 300 iterations is: 0.6931471494\n",
            "The 0 cost after 400 iterations is: 0.6931471459\n",
            "The 0 cost after 500 iterations is: 0.6931471448\n",
            "The 0 cost after 600 iterations is: 0.6931471441\n",
            "The 0 cost after 700 iterations is: 0.6931471435\n",
            "The 0 cost after 800 iterations is: 0.6931471429\n",
            "The 0 cost after 900 iterations is: 0.6931471423\n",
            "The 0 cost after 1000 iterations is: 0.6931471417\n",
            "The 0 cost after 1100 iterations is: 0.6931471411\n",
            "The 0 cost after 1200 iterations is: 0.6931471405\n",
            "The 0 cost after 1300 iterations is: 0.6931471399\n",
            "The 0 cost after 1400 iterations is: 0.6931471393\n",
            "The 0 cost after 1500 iterations is: 0.6931471387\n",
            "The 0 cost after 1600 iterations is: 0.6931471381\n",
            "The 0 cost after 1700 iterations is: 0.6931471375\n",
            "The 0 cost after 1800 iterations is: 0.6931471369\n",
            "The 0 cost after 1900 iterations is: 0.6931471363\n",
            "The 0 cost after 2000 iterations is: 0.6931471357\n",
            "The 0 cost after 2100 iterations is: 0.6931471350\n",
            "The 0 cost after 2200 iterations is: 0.6931471344\n",
            "The 0 cost after 2300 iterations is: 0.6931471338\n",
            "The 0 cost after 2400 iterations is: 0.6931471332\n",
            "The 0 cost after 2500 iterations is: 0.6931471325\n",
            "The 0 cost after 2600 iterations is: 0.6931471319\n",
            "The 0 cost after 2700 iterations is: 0.6931471313\n",
            "The 0 cost after 2800 iterations is: 0.6931471306\n",
            "The 0 cost after 2900 iterations is: 0.6931471300\n",
            "The 0 cost after 3000 iterations is: 0.6931471293\n",
            "The 0 cost after 3100 iterations is: 0.6931471287\n",
            "The 0 cost after 3200 iterations is: 0.6931471280\n",
            "The 0 cost after 3300 iterations is: 0.6931471274\n",
            "The 0 cost after 3400 iterations is: 0.6931471267\n",
            "The 0 cost after 3500 iterations is: 0.6931471261\n",
            "The 0 cost after 3600 iterations is: 0.6931471254\n",
            "The 0 cost after 3700 iterations is: 0.6931471247\n",
            "The 0 cost after 3800 iterations is: 0.6931471241\n",
            "The 0 cost after 3900 iterations is: 0.6931471234\n",
            "The 0 cost after 4000 iterations is: 0.6931471227\n",
            "The 0 cost after 4100 iterations is: 0.6931471220\n",
            "The 0 cost after 4200 iterations is: 0.6931471214\n",
            "The 0 cost after 4300 iterations is: 0.6931471207\n",
            "The 0 cost after 4400 iterations is: 0.6931471200\n",
            "The 0 cost after 4500 iterations is: 0.6931471193\n",
            "The 0 cost after 4600 iterations is: 0.6931471186\n",
            "The 0 cost after 4700 iterations is: 0.6931471179\n",
            "The 0 cost after 4800 iterations is: 0.6931471172\n",
            "The 0 cost after 4900 iterations is: 0.6931471165\n",
            "The 0 cost after 5000 iterations is: 0.6931471158\n",
            "The 0 cost after 5100 iterations is: 0.6931471151\n",
            "The 0 cost after 5200 iterations is: 0.6931471144\n",
            "The 0 cost after 5300 iterations is: 0.6931471137\n",
            "The 0 cost after 5400 iterations is: 0.6931471130\n",
            "The 0 cost after 5500 iterations is: 0.6931471122\n",
            "The 0 cost after 5600 iterations is: 0.6931471115\n",
            "The 0 cost after 5700 iterations is: 0.6931471108\n",
            "The 0 cost after 5800 iterations is: 0.6931471101\n",
            "The 0 cost after 5900 iterations is: 0.6931471093\n",
            "The 0 cost after 6000 iterations is: 0.6931471086\n",
            "The 0 cost after 6100 iterations is: 0.6931471079\n",
            "The 0 cost after 6200 iterations is: 0.6931471071\n",
            "The 0 cost after 6300 iterations is: 0.6931471064\n",
            "The 0 cost after 6400 iterations is: 0.6931471056\n",
            "The 0 cost after 6500 iterations is: 0.6931471048\n",
            "The 0 cost after 6600 iterations is: 0.6931471041\n",
            "The 0 cost after 6700 iterations is: 0.6931471033\n",
            "The 0 cost after 6800 iterations is: 0.6931471026\n",
            "The 0 cost after 6900 iterations is: 0.6931471018\n",
            "The 0 cost after 7000 iterations is: 0.6931471010\n",
            "The 0 cost after 7100 iterations is: 0.6931471002\n",
            "The 0 cost after 7200 iterations is: 0.6931470995\n",
            "The 0 cost after 7300 iterations is: 0.6931470987\n",
            "The 0 cost after 7400 iterations is: 0.6931470979\n",
            "The 0 cost after 7500 iterations is: 0.6931470971\n",
            "The 0 cost after 7600 iterations is: 0.6931470963\n",
            "The 0 cost after 7700 iterations is: 0.6931470955\n",
            "The 0 cost after 7800 iterations is: 0.6931470947\n",
            "The 0 cost after 7900 iterations is: 0.6931470939\n",
            "The 0 cost after 8000 iterations is: 0.6931470931\n",
            "The 0 cost after 8100 iterations is: 0.6931470922\n",
            "The 0 cost after 8200 iterations is: 0.6931470914\n",
            "The 0 cost after 8300 iterations is: 0.6931470906\n",
            "The 0 cost after 8400 iterations is: 0.6931470898\n",
            "The 0 cost after 8500 iterations is: 0.6931470889\n",
            "The 0 cost after 8600 iterations is: 0.6931470881\n",
            "The 0 cost after 8700 iterations is: 0.6931470872\n",
            "The 0 cost after 8800 iterations is: 0.6931470864\n",
            "The 0 cost after 8900 iterations is: 0.6931470855\n",
            "The 0 cost after 9000 iterations is: 0.6931470847\n",
            "The 0 cost after 9100 iterations is: 0.6931470838\n",
            "The 0 cost after 9200 iterations is: 0.6931470830\n",
            "The 0 cost after 9300 iterations is: 0.6931470821\n",
            "The 0 cost after 9400 iterations is: 0.6931470812\n",
            "The 0 cost after 9500 iterations is: 0.6931470803\n",
            "The 0 cost after 9600 iterations is: 0.6931470795\n",
            "The 0 cost after 9700 iterations is: 0.6931470786\n",
            "The 0 cost after 9800 iterations is: 0.6931470777\n",
            "The 0 cost after 9900 iterations is: 0.6931470768\n",
            "The 0 cost after 10000 iterations is: 0.6931470759\n",
            "The 1 cost after 100 iterations is: 0.6931470755\n",
            "The 1 cost after 200 iterations is: 0.6931470752\n",
            "The 1 cost after 300 iterations is: 0.6931470748\n",
            "The 1 cost after 400 iterations is: 0.6931470744\n",
            "The 1 cost after 500 iterations is: 0.6931470741\n",
            "The 1 cost after 600 iterations is: 0.6931470737\n",
            "The 1 cost after 700 iterations is: 0.6931470733\n",
            "The 1 cost after 800 iterations is: 0.6931470730\n",
            "The 1 cost after 900 iterations is: 0.6931470726\n",
            "The 1 cost after 1000 iterations is: 0.6931470722\n",
            "The 1 cost after 1100 iterations is: 0.6931470719\n",
            "The 1 cost after 1200 iterations is: 0.6931470715\n",
            "The 1 cost after 1300 iterations is: 0.6931470711\n",
            "The 1 cost after 1400 iterations is: 0.6931470707\n",
            "The 1 cost after 1500 iterations is: 0.6931470704\n",
            "The 1 cost after 1600 iterations is: 0.6931470700\n",
            "The 1 cost after 1700 iterations is: 0.6931470696\n",
            "The 1 cost after 1800 iterations is: 0.6931470692\n",
            "The 1 cost after 1900 iterations is: 0.6931470689\n",
            "The 1 cost after 2000 iterations is: 0.6931470685\n",
            "The 1 cost after 2100 iterations is: 0.6931470681\n",
            "The 1 cost after 2200 iterations is: 0.6931470677\n",
            "The 1 cost after 2300 iterations is: 0.6931470674\n",
            "The 1 cost after 2400 iterations is: 0.6931470670\n",
            "The 1 cost after 2500 iterations is: 0.6931470666\n",
            "The 1 cost after 2600 iterations is: 0.6931470662\n",
            "The 1 cost after 2700 iterations is: 0.6931470658\n",
            "The 1 cost after 2800 iterations is: 0.6931470654\n",
            "The 1 cost after 2900 iterations is: 0.6931470651\n",
            "The 1 cost after 3000 iterations is: 0.6931470647\n",
            "The 1 cost after 3100 iterations is: 0.6931470643\n",
            "The 1 cost after 3200 iterations is: 0.6931470639\n",
            "The 1 cost after 3300 iterations is: 0.6931470635\n",
            "The 1 cost after 3400 iterations is: 0.6931470631\n",
            "The 1 cost after 3500 iterations is: 0.6931470627\n",
            "The 1 cost after 3600 iterations is: 0.6931470623\n",
            "The 1 cost after 3700 iterations is: 0.6931470620\n",
            "The 1 cost after 3800 iterations is: 0.6931470616\n",
            "The 1 cost after 3900 iterations is: 0.6931470612\n",
            "The 1 cost after 4000 iterations is: 0.6931470608\n",
            "The 1 cost after 4100 iterations is: 0.6931470604\n",
            "The 1 cost after 4200 iterations is: 0.6931470600\n",
            "The 1 cost after 4300 iterations is: 0.6931470596\n",
            "The 1 cost after 4400 iterations is: 0.6931470592\n",
            "The 1 cost after 4500 iterations is: 0.6931470588\n",
            "The 1 cost after 4600 iterations is: 0.6931470584\n",
            "The 1 cost after 4700 iterations is: 0.6931470580\n",
            "The 1 cost after 4800 iterations is: 0.6931470576\n",
            "The 1 cost after 4900 iterations is: 0.6931470572\n",
            "The 1 cost after 5000 iterations is: 0.6931470568\n",
            "The 1 cost after 5100 iterations is: 0.6931470564\n",
            "The 1 cost after 5200 iterations is: 0.6931470560\n",
            "The 1 cost after 5300 iterations is: 0.6931470556\n",
            "The 1 cost after 5400 iterations is: 0.6931470552\n",
            "The 1 cost after 5500 iterations is: 0.6931470548\n",
            "The 1 cost after 5600 iterations is: 0.6931470544\n",
            "The 1 cost after 5700 iterations is: 0.6931470540\n",
            "The 1 cost after 5800 iterations is: 0.6931470535\n",
            "The 1 cost after 5900 iterations is: 0.6931470531\n",
            "The 1 cost after 6000 iterations is: 0.6931470527\n",
            "The 1 cost after 6100 iterations is: 0.6931470523\n",
            "The 1 cost after 6200 iterations is: 0.6931470519\n",
            "The 1 cost after 6300 iterations is: 0.6931470515\n",
            "The 1 cost after 6400 iterations is: 0.6931470511\n",
            "The 1 cost after 6500 iterations is: 0.6931470506\n",
            "The 1 cost after 6600 iterations is: 0.6931470502\n",
            "The 1 cost after 6700 iterations is: 0.6931470498\n",
            "The 1 cost after 6800 iterations is: 0.6931470494\n",
            "The 1 cost after 6900 iterations is: 0.6931470490\n",
            "The 1 cost after 7000 iterations is: 0.6931470486\n",
            "The 1 cost after 7100 iterations is: 0.6931470481\n",
            "The 1 cost after 7200 iterations is: 0.6931470477\n",
            "The 1 cost after 7300 iterations is: 0.6931470473\n",
            "The 1 cost after 7400 iterations is: 0.6931470469\n",
            "The 1 cost after 7500 iterations is: 0.6931470464\n",
            "The 1 cost after 7600 iterations is: 0.6931470460\n",
            "The 1 cost after 7700 iterations is: 0.6931470456\n",
            "The 1 cost after 7800 iterations is: 0.6931470452\n",
            "The 1 cost after 7900 iterations is: 0.6931470447\n",
            "The 1 cost after 8000 iterations is: 0.6931470443\n",
            "The 1 cost after 8100 iterations is: 0.6931470439\n",
            "The 1 cost after 8200 iterations is: 0.6931470434\n",
            "The 1 cost after 8300 iterations is: 0.6931470430\n",
            "The 1 cost after 8400 iterations is: 0.6931470426\n",
            "The 1 cost after 8500 iterations is: 0.6931470421\n",
            "The 1 cost after 8600 iterations is: 0.6931470417\n",
            "The 1 cost after 8700 iterations is: 0.6931470413\n",
            "The 1 cost after 8800 iterations is: 0.6931470408\n",
            "The 1 cost after 8900 iterations is: 0.6931470404\n",
            "The 1 cost after 9000 iterations is: 0.6931470399\n",
            "The 1 cost after 9100 iterations is: 0.6931470395\n",
            "The 1 cost after 9200 iterations is: 0.6931470391\n",
            "The 1 cost after 9300 iterations is: 0.6931470386\n",
            "The 1 cost after 9400 iterations is: 0.6931470382\n",
            "The 1 cost after 9500 iterations is: 0.6931470377\n",
            "The 1 cost after 9600 iterations is: 0.6931470373\n",
            "The 1 cost after 9700 iterations is: 0.6931470368\n",
            "The 1 cost after 9800 iterations is: 0.6931470364\n",
            "The 1 cost after 9900 iterations is: 0.6931470359\n",
            "The 1 cost after 10000 iterations is: 0.6931470355\n",
            "probs:  [[0.49999822 0.49999931 0.4999987  0.49999886 0.49999969 0.49999887\n",
            "  0.49999924 0.49999881 0.49999897 0.49999833 0.49999792 0.49999889\n",
            "  0.49999797 0.49999803 0.49999834 0.49999921 0.49999865 0.49999907\n",
            "  0.4999986  0.49999756 0.49999928 0.49999873 0.49999974 0.49999908\n",
            "  0.49999866 0.49999754 0.49999901 0.49999876 0.49999886 0.49999836\n",
            "  0.49999867 0.49999873 0.49999933 0.49999864 0.49999852 0.49999835\n",
            "  0.49999946 0.49999885 0.49999766 0.49999891]]\n"
          ]
        },
        {
          "output_type": "execute_result",
          "data": {
            "text/plain": [
              "'The accuracy rate is: 50.00%.'"
            ],
            "application/vnd.google.colaboratory.intrinsic+json": {
              "type": "string"
            }
          },
          "metadata": {},
          "execution_count": 37
        },
        {
          "output_type": "display_data",
          "data": {
            "text/plain": [
              "<Figure size 720x432 with 1 Axes>"
            ],
            "image/png": "[encoded data removed]"
          },
          "metadata": {
            "needs_background": "light"
          }
        }
      ],
      "source": [
        "# NN with tanh activation fn\n",
        "parameters_tanh = L_layer_model(\n",
        "    X_train, y_train, layers_dims, learning_rate=0.05, num_iterations=10000, num_iterations1=2,\n",
        "    hidden_layers_activation_fn=\"sigmoid\")\n",
        "\n",
        "# Print the accuracy\n",
        "accuracy(X_test, parameters_tanh, y_test, activation_fn=\"sigmoid\")"
      ]
    },
    {
      "cell_type": "markdown",
      "source": [
        "# Oscar"
      ],
      "metadata": {
        "id": "KQoj6FjeeWpM"
      }
    },
    {
      "cell_type": "markdown",
      "metadata": {
        "id": "4Je61Lp8bKHS"
      },
      "source": [
        "leaky_relu"
      ]
    },
    {
      "cell_type": "code",
      "execution_count": null,
      "metadata": {
        "scrolled": true,
        "id": "vdP8dd9gbKHW"
      },
      "outputs": [],
      "source": [
        "# NN with tanh activation fn\n",
        "parameters_leaky_relu = L_layer_model(\n",
        "    X_train, y_train, layers_dims, learning_rate=0.2, num_iterations=10000, num_iterations1=2,\n",
        "    hidden_layers_activation_fn=\"leaky_relu\")\n",
        "\n",
        "# Print the accuracy\n",
        "accuracy(X_test, parameters_tanh, y_test, activation_fn=\"leaky_relu\")"
      ]
    }
  ],
  "metadata": {
    "celltoolbar": "Edit Metadata",
    "kernelspec": {
      "display_name": "Python 3 (ipykernel)",
      "language": "python",
      "name": "python3"
    },
    "language_info": {
      "codemirror_mode": {
        "name": "ipython",
        "version": 3
      },
      "file_extension": ".py",
      "mimetype": "text/x-python",
      "name": "python",
      "nbconvert_exporter": "python",
      "pygments_lexer": "ipython3",
      "version": "3.9.7"
    },
    "colab": {
      "name": "NNetF-B-Propag80x10x10_95x100SinEstandarizarOOKKK.ipynb",
      "provenance": [],
      "toc_visible": true,
      "collapsed_sections": [
        "lYVDtTHDbKHB"
      ],
      "include_colab_link": true
    }
  },
  "nbformat": 4,
  "nbformat_minor": 0
}